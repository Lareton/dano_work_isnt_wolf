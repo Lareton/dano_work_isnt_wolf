{
 "cells": [
  {
   "cell_type": "code",
   "execution_count": 1,
   "metadata": {
    "collapsed": true
   },
   "outputs": [],
   "source": [
    "import pandas as pd\n",
    "import numpy as np\n",
    "import statsmodels.api as sm\n",
    "import seaborn as sns"
   ]
  },
  {
   "cell_type": "code",
   "execution_count": 2,
   "outputs": [],
   "source": [
    "df = pd.read_csv(\"dataset_1.csv\")"
   ],
   "metadata": {
    "collapsed": false,
    "pycharm": {
     "name": "#%%\n"
    }
   }
  },
  {
   "cell_type": "code",
   "execution_count": 3,
   "outputs": [
    {
     "data": {
      "text/plain": "             week       region  \\\n0      2020-04-06       Адыгея   \n1      2020-04-06       Адыгея   \n2      2020-04-06       Адыгея   \n3      2020-04-06       Адыгея   \n4      2020-04-06       Адыгея   \n...           ...          ...   \n75599  2020-10-26  Ярославская   \n75600  2020-10-26  Ярославская   \n75601  2020-10-26  Ярославская   \n75602  2020-10-26  Ярославская   \n75603  2020-10-26  Ярославская   \n\n                                                    oced  unemployed  \\\n0      Строительство, ремонт, стройматериалы, недвижи...          19   \n1                                         Машиностроение           2   \n2                                          Юриспруденция          13   \n3                                 Пищевая промышленность           9   \n4      Государственная служба, некоммерческие организ...          17   \n...                                                  ...         ...   \n75599           Услуги населению, сервисное обслуживание           2   \n75600                  Работы, не требующие квалификации          33   \n75601                                  Электроэнергетика           1   \n75602  Химическая, нефтехимическая, топливная промышл...           1   \n75603  Финансы, кредит, страхование, пенсионное обесп...          12   \n\n       cv_gender  cv_birthday_2000  cv_birthday_1990  cv_birthday_1980  \\\n0             18                 0                 3                12   \n1              1                 0                 0                 1   \n2              6                 0                 2                11   \n3              2                 1                 2                 6   \n4              8                 0                 3                14   \n...          ...               ...               ...               ...   \n75599          0                 1                 2                 2   \n75600         20                 2                 9                14   \n75601          1                 0                 0                 1   \n75602          1                 0                 0                 0   \n75603          1                 2                 4                 8   \n\n       cv_birthday_1970  cv_birthday_1960  ...     women  infections  deaths  \\\n0                    19                19  ...  245928.0        42.0     0.0   \n1                     1                 2  ...  245928.0        42.0     0.0   \n2                    13                13  ...  245928.0        42.0     0.0   \n3                     9                 9  ...  245928.0        42.0     0.0   \n4                    17                17  ...  245928.0        42.0     0.0   \n...                 ...               ...  ...       ...         ...     ...   \n75599                 2                 2  ...  689885.0       770.0     6.0   \n75600                20                32  ...  689885.0       770.0     6.0   \n75601                 1                 1  ...  689885.0       770.0     6.0   \n75602                 0                 1  ...  689885.0       770.0     6.0   \n75603                 9                12  ...  689885.0       770.0     6.0   \n\n       healed  tests        Rt  level  yandex_continuous  yandex_level  pass  \n0        44.0    NaN  0.873684    NaN           3.314286           2.0   0.0  \n1        44.0    NaN  0.873684    NaN           3.314286           2.0   0.0  \n2        44.0    NaN  0.873684    NaN           3.314286           2.0   0.0  \n3        44.0    NaN  0.873684    NaN           3.314286           2.0   0.0  \n4        44.0    NaN  0.873684    NaN           3.314286           2.0   0.0  \n...       ...    ...       ...    ...                ...           ...   ...  \n75599   566.0    NaN  1.111111    3.0                NaN           NaN   NaN  \n75600   566.0    NaN  1.111111    3.0                NaN           NaN   NaN  \n75601   566.0    NaN  1.111111    3.0                NaN           NaN   NaN  \n75602   566.0    NaN  1.111111    3.0                NaN           NaN   NaN  \n75603   566.0    NaN  1.111111    3.0                NaN           NaN   NaN  \n\n[75604 rows x 22 columns]",
      "text/html": "<div>\n<style scoped>\n    .dataframe tbody tr th:only-of-type {\n        vertical-align: middle;\n    }\n\n    .dataframe tbody tr th {\n        vertical-align: top;\n    }\n\n    .dataframe thead th {\n        text-align: right;\n    }\n</style>\n<table border=\"1\" class=\"dataframe\">\n  <thead>\n    <tr style=\"text-align: right;\">\n      <th></th>\n      <th>week</th>\n      <th>region</th>\n      <th>oced</th>\n      <th>unemployed</th>\n      <th>cv_gender</th>\n      <th>cv_birthday_2000</th>\n      <th>cv_birthday_1990</th>\n      <th>cv_birthday_1980</th>\n      <th>cv_birthday_1970</th>\n      <th>cv_birthday_1960</th>\n      <th>...</th>\n      <th>women</th>\n      <th>infections</th>\n      <th>deaths</th>\n      <th>healed</th>\n      <th>tests</th>\n      <th>Rt</th>\n      <th>level</th>\n      <th>yandex_continuous</th>\n      <th>yandex_level</th>\n      <th>pass</th>\n    </tr>\n  </thead>\n  <tbody>\n    <tr>\n      <th>0</th>\n      <td>2020-04-06</td>\n      <td>Адыгея</td>\n      <td>Строительство, ремонт, стройматериалы, недвижи...</td>\n      <td>19</td>\n      <td>18</td>\n      <td>0</td>\n      <td>3</td>\n      <td>12</td>\n      <td>19</td>\n      <td>19</td>\n      <td>...</td>\n      <td>245928.0</td>\n      <td>42.0</td>\n      <td>0.0</td>\n      <td>44.0</td>\n      <td>NaN</td>\n      <td>0.873684</td>\n      <td>NaN</td>\n      <td>3.314286</td>\n      <td>2.0</td>\n      <td>0.0</td>\n    </tr>\n    <tr>\n      <th>1</th>\n      <td>2020-04-06</td>\n      <td>Адыгея</td>\n      <td>Машиностроение</td>\n      <td>2</td>\n      <td>1</td>\n      <td>0</td>\n      <td>0</td>\n      <td>1</td>\n      <td>1</td>\n      <td>2</td>\n      <td>...</td>\n      <td>245928.0</td>\n      <td>42.0</td>\n      <td>0.0</td>\n      <td>44.0</td>\n      <td>NaN</td>\n      <td>0.873684</td>\n      <td>NaN</td>\n      <td>3.314286</td>\n      <td>2.0</td>\n      <td>0.0</td>\n    </tr>\n    <tr>\n      <th>2</th>\n      <td>2020-04-06</td>\n      <td>Адыгея</td>\n      <td>Юриспруденция</td>\n      <td>13</td>\n      <td>6</td>\n      <td>0</td>\n      <td>2</td>\n      <td>11</td>\n      <td>13</td>\n      <td>13</td>\n      <td>...</td>\n      <td>245928.0</td>\n      <td>42.0</td>\n      <td>0.0</td>\n      <td>44.0</td>\n      <td>NaN</td>\n      <td>0.873684</td>\n      <td>NaN</td>\n      <td>3.314286</td>\n      <td>2.0</td>\n      <td>0.0</td>\n    </tr>\n    <tr>\n      <th>3</th>\n      <td>2020-04-06</td>\n      <td>Адыгея</td>\n      <td>Пищевая промышленность</td>\n      <td>9</td>\n      <td>2</td>\n      <td>1</td>\n      <td>2</td>\n      <td>6</td>\n      <td>9</td>\n      <td>9</td>\n      <td>...</td>\n      <td>245928.0</td>\n      <td>42.0</td>\n      <td>0.0</td>\n      <td>44.0</td>\n      <td>NaN</td>\n      <td>0.873684</td>\n      <td>NaN</td>\n      <td>3.314286</td>\n      <td>2.0</td>\n      <td>0.0</td>\n    </tr>\n    <tr>\n      <th>4</th>\n      <td>2020-04-06</td>\n      <td>Адыгея</td>\n      <td>Государственная служба, некоммерческие организ...</td>\n      <td>17</td>\n      <td>8</td>\n      <td>0</td>\n      <td>3</td>\n      <td>14</td>\n      <td>17</td>\n      <td>17</td>\n      <td>...</td>\n      <td>245928.0</td>\n      <td>42.0</td>\n      <td>0.0</td>\n      <td>44.0</td>\n      <td>NaN</td>\n      <td>0.873684</td>\n      <td>NaN</td>\n      <td>3.314286</td>\n      <td>2.0</td>\n      <td>0.0</td>\n    </tr>\n    <tr>\n      <th>...</th>\n      <td>...</td>\n      <td>...</td>\n      <td>...</td>\n      <td>...</td>\n      <td>...</td>\n      <td>...</td>\n      <td>...</td>\n      <td>...</td>\n      <td>...</td>\n      <td>...</td>\n      <td>...</td>\n      <td>...</td>\n      <td>...</td>\n      <td>...</td>\n      <td>...</td>\n      <td>...</td>\n      <td>...</td>\n      <td>...</td>\n      <td>...</td>\n      <td>...</td>\n      <td>...</td>\n    </tr>\n    <tr>\n      <th>75599</th>\n      <td>2020-10-26</td>\n      <td>Ярославская</td>\n      <td>Услуги населению, сервисное обслуживание</td>\n      <td>2</td>\n      <td>0</td>\n      <td>1</td>\n      <td>2</td>\n      <td>2</td>\n      <td>2</td>\n      <td>2</td>\n      <td>...</td>\n      <td>689885.0</td>\n      <td>770.0</td>\n      <td>6.0</td>\n      <td>566.0</td>\n      <td>NaN</td>\n      <td>1.111111</td>\n      <td>3.0</td>\n      <td>NaN</td>\n      <td>NaN</td>\n      <td>NaN</td>\n    </tr>\n    <tr>\n      <th>75600</th>\n      <td>2020-10-26</td>\n      <td>Ярославская</td>\n      <td>Работы, не требующие квалификации</td>\n      <td>33</td>\n      <td>20</td>\n      <td>2</td>\n      <td>9</td>\n      <td>14</td>\n      <td>20</td>\n      <td>32</td>\n      <td>...</td>\n      <td>689885.0</td>\n      <td>770.0</td>\n      <td>6.0</td>\n      <td>566.0</td>\n      <td>NaN</td>\n      <td>1.111111</td>\n      <td>3.0</td>\n      <td>NaN</td>\n      <td>NaN</td>\n      <td>NaN</td>\n    </tr>\n    <tr>\n      <th>75601</th>\n      <td>2020-10-26</td>\n      <td>Ярославская</td>\n      <td>Электроэнергетика</td>\n      <td>1</td>\n      <td>1</td>\n      <td>0</td>\n      <td>0</td>\n      <td>1</td>\n      <td>1</td>\n      <td>1</td>\n      <td>...</td>\n      <td>689885.0</td>\n      <td>770.0</td>\n      <td>6.0</td>\n      <td>566.0</td>\n      <td>NaN</td>\n      <td>1.111111</td>\n      <td>3.0</td>\n      <td>NaN</td>\n      <td>NaN</td>\n      <td>NaN</td>\n    </tr>\n    <tr>\n      <th>75602</th>\n      <td>2020-10-26</td>\n      <td>Ярославская</td>\n      <td>Химическая, нефтехимическая, топливная промышл...</td>\n      <td>1</td>\n      <td>1</td>\n      <td>0</td>\n      <td>0</td>\n      <td>0</td>\n      <td>0</td>\n      <td>1</td>\n      <td>...</td>\n      <td>689885.0</td>\n      <td>770.0</td>\n      <td>6.0</td>\n      <td>566.0</td>\n      <td>NaN</td>\n      <td>1.111111</td>\n      <td>3.0</td>\n      <td>NaN</td>\n      <td>NaN</td>\n      <td>NaN</td>\n    </tr>\n    <tr>\n      <th>75603</th>\n      <td>2020-10-26</td>\n      <td>Ярославская</td>\n      <td>Финансы, кредит, страхование, пенсионное обесп...</td>\n      <td>12</td>\n      <td>1</td>\n      <td>2</td>\n      <td>4</td>\n      <td>8</td>\n      <td>9</td>\n      <td>12</td>\n      <td>...</td>\n      <td>689885.0</td>\n      <td>770.0</td>\n      <td>6.0</td>\n      <td>566.0</td>\n      <td>NaN</td>\n      <td>1.111111</td>\n      <td>3.0</td>\n      <td>NaN</td>\n      <td>NaN</td>\n      <td>NaN</td>\n    </tr>\n  </tbody>\n</table>\n<p>75604 rows × 22 columns</p>\n</div>"
     },
     "execution_count": 3,
     "metadata": {},
     "output_type": "execute_result"
    }
   ],
   "source": [
    "df"
   ],
   "metadata": {
    "collapsed": false,
    "pycharm": {
     "name": "#%%\n"
    }
   }
  },
  {
   "cell_type": "code",
   "execution_count": null,
   "outputs": [],
   "source": [],
   "metadata": {
    "collapsed": false,
    "pycharm": {
     "name": "#%%\n"
    }
   }
  },
  {
   "cell_type": "code",
   "execution_count": null,
   "outputs": [],
   "source": [],
   "metadata": {
    "collapsed": false,
    "pycharm": {
     "name": "#%%\n"
    }
   }
  },
  {
   "cell_type": "code",
   "execution_count": 93,
   "outputs": [
    {
     "data": {
      "text/plain": "                   unemployed  yandex_continuous  infections    deaths  \\\nunemployed           1.000000           0.052899    0.049595  0.059526   \nyandex_continuous    0.052899           1.000000   -0.007341 -0.017436   \ninfections           0.049595          -0.007341    1.000000  0.870582   \ndeaths               0.059526          -0.017436    0.870582  1.000000   \nhealed               0.042475          -0.097996    0.853680  0.850088   \n\n                     healed  \nunemployed         0.042475  \nyandex_continuous -0.097996  \ninfections         0.853680  \ndeaths             0.850088  \nhealed             1.000000  ",
      "text/html": "<div>\n<style scoped>\n    .dataframe tbody tr th:only-of-type {\n        vertical-align: middle;\n    }\n\n    .dataframe tbody tr th {\n        vertical-align: top;\n    }\n\n    .dataframe thead th {\n        text-align: right;\n    }\n</style>\n<table border=\"1\" class=\"dataframe\">\n  <thead>\n    <tr style=\"text-align: right;\">\n      <th></th>\n      <th>unemployed</th>\n      <th>yandex_continuous</th>\n      <th>infections</th>\n      <th>deaths</th>\n      <th>healed</th>\n    </tr>\n  </thead>\n  <tbody>\n    <tr>\n      <th>unemployed</th>\n      <td>1.000000</td>\n      <td>0.052899</td>\n      <td>0.049595</td>\n      <td>0.059526</td>\n      <td>0.042475</td>\n    </tr>\n    <tr>\n      <th>yandex_continuous</th>\n      <td>0.052899</td>\n      <td>1.000000</td>\n      <td>-0.007341</td>\n      <td>-0.017436</td>\n      <td>-0.097996</td>\n    </tr>\n    <tr>\n      <th>infections</th>\n      <td>0.049595</td>\n      <td>-0.007341</td>\n      <td>1.000000</td>\n      <td>0.870582</td>\n      <td>0.853680</td>\n    </tr>\n    <tr>\n      <th>deaths</th>\n      <td>0.059526</td>\n      <td>-0.017436</td>\n      <td>0.870582</td>\n      <td>1.000000</td>\n      <td>0.850088</td>\n    </tr>\n    <tr>\n      <th>healed</th>\n      <td>0.042475</td>\n      <td>-0.097996</td>\n      <td>0.853680</td>\n      <td>0.850088</td>\n      <td>1.000000</td>\n    </tr>\n  </tbody>\n</table>\n</div>"
     },
     "execution_count": 93,
     "metadata": {},
     "output_type": "execute_result"
    }
   ],
   "source": [
    "df[[\"unemployed\", \"yandex_continuous\", \"infections\", \"deaths\", \"healed\"]].corr()"
   ],
   "metadata": {
    "collapsed": false,
    "pycharm": {
     "name": "#%%\n"
    }
   }
  },
  {
   "cell_type": "code",
   "execution_count": null,
   "outputs": [],
   "source": [],
   "metadata": {
    "collapsed": false,
    "pycharm": {
     "name": "#%%\n"
    }
   }
  },
  {
   "cell_type": "code",
   "execution_count": null,
   "outputs": [],
   "source": [
    "df = pd.read_csv(\"ria_economy_data_v1.csv\", index_col=0)\n",
    "df['const'] = 1\n"
   ],
   "metadata": {
    "collapsed": false,
    "pycharm": {
     "name": "#%%\n"
    }
   }
  },
  {
   "cell_type": "code",
   "execution_count": 11,
   "outputs": [
    {
     "data": {
      "text/plain": "Index(['region', 'sum_infections', 'population', 'sum_healed', 'sum_deathed',\n       'sum_unemployed', 'procent_healed', 'procent_infected', 'procent_death',\n       'procent_unemployed', 'depo_mean_19', 'depo_salary_19',\n       'growth_depo_19', 'curr_depo_perc_19', 'fin_wealth_19',\n       'soceco_wealth_19', 'depo_mean_20', 'depo_salary_20', 'depo_mean_21',\n       'depo_salary_21'],\n      dtype='object')"
     },
     "execution_count": 11,
     "metadata": {},
     "output_type": "execute_result"
    }
   ],
   "source": [
    "df.columns"
   ],
   "metadata": {
    "collapsed": false,
    "pycharm": {
     "name": "#%%\n"
    }
   }
  },
  {
   "cell_type": "code",
   "execution_count": 12,
   "outputs": [],
   "source": [
    "dependent_variable = 'procent_unemployed'\n",
    "independent_variables = ['procent_infected', 'procent_death', 'depo_salary_19', 'depo_mean_19', 'growth_depo_19', 'curr_depo_perc_19']"
   ],
   "metadata": {
    "collapsed": false,
    "pycharm": {
     "name": "#%%\n"
    }
   }
  },
  {
   "cell_type": "code",
   "execution_count": 13,
   "outputs": [],
   "source": [],
   "metadata": {
    "collapsed": false,
    "pycharm": {
     "name": "#%%\n"
    }
   }
  },
  {
   "cell_type": "code",
   "execution_count": 14,
   "outputs": [
    {
     "data": {
      "text/plain": "            Variable        VIF\n0   procent_infected   5.439057\n1      procent_death   4.942987\n2     depo_salary_19  27.088502\n3       depo_mean_19  17.905720\n4     growth_depo_19   6.761874\n5  curr_depo_perc_19  12.304503",
      "text/html": "<div>\n<style scoped>\n    .dataframe tbody tr th:only-of-type {\n        vertical-align: middle;\n    }\n\n    .dataframe tbody tr th {\n        vertical-align: top;\n    }\n\n    .dataframe thead th {\n        text-align: right;\n    }\n</style>\n<table border=\"1\" class=\"dataframe\">\n  <thead>\n    <tr style=\"text-align: right;\">\n      <th></th>\n      <th>Variable</th>\n      <th>VIF</th>\n    </tr>\n  </thead>\n  <tbody>\n    <tr>\n      <th>0</th>\n      <td>procent_infected</td>\n      <td>5.439057</td>\n    </tr>\n    <tr>\n      <th>1</th>\n      <td>procent_death</td>\n      <td>4.942987</td>\n    </tr>\n    <tr>\n      <th>2</th>\n      <td>depo_salary_19</td>\n      <td>27.088502</td>\n    </tr>\n    <tr>\n      <th>3</th>\n      <td>depo_mean_19</td>\n      <td>17.905720</td>\n    </tr>\n    <tr>\n      <th>4</th>\n      <td>growth_depo_19</td>\n      <td>6.761874</td>\n    </tr>\n    <tr>\n      <th>5</th>\n      <td>curr_depo_perc_19</td>\n      <td>12.304503</td>\n    </tr>\n  </tbody>\n</table>\n</div>"
     },
     "execution_count": 14,
     "metadata": {},
     "output_type": "execute_result"
    }
   ],
   "source": [
    "from statsmodels.stats.outliers_influence import variance_inflation_factor\n",
    "\n",
    "# X - матрица признаков\n",
    "X = df[independent_variables]\n",
    "vif_data = pd.DataFrame()\n",
    "vif_data[\"Variable\"] = X.columns\n",
    "vif_data[\"VIF\"] = [variance_inflation_factor(X.values, i) for i in range(X.shape[1])]\n",
    "vif_data"
   ],
   "metadata": {
    "collapsed": false,
    "pycharm": {
     "name": "#%%\n"
    }
   }
  },
  {
   "cell_type": "code",
   "execution_count": 75,
   "outputs": [
    {
     "data": {
      "text/plain": "           region  sum_infections  population  sum_healed  sum_deathed  \\\n0          Адыгея          5828.0    463088.0      4557.0         49.0   \n1           Алтай          7296.0    220181.0      6207.0         24.0   \n2        Амурская          7313.0    790044.0      6864.0         65.0   \n3   Архангельская         21299.0   1092424.0     13985.0        262.0   \n4    Астраханская          9527.0   1005782.0      7323.0        173.0   \n..            ...             ...         ...         ...          ...   \n72        Хакасия          7700.0    534262.0      6276.0         83.0   \n73    Челябинская         18836.0   3466369.0     14198.0        186.0   \n74          Чечня          3408.0   1478726.0      1948.0         46.0   \n75        Чувашия          9447.0   1217818.0      7616.0        190.0   \n76    Ярославская         11522.0   1253389.0     10227.0         66.0   \n\n    sum_unemployed  procent_healed  procent_infected  procent_death  \\\n0       598.597528        0.781915          0.012585       0.000106   \n1       526.733598        0.850740          0.033136       0.000109   \n2       835.681412        0.938602          0.009256       0.000082   \n3       717.824677        0.656604          0.019497       0.000240   \n4      1556.432574        0.768657          0.009472       0.000172   \n..             ...             ...               ...            ...   \n72      540.352906        0.815065          0.014412       0.000155   \n73     3244.037665        0.753769          0.005434       0.000054   \n74     6871.725879        0.571596          0.002305       0.000031   \n75     1310.354774        0.806182          0.007757       0.000156   \n76     1237.476167        0.887606          0.009193       0.000053   \n\n    procent_unemployed  ...  depo_salary_19  growth_depo_19  \\\n0             0.001293  ...        1.896389       25.023275   \n1             0.002392  ...        2.178380       36.256563   \n2             0.001058  ...        4.061075       38.056268   \n3             0.000657  ...        4.798038       30.937707   \n4             0.001547  ...        3.688483       24.910160   \n..                 ...  ...             ...             ...   \n72            0.001011  ...        3.663943       36.709842   \n73            0.000936  ...        5.236092       29.293511   \n74            0.004647  ...        0.363339       22.560315   \n75            0.001076  ...        5.780236       31.884714   \n76            0.000987  ...        6.127628       23.509231   \n\n    curr_depo_perc_19  fin_wealth_19  soceco_wealth_19  depo_mean_20  \\\n0            3.822605      34.959291           26.8420     54.132260   \n1            4.301187       9.430103           26.5495     46.457233   \n2            5.810821      44.579305           35.8990    136.036727   \n3            7.329229      49.566421           33.9440    165.969440   \n4            8.758001      34.508841           32.9120     92.234699   \n..                ...            ...               ...           ...   \n72           9.724979      30.409276           20.0430     84.013087   \n73          10.798281      48.190734           51.9970    134.758013   \n74           3.101398      10.816720           27.8550      9.429063   \n75           9.118099      32.787488           31.9370    114.768381   \n76          12.846150      51.636007           39.4690    175.948568   \n\n    depo_salary_20  depo_mean_21  depo_salary_21  const  \n0         1.836252     64.281350        1.948185      1  \n1         2.267008     53.269006        2.381802      1  \n2         4.147556    161.811917        4.304167      1  \n3         4.990174    191.145528        5.261514      1  \n4         3.712293    103.549086        3.985838      1  \n..             ...           ...             ...    ...  \n72        3.704567     98.685051        3.929953      1  \n73        5.352160    153.382266        5.526691      1  \n74        0.389558     13.820501        0.543782      1  \n75        5.740644    138.754424        6.155783      1  \n76        6.201432    202.709952        6.415075      1  \n\n[77 rows x 21 columns]",
      "text/html": "<div>\n<style scoped>\n    .dataframe tbody tr th:only-of-type {\n        vertical-align: middle;\n    }\n\n    .dataframe tbody tr th {\n        vertical-align: top;\n    }\n\n    .dataframe thead th {\n        text-align: right;\n    }\n</style>\n<table border=\"1\" class=\"dataframe\">\n  <thead>\n    <tr style=\"text-align: right;\">\n      <th></th>\n      <th>region</th>\n      <th>sum_infections</th>\n      <th>population</th>\n      <th>sum_healed</th>\n      <th>sum_deathed</th>\n      <th>sum_unemployed</th>\n      <th>procent_healed</th>\n      <th>procent_infected</th>\n      <th>procent_death</th>\n      <th>procent_unemployed</th>\n      <th>...</th>\n      <th>depo_salary_19</th>\n      <th>growth_depo_19</th>\n      <th>curr_depo_perc_19</th>\n      <th>fin_wealth_19</th>\n      <th>soceco_wealth_19</th>\n      <th>depo_mean_20</th>\n      <th>depo_salary_20</th>\n      <th>depo_mean_21</th>\n      <th>depo_salary_21</th>\n      <th>const</th>\n    </tr>\n  </thead>\n  <tbody>\n    <tr>\n      <th>0</th>\n      <td>Адыгея</td>\n      <td>5828.0</td>\n      <td>463088.0</td>\n      <td>4557.0</td>\n      <td>49.0</td>\n      <td>598.597528</td>\n      <td>0.781915</td>\n      <td>0.012585</td>\n      <td>0.000106</td>\n      <td>0.001293</td>\n      <td>...</td>\n      <td>1.896389</td>\n      <td>25.023275</td>\n      <td>3.822605</td>\n      <td>34.959291</td>\n      <td>26.8420</td>\n      <td>54.132260</td>\n      <td>1.836252</td>\n      <td>64.281350</td>\n      <td>1.948185</td>\n      <td>1</td>\n    </tr>\n    <tr>\n      <th>1</th>\n      <td>Алтай</td>\n      <td>7296.0</td>\n      <td>220181.0</td>\n      <td>6207.0</td>\n      <td>24.0</td>\n      <td>526.733598</td>\n      <td>0.850740</td>\n      <td>0.033136</td>\n      <td>0.000109</td>\n      <td>0.002392</td>\n      <td>...</td>\n      <td>2.178380</td>\n      <td>36.256563</td>\n      <td>4.301187</td>\n      <td>9.430103</td>\n      <td>26.5495</td>\n      <td>46.457233</td>\n      <td>2.267008</td>\n      <td>53.269006</td>\n      <td>2.381802</td>\n      <td>1</td>\n    </tr>\n    <tr>\n      <th>2</th>\n      <td>Амурская</td>\n      <td>7313.0</td>\n      <td>790044.0</td>\n      <td>6864.0</td>\n      <td>65.0</td>\n      <td>835.681412</td>\n      <td>0.938602</td>\n      <td>0.009256</td>\n      <td>0.000082</td>\n      <td>0.001058</td>\n      <td>...</td>\n      <td>4.061075</td>\n      <td>38.056268</td>\n      <td>5.810821</td>\n      <td>44.579305</td>\n      <td>35.8990</td>\n      <td>136.036727</td>\n      <td>4.147556</td>\n      <td>161.811917</td>\n      <td>4.304167</td>\n      <td>1</td>\n    </tr>\n    <tr>\n      <th>3</th>\n      <td>Архангельская</td>\n      <td>21299.0</td>\n      <td>1092424.0</td>\n      <td>13985.0</td>\n      <td>262.0</td>\n      <td>717.824677</td>\n      <td>0.656604</td>\n      <td>0.019497</td>\n      <td>0.000240</td>\n      <td>0.000657</td>\n      <td>...</td>\n      <td>4.798038</td>\n      <td>30.937707</td>\n      <td>7.329229</td>\n      <td>49.566421</td>\n      <td>33.9440</td>\n      <td>165.969440</td>\n      <td>4.990174</td>\n      <td>191.145528</td>\n      <td>5.261514</td>\n      <td>1</td>\n    </tr>\n    <tr>\n      <th>4</th>\n      <td>Астраханская</td>\n      <td>9527.0</td>\n      <td>1005782.0</td>\n      <td>7323.0</td>\n      <td>173.0</td>\n      <td>1556.432574</td>\n      <td>0.768657</td>\n      <td>0.009472</td>\n      <td>0.000172</td>\n      <td>0.001547</td>\n      <td>...</td>\n      <td>3.688483</td>\n      <td>24.910160</td>\n      <td>8.758001</td>\n      <td>34.508841</td>\n      <td>32.9120</td>\n      <td>92.234699</td>\n      <td>3.712293</td>\n      <td>103.549086</td>\n      <td>3.985838</td>\n      <td>1</td>\n    </tr>\n    <tr>\n      <th>...</th>\n      <td>...</td>\n      <td>...</td>\n      <td>...</td>\n      <td>...</td>\n      <td>...</td>\n      <td>...</td>\n      <td>...</td>\n      <td>...</td>\n      <td>...</td>\n      <td>...</td>\n      <td>...</td>\n      <td>...</td>\n      <td>...</td>\n      <td>...</td>\n      <td>...</td>\n      <td>...</td>\n      <td>...</td>\n      <td>...</td>\n      <td>...</td>\n      <td>...</td>\n      <td>...</td>\n    </tr>\n    <tr>\n      <th>72</th>\n      <td>Хакасия</td>\n      <td>7700.0</td>\n      <td>534262.0</td>\n      <td>6276.0</td>\n      <td>83.0</td>\n      <td>540.352906</td>\n      <td>0.815065</td>\n      <td>0.014412</td>\n      <td>0.000155</td>\n      <td>0.001011</td>\n      <td>...</td>\n      <td>3.663943</td>\n      <td>36.709842</td>\n      <td>9.724979</td>\n      <td>30.409276</td>\n      <td>20.0430</td>\n      <td>84.013087</td>\n      <td>3.704567</td>\n      <td>98.685051</td>\n      <td>3.929953</td>\n      <td>1</td>\n    </tr>\n    <tr>\n      <th>73</th>\n      <td>Челябинская</td>\n      <td>18836.0</td>\n      <td>3466369.0</td>\n      <td>14198.0</td>\n      <td>186.0</td>\n      <td>3244.037665</td>\n      <td>0.753769</td>\n      <td>0.005434</td>\n      <td>0.000054</td>\n      <td>0.000936</td>\n      <td>...</td>\n      <td>5.236092</td>\n      <td>29.293511</td>\n      <td>10.798281</td>\n      <td>48.190734</td>\n      <td>51.9970</td>\n      <td>134.758013</td>\n      <td>5.352160</td>\n      <td>153.382266</td>\n      <td>5.526691</td>\n      <td>1</td>\n    </tr>\n    <tr>\n      <th>74</th>\n      <td>Чечня</td>\n      <td>3408.0</td>\n      <td>1478726.0</td>\n      <td>1948.0</td>\n      <td>46.0</td>\n      <td>6871.725879</td>\n      <td>0.571596</td>\n      <td>0.002305</td>\n      <td>0.000031</td>\n      <td>0.004647</td>\n      <td>...</td>\n      <td>0.363339</td>\n      <td>22.560315</td>\n      <td>3.101398</td>\n      <td>10.816720</td>\n      <td>27.8550</td>\n      <td>9.429063</td>\n      <td>0.389558</td>\n      <td>13.820501</td>\n      <td>0.543782</td>\n      <td>1</td>\n    </tr>\n    <tr>\n      <th>75</th>\n      <td>Чувашия</td>\n      <td>9447.0</td>\n      <td>1217818.0</td>\n      <td>7616.0</td>\n      <td>190.0</td>\n      <td>1310.354774</td>\n      <td>0.806182</td>\n      <td>0.007757</td>\n      <td>0.000156</td>\n      <td>0.001076</td>\n      <td>...</td>\n      <td>5.780236</td>\n      <td>31.884714</td>\n      <td>9.118099</td>\n      <td>32.787488</td>\n      <td>31.9370</td>\n      <td>114.768381</td>\n      <td>5.740644</td>\n      <td>138.754424</td>\n      <td>6.155783</td>\n      <td>1</td>\n    </tr>\n    <tr>\n      <th>76</th>\n      <td>Ярославская</td>\n      <td>11522.0</td>\n      <td>1253389.0</td>\n      <td>10227.0</td>\n      <td>66.0</td>\n      <td>1237.476167</td>\n      <td>0.887606</td>\n      <td>0.009193</td>\n      <td>0.000053</td>\n      <td>0.000987</td>\n      <td>...</td>\n      <td>6.127628</td>\n      <td>23.509231</td>\n      <td>12.846150</td>\n      <td>51.636007</td>\n      <td>39.4690</td>\n      <td>175.948568</td>\n      <td>6.201432</td>\n      <td>202.709952</td>\n      <td>6.415075</td>\n      <td>1</td>\n    </tr>\n  </tbody>\n</table>\n<p>77 rows × 21 columns</p>\n</div>"
     },
     "execution_count": 75,
     "metadata": {},
     "output_type": "execute_result"
    }
   ],
   "source": [
    "df"
   ],
   "metadata": {
    "collapsed": false,
    "pycharm": {
     "name": "#%%\n"
    }
   }
  },
  {
   "cell_type": "code",
   "execution_count": 19,
   "outputs": [
    {
     "data": {
      "text/plain": "                   procent_infected  procent_death  depo_salary_19  \\\nprocent_infected           1.000000       0.490316       -0.104619   \nprocent_death              0.490316       1.000000        0.235839   \ndepo_salary_19            -0.104619       0.235839        1.000000   \ndepo_mean_19               0.091959       0.399449        0.819147   \ngrowth_depo_19             0.035208       0.012759       -0.190723   \ncurr_depo_perc_19         -0.257728       0.147622        0.700845   \n\n                   depo_mean_19  growth_depo_19  curr_depo_perc_19  \nprocent_infected       0.091959        0.035208          -0.257728  \nprocent_death          0.399449        0.012759           0.147622  \ndepo_salary_19         0.819147       -0.190723           0.700845  \ndepo_mean_19           1.000000       -0.183683           0.705201  \ngrowth_depo_19        -0.183683        1.000000          -0.307101  \ncurr_depo_perc_19      0.705201       -0.307101           1.000000  ",
      "text/html": "<div>\n<style scoped>\n    .dataframe tbody tr th:only-of-type {\n        vertical-align: middle;\n    }\n\n    .dataframe tbody tr th {\n        vertical-align: top;\n    }\n\n    .dataframe thead th {\n        text-align: right;\n    }\n</style>\n<table border=\"1\" class=\"dataframe\">\n  <thead>\n    <tr style=\"text-align: right;\">\n      <th></th>\n      <th>procent_infected</th>\n      <th>procent_death</th>\n      <th>depo_salary_19</th>\n      <th>depo_mean_19</th>\n      <th>growth_depo_19</th>\n      <th>curr_depo_perc_19</th>\n    </tr>\n  </thead>\n  <tbody>\n    <tr>\n      <th>procent_infected</th>\n      <td>1.000000</td>\n      <td>0.490316</td>\n      <td>-0.104619</td>\n      <td>0.091959</td>\n      <td>0.035208</td>\n      <td>-0.257728</td>\n    </tr>\n    <tr>\n      <th>procent_death</th>\n      <td>0.490316</td>\n      <td>1.000000</td>\n      <td>0.235839</td>\n      <td>0.399449</td>\n      <td>0.012759</td>\n      <td>0.147622</td>\n    </tr>\n    <tr>\n      <th>depo_salary_19</th>\n      <td>-0.104619</td>\n      <td>0.235839</td>\n      <td>1.000000</td>\n      <td>0.819147</td>\n      <td>-0.190723</td>\n      <td>0.700845</td>\n    </tr>\n    <tr>\n      <th>depo_mean_19</th>\n      <td>0.091959</td>\n      <td>0.399449</td>\n      <td>0.819147</td>\n      <td>1.000000</td>\n      <td>-0.183683</td>\n      <td>0.705201</td>\n    </tr>\n    <tr>\n      <th>growth_depo_19</th>\n      <td>0.035208</td>\n      <td>0.012759</td>\n      <td>-0.190723</td>\n      <td>-0.183683</td>\n      <td>1.000000</td>\n      <td>-0.307101</td>\n    </tr>\n    <tr>\n      <th>curr_depo_perc_19</th>\n      <td>-0.257728</td>\n      <td>0.147622</td>\n      <td>0.700845</td>\n      <td>0.705201</td>\n      <td>-0.307101</td>\n      <td>1.000000</td>\n    </tr>\n  </tbody>\n</table>\n</div>"
     },
     "execution_count": 19,
     "metadata": {},
     "output_type": "execute_result"
    }
   ],
   "source": [
    "X.corr()"
   ],
   "metadata": {
    "collapsed": false,
    "pycharm": {
     "name": "#%%\n"
    }
   }
  },
  {
   "cell_type": "code",
   "execution_count": null,
   "outputs": [],
   "source": [],
   "metadata": {
    "collapsed": false,
    "pycharm": {
     "name": "#%%\n"
    }
   }
  },
  {
   "cell_type": "code",
   "execution_count": 52,
   "outputs": [],
   "source": [
    "model = sm.OLS(df[dependent_variable], df[independent_variables + ['const']])\n",
    "results = model.fit(cov_type='HC0')"
   ],
   "metadata": {
    "collapsed": false,
    "pycharm": {
     "name": "#%%\n"
    }
   }
  },
  {
   "cell_type": "code",
   "execution_count": 55,
   "outputs": [
    {
     "name": "stdout",
     "output_type": "stream",
     "text": [
      "                            OLS Regression Results                            \n",
      "==============================================================================\n",
      "Dep. Variable:     procent_unemployed   R-squared:                       0.568\n",
      "Model:                            OLS   Adj. R-squared:                  0.531\n",
      "Method:                 Least Squares   F-statistic:                     5.694\n",
      "Date:                Tue, 12 Dec 2023   Prob (F-statistic):           7.29e-05\n",
      "Time:                        22:34:35   Log-Likelihood:                 482.04\n",
      "No. Observations:                  77   AIC:                            -950.1\n",
      "Df Residuals:                      70   BIC:                            -933.7\n",
      "Df Model:                           6                                         \n",
      "Covariance Type:                  HC0                                         \n",
      "=====================================================================================\n",
      "                        coef    std err          z      P>|z|      [0.025      0.975]\n",
      "-------------------------------------------------------------------------------------\n",
      "procent_infected      0.0096      0.017      0.559      0.576      -0.024       0.043\n",
      "procent_death         1.2130      0.703      1.726      0.084      -0.165       2.591\n",
      "depo_salary_19       -0.0004      0.000     -3.376      0.001      -0.001      -0.000\n",
      "depo_mean_19       -1.94e-06   2.12e-06     -0.915      0.360   -6.09e-06    2.21e-06\n",
      "growth_depo_19    -2.067e-05   6.75e-06     -3.061      0.002   -3.39e-05   -7.44e-06\n",
      "curr_depo_perc_19  4.006e-05   2.11e-05      1.896      0.058   -1.34e-06    8.15e-05\n",
      "const                 0.0029      0.001      4.244      0.000       0.002       0.004\n",
      "==============================================================================\n",
      "Omnibus:                       35.253   Durbin-Watson:                   1.614\n",
      "Prob(Omnibus):                  0.000   Jarque-Bera (JB):              102.367\n",
      "Skew:                           1.440   Prob(JB):                     5.91e-23\n",
      "Kurtosis:                       7.859   Cond. No.                     1.70e+06\n",
      "==============================================================================\n",
      "\n",
      "Notes:\n",
      "[1] Standard Errors are heteroscedasticity robust (HC0)\n",
      "[2] The condition number is large, 1.7e+06. This might indicate that there are\n",
      "strong multicollinearity or other numerical problems.\n"
     ]
    }
   ],
   "source": [
    "print(results.summary())"
   ],
   "metadata": {
    "collapsed": false,
    "pycharm": {
     "name": "#%%\n"
    }
   }
  },
  {
   "cell_type": "code",
   "execution_count": null,
   "outputs": [],
   "source": [],
   "metadata": {
    "collapsed": false,
    "pycharm": {
     "name": "#%%\n"
    }
   }
  },
  {
   "cell_type": "code",
   "execution_count": 46,
   "outputs": [
    {
     "data": {
      "text/plain": "4.220985288632782"
     },
     "execution_count": 46,
     "metadata": {},
     "output_type": "execute_result"
    }
   ],
   "source": [
    "df[\"depo_salary_19\"].mean()"
   ],
   "metadata": {
    "collapsed": false,
    "pycharm": {
     "name": "#%%\n"
    }
   }
  },
  {
   "cell_type": "code",
   "execution_count": 47,
   "outputs": [
    {
     "data": {
      "text/plain": "0.0046470582646531"
     },
     "execution_count": 47,
     "metadata": {},
     "output_type": "execute_result"
    }
   ],
   "source": [
    "df[\"procent_unemployed\"].max()"
   ],
   "metadata": {
    "collapsed": false,
    "pycharm": {
     "name": "#%%\n"
    }
   }
  },
  {
   "cell_type": "code",
   "execution_count": 34,
   "outputs": [],
   "source": [],
   "metadata": {
    "collapsed": false,
    "pycharm": {
     "name": "#%%\n"
    }
   }
  },
  {
   "cell_type": "code",
   "execution_count": 74,
   "outputs": [
    {
     "name": "stdout",
     "output_type": "stream",
     "text": [
      "                            OLS Regression Results                            \n",
      "==============================================================================\n",
      "Dep. Variable:     procent_unemployed   R-squared:                       0.568\n",
      "Model:                            OLS   Adj. R-squared:                  0.531\n",
      "Method:                 Least Squares   F-statistic:                     5.694\n",
      "Date:                Tue, 12 Dec 2023   Prob (F-statistic):           7.29e-05\n",
      "Time:                        22:37:50   Log-Likelihood:                 482.04\n",
      "No. Observations:                  77   AIC:                            -950.1\n",
      "Df Residuals:                      70   BIC:                            -933.7\n",
      "Df Model:                           6                                         \n",
      "Covariance Type:                  HC0                                         \n",
      "=====================================================================================\n",
      "                        coef    std err          z      P>|z|      [0.025      0.975]\n",
      "-------------------------------------------------------------------------------------\n",
      "procent_infected      0.0096      0.017      0.559      0.576      -0.024       0.043\n",
      "procent_death         1.2130      0.703      1.726      0.084      -0.165       2.591\n",
      "depo_salary_19       -0.0004      0.000     -3.376      0.001      -0.001      -0.000\n",
      "depo_mean_19       -1.94e-06   2.12e-06     -0.915      0.360   -6.09e-06    2.21e-06\n",
      "growth_depo_19    -2.067e-05   6.75e-06     -3.061      0.002   -3.39e-05   -7.44e-06\n",
      "curr_depo_perc_19  4.006e-05   2.11e-05      1.896      0.058   -1.34e-06    8.15e-05\n",
      "const                 0.0029      0.001      4.244      0.000       0.002       0.004\n",
      "==============================================================================\n",
      "Omnibus:                       35.253   Durbin-Watson:                   1.614\n",
      "Prob(Omnibus):                  0.000   Jarque-Bera (JB):              102.367\n",
      "Skew:                           1.440   Prob(JB):                     5.91e-23\n",
      "Kurtosis:                       7.859   Cond. No.                     1.70e+06\n",
      "==============================================================================\n",
      "\n",
      "Notes:\n",
      "[1] Standard Errors are heteroscedasticity robust (HC0)\n",
      "[2] The condition number is large, 1.7e+06. This might indicate that there are\n",
      "strong multicollinearity or other numerical problems.\n"
     ]
    }
   ],
   "source": [
    "print(results.summary())"
   ],
   "metadata": {
    "collapsed": false,
    "pycharm": {
     "name": "#%%\n"
    }
   }
  },
  {
   "cell_type": "code",
   "execution_count": null,
   "outputs": [],
   "source": [],
   "metadata": {
    "collapsed": false,
    "pycharm": {
     "name": "#%%\n"
    }
   }
  },
  {
   "cell_type": "code",
   "execution_count": 83,
   "outputs": [],
   "source": [
    "all_results = []\n",
    "control_variables = [\"procent_infected\"]\n",
    "\n",
    "for independent_var in independent_variables:\n",
    "    model = sm.OLS(df[dependent_variable], df[[independent_var] + ['const'] + control_variables])\n",
    "\n",
    "    results = model.fit(cov_type='HC0')\n",
    "    all_results.append(results)"
   ],
   "metadata": {
    "collapsed": false,
    "pycharm": {
     "name": "#%%\n"
    }
   }
  },
  {
   "cell_type": "code",
   "execution_count": 84,
   "outputs": [
    {
     "name": "stdout",
     "output_type": "stream",
     "text": [
      "                            OLS Regression Results                            \n",
      "==============================================================================\n",
      "Dep. Variable:     procent_unemployed   R-squared:                       0.303\n",
      "Model:                            OLS   Adj. R-squared:                  0.284\n",
      "Method:                 Least Squares   F-statistic:                     7.123\n",
      "Date:                Tue, 12 Dec 2023   Prob (F-statistic):            0.00148\n",
      "Time:                        23:15:11   Log-Likelihood:                 463.60\n",
      "No. Observations:                  77   AIC:                            -921.2\n",
      "Df Residuals:                      74   BIC:                            -914.2\n",
      "Df Model:                           2                                         \n",
      "Covariance Type:                  HC0                                         \n",
      "====================================================================================\n",
      "                       coef    std err          z      P>|z|      [0.025      0.975]\n",
      "------------------------------------------------------------------------------------\n",
      "depo_mean_19     -5.773e-06   1.88e-06     -3.071      0.002   -9.46e-06   -2.09e-06\n",
      "const                0.0016      0.000      4.762      0.000       0.001       0.002\n",
      "procent_infected     0.0245      0.014      1.728      0.084      -0.003       0.052\n",
      "==============================================================================\n",
      "Omnibus:                       63.908   Durbin-Watson:                   2.040\n",
      "Prob(Omnibus):                  0.000   Jarque-Bera (JB):              360.732\n",
      "Skew:                           2.545   Prob(JB):                     4.66e-79\n",
      "Kurtosis:                      12.302   Cond. No.                     2.28e+04\n",
      "==============================================================================\n",
      "\n",
      "Notes:\n",
      "[1] Standard Errors are heteroscedasticity robust (HC0)\n",
      "[2] The condition number is large, 2.28e+04. This might indicate that there are\n",
      "strong multicollinearity or other numerical problems.\n"
     ]
    }
   ],
   "source": [
    "print(all_results[3].summary())"
   ],
   "metadata": {
    "collapsed": false,
    "pycharm": {
     "name": "#%%\n"
    }
   }
  },
  {
   "cell_type": "code",
   "execution_count": 67,
   "outputs": [
    {
     "name": "stdout",
     "output_type": "stream",
     "text": [
      "                            OLS Regression Results                            \n",
      "==============================================================================\n",
      "Dep. Variable:     procent_unemployed   R-squared:                       0.436\n",
      "Model:                            OLS   Adj. R-squared:                  0.429\n",
      "Method:                 Least Squares   F-statistic:                     13.86\n",
      "Date:                Tue, 12 Dec 2023   Prob (F-statistic):           0.000379\n",
      "Time:                        22:36:32   Log-Likelihood:                 471.78\n",
      "No. Observations:                  77   AIC:                            -939.6\n",
      "Df Residuals:                      75   BIC:                            -934.9\n",
      "Df Model:                           1                                         \n",
      "Covariance Type:                  HC0                                         \n",
      "==================================================================================\n",
      "                     coef    std err          z      P>|z|      [0.025      0.975]\n",
      "----------------------------------------------------------------------------------\n",
      "depo_salary_19    -0.0003   8.73e-05     -3.723      0.000      -0.000      -0.000\n",
      "const              0.0025      0.000      6.257      0.000       0.002       0.003\n",
      "==============================================================================\n",
      "Omnibus:                       36.299   Durbin-Watson:                   1.626\n",
      "Prob(Omnibus):                  0.000   Jarque-Bera (JB):               91.248\n",
      "Skew:                           1.577   Prob(JB):                     1.53e-20\n",
      "Kurtosis:                       7.300   Cond. No.                         14.5\n",
      "==============================================================================\n",
      "\n",
      "Notes:\n",
      "[1] Standard Errors are heteroscedasticity robust (HC0)\n"
     ]
    }
   ],
   "source": [
    "print(all_results[2].summary())"
   ],
   "metadata": {
    "collapsed": false,
    "pycharm": {
     "name": "#%%\n"
    }
   }
  },
  {
   "cell_type": "code",
   "execution_count": null,
   "outputs": [],
   "source": [],
   "metadata": {
    "collapsed": false,
    "pycharm": {
     "name": "#%%\n"
    }
   }
  }
 ],
 "metadata": {
  "kernelspec": {
   "display_name": "Python 3",
   "language": "python",
   "name": "python3"
  },
  "language_info": {
   "codemirror_mode": {
    "name": "ipython",
    "version": 2
   },
   "file_extension": ".py",
   "mimetype": "text/x-python",
   "name": "python",
   "nbconvert_exporter": "python",
   "pygments_lexer": "ipython2",
   "version": "2.7.6"
  }
 },
 "nbformat": 4,
 "nbformat_minor": 0
}