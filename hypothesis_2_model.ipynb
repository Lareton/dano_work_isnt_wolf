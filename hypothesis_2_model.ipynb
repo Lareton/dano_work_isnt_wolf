{
 "cells": [
  {
   "cell_type": "code",
   "execution_count": 128,
   "metadata": {
    "collapsed": true
   },
   "outputs": [],
   "source": [
    "import pandas as pd\n",
    "import numpy as np\n",
    "import statsmodels.api as sm\n",
    "import seaborn as sns"
   ]
  },
  {
   "cell_type": "code",
   "execution_count": 152,
   "outputs": [],
   "source": [
    "df = pd.read_csv(\"data/dataset_1_regions_merged.csv\", index_col=0)"
   ],
   "metadata": {
    "collapsed": false,
    "pycharm": {
     "name": "#%%\n"
    }
   }
  },
  {
   "cell_type": "code",
   "execution_count": 153,
   "outputs": [
    {
     "data": {
      "text/plain": "               region  unemployed  infections  deaths   healed  population  \\\n0              Адыгея       17898      5828.0    49.0   4557.0    463088.0   \n1               Алтай       15186      7296.0    24.0   6207.0    220181.0   \n2      Алтайский край       47654     18628.0   384.0  17392.0   2317153.0   \n3            Амурская       25986      7313.0    65.0   6864.0    790044.0   \n4       Архангельская       22140     21299.0   262.0  13985.0   1092424.0   \n..                ...         ...         ...     ...      ...         ...   \n78            Хакасия       17068      7700.0    83.0   6276.0    534262.0   \n79        Челябинская      106538     18836.0   186.0  14198.0   3466369.0   \n80            Чувашия       42008      9447.0   190.0   7616.0   1217818.0   \n81  Ямало-Ненецкий АО        8938     19261.0   128.0  14760.0    544444.0   \n82        Ярославская       39707     11522.0    66.0  10227.0   1253389.0   \n\n    procent_unemployed  procent_infections  procent_healed  procent_deaths  \\\n0             0.038649            0.012585        0.009840        0.000106   \n1             0.068971            0.033136        0.028190        0.000109   \n2             0.020566            0.008039        0.007506        0.000166   \n3             0.032892            0.009256        0.008688        0.000082   \n4             0.020267            0.019497        0.012802        0.000240   \n..                 ...                 ...             ...             ...   \n78            0.031947            0.014412        0.011747        0.000155   \n79            0.030735            0.005434        0.004096        0.000054   \n80            0.034494            0.007757        0.006254        0.000156   \n81            0.016417            0.035377        0.027110        0.000235   \n82            0.031680            0.009193        0.008159        0.000053   \n\n    fin_blago   depo_mean  depo_salary  income_fix  poverty_proc  \\\n0   34.959291   54.132260     1.836252    1.541341          12.5   \n1    9.430103   46.457233     2.267008    1.007107          24.1   \n2   24.568772   85.212759     3.559505    1.304013          17.5   \n3   44.579305  136.036727     4.147556    1.547283          15.8   \n4   49.566421  165.969440     4.990174    1.563425          12.7   \n..        ...         ...          ...         ...           ...   \n78  30.409276   84.013087     3.704567    1.236817          19.0   \n79  48.190734  134.758013     5.352160    1.522448          12.9   \n80  32.787488  114.768381     5.740644    1.236814          17.4   \n81  96.955707  283.547987     3.360957    3.113967           5.7   \n82  51.636007  175.948568     6.201432    1.505752          10.3   \n\n    ex_poverty_proc  social_exp  growth_social_exp  soc_in_total_exp  \n0               1.9       46.72               16.3              62.6  \n1               4.2       42.00               10.8              64.1  \n2               2.6       41.37               14.5              71.7  \n3               2.6       44.35               15.8              58.9  \n4               1.4       40.57               12.8              67.1  \n..              ...         ...                ...               ...  \n78              2.3       43.94               -5.8              72.9  \n79              1.3       49.70               11.0              70.8  \n80              2.0       40.01               14.0              70.3  \n81              0.8       80.20               17.0              51.4  \n82              1.0       50.31                4.5              67.6  \n\n[83 rows x 19 columns]",
      "text/html": "<div>\n<style scoped>\n    .dataframe tbody tr th:only-of-type {\n        vertical-align: middle;\n    }\n\n    .dataframe tbody tr th {\n        vertical-align: top;\n    }\n\n    .dataframe thead th {\n        text-align: right;\n    }\n</style>\n<table border=\"1\" class=\"dataframe\">\n  <thead>\n    <tr style=\"text-align: right;\">\n      <th></th>\n      <th>region</th>\n      <th>unemployed</th>\n      <th>infections</th>\n      <th>deaths</th>\n      <th>healed</th>\n      <th>population</th>\n      <th>procent_unemployed</th>\n      <th>procent_infections</th>\n      <th>procent_healed</th>\n      <th>procent_deaths</th>\n      <th>fin_blago</th>\n      <th>depo_mean</th>\n      <th>depo_salary</th>\n      <th>income_fix</th>\n      <th>poverty_proc</th>\n      <th>ex_poverty_proc</th>\n      <th>social_exp</th>\n      <th>growth_social_exp</th>\n      <th>soc_in_total_exp</th>\n    </tr>\n  </thead>\n  <tbody>\n    <tr>\n      <th>0</th>\n      <td>Адыгея</td>\n      <td>17898</td>\n      <td>5828.0</td>\n      <td>49.0</td>\n      <td>4557.0</td>\n      <td>463088.0</td>\n      <td>0.038649</td>\n      <td>0.012585</td>\n      <td>0.009840</td>\n      <td>0.000106</td>\n      <td>34.959291</td>\n      <td>54.132260</td>\n      <td>1.836252</td>\n      <td>1.541341</td>\n      <td>12.5</td>\n      <td>1.9</td>\n      <td>46.72</td>\n      <td>16.3</td>\n      <td>62.6</td>\n    </tr>\n    <tr>\n      <th>1</th>\n      <td>Алтай</td>\n      <td>15186</td>\n      <td>7296.0</td>\n      <td>24.0</td>\n      <td>6207.0</td>\n      <td>220181.0</td>\n      <td>0.068971</td>\n      <td>0.033136</td>\n      <td>0.028190</td>\n      <td>0.000109</td>\n      <td>9.430103</td>\n      <td>46.457233</td>\n      <td>2.267008</td>\n      <td>1.007107</td>\n      <td>24.1</td>\n      <td>4.2</td>\n      <td>42.00</td>\n      <td>10.8</td>\n      <td>64.1</td>\n    </tr>\n    <tr>\n      <th>2</th>\n      <td>Алтайский край</td>\n      <td>47654</td>\n      <td>18628.0</td>\n      <td>384.0</td>\n      <td>17392.0</td>\n      <td>2317153.0</td>\n      <td>0.020566</td>\n      <td>0.008039</td>\n      <td>0.007506</td>\n      <td>0.000166</td>\n      <td>24.568772</td>\n      <td>85.212759</td>\n      <td>3.559505</td>\n      <td>1.304013</td>\n      <td>17.5</td>\n      <td>2.6</td>\n      <td>41.37</td>\n      <td>14.5</td>\n      <td>71.7</td>\n    </tr>\n    <tr>\n      <th>3</th>\n      <td>Амурская</td>\n      <td>25986</td>\n      <td>7313.0</td>\n      <td>65.0</td>\n      <td>6864.0</td>\n      <td>790044.0</td>\n      <td>0.032892</td>\n      <td>0.009256</td>\n      <td>0.008688</td>\n      <td>0.000082</td>\n      <td>44.579305</td>\n      <td>136.036727</td>\n      <td>4.147556</td>\n      <td>1.547283</td>\n      <td>15.8</td>\n      <td>2.6</td>\n      <td>44.35</td>\n      <td>15.8</td>\n      <td>58.9</td>\n    </tr>\n    <tr>\n      <th>4</th>\n      <td>Архангельская</td>\n      <td>22140</td>\n      <td>21299.0</td>\n      <td>262.0</td>\n      <td>13985.0</td>\n      <td>1092424.0</td>\n      <td>0.020267</td>\n      <td>0.019497</td>\n      <td>0.012802</td>\n      <td>0.000240</td>\n      <td>49.566421</td>\n      <td>165.969440</td>\n      <td>4.990174</td>\n      <td>1.563425</td>\n      <td>12.7</td>\n      <td>1.4</td>\n      <td>40.57</td>\n      <td>12.8</td>\n      <td>67.1</td>\n    </tr>\n    <tr>\n      <th>...</th>\n      <td>...</td>\n      <td>...</td>\n      <td>...</td>\n      <td>...</td>\n      <td>...</td>\n      <td>...</td>\n      <td>...</td>\n      <td>...</td>\n      <td>...</td>\n      <td>...</td>\n      <td>...</td>\n      <td>...</td>\n      <td>...</td>\n      <td>...</td>\n      <td>...</td>\n      <td>...</td>\n      <td>...</td>\n      <td>...</td>\n      <td>...</td>\n    </tr>\n    <tr>\n      <th>78</th>\n      <td>Хакасия</td>\n      <td>17068</td>\n      <td>7700.0</td>\n      <td>83.0</td>\n      <td>6276.0</td>\n      <td>534262.0</td>\n      <td>0.031947</td>\n      <td>0.014412</td>\n      <td>0.011747</td>\n      <td>0.000155</td>\n      <td>30.409276</td>\n      <td>84.013087</td>\n      <td>3.704567</td>\n      <td>1.236817</td>\n      <td>19.0</td>\n      <td>2.3</td>\n      <td>43.94</td>\n      <td>-5.8</td>\n      <td>72.9</td>\n    </tr>\n    <tr>\n      <th>79</th>\n      <td>Челябинская</td>\n      <td>106538</td>\n      <td>18836.0</td>\n      <td>186.0</td>\n      <td>14198.0</td>\n      <td>3466369.0</td>\n      <td>0.030735</td>\n      <td>0.005434</td>\n      <td>0.004096</td>\n      <td>0.000054</td>\n      <td>48.190734</td>\n      <td>134.758013</td>\n      <td>5.352160</td>\n      <td>1.522448</td>\n      <td>12.9</td>\n      <td>1.3</td>\n      <td>49.70</td>\n      <td>11.0</td>\n      <td>70.8</td>\n    </tr>\n    <tr>\n      <th>80</th>\n      <td>Чувашия</td>\n      <td>42008</td>\n      <td>9447.0</td>\n      <td>190.0</td>\n      <td>7616.0</td>\n      <td>1217818.0</td>\n      <td>0.034494</td>\n      <td>0.007757</td>\n      <td>0.006254</td>\n      <td>0.000156</td>\n      <td>32.787488</td>\n      <td>114.768381</td>\n      <td>5.740644</td>\n      <td>1.236814</td>\n      <td>17.4</td>\n      <td>2.0</td>\n      <td>40.01</td>\n      <td>14.0</td>\n      <td>70.3</td>\n    </tr>\n    <tr>\n      <th>81</th>\n      <td>Ямало-Ненецкий АО</td>\n      <td>8938</td>\n      <td>19261.0</td>\n      <td>128.0</td>\n      <td>14760.0</td>\n      <td>544444.0</td>\n      <td>0.016417</td>\n      <td>0.035377</td>\n      <td>0.027110</td>\n      <td>0.000235</td>\n      <td>96.955707</td>\n      <td>283.547987</td>\n      <td>3.360957</td>\n      <td>3.113967</td>\n      <td>5.7</td>\n      <td>0.8</td>\n      <td>80.20</td>\n      <td>17.0</td>\n      <td>51.4</td>\n    </tr>\n    <tr>\n      <th>82</th>\n      <td>Ярославская</td>\n      <td>39707</td>\n      <td>11522.0</td>\n      <td>66.0</td>\n      <td>10227.0</td>\n      <td>1253389.0</td>\n      <td>0.031680</td>\n      <td>0.009193</td>\n      <td>0.008159</td>\n      <td>0.000053</td>\n      <td>51.636007</td>\n      <td>175.948568</td>\n      <td>6.201432</td>\n      <td>1.505752</td>\n      <td>10.3</td>\n      <td>1.0</td>\n      <td>50.31</td>\n      <td>4.5</td>\n      <td>67.6</td>\n    </tr>\n  </tbody>\n</table>\n<p>83 rows × 19 columns</p>\n</div>"
     },
     "execution_count": 153,
     "metadata": {},
     "output_type": "execute_result"
    }
   ],
   "source": [
    "df"
   ],
   "metadata": {
    "collapsed": false,
    "pycharm": {
     "name": "#%%\n"
    }
   }
  },
  {
   "cell_type": "code",
   "execution_count": null,
   "outputs": [],
   "source": [],
   "metadata": {
    "collapsed": false,
    "pycharm": {
     "name": "#%%\n"
    }
   }
  },
  {
   "cell_type": "code",
   "execution_count": 154,
   "outputs": [
    {
     "data": {
      "text/plain": "Index(['region', 'unemployed', 'infections', 'deaths', 'healed', 'population',\n       'procent_unemployed', 'procent_infections', 'procent_healed',\n       'procent_deaths', 'fin_blago', 'depo_mean', 'depo_salary', 'income_fix',\n       'poverty_proc', 'ex_poverty_proc', 'social_exp', 'growth_social_exp',\n       'soc_in_total_exp'],\n      dtype='object')"
     },
     "execution_count": 154,
     "metadata": {},
     "output_type": "execute_result"
    }
   ],
   "source": [
    "df.columns"
   ],
   "metadata": {
    "collapsed": false,
    "pycharm": {
     "name": "#%%\n"
    }
   }
  },
  {
   "cell_type": "code",
   "execution_count": 155,
   "outputs": [],
   "source": [
    "df[\"depo_mean\"] = df[\"depo_mean\"] ** (-1)\n",
    "df[\"depo_salary\"] = df[\"depo_salary\"] ** (-1)"
   ],
   "metadata": {
    "collapsed": false,
    "pycharm": {
     "name": "#%%\n"
    }
   }
  },
  {
   "cell_type": "code",
   "execution_count": 156,
   "outputs": [],
   "source": [
    "# df = df[df.region!=\"Москва\"]"
   ],
   "metadata": {
    "collapsed": false,
    "pycharm": {
     "name": "#%%\n"
    }
   }
  },
  {
   "cell_type": "code",
   "execution_count": 172,
   "outputs": [
    {
     "data": {
      "text/plain": "<AxesSubplot:>"
     },
     "execution_count": 172,
     "metadata": {},
     "output_type": "execute_result"
    },
    {
     "data": {
      "text/plain": "<Figure size 1008x1008 with 2 Axes>",
      "image/png": "[encoded data removed]"
     },
     "metadata": {
      "needs_background": "light"
     },
     "output_type": "display_data"
    }
   ],
   "source": [
    "import matplotlib.pyplot as plt\n",
    "columns_for_x = [\"depo_salary\",  \"depo_mean\",\n",
    "                 'poverty_proc',\n",
    "                 \"population\",\n",
    "                 'procent_infections', 'procent_deaths',\n",
    "                  'social_exp', 'growth_social_exp', \"fin_blago\"]\n",
    "\n",
    "plt.figure(figsize=(14, 14))\n",
    "corr = df[columns_for_x + [\"procent_unemployed\"]].corr()\n",
    "sns.heatmap(corr, annot=True, cmap='coolwarm', fmt='.2f', linewidths=.5)"
   ],
   "metadata": {
    "collapsed": false,
    "pycharm": {
     "name": "#%%\n"
    }
   }
  },
  {
   "cell_type": "code",
   "execution_count": 173,
   "outputs": [],
   "source": [
    "columns_for_x.remove(\"depo_mean\")"
   ],
   "metadata": {
    "collapsed": false,
    "pycharm": {
     "name": "#%%\n"
    }
   }
  },
  {
   "cell_type": "code",
   "execution_count": 174,
   "outputs": [],
   "source": [
    "df['const'] = 1"
   ],
   "metadata": {
    "collapsed": false,
    "pycharm": {
     "name": "#%%\n"
    }
   }
  },
  {
   "cell_type": "code",
   "execution_count": 175,
   "outputs": [],
   "source": [
    "from copy import copy\n",
    "dependent_variable = 'procent_unemployed'\n",
    "# independent_variables = [ 'depo_salary_19', 'depo_mean_19',  'growth_depo_19', 'procent_infected', 'procent_death',  'curr_depo_perc_19']\n",
    "independent_variables = copy(columns_for_x)"
   ],
   "metadata": {
    "collapsed": false,
    "pycharm": {
     "name": "#%%\n"
    }
   }
  },
  {
   "cell_type": "code",
   "execution_count": 175,
   "outputs": [],
   "source": [],
   "metadata": {
    "collapsed": false,
    "pycharm": {
     "name": "#%%\n"
    }
   }
  },
  {
   "cell_type": "code",
   "execution_count": 176,
   "outputs": [
    {
     "data": {
      "text/plain": "             Variable        VIF\n0         depo_salary   3.980278\n1        poverty_proc   8.902572\n2          population   3.064258\n3  procent_infections   6.680471\n4      procent_deaths   4.965220\n5          social_exp  27.589410\n6   growth_social_exp   5.396614\n7           fin_blago  12.695219",
      "text/html": "<div>\n<style scoped>\n    .dataframe tbody tr th:only-of-type {\n        vertical-align: middle;\n    }\n\n    .dataframe tbody tr th {\n        vertical-align: top;\n    }\n\n    .dataframe thead th {\n        text-align: right;\n    }\n</style>\n<table border=\"1\" class=\"dataframe\">\n  <thead>\n    <tr style=\"text-align: right;\">\n      <th></th>\n      <th>Variable</th>\n      <th>VIF</th>\n    </tr>\n  </thead>\n  <tbody>\n    <tr>\n      <th>0</th>\n      <td>depo_salary</td>\n      <td>3.980278</td>\n    </tr>\n    <tr>\n      <th>1</th>\n      <td>poverty_proc</td>\n      <td>8.902572</td>\n    </tr>\n    <tr>\n      <th>2</th>\n      <td>population</td>\n      <td>3.064258</td>\n    </tr>\n    <tr>\n      <th>3</th>\n      <td>procent_infections</td>\n      <td>6.680471</td>\n    </tr>\n    <tr>\n      <th>4</th>\n      <td>procent_deaths</td>\n      <td>4.965220</td>\n    </tr>\n    <tr>\n      <th>5</th>\n      <td>social_exp</td>\n      <td>27.589410</td>\n    </tr>\n    <tr>\n      <th>6</th>\n      <td>growth_social_exp</td>\n      <td>5.396614</td>\n    </tr>\n    <tr>\n      <th>7</th>\n      <td>fin_blago</td>\n      <td>12.695219</td>\n    </tr>\n  </tbody>\n</table>\n</div>"
     },
     "execution_count": 176,
     "metadata": {},
     "output_type": "execute_result"
    }
   ],
   "source": [
    "from statsmodels.stats.outliers_influence import variance_inflation_factor\n",
    "\n",
    "# X - матрица признаков\n",
    "X = df[independent_variables]\n",
    "vif_data = pd.DataFrame()\n",
    "vif_data[\"Variable\"] = X.columns\n",
    "vif_data[\"VIF\"] = [variance_inflation_factor(X.values, i) for i in range(X.shape[1])]\n",
    "vif_data"
   ],
   "metadata": {
    "collapsed": false,
    "pycharm": {
     "name": "#%%\n"
    }
   }
  },
  {
   "cell_type": "code",
   "execution_count": 177,
   "outputs": [],
   "source": [
    "model = sm.OLS(df[dependent_variable], df[independent_variables + ['const']])\n",
    "results = model.fit(cov_type='HC0')"
   ],
   "metadata": {
    "collapsed": false,
    "pycharm": {
     "name": "#%%\n"
    }
   }
  },
  {
   "cell_type": "code",
   "execution_count": 178,
   "outputs": [
    {
     "name": "stdout",
     "output_type": "stream",
     "text": [
      "                            OLS Regression Results                            \n",
      "==============================================================================\n",
      "Dep. Variable:     procent_unemployed   R-squared:                       0.750\n",
      "Model:                            OLS   Adj. R-squared:                  0.723\n",
      "Method:                 Least Squares   F-statistic:                     92.61\n",
      "Date:                Mon, 18 Dec 2023   Prob (F-statistic):           5.30e-34\n",
      "Time:                        18:58:24   Log-Likelihood:                 278.40\n",
      "No. Observations:                  83   AIC:                            -538.8\n",
      "Df Residuals:                      74   BIC:                            -517.0\n",
      "Df Model:                           8                                         \n",
      "Covariance Type:                  HC0                                         \n",
      "======================================================================================\n",
      "                         coef    std err          z      P>|z|      [0.025      0.975]\n",
      "--------------------------------------------------------------------------------------\n",
      "depo_salary            0.0443      0.003     13.881      0.000       0.038       0.051\n",
      "poverty_proc           0.0014      0.000      3.697      0.000       0.001       0.002\n",
      "population          1.294e-09   6.97e-10      1.857      0.063   -7.18e-11    2.66e-09\n",
      "procent_infections    -0.0809      0.245     -0.331      0.741      -0.561       0.399\n",
      "procent_deaths        -6.1410     11.807     -0.520      0.603     -29.282      17.000\n",
      "social_exp          5.542e-05   9.43e-05      0.588      0.557      -0.000       0.000\n",
      "growth_social_exp     -0.0001      0.000     -0.625      0.532      -0.000       0.000\n",
      "fin_blago          -8.036e-05      0.000     -0.669      0.504      -0.000       0.000\n",
      "const                  0.0007      0.009      0.081      0.935      -0.016       0.018\n",
      "==============================================================================\n",
      "Omnibus:                        6.673   Durbin-Watson:                   2.050\n",
      "Prob(Omnibus):                  0.036   Jarque-Bera (JB):                6.645\n",
      "Skew:                           0.472   Prob(JB):                       0.0361\n",
      "Kurtosis:                       4.015   Cond. No.                     2.92e+10\n",
      "==============================================================================\n",
      "\n",
      "Notes:\n",
      "[1] Standard Errors are heteroscedasticity robust (HC0)\n",
      "[2] The condition number is large, 2.92e+10. This might indicate that there are\n",
      "strong multicollinearity or other numerical problems.\n"
     ]
    },
    {
     "name": "stderr",
     "output_type": "stream",
     "text": [
      "c:\\users\\iltya\\appdata\\local\\programs\\python\\python39\\lib\\site-packages\\statsmodels\\base\\model.py:1888: ValueWarning: covariance of constraints does not have full rank. The number of constraints is 8, but rank is 7\n",
      "  warnings.warn('covariance of constraints does not have full '\n"
     ]
    }
   ],
   "source": [
    "print(results.summary())"
   ],
   "metadata": {
    "collapsed": false,
    "pycharm": {
     "name": "#%%\n"
    }
   }
  },
  {
   "cell_type": "code",
   "execution_count": 163,
   "outputs": [],
   "source": [],
   "metadata": {
    "collapsed": false,
    "pycharm": {
     "name": "#%%\n"
    }
   }
  },
  {
   "cell_type": "code",
   "execution_count": 163,
   "outputs": [],
   "source": [],
   "metadata": {
    "collapsed": false,
    "pycharm": {
     "name": "#%%\n"
    }
   }
  },
  {
   "cell_type": "code",
   "execution_count": 163,
   "outputs": [],
   "source": [],
   "metadata": {
    "collapsed": false,
    "pycharm": {
     "name": "#%%\n"
    }
   }
  },
  {
   "cell_type": "code",
   "execution_count": 186,
   "outputs": [
    {
     "data": {
      "text/plain": "['depo_salary',\n 'poverty_proc',\n 'population',\n 'procent_infections',\n 'procent_deaths',\n 'social_exp',\n 'growth_social_exp',\n 'fin_blago']"
     },
     "execution_count": 186,
     "metadata": {},
     "output_type": "execute_result"
    }
   ],
   "source": [
    "independent_variables"
   ],
   "metadata": {
    "collapsed": false,
    "pycharm": {
     "name": "#%%\n"
    }
   }
  },
  {
   "cell_type": "code",
   "execution_count": 179,
   "outputs": [
    {
     "name": "stdout",
     "output_type": "stream",
     "text": [
      "ok\n",
      "ok\n",
      "ok\n",
      "ok\n",
      "ok\n",
      "ok\n",
      "ok\n",
      "ok\n",
      "ok\n"
     ]
    }
   ],
   "source": [
    "dict_coefs = {i:[] for i in independent_variables + [\"const\"]}\n",
    "all_results = []\n",
    "\n",
    "for i in range(len(independent_variables)+1):\n",
    "    print(\"ok\")\n",
    "    cur_undepenent = independent_variables[:i] + [\"const\"]\n",
    "    model = sm.OLS(df[dependent_variable], df[cur_undepenent])\n",
    "    results = model.fit(cov_type='HC0')\n",
    "    all_results.append(results)\n",
    "    # coefs = results.params.to_dict()\n",
    "    # for i in independent_variables + [\"const\"]:\n",
    "    #     dict_coefs[i].append(coefs.get(i, None))"
   ],
   "metadata": {
    "collapsed": false,
    "pycharm": {
     "name": "#%%\n"
    }
   }
  },
  {
   "cell_type": "code",
   "execution_count": 183,
   "outputs": [],
   "source": [
    "from statsmodels.iolib.summary2 import summary_col\n",
    "\n",
    "results_table = summary_col(all_results, model_names=[f'Model {i}' for i in range(len(all_results))], stars=True)"
   ],
   "metadata": {
    "collapsed": false,
    "pycharm": {
     "name": "#%%\n"
    }
   }
  },
  {
   "cell_type": "code",
   "execution_count": 184,
   "outputs": [
    {
     "name": "stdout",
     "output_type": "stream",
     "text": [
      "\n",
      "============================================================================================================\n",
      "                    Model 0   Model 1   Model 2   Model 3   Model 4   Model 5   Model 6   Model 7   Model 8 \n",
      "------------------------------------------------------------------------------------------------------------\n",
      "R-squared          0.0000    0.5976    0.7252    0.7411    0.7464    0.7474    0.7474    0.7488    0.7503   \n",
      "R-squared Adj.     0.0000    0.5927    0.7183    0.7313    0.7334    0.7310    0.7275    0.7254    0.7233   \n",
      "const              0.0318*** 0.0143*** -0.0006   -0.0054   -0.0039   -0.0039   -0.0046   -0.0045   0.0007   \n",
      "                   (0.0019)  (0.0016)  (0.0031)  (0.0037)  (0.0041)  (0.0040)  (0.0055)  (0.0053)  (0.0087) \n",
      "depo_salary                  0.0632*** 0.0463*** 0.0459*** 0.0457*** 0.0456*** 0.0456*** 0.0450*** 0.0443***\n",
      "                             (0.0060)  (0.0030)  (0.0030)  (0.0032)  (0.0031)  (0.0031)  (0.0030)  (0.0032) \n",
      "fin_blago                                                                                          -0.0001  \n",
      "                                                                                                   (0.0001) \n",
      "growth_social_exp                                                                        -0.0001   -0.0001  \n",
      "                                                                                         (0.0002)  (0.0002) \n",
      "population                                       0.0000*   0.0000**  0.0000**  0.0000**  0.0000**  0.0000*  \n",
      "                                                 (0.0000)  (0.0000)  (0.0000)  (0.0000)  (0.0000)  (0.0000) \n",
      "poverty_proc                           0.0014*** 0.0016*** 0.0016*** 0.0016*** 0.0016*** 0.0017*** 0.0014***\n",
      "                                       (0.0003)  (0.0003)  (0.0003)  (0.0003)  (0.0003)  (0.0003)  (0.0004) \n",
      "procent_deaths                                                       -6.1754   -6.2232   -6.5919   -6.1410  \n",
      "                                                                     (12.3946) (12.2444) (12.0943) (11.8067)\n",
      "procent_infections                                         -0.1820   -0.1298   -0.1370   -0.1327   -0.0809  \n",
      "                                                           (0.1551)  (0.2043)  (0.2169)  (0.2157)  (0.2448) \n",
      "social_exp                                                                     0.0000    0.0000    0.0001   \n",
      "                                                                               (0.0001)  (0.0001)  (0.0001) \n",
      "============================================================================================================\n",
      "Standard errors in parentheses.\n",
      "* p<.1, ** p<.05, ***p<.01\n"
     ]
    }
   ],
   "source": [
    "print(results_table)\n"
   ],
   "metadata": {
    "collapsed": false,
    "pycharm": {
     "name": "#%%\n"
    }
   }
  },
  {
   "cell_type": "code",
   "execution_count": null,
   "outputs": [],
   "source": [],
   "metadata": {
    "collapsed": false,
    "pycharm": {
     "name": "#%%\n"
    }
   }
  },
  {
   "cell_type": "code",
   "execution_count": null,
   "outputs": [],
   "source": [],
   "metadata": {
    "collapsed": false,
    "pycharm": {
     "name": "#%%\n"
    }
   }
  },
  {
   "cell_type": "code",
   "execution_count": 17,
   "outputs": [
    {
     "name": "stdout",
     "output_type": "stream",
     "text": [
      "<statsmodels.regression.linear_model.RegressionResultsWrapper object at 0x0000023AEE08A340>\n"
     ]
    }
   ],
   "source": [
    "print(results)"
   ],
   "metadata": {
    "collapsed": false,
    "pycharm": {
     "name": "#%%\n"
    }
   }
  },
  {
   "cell_type": "code",
   "execution_count": 17,
   "outputs": [],
   "source": [],
   "metadata": {
    "collapsed": false,
    "pycharm": {
     "name": "#%%\n"
    }
   }
  },
  {
   "cell_type": "code",
   "execution_count": 18,
   "outputs": [
    {
     "name": "stdout",
     "output_type": "stream",
     "text": [
      "P-value: 0.23793156406347035\n"
     ]
    }
   ],
   "source": [
    "from statsmodels.stats.diagnostic import het_breuschpagan\n",
    "\n",
    "_, p_value, _, _ = het_breuschpagan(results.resid, results.model.exog)\n",
    "print('P-value:', p_value)\n",
    "\n",
    "# нулева ягипотеза отвергается -> в данных гетероскедастичность"
   ],
   "metadata": {
    "collapsed": false,
    "pycharm": {
     "name": "#%%\n"
    }
   }
  },
  {
   "cell_type": "code",
   "execution_count": 18,
   "outputs": [],
   "source": [],
   "metadata": {
    "collapsed": false,
    "pycharm": {
     "name": "#%%\n"
    }
   }
  },
  {
   "cell_type": "code",
   "execution_count": 18,
   "outputs": [],
   "source": [],
   "metadata": {
    "collapsed": false,
    "pycharm": {
     "name": "#%%\n"
    }
   }
  },
  {
   "cell_type": "markdown",
   "source": [
    "## дальше не смотреть"
   ],
   "metadata": {
    "collapsed": false,
    "pycharm": {
     "name": "#%% md\n"
    }
   }
  },
  {
   "cell_type": "code",
   "execution_count": 18,
   "outputs": [],
   "source": [],
   "metadata": {
    "collapsed": false,
    "pycharm": {
     "name": "#%%\n"
    }
   }
  },
  {
   "cell_type": "code",
   "execution_count": 19,
   "outputs": [
    {
     "ename": "KeyError",
     "evalue": "\"['procent_infected'] not in index\"",
     "output_type": "error",
     "traceback": [
      "\u001B[1;31m---------------------------------------------------------------------------\u001B[0m",
      "\u001B[1;31mKeyError\u001B[0m                                  Traceback (most recent call last)",
      "Input \u001B[1;32mIn [19]\u001B[0m, in \u001B[0;36m<cell line: 4>\u001B[1;34m()\u001B[0m\n\u001B[0;32m      2\u001B[0m control_variables \u001B[38;5;241m=\u001B[39m [\u001B[38;5;124m\"\u001B[39m\u001B[38;5;124mprocent_infected\u001B[39m\u001B[38;5;124m\"\u001B[39m]\n\u001B[0;32m      4\u001B[0m \u001B[38;5;28;01mfor\u001B[39;00m independent_var \u001B[38;5;129;01min\u001B[39;00m independent_variables:\n\u001B[1;32m----> 5\u001B[0m     model \u001B[38;5;241m=\u001B[39m sm\u001B[38;5;241m.\u001B[39mOLS(df[dependent_variable], df[[independent_var] \u001B[38;5;241m+\u001B[39m [\u001B[38;5;124m'\u001B[39m\u001B[38;5;124mconst\u001B[39m\u001B[38;5;124m'\u001B[39m] \u001B[38;5;241m+\u001B[39m control_variables])\n\u001B[0;32m      7\u001B[0m     results \u001B[38;5;241m=\u001B[39m model\u001B[38;5;241m.\u001B[39mfit(cov_type\u001B[38;5;241m=\u001B[39m\u001B[38;5;124m'\u001B[39m\u001B[38;5;124mHC0\u001B[39m\u001B[38;5;124m'\u001B[39m)\n\u001B[0;32m      8\u001B[0m     all_results\u001B[38;5;241m.\u001B[39mappend(results)\n",
      "File \u001B[1;32mc:\\users\\iltya\\appdata\\local\\programs\\python\\python39\\lib\\site-packages\\pandas\\core\\frame.py:3511\u001B[0m, in \u001B[0;36mDataFrame.__getitem__\u001B[1;34m(self, key)\u001B[0m\n\u001B[0;32m   3509\u001B[0m     \u001B[38;5;28;01mif\u001B[39;00m is_iterator(key):\n\u001B[0;32m   3510\u001B[0m         key \u001B[38;5;241m=\u001B[39m \u001B[38;5;28mlist\u001B[39m(key)\n\u001B[1;32m-> 3511\u001B[0m     indexer \u001B[38;5;241m=\u001B[39m \u001B[38;5;28;43mself\u001B[39;49m\u001B[38;5;241;43m.\u001B[39;49m\u001B[43mcolumns\u001B[49m\u001B[38;5;241;43m.\u001B[39;49m\u001B[43m_get_indexer_strict\u001B[49m\u001B[43m(\u001B[49m\u001B[43mkey\u001B[49m\u001B[43m,\u001B[49m\u001B[43m \u001B[49m\u001B[38;5;124;43m\"\u001B[39;49m\u001B[38;5;124;43mcolumns\u001B[39;49m\u001B[38;5;124;43m\"\u001B[39;49m\u001B[43m)\u001B[49m[\u001B[38;5;241m1\u001B[39m]\n\u001B[0;32m   3513\u001B[0m \u001B[38;5;66;03m# take() does not accept boolean indexers\u001B[39;00m\n\u001B[0;32m   3514\u001B[0m \u001B[38;5;28;01mif\u001B[39;00m \u001B[38;5;28mgetattr\u001B[39m(indexer, \u001B[38;5;124m\"\u001B[39m\u001B[38;5;124mdtype\u001B[39m\u001B[38;5;124m\"\u001B[39m, \u001B[38;5;28;01mNone\u001B[39;00m) \u001B[38;5;241m==\u001B[39m \u001B[38;5;28mbool\u001B[39m:\n",
      "File \u001B[1;32mc:\\users\\iltya\\appdata\\local\\programs\\python\\python39\\lib\\site-packages\\pandas\\core\\indexes\\base.py:5782\u001B[0m, in \u001B[0;36mIndex._get_indexer_strict\u001B[1;34m(self, key, axis_name)\u001B[0m\n\u001B[0;32m   5779\u001B[0m \u001B[38;5;28;01melse\u001B[39;00m:\n\u001B[0;32m   5780\u001B[0m     keyarr, indexer, new_indexer \u001B[38;5;241m=\u001B[39m \u001B[38;5;28mself\u001B[39m\u001B[38;5;241m.\u001B[39m_reindex_non_unique(keyarr)\n\u001B[1;32m-> 5782\u001B[0m \u001B[38;5;28;43mself\u001B[39;49m\u001B[38;5;241;43m.\u001B[39;49m\u001B[43m_raise_if_missing\u001B[49m\u001B[43m(\u001B[49m\u001B[43mkeyarr\u001B[49m\u001B[43m,\u001B[49m\u001B[43m \u001B[49m\u001B[43mindexer\u001B[49m\u001B[43m,\u001B[49m\u001B[43m \u001B[49m\u001B[43maxis_name\u001B[49m\u001B[43m)\u001B[49m\n\u001B[0;32m   5784\u001B[0m keyarr \u001B[38;5;241m=\u001B[39m \u001B[38;5;28mself\u001B[39m\u001B[38;5;241m.\u001B[39mtake(indexer)\n\u001B[0;32m   5785\u001B[0m \u001B[38;5;28;01mif\u001B[39;00m \u001B[38;5;28misinstance\u001B[39m(key, Index):\n\u001B[0;32m   5786\u001B[0m     \u001B[38;5;66;03m# GH 42790 - Preserve name from an Index\u001B[39;00m\n",
      "File \u001B[1;32mc:\\users\\iltya\\appdata\\local\\programs\\python\\python39\\lib\\site-packages\\pandas\\core\\indexes\\base.py:5845\u001B[0m, in \u001B[0;36mIndex._raise_if_missing\u001B[1;34m(self, key, indexer, axis_name)\u001B[0m\n\u001B[0;32m   5842\u001B[0m     \u001B[38;5;28;01mraise\u001B[39;00m \u001B[38;5;167;01mKeyError\u001B[39;00m(\u001B[38;5;124mf\u001B[39m\u001B[38;5;124m\"\u001B[39m\u001B[38;5;124mNone of [\u001B[39m\u001B[38;5;132;01m{\u001B[39;00mkey\u001B[38;5;132;01m}\u001B[39;00m\u001B[38;5;124m] are in the [\u001B[39m\u001B[38;5;132;01m{\u001B[39;00maxis_name\u001B[38;5;132;01m}\u001B[39;00m\u001B[38;5;124m]\u001B[39m\u001B[38;5;124m\"\u001B[39m)\n\u001B[0;32m   5844\u001B[0m not_found \u001B[38;5;241m=\u001B[39m \u001B[38;5;28mlist\u001B[39m(ensure_index(key)[missing_mask\u001B[38;5;241m.\u001B[39mnonzero()[\u001B[38;5;241m0\u001B[39m]]\u001B[38;5;241m.\u001B[39munique())\n\u001B[1;32m-> 5845\u001B[0m \u001B[38;5;28;01mraise\u001B[39;00m \u001B[38;5;167;01mKeyError\u001B[39;00m(\u001B[38;5;124mf\u001B[39m\u001B[38;5;124m\"\u001B[39m\u001B[38;5;132;01m{\u001B[39;00mnot_found\u001B[38;5;132;01m}\u001B[39;00m\u001B[38;5;124m not in index\u001B[39m\u001B[38;5;124m\"\u001B[39m)\n",
      "\u001B[1;31mKeyError\u001B[0m: \"['procent_infected'] not in index\""
     ]
    }
   ],
   "source": [
    "all_results = []\n",
    "control_variables = [\"procent_infected\"]\n",
    "\n",
    "for independent_var in independent_variables:\n",
    "    model = sm.OLS(df[dependent_variable], df[[independent_var] + ['const'] + control_variables])\n",
    "\n",
    "    results = model.fit(cov_type='HC0')\n",
    "    all_results.append(results)"
   ],
   "metadata": {
    "collapsed": false,
    "pycharm": {
     "name": "#%%\n"
    }
   }
  },
  {
   "cell_type": "code",
   "execution_count": null,
   "outputs": [],
   "source": [],
   "metadata": {
    "collapsed": false,
    "pycharm": {
     "name": "#%%\n"
    }
   }
  }
 ],
 "metadata": {
  "kernelspec": {
   "display_name": "Python 3",
   "language": "python",
   "name": "python3"
  },
  "language_info": {
   "codemirror_mode": {
    "name": "ipython",
    "version": 2
   },
   "file_extension": ".py",
   "mimetype": "text/x-python",
   "name": "python",
   "nbconvert_exporter": "python",
   "pygments_lexer": "ipython2",
   "version": "2.7.6"
  }
 },
 "nbformat": 4,
 "nbformat_minor": 0
}