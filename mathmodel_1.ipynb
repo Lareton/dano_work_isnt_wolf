{
 "cells": [
  {
   "cell_type": "code",
   "execution_count": 317,
   "metadata": {
    "collapsed": true
   },
   "outputs": [],
   "source": [
    "import pandas as pd\n",
    "import numpy as np\n",
    "import seaborn as sns\n",
    "import matplotlib.pyplot as plt"
   ]
  },
  {
   "cell_type": "code",
   "execution_count": 318,
   "outputs": [],
   "source": [
    "df = pd.read_csv(\"data/dataset_fd_Sp_no-Mos.csv\", index_col=0)"
   ],
   "metadata": {
    "collapsed": false,
    "pycharm": {
     "name": "#%%\n"
    }
   }
  },
  {
   "cell_type": "code",
   "execution_count": 319,
   "outputs": [],
   "source": [
    "agg_df = df.groupby([\"region\", \"week\"]).agg(infections=(\"infections\", \"mean\"),\n",
    "                                            unemployed=(\"unemployed\", \"sum\"),\n",
    "                                            population=(\"population\", \"mean\"),\n",
    "                                            federal_district=(\"federal_district\", lambda x: x.iloc[0])).reset_index().set_index(\"region\")"
   ],
   "metadata": {
    "collapsed": false,
    "pycharm": {
     "name": "#%%\n"
    }
   }
  },
  {
   "cell_type": "code",
   "execution_count": 320,
   "outputs": [],
   "source": [
    "agg_df = agg_df.groupby(\"federal_district\").agg({\"infections\":\"sum\", \"unemployed\":\"sum\", \"population\":\"sum\", \"federal_district\":lambda x: x.iloc[0]})"
   ],
   "metadata": {
    "collapsed": false,
    "pycharm": {
     "name": "#%%\n"
    }
   }
  },
  {
   "cell_type": "code",
   "execution_count": 321,
   "outputs": [
    {
     "data": {
      "text/plain": "                  infections  unemployed   population federal_district\nfederal_district                                                      \nДФО                  97589.0      248153  243567450.0              ДФО\nПФО                 204153.0      823752  878630490.0              ПФО\nСЗФО                194088.0      359956  418136430.0             СЗФО\nСКФО                 70617.0      743087  297927990.0             СКФО\nСФО                 150880.0      540556  513551610.0              СФО\nУФО                 116630.0      400474  370822560.0              УФО\nЦФО                 266823.0      640022  802664310.0              ЦФО\nЮФО                 101956.0      590845  493982520.0              ЮФО",
      "text/html": "<div>\n<style scoped>\n    .dataframe tbody tr th:only-of-type {\n        vertical-align: middle;\n    }\n\n    .dataframe tbody tr th {\n        vertical-align: top;\n    }\n\n    .dataframe thead th {\n        text-align: right;\n    }\n</style>\n<table border=\"1\" class=\"dataframe\">\n  <thead>\n    <tr style=\"text-align: right;\">\n      <th></th>\n      <th>infections</th>\n      <th>unemployed</th>\n      <th>population</th>\n      <th>federal_district</th>\n    </tr>\n    <tr>\n      <th>federal_district</th>\n      <th></th>\n      <th></th>\n      <th></th>\n      <th></th>\n    </tr>\n  </thead>\n  <tbody>\n    <tr>\n      <th>ДФО</th>\n      <td>97589.0</td>\n      <td>248153</td>\n      <td>243567450.0</td>\n      <td>ДФО</td>\n    </tr>\n    <tr>\n      <th>ПФО</th>\n      <td>204153.0</td>\n      <td>823752</td>\n      <td>878630490.0</td>\n      <td>ПФО</td>\n    </tr>\n    <tr>\n      <th>СЗФО</th>\n      <td>194088.0</td>\n      <td>359956</td>\n      <td>418136430.0</td>\n      <td>СЗФО</td>\n    </tr>\n    <tr>\n      <th>СКФО</th>\n      <td>70617.0</td>\n      <td>743087</td>\n      <td>297927990.0</td>\n      <td>СКФО</td>\n    </tr>\n    <tr>\n      <th>СФО</th>\n      <td>150880.0</td>\n      <td>540556</td>\n      <td>513551610.0</td>\n      <td>СФО</td>\n    </tr>\n    <tr>\n      <th>УФО</th>\n      <td>116630.0</td>\n      <td>400474</td>\n      <td>370822560.0</td>\n      <td>УФО</td>\n    </tr>\n    <tr>\n      <th>ЦФО</th>\n      <td>266823.0</td>\n      <td>640022</td>\n      <td>802664310.0</td>\n      <td>ЦФО</td>\n    </tr>\n    <tr>\n      <th>ЮФО</th>\n      <td>101956.0</td>\n      <td>590845</td>\n      <td>493982520.0</td>\n      <td>ЮФО</td>\n    </tr>\n  </tbody>\n</table>\n</div>"
     },
     "execution_count": 321,
     "metadata": {},
     "output_type": "execute_result"
    }
   ],
   "source": [
    "agg_df"
   ],
   "metadata": {
    "collapsed": false,
    "pycharm": {
     "name": "#%%\n"
    }
   }
  },
  {
   "cell_type": "code",
   "execution_count": 322,
   "outputs": [],
   "source": [
    "agg_df[\"procent_unemployed\"] = agg_df.unemployed / agg_df.population"
   ],
   "metadata": {
    "collapsed": false,
    "pycharm": {
     "name": "#%%\n"
    }
   }
  },
  {
   "cell_type": "code",
   "execution_count": 323,
   "outputs": [],
   "source": [
    "agg_df[\"procent_infected\"] = agg_df.infections / agg_df.population"
   ],
   "metadata": {
    "collapsed": false,
    "pycharm": {
     "name": "#%%\n"
    }
   }
  },
  {
   "cell_type": "code",
   "execution_count": 324,
   "outputs": [
    {
     "data": {
      "text/plain": "                  infections  unemployed   population federal_district  \\\nfederal_district                                                         \nДФО                  97589.0      248153  243567450.0              ДФО   \nПФО                 204153.0      823752  878630490.0              ПФО   \nСЗФО                194088.0      359956  418136430.0             СЗФО   \nСКФО                 70617.0      743087  297927990.0             СКФО   \nСФО                 150880.0      540556  513551610.0              СФО   \nУФО                 116630.0      400474  370822560.0              УФО   \nЦФО                 266823.0      640022  802664310.0              ЦФО   \nЮФО                 101956.0      590845  493982520.0              ЮФО   \n\n                  procent_unemployed  procent_infected  \nfederal_district                                        \nДФО                         0.001019          0.000401  \nПФО                         0.000938          0.000232  \nСЗФО                        0.000861          0.000464  \nСКФО                        0.002494          0.000237  \nСФО                         0.001053          0.000294  \nУФО                         0.001080          0.000315  \nЦФО                         0.000797          0.000332  \nЮФО                         0.001196          0.000206  ",
      "text/html": "<div>\n<style scoped>\n    .dataframe tbody tr th:only-of-type {\n        vertical-align: middle;\n    }\n\n    .dataframe tbody tr th {\n        vertical-align: top;\n    }\n\n    .dataframe thead th {\n        text-align: right;\n    }\n</style>\n<table border=\"1\" class=\"dataframe\">\n  <thead>\n    <tr style=\"text-align: right;\">\n      <th></th>\n      <th>infections</th>\n      <th>unemployed</th>\n      <th>population</th>\n      <th>federal_district</th>\n      <th>procent_unemployed</th>\n      <th>procent_infected</th>\n    </tr>\n    <tr>\n      <th>federal_district</th>\n      <th></th>\n      <th></th>\n      <th></th>\n      <th></th>\n      <th></th>\n      <th></th>\n    </tr>\n  </thead>\n  <tbody>\n    <tr>\n      <th>ДФО</th>\n      <td>97589.0</td>\n      <td>248153</td>\n      <td>243567450.0</td>\n      <td>ДФО</td>\n      <td>0.001019</td>\n      <td>0.000401</td>\n    </tr>\n    <tr>\n      <th>ПФО</th>\n      <td>204153.0</td>\n      <td>823752</td>\n      <td>878630490.0</td>\n      <td>ПФО</td>\n      <td>0.000938</td>\n      <td>0.000232</td>\n    </tr>\n    <tr>\n      <th>СЗФО</th>\n      <td>194088.0</td>\n      <td>359956</td>\n      <td>418136430.0</td>\n      <td>СЗФО</td>\n      <td>0.000861</td>\n      <td>0.000464</td>\n    </tr>\n    <tr>\n      <th>СКФО</th>\n      <td>70617.0</td>\n      <td>743087</td>\n      <td>297927990.0</td>\n      <td>СКФО</td>\n      <td>0.002494</td>\n      <td>0.000237</td>\n    </tr>\n    <tr>\n      <th>СФО</th>\n      <td>150880.0</td>\n      <td>540556</td>\n      <td>513551610.0</td>\n      <td>СФО</td>\n      <td>0.001053</td>\n      <td>0.000294</td>\n    </tr>\n    <tr>\n      <th>УФО</th>\n      <td>116630.0</td>\n      <td>400474</td>\n      <td>370822560.0</td>\n      <td>УФО</td>\n      <td>0.001080</td>\n      <td>0.000315</td>\n    </tr>\n    <tr>\n      <th>ЦФО</th>\n      <td>266823.0</td>\n      <td>640022</td>\n      <td>802664310.0</td>\n      <td>ЦФО</td>\n      <td>0.000797</td>\n      <td>0.000332</td>\n    </tr>\n    <tr>\n      <th>ЮФО</th>\n      <td>101956.0</td>\n      <td>590845</td>\n      <td>493982520.0</td>\n      <td>ЮФО</td>\n      <td>0.001196</td>\n      <td>0.000206</td>\n    </tr>\n  </tbody>\n</table>\n</div>"
     },
     "execution_count": 324,
     "metadata": {},
     "output_type": "execute_result"
    }
   ],
   "source": [
    "agg_df"
   ],
   "metadata": {
    "collapsed": false,
    "pycharm": {
     "name": "#%%\n"
    }
   }
  },
  {
   "cell_type": "code",
   "execution_count": 324,
   "outputs": [],
   "source": [],
   "metadata": {
    "collapsed": false,
    "pycharm": {
     "name": "#%%\n"
    }
   }
  },
  {
   "cell_type": "code",
   "execution_count": 325,
   "outputs": [],
   "source": [
    "agg_df.drop(\"federal_district\", axis=1, inplace=True)\n",
    "one = agg_df[[\"procent_infected\"]].reset_index().rename({\"procent_infected\":\"value\"}, axis=1)\n",
    "two = agg_df[[\"procent_unemployed\"]].reset_index().rename({\"procent_unemployed\":\"value\"}, axis=1)"
   ],
   "metadata": {
    "collapsed": false,
    "pycharm": {
     "name": "#%%\n"
    }
   }
  },
  {
   "cell_type": "code",
   "execution_count": 326,
   "outputs": [],
   "source": [
    "one[\"kind\"] = \"Кол-во выявленных случаев заболевания (доля населения)\"\n",
    "two[\"kind\"] = \"Кол-во поданных заявок на пособие по безработице (доля населения)\""
   ],
   "metadata": {
    "collapsed": false,
    "pycharm": {
     "name": "#%%\n"
    }
   }
  },
  {
   "cell_type": "code",
   "execution_count": 327,
   "outputs": [
    {
     "name": "stderr",
     "output_type": "stream",
     "text": [
      "C:\\Users\\iltya\\AppData\\Local\\Temp\\ipykernel_21300\\3706551119.py:1: FutureWarning: The frame.append method is deprecated and will be removed from pandas in a future version. Use pandas.concat instead.\n",
      "  tmp = one.append(two)\n"
     ]
    }
   ],
   "source": [
    "tmp = one.append(two)"
   ],
   "metadata": {
    "collapsed": false,
    "pycharm": {
     "name": "#%%\n"
    }
   }
  },
  {
   "cell_type": "code",
   "execution_count": 328,
   "outputs": [
    {
     "data": {
      "text/plain": "<Figure size 1008x720 with 1 Axes>",
      "image/png": "[encoded data removed]"
     },
     "metadata": {},
     "output_type": "display_data"
    }
   ],
   "source": [
    "color1 = \"#190DF6\"\n",
    "color2 = \"#736cf5\"\n",
    "\n",
    "# Создайте градиент от color1 к color2\n",
    "custom_palette = sns.color_palette([color1, color2], as_cmap=True)\n",
    "\n",
    "# Используйте вашу палитру в barplot\n",
    "\n",
    "plt.figure(figsize=(14, 10))\n",
    "sns.set(rc={'font.size': 12, 'axes.facecolor': '#FFFFFF'})\n",
    "sns.set_style(\"whitegrid\", {'grid.color': '.8', 'grid.linestyle': '--'})\n",
    "sns.set_palette(custom_palette)\n",
    "ax = sns.barplot(data=tmp, x=\"federal_district\", y=\"value\", hue=\"kind\",  )\n",
    "\n",
    "ax.set_xlabel('Федеральный округ', fontsize=16)  # Set font size for x-axis label\n",
    "ax.set_ylabel('Процент', fontsize=16)  # Set font size for y-axis label\n",
    "\n",
    "ax.legend(fontsize='16', title_fontsize='14')\n",
    "\n",
    "ax.tick_params(axis='both', labelsize=18)   # Set font size for tick labels"
   ],
   "metadata": {
    "collapsed": false,
    "pycharm": {
     "name": "#%%\n"
    }
   }
  },
  {
   "cell_type": "code",
   "execution_count": 270,
   "outputs": [],
   "source": [],
   "metadata": {
    "collapsed": false,
    "pycharm": {
     "name": "#%%\n"
    }
   }
  },
  {
   "cell_type": "code",
   "execution_count": 270,
   "outputs": [],
   "source": [],
   "metadata": {
    "collapsed": false,
    "pycharm": {
     "name": "#%%\n"
    }
   }
  },
  {
   "cell_type": "code",
   "execution_count": 271,
   "outputs": [],
   "source": [
    "df = pd.read_csv(\"data/dataset_1.csv\")\n",
    "df_region_metric = pd.read_csv(\"data/dataset_1_regions_merged.csv\", index_col=0).set_index(\"region\")"
   ],
   "metadata": {
    "collapsed": false,
    "pycharm": {
     "name": "#%%\n"
    }
   }
  },
  {
   "cell_type": "code",
   "execution_count": 272,
   "outputs": [],
   "source": [
    "columns_to_drop = ['healed', 'infections', 'unemployed', 'deaths', 'population']\n",
    "df_region_metric.drop(columns_to_drop, axis=1, inplace=True)"
   ],
   "metadata": {
    "collapsed": false,
    "pycharm": {
     "name": "#%%\n"
    }
   }
  },
  {
   "cell_type": "code",
   "execution_count": 273,
   "outputs": [],
   "source": [
    "df = pd.merge(df, df_region_metric, left_on=\"region\", right_index=True)"
   ],
   "metadata": {
    "collapsed": false,
    "pycharm": {
     "name": "#%%\n"
    }
   }
  },
  {
   "cell_type": "code",
   "execution_count": 274,
   "outputs": [
    {
     "data": {
      "text/plain": "             week       region  \\\n0      2020-04-06       Адыгея   \n1      2020-04-06       Адыгея   \n2      2020-04-06       Адыгея   \n3      2020-04-06       Адыгея   \n4      2020-04-06       Адыгея   \n...           ...          ...   \n75089  2020-10-26  Ярославская   \n75090  2020-10-26  Ярославская   \n75091  2020-10-26  Ярославская   \n75092  2020-10-26  Ярославская   \n75093  2020-10-26  Ярославская   \n\n                                                    oced  unemployed  \\\n0      Строительство, ремонт, стройматериалы, недвижи...          19   \n1                                         Машиностроение           2   \n2                                          Юриспруденция          13   \n3                                 Пищевая промышленность           9   \n4      Государственная служба, некоммерческие организ...          17   \n...                                                  ...         ...   \n75089           Услуги населению, сервисное обслуживание           2   \n75090                  Работы, не требующие квалификации          33   \n75091                                  Электроэнергетика           1   \n75092  Химическая, нефтехимическая, топливная промышл...           1   \n75093  Финансы, кредит, страхование, пенсионное обесп...          12   \n\n       cv_gender  cv_birthday_2000  cv_birthday_1990  cv_birthday_1980  \\\n0             18                 0                 3                12   \n1              1                 0                 0                 1   \n2              6                 0                 2                11   \n3              2                 1                 2                 6   \n4              8                 0                 3                14   \n...          ...               ...               ...               ...   \n75089          0                 1                 2                 2   \n75090         20                 2                 9                14   \n75091          1                 0                 0                 1   \n75092          1                 0                 0                 0   \n75093          1                 2                 4                 8   \n\n       cv_birthday_1970  cv_birthday_1960  ...  procent_deaths  fin_blago  \\\n0                    19                19  ...        0.000106  34.959291   \n1                     1                 2  ...        0.000106  34.959291   \n2                    13                13  ...        0.000106  34.959291   \n3                     9                 9  ...        0.000106  34.959291   \n4                    17                17  ...        0.000106  34.959291   \n...                 ...               ...  ...             ...        ...   \n75089                 2                 2  ...        0.000053  51.636007   \n75090                20                32  ...        0.000053  51.636007   \n75091                 1                 1  ...        0.000053  51.636007   \n75092                 0                 1  ...        0.000053  51.636007   \n75093                 9                12  ...        0.000053  51.636007   \n\n        depo_mean  depo_salary  income_fix  poverty_proc  ex_poverty_proc  \\\n0       54.132260     1.836252    1.541341          12.5              1.9   \n1       54.132260     1.836252    1.541341          12.5              1.9   \n2       54.132260     1.836252    1.541341          12.5              1.9   \n3       54.132260     1.836252    1.541341          12.5              1.9   \n4       54.132260     1.836252    1.541341          12.5              1.9   \n...           ...          ...         ...           ...              ...   \n75089  175.948568     6.201432    1.505752          10.3              1.0   \n75090  175.948568     6.201432    1.505752          10.3              1.0   \n75091  175.948568     6.201432    1.505752          10.3              1.0   \n75092  175.948568     6.201432    1.505752          10.3              1.0   \n75093  175.948568     6.201432    1.505752          10.3              1.0   \n\n       social_exp  growth_social_exp  soc_in_total_exp  \n0           46.72               16.3              62.6  \n1           46.72               16.3              62.6  \n2           46.72               16.3              62.6  \n3           46.72               16.3              62.6  \n4           46.72               16.3              62.6  \n...           ...                ...               ...  \n75089       50.31                4.5              67.6  \n75090       50.31                4.5              67.6  \n75091       50.31                4.5              67.6  \n75092       50.31                4.5              67.6  \n75093       50.31                4.5              67.6  \n\n[75094 rows x 35 columns]",
      "text/html": "<div>\n<style scoped>\n    .dataframe tbody tr th:only-of-type {\n        vertical-align: middle;\n    }\n\n    .dataframe tbody tr th {\n        vertical-align: top;\n    }\n\n    .dataframe thead th {\n        text-align: right;\n    }\n</style>\n<table border=\"1\" class=\"dataframe\">\n  <thead>\n    <tr style=\"text-align: right;\">\n      <th></th>\n      <th>week</th>\n      <th>region</th>\n      <th>oced</th>\n      <th>unemployed</th>\n      <th>cv_gender</th>\n      <th>cv_birthday_2000</th>\n      <th>cv_birthday_1990</th>\n      <th>cv_birthday_1980</th>\n      <th>cv_birthday_1970</th>\n      <th>cv_birthday_1960</th>\n      <th>...</th>\n      <th>procent_deaths</th>\n      <th>fin_blago</th>\n      <th>depo_mean</th>\n      <th>depo_salary</th>\n      <th>income_fix</th>\n      <th>poverty_proc</th>\n      <th>ex_poverty_proc</th>\n      <th>social_exp</th>\n      <th>growth_social_exp</th>\n      <th>soc_in_total_exp</th>\n    </tr>\n  </thead>\n  <tbody>\n    <tr>\n      <th>0</th>\n      <td>2020-04-06</td>\n      <td>Адыгея</td>\n      <td>Строительство, ремонт, стройматериалы, недвижи...</td>\n      <td>19</td>\n      <td>18</td>\n      <td>0</td>\n      <td>3</td>\n      <td>12</td>\n      <td>19</td>\n      <td>19</td>\n      <td>...</td>\n      <td>0.000106</td>\n      <td>34.959291</td>\n      <td>54.132260</td>\n      <td>1.836252</td>\n      <td>1.541341</td>\n      <td>12.5</td>\n      <td>1.9</td>\n      <td>46.72</td>\n      <td>16.3</td>\n      <td>62.6</td>\n    </tr>\n    <tr>\n      <th>1</th>\n      <td>2020-04-06</td>\n      <td>Адыгея</td>\n      <td>Машиностроение</td>\n      <td>2</td>\n      <td>1</td>\n      <td>0</td>\n      <td>0</td>\n      <td>1</td>\n      <td>1</td>\n      <td>2</td>\n      <td>...</td>\n      <td>0.000106</td>\n      <td>34.959291</td>\n      <td>54.132260</td>\n      <td>1.836252</td>\n      <td>1.541341</td>\n      <td>12.5</td>\n      <td>1.9</td>\n      <td>46.72</td>\n      <td>16.3</td>\n      <td>62.6</td>\n    </tr>\n    <tr>\n      <th>2</th>\n      <td>2020-04-06</td>\n      <td>Адыгея</td>\n      <td>Юриспруденция</td>\n      <td>13</td>\n      <td>6</td>\n      <td>0</td>\n      <td>2</td>\n      <td>11</td>\n      <td>13</td>\n      <td>13</td>\n      <td>...</td>\n      <td>0.000106</td>\n      <td>34.959291</td>\n      <td>54.132260</td>\n      <td>1.836252</td>\n      <td>1.541341</td>\n      <td>12.5</td>\n      <td>1.9</td>\n      <td>46.72</td>\n      <td>16.3</td>\n      <td>62.6</td>\n    </tr>\n    <tr>\n      <th>3</th>\n      <td>2020-04-06</td>\n      <td>Адыгея</td>\n      <td>Пищевая промышленность</td>\n      <td>9</td>\n      <td>2</td>\n      <td>1</td>\n      <td>2</td>\n      <td>6</td>\n      <td>9</td>\n      <td>9</td>\n      <td>...</td>\n      <td>0.000106</td>\n      <td>34.959291</td>\n      <td>54.132260</td>\n      <td>1.836252</td>\n      <td>1.541341</td>\n      <td>12.5</td>\n      <td>1.9</td>\n      <td>46.72</td>\n      <td>16.3</td>\n      <td>62.6</td>\n    </tr>\n    <tr>\n      <th>4</th>\n      <td>2020-04-06</td>\n      <td>Адыгея</td>\n      <td>Государственная служба, некоммерческие организ...</td>\n      <td>17</td>\n      <td>8</td>\n      <td>0</td>\n      <td>3</td>\n      <td>14</td>\n      <td>17</td>\n      <td>17</td>\n      <td>...</td>\n      <td>0.000106</td>\n      <td>34.959291</td>\n      <td>54.132260</td>\n      <td>1.836252</td>\n      <td>1.541341</td>\n      <td>12.5</td>\n      <td>1.9</td>\n      <td>46.72</td>\n      <td>16.3</td>\n      <td>62.6</td>\n    </tr>\n    <tr>\n      <th>...</th>\n      <td>...</td>\n      <td>...</td>\n      <td>...</td>\n      <td>...</td>\n      <td>...</td>\n      <td>...</td>\n      <td>...</td>\n      <td>...</td>\n      <td>...</td>\n      <td>...</td>\n      <td>...</td>\n      <td>...</td>\n      <td>...</td>\n      <td>...</td>\n      <td>...</td>\n      <td>...</td>\n      <td>...</td>\n      <td>...</td>\n      <td>...</td>\n      <td>...</td>\n      <td>...</td>\n    </tr>\n    <tr>\n      <th>75089</th>\n      <td>2020-10-26</td>\n      <td>Ярославская</td>\n      <td>Услуги населению, сервисное обслуживание</td>\n      <td>2</td>\n      <td>0</td>\n      <td>1</td>\n      <td>2</td>\n      <td>2</td>\n      <td>2</td>\n      <td>2</td>\n      <td>...</td>\n      <td>0.000053</td>\n      <td>51.636007</td>\n      <td>175.948568</td>\n      <td>6.201432</td>\n      <td>1.505752</td>\n      <td>10.3</td>\n      <td>1.0</td>\n      <td>50.31</td>\n      <td>4.5</td>\n      <td>67.6</td>\n    </tr>\n    <tr>\n      <th>75090</th>\n      <td>2020-10-26</td>\n      <td>Ярославская</td>\n      <td>Работы, не требующие квалификации</td>\n      <td>33</td>\n      <td>20</td>\n      <td>2</td>\n      <td>9</td>\n      <td>14</td>\n      <td>20</td>\n      <td>32</td>\n      <td>...</td>\n      <td>0.000053</td>\n      <td>51.636007</td>\n      <td>175.948568</td>\n      <td>6.201432</td>\n      <td>1.505752</td>\n      <td>10.3</td>\n      <td>1.0</td>\n      <td>50.31</td>\n      <td>4.5</td>\n      <td>67.6</td>\n    </tr>\n    <tr>\n      <th>75091</th>\n      <td>2020-10-26</td>\n      <td>Ярославская</td>\n      <td>Электроэнергетика</td>\n      <td>1</td>\n      <td>1</td>\n      <td>0</td>\n      <td>0</td>\n      <td>1</td>\n      <td>1</td>\n      <td>1</td>\n      <td>...</td>\n      <td>0.000053</td>\n      <td>51.636007</td>\n      <td>175.948568</td>\n      <td>6.201432</td>\n      <td>1.505752</td>\n      <td>10.3</td>\n      <td>1.0</td>\n      <td>50.31</td>\n      <td>4.5</td>\n      <td>67.6</td>\n    </tr>\n    <tr>\n      <th>75092</th>\n      <td>2020-10-26</td>\n      <td>Ярославская</td>\n      <td>Химическая, нефтехимическая, топливная промышл...</td>\n      <td>1</td>\n      <td>1</td>\n      <td>0</td>\n      <td>0</td>\n      <td>0</td>\n      <td>0</td>\n      <td>1</td>\n      <td>...</td>\n      <td>0.000053</td>\n      <td>51.636007</td>\n      <td>175.948568</td>\n      <td>6.201432</td>\n      <td>1.505752</td>\n      <td>10.3</td>\n      <td>1.0</td>\n      <td>50.31</td>\n      <td>4.5</td>\n      <td>67.6</td>\n    </tr>\n    <tr>\n      <th>75093</th>\n      <td>2020-10-26</td>\n      <td>Ярославская</td>\n      <td>Финансы, кредит, страхование, пенсионное обесп...</td>\n      <td>12</td>\n      <td>1</td>\n      <td>2</td>\n      <td>4</td>\n      <td>8</td>\n      <td>9</td>\n      <td>12</td>\n      <td>...</td>\n      <td>0.000053</td>\n      <td>51.636007</td>\n      <td>175.948568</td>\n      <td>6.201432</td>\n      <td>1.505752</td>\n      <td>10.3</td>\n      <td>1.0</td>\n      <td>50.31</td>\n      <td>4.5</td>\n      <td>67.6</td>\n    </tr>\n  </tbody>\n</table>\n<p>75094 rows × 35 columns</p>\n</div>"
     },
     "execution_count": 274,
     "metadata": {},
     "output_type": "execute_result"
    }
   ],
   "source": [
    "df"
   ],
   "metadata": {
    "collapsed": false,
    "pycharm": {
     "name": "#%%\n"
    }
   }
  },
  {
   "cell_type": "markdown",
   "source": [
    "### Гипотеза\n",
    "Количество заявок на пособие по безработице взаимосвязано с эпидемиологический обстановкой в регионе в период пандемии COVID19"
   ],
   "metadata": {
    "collapsed": false,
    "pycharm": {
     "name": "#%% md\n"
    }
   }
  },
  {
   "cell_type": "markdown",
   "source": [
    "## проверим наличие зависимостей на уровне регион-неделя"
   ],
   "metadata": {
    "collapsed": false,
    "pycharm": {
     "name": "#%% md\n"
    }
   }
  },
  {
   "cell_type": "code",
   "execution_count": 275,
   "outputs": [],
   "source": [
    "# agg_df = df.groupby([\"region\", \"week\"]).agg(infections=(\"infections\", \"mean\"),\n",
    "#                                             unemployed=(\"unemployed\", \"sum\"),\n",
    "#                                             population=(\"population\", \"mean\")).reset_index()\n",
    "#\n",
    "# # отнормируем кол-во заявок на пособие по безработице и кол-во заражений в регионе на население\n",
    "# agg_df[\"infections\"] = agg_df[\"infections\"] / agg_df[\"population\"]\n",
    "# agg_df[\"unemployed\"] = agg_df[\"unemployed\"] / agg_df[\"population\"]\n",
    "#\n",
    "# plt.figure(figsize=(15, 8))\n",
    "# plt.yscale(\"log\")\n",
    "# plt.xscale(\"log\")\n",
    "# sns.scatterplot(data = agg_df, x=\"infections\", y=\"unemployed\", color=color1)\n",
    "# plt.title(\"Зависимость кол-ва зарегестрированных заявок на безработцу от кол-ва заражений в регионе \\n за неделю \\n (обе величины отнормированы на население региона)\",\n",
    "#           fontsize=16\n",
    "#           )\n",
    "# None"
   ],
   "metadata": {
    "collapsed": false,
    "pycharm": {
     "name": "#%%\n"
    }
   }
  },
  {
   "cell_type": "markdown",
   "source": [
    "посчитаем корелляцию кол-ва зарегестрированных заявок на безработцу от кол-ва заражений в регионе за неделю"
   ],
   "metadata": {
    "collapsed": false,
    "pycharm": {
     "name": "#%% md\n"
    }
   }
  },
  {
   "cell_type": "markdown",
   "source": [
    "Ярко выраженной зависимости ожидаемо нет, так как согласно механизму заболеваемость *отложенно* влияет на экономику региона"
   ],
   "metadata": {
    "collapsed": false,
    "pycharm": {
     "name": "#%% md\n"
    }
   }
  },
  {
   "cell_type": "code",
   "execution_count": 275,
   "outputs": [],
   "source": [],
   "metadata": {
    "collapsed": false,
    "pycharm": {
     "name": "#%%\n"
    }
   }
  },
  {
   "cell_type": "markdown",
   "source": [
    "## проверим наличие зависимостей на уровне различных регионов\n",
    "Оценим суммарное кол-во зарегестрированных случаев\n",
    "?Будем считать что оно высоко коррелирует с реальной эпидемиологической обстановкой\n",
    "Посчитаем на суммарное кол-ве поданных заявок на пособие по безработице\n",
    "Посмотрим на корелляцию данных величин"
   ],
   "metadata": {
    "collapsed": false,
    "pycharm": {
     "name": "#%% md\n"
    }
   }
  },
  {
   "cell_type": "code",
   "execution_count": 276,
   "outputs": [],
   "source": [
    "# agg_df = df.groupby([\"region\", \"week\"]).agg(infections=(\"infections\", \"mean\"),\n",
    "#                                             unemployed=(\"unemployed\", \"sum\"),\n",
    "#                                             population=(\"population\", \"mean\"),\n",
    "#                                             federal_district=(\"federal_district\", lambda x: x.iloc[0]))\n",
    "#\n",
    "# agg_df = agg_df.groupby(\"region\").agg(sum_infections=(\"infections\", \"sum\"),\n",
    "#                              sum_unemployed=(\"unemployed\", \"sum\"),\n",
    "#                              population=(\"population\", \"mean\"),\n",
    "#                              federal_district=(\"federal_district\", lambda x: x.iloc[0]))\n",
    "#\n",
    "# # отнормируем кол-во заявок на пособие по безработице и кол-во заражений в регионе на население\n",
    "# agg_df[\"sum_infections\"] = agg_df[\"sum_infections\"] / agg_df[\"population\"]\n",
    "# agg_df[\"sum_unemployed\"] = agg_df[\"sum_unemployed\"] / agg_df[\"population\"]\n",
    "#\n",
    "# plt.figure(figsize=(15, 8))\n",
    "# plt.yscale(\"log\")\n",
    "# plt.xscale(\"log\")\n",
    "# sns.scatterplot(data = agg_df, x=\"sum_infections\", y=\"sum_unemployed\", hue=\"federal_district\")\n",
    "# plt.title(\"Зависимость кол-ва зарегестрированных заявок на безработцу от кол-ва заражений в регионе \\n ЗА ВЕСЬ ПЕРИОД ПАНДЕМИИ \\n (обе величины отнормированы на население региона)\")\n",
    "# None"
   ],
   "metadata": {
    "collapsed": false,
    "pycharm": {
     "name": "#%%\n"
    }
   }
  },
  {
   "cell_type": "code",
   "execution_count": 277,
   "outputs": [],
   "source": [
    "# np.corrcoef(agg_df[[\"sum_infections\", \"sum_unemployed\"]].transpose())"
   ],
   "metadata": {
    "collapsed": false,
    "pycharm": {
     "name": "#%%\n"
    }
   }
  },
  {
   "cell_type": "markdown",
   "source": [
    "Значимого уровня корреляции между исследуемыми показателями не найдено"
   ],
   "metadata": {
    "collapsed": false,
    "pycharm": {
     "name": "#%% md\n"
    }
   }
  },
  {
   "cell_type": "code",
   "execution_count": 277,
   "outputs": [],
   "source": [],
   "metadata": {
    "collapsed": false,
    "pycharm": {
     "name": "#%%\n"
    }
   }
  },
  {
   "cell_type": "markdown",
   "source": [
    "## регрессионный анализ\n",
    "Чтобы проверить наличие взаимосвязи между количеством заявок на пособие по безработице и регистрируемым количеством заболеваний воспользуемся оценкой модели со случайными эффектами"
   ],
   "metadata": {
    "collapsed": false,
    "pycharm": {
     "name": "#%% md\n"
    }
   }
  },
  {
   "cell_type": "markdown",
   "source": [
    "предпосылки к использованию модели со случаынйми эффектами - ?\n",
    "какие тесты надо дополнительно провести?"
   ],
   "metadata": {
    "collapsed": false,
    "pycharm": {
     "name": "#%% md\n"
    }
   }
  },
  {
   "cell_type": "code",
   "execution_count": 278,
   "outputs": [],
   "source": [
    "df[\"Rt\"] = df.Rt.fillna(df.Rt.median())"
   ],
   "metadata": {
    "collapsed": false,
    "pycharm": {
     "name": "#%%\n"
    }
   }
  },
  {
   "cell_type": "code",
   "execution_count": 279,
   "outputs": [
    {
     "data": {
      "text/plain": "Index(['week', 'region', 'oced', 'unemployed', 'cv_gender', 'cv_birthday_2000',\n       'cv_birthday_1990', 'cv_birthday_1980', 'cv_birthday_1970',\n       'cv_birthday_1960', 'population', 'men', 'women', 'infections',\n       'deaths', 'healed', 'tests', 'Rt', 'level', 'yandex_continuous',\n       'yandex_level', 'pass', 'procent_unemployed', 'procent_infections',\n       'procent_healed', 'procent_deaths', 'fin_blago', 'depo_mean',\n       'depo_salary', 'income_fix', 'poverty_proc', 'ex_poverty_proc',\n       'social_exp', 'growth_social_exp', 'soc_in_total_exp'],\n      dtype='object')"
     },
     "execution_count": 279,
     "metadata": {},
     "output_type": "execute_result"
    }
   ],
   "source": [
    "df.columns"
   ],
   "metadata": {
    "collapsed": false,
    "pycharm": {
     "name": "#%%\n"
    }
   }
  },
  {
   "cell_type": "code",
   "execution_count": 280,
   "outputs": [
    {
     "name": "stdout",
     "output_type": "stream",
     "text": [
      "<class 'pandas.core.frame.DataFrame'>\n",
      "Int64Index: 75094 entries, 0 to 75093\n",
      "Data columns (total 35 columns):\n",
      " #   Column              Non-Null Count  Dtype  \n",
      "---  ------              --------------  -----  \n",
      " 0   week                75094 non-null  object \n",
      " 1   region              75094 non-null  object \n",
      " 2   oced                75094 non-null  object \n",
      " 3   unemployed          75094 non-null  int64  \n",
      " 4   cv_gender           75094 non-null  int64  \n",
      " 5   cv_birthday_2000    75094 non-null  int64  \n",
      " 6   cv_birthday_1990    75094 non-null  int64  \n",
      " 7   cv_birthday_1980    75094 non-null  int64  \n",
      " 8   cv_birthday_1970    75094 non-null  int64  \n",
      " 9   cv_birthday_1960    75094 non-null  int64  \n",
      " 10  population          75094 non-null  float64\n",
      " 11  men                 75094 non-null  float64\n",
      " 12  women               75094 non-null  float64\n",
      " 13  infections          75094 non-null  float64\n",
      " 14  deaths              75094 non-null  float64\n",
      " 15  healed              75094 non-null  float64\n",
      " 16  tests               17724 non-null  float64\n",
      " 17  Rt                  75094 non-null  float64\n",
      " 18  level               51598 non-null  float64\n",
      " 19  yandex_continuous   47737 non-null  float64\n",
      " 20  yandex_level        47737 non-null  float64\n",
      " 21  pass                46496 non-null  float64\n",
      " 22  procent_unemployed  75094 non-null  float64\n",
      " 23  procent_infections  75094 non-null  float64\n",
      " 24  procent_healed      75094 non-null  float64\n",
      " 25  procent_deaths      75094 non-null  float64\n",
      " 26  fin_blago           75094 non-null  float64\n",
      " 27  depo_mean           75094 non-null  float64\n",
      " 28  depo_salary         75094 non-null  float64\n",
      " 29  income_fix          75094 non-null  float64\n",
      " 30  poverty_proc        75094 non-null  float64\n",
      " 31  ex_poverty_proc     75094 non-null  float64\n",
      " 32  social_exp          75094 non-null  float64\n",
      " 33  growth_social_exp   75094 non-null  float64\n",
      " 34  soc_in_total_exp    75094 non-null  float64\n",
      "dtypes: float64(25), int64(7), object(3)\n",
      "memory usage: 20.6+ MB\n"
     ]
    }
   ],
   "source": [
    "df.info()"
   ],
   "metadata": {
    "collapsed": false,
    "pycharm": {
     "name": "#%%\n"
    }
   }
  },
  {
   "cell_type": "code",
   "execution_count": 280,
   "outputs": [],
   "source": [],
   "metadata": {
    "collapsed": false,
    "pycharm": {
     "name": "#%%\n"
    }
   }
  },
  {
   "cell_type": "code",
   "execution_count": 281,
   "outputs": [],
   "source": [
    "# df[\"yandex_continuous\"] = df.yandex_continuous.fillna(df.yandex_continuous.mean())"
   ],
   "metadata": {
    "collapsed": false,
    "pycharm": {
     "name": "#%%\n"
    }
   }
  },
  {
   "cell_type": "code",
   "execution_count": 282,
   "outputs": [],
   "source": [
    "df = df.dropna(axis=1)"
   ],
   "metadata": {
    "collapsed": false,
    "pycharm": {
     "name": "#%%\n"
    }
   }
  },
  {
   "cell_type": "code",
   "execution_count": 283,
   "outputs": [
    {
     "data": {
      "text/plain": "             week       region  \\\n0      2020-04-06       Адыгея   \n1      2020-04-06       Адыгея   \n2      2020-04-06       Адыгея   \n3      2020-04-06       Адыгея   \n4      2020-04-06       Адыгея   \n...           ...          ...   \n75089  2020-10-26  Ярославская   \n75090  2020-10-26  Ярославская   \n75091  2020-10-26  Ярославская   \n75092  2020-10-26  Ярославская   \n75093  2020-10-26  Ярославская   \n\n                                                    oced  unemployed  \\\n0      Строительство, ремонт, стройматериалы, недвижи...          19   \n1                                         Машиностроение           2   \n2                                          Юриспруденция          13   \n3                                 Пищевая промышленность           9   \n4      Государственная служба, некоммерческие организ...          17   \n...                                                  ...         ...   \n75089           Услуги населению, сервисное обслуживание           2   \n75090                  Работы, не требующие квалификации          33   \n75091                                  Электроэнергетика           1   \n75092  Химическая, нефтехимическая, топливная промышл...           1   \n75093  Финансы, кредит, страхование, пенсионное обесп...          12   \n\n       cv_gender  cv_birthday_2000  cv_birthday_1990  cv_birthday_1980  \\\n0             18                 0                 3                12   \n1              1                 0                 0                 1   \n2              6                 0                 2                11   \n3              2                 1                 2                 6   \n4              8                 0                 3                14   \n...          ...               ...               ...               ...   \n75089          0                 1                 2                 2   \n75090         20                 2                 9                14   \n75091          1                 0                 0                 1   \n75092          1                 0                 0                 0   \n75093          1                 2                 4                 8   \n\n       cv_birthday_1970  cv_birthday_1960  ...  procent_deaths  fin_blago  \\\n0                    19                19  ...        0.000106  34.959291   \n1                     1                 2  ...        0.000106  34.959291   \n2                    13                13  ...        0.000106  34.959291   \n3                     9                 9  ...        0.000106  34.959291   \n4                    17                17  ...        0.000106  34.959291   \n...                 ...               ...  ...             ...        ...   \n75089                 2                 2  ...        0.000053  51.636007   \n75090                20                32  ...        0.000053  51.636007   \n75091                 1                 1  ...        0.000053  51.636007   \n75092                 0                 1  ...        0.000053  51.636007   \n75093                 9                12  ...        0.000053  51.636007   \n\n        depo_mean  depo_salary  income_fix  poverty_proc  ex_poverty_proc  \\\n0       54.132260     1.836252    1.541341          12.5              1.9   \n1       54.132260     1.836252    1.541341          12.5              1.9   \n2       54.132260     1.836252    1.541341          12.5              1.9   \n3       54.132260     1.836252    1.541341          12.5              1.9   \n4       54.132260     1.836252    1.541341          12.5              1.9   \n...           ...          ...         ...           ...              ...   \n75089  175.948568     6.201432    1.505752          10.3              1.0   \n75090  175.948568     6.201432    1.505752          10.3              1.0   \n75091  175.948568     6.201432    1.505752          10.3              1.0   \n75092  175.948568     6.201432    1.505752          10.3              1.0   \n75093  175.948568     6.201432    1.505752          10.3              1.0   \n\n       social_exp  growth_social_exp  soc_in_total_exp  \n0           46.72               16.3              62.6  \n1           46.72               16.3              62.6  \n2           46.72               16.3              62.6  \n3           46.72               16.3              62.6  \n4           46.72               16.3              62.6  \n...           ...                ...               ...  \n75089       50.31                4.5              67.6  \n75090       50.31                4.5              67.6  \n75091       50.31                4.5              67.6  \n75092       50.31                4.5              67.6  \n75093       50.31                4.5              67.6  \n\n[75094 rows x 30 columns]",
      "text/html": "<div>\n<style scoped>\n    .dataframe tbody tr th:only-of-type {\n        vertical-align: middle;\n    }\n\n    .dataframe tbody tr th {\n        vertical-align: top;\n    }\n\n    .dataframe thead th {\n        text-align: right;\n    }\n</style>\n<table border=\"1\" class=\"dataframe\">\n  <thead>\n    <tr style=\"text-align: right;\">\n      <th></th>\n      <th>week</th>\n      <th>region</th>\n      <th>oced</th>\n      <th>unemployed</th>\n      <th>cv_gender</th>\n      <th>cv_birthday_2000</th>\n      <th>cv_birthday_1990</th>\n      <th>cv_birthday_1980</th>\n      <th>cv_birthday_1970</th>\n      <th>cv_birthday_1960</th>\n      <th>...</th>\n      <th>procent_deaths</th>\n      <th>fin_blago</th>\n      <th>depo_mean</th>\n      <th>depo_salary</th>\n      <th>income_fix</th>\n      <th>poverty_proc</th>\n      <th>ex_poverty_proc</th>\n      <th>social_exp</th>\n      <th>growth_social_exp</th>\n      <th>soc_in_total_exp</th>\n    </tr>\n  </thead>\n  <tbody>\n    <tr>\n      <th>0</th>\n      <td>2020-04-06</td>\n      <td>Адыгея</td>\n      <td>Строительство, ремонт, стройматериалы, недвижи...</td>\n      <td>19</td>\n      <td>18</td>\n      <td>0</td>\n      <td>3</td>\n      <td>12</td>\n      <td>19</td>\n      <td>19</td>\n      <td>...</td>\n      <td>0.000106</td>\n      <td>34.959291</td>\n      <td>54.132260</td>\n      <td>1.836252</td>\n      <td>1.541341</td>\n      <td>12.5</td>\n      <td>1.9</td>\n      <td>46.72</td>\n      <td>16.3</td>\n      <td>62.6</td>\n    </tr>\n    <tr>\n      <th>1</th>\n      <td>2020-04-06</td>\n      <td>Адыгея</td>\n      <td>Машиностроение</td>\n      <td>2</td>\n      <td>1</td>\n      <td>0</td>\n      <td>0</td>\n      <td>1</td>\n      <td>1</td>\n      <td>2</td>\n      <td>...</td>\n      <td>0.000106</td>\n      <td>34.959291</td>\n      <td>54.132260</td>\n      <td>1.836252</td>\n      <td>1.541341</td>\n      <td>12.5</td>\n      <td>1.9</td>\n      <td>46.72</td>\n      <td>16.3</td>\n      <td>62.6</td>\n    </tr>\n    <tr>\n      <th>2</th>\n      <td>2020-04-06</td>\n      <td>Адыгея</td>\n      <td>Юриспруденция</td>\n      <td>13</td>\n      <td>6</td>\n      <td>0</td>\n      <td>2</td>\n      <td>11</td>\n      <td>13</td>\n      <td>13</td>\n      <td>...</td>\n      <td>0.000106</td>\n      <td>34.959291</td>\n      <td>54.132260</td>\n      <td>1.836252</td>\n      <td>1.541341</td>\n      <td>12.5</td>\n      <td>1.9</td>\n      <td>46.72</td>\n      <td>16.3</td>\n      <td>62.6</td>\n    </tr>\n    <tr>\n      <th>3</th>\n      <td>2020-04-06</td>\n      <td>Адыгея</td>\n      <td>Пищевая промышленность</td>\n      <td>9</td>\n      <td>2</td>\n      <td>1</td>\n      <td>2</td>\n      <td>6</td>\n      <td>9</td>\n      <td>9</td>\n      <td>...</td>\n      <td>0.000106</td>\n      <td>34.959291</td>\n      <td>54.132260</td>\n      <td>1.836252</td>\n      <td>1.541341</td>\n      <td>12.5</td>\n      <td>1.9</td>\n      <td>46.72</td>\n      <td>16.3</td>\n      <td>62.6</td>\n    </tr>\n    <tr>\n      <th>4</th>\n      <td>2020-04-06</td>\n      <td>Адыгея</td>\n      <td>Государственная служба, некоммерческие организ...</td>\n      <td>17</td>\n      <td>8</td>\n      <td>0</td>\n      <td>3</td>\n      <td>14</td>\n      <td>17</td>\n      <td>17</td>\n      <td>...</td>\n      <td>0.000106</td>\n      <td>34.959291</td>\n      <td>54.132260</td>\n      <td>1.836252</td>\n      <td>1.541341</td>\n      <td>12.5</td>\n      <td>1.9</td>\n      <td>46.72</td>\n      <td>16.3</td>\n      <td>62.6</td>\n    </tr>\n    <tr>\n      <th>...</th>\n      <td>...</td>\n      <td>...</td>\n      <td>...</td>\n      <td>...</td>\n      <td>...</td>\n      <td>...</td>\n      <td>...</td>\n      <td>...</td>\n      <td>...</td>\n      <td>...</td>\n      <td>...</td>\n      <td>...</td>\n      <td>...</td>\n      <td>...</td>\n      <td>...</td>\n      <td>...</td>\n      <td>...</td>\n      <td>...</td>\n      <td>...</td>\n      <td>...</td>\n      <td>...</td>\n    </tr>\n    <tr>\n      <th>75089</th>\n      <td>2020-10-26</td>\n      <td>Ярославская</td>\n      <td>Услуги населению, сервисное обслуживание</td>\n      <td>2</td>\n      <td>0</td>\n      <td>1</td>\n      <td>2</td>\n      <td>2</td>\n      <td>2</td>\n      <td>2</td>\n      <td>...</td>\n      <td>0.000053</td>\n      <td>51.636007</td>\n      <td>175.948568</td>\n      <td>6.201432</td>\n      <td>1.505752</td>\n      <td>10.3</td>\n      <td>1.0</td>\n      <td>50.31</td>\n      <td>4.5</td>\n      <td>67.6</td>\n    </tr>\n    <tr>\n      <th>75090</th>\n      <td>2020-10-26</td>\n      <td>Ярославская</td>\n      <td>Работы, не требующие квалификации</td>\n      <td>33</td>\n      <td>20</td>\n      <td>2</td>\n      <td>9</td>\n      <td>14</td>\n      <td>20</td>\n      <td>32</td>\n      <td>...</td>\n      <td>0.000053</td>\n      <td>51.636007</td>\n      <td>175.948568</td>\n      <td>6.201432</td>\n      <td>1.505752</td>\n      <td>10.3</td>\n      <td>1.0</td>\n      <td>50.31</td>\n      <td>4.5</td>\n      <td>67.6</td>\n    </tr>\n    <tr>\n      <th>75091</th>\n      <td>2020-10-26</td>\n      <td>Ярославская</td>\n      <td>Электроэнергетика</td>\n      <td>1</td>\n      <td>1</td>\n      <td>0</td>\n      <td>0</td>\n      <td>1</td>\n      <td>1</td>\n      <td>1</td>\n      <td>...</td>\n      <td>0.000053</td>\n      <td>51.636007</td>\n      <td>175.948568</td>\n      <td>6.201432</td>\n      <td>1.505752</td>\n      <td>10.3</td>\n      <td>1.0</td>\n      <td>50.31</td>\n      <td>4.5</td>\n      <td>67.6</td>\n    </tr>\n    <tr>\n      <th>75092</th>\n      <td>2020-10-26</td>\n      <td>Ярославская</td>\n      <td>Химическая, нефтехимическая, топливная промышл...</td>\n      <td>1</td>\n      <td>1</td>\n      <td>0</td>\n      <td>0</td>\n      <td>0</td>\n      <td>0</td>\n      <td>1</td>\n      <td>...</td>\n      <td>0.000053</td>\n      <td>51.636007</td>\n      <td>175.948568</td>\n      <td>6.201432</td>\n      <td>1.505752</td>\n      <td>10.3</td>\n      <td>1.0</td>\n      <td>50.31</td>\n      <td>4.5</td>\n      <td>67.6</td>\n    </tr>\n    <tr>\n      <th>75093</th>\n      <td>2020-10-26</td>\n      <td>Ярославская</td>\n      <td>Финансы, кредит, страхование, пенсионное обесп...</td>\n      <td>12</td>\n      <td>1</td>\n      <td>2</td>\n      <td>4</td>\n      <td>8</td>\n      <td>9</td>\n      <td>12</td>\n      <td>...</td>\n      <td>0.000053</td>\n      <td>51.636007</td>\n      <td>175.948568</td>\n      <td>6.201432</td>\n      <td>1.505752</td>\n      <td>10.3</td>\n      <td>1.0</td>\n      <td>50.31</td>\n      <td>4.5</td>\n      <td>67.6</td>\n    </tr>\n  </tbody>\n</table>\n<p>75094 rows × 30 columns</p>\n</div>"
     },
     "execution_count": 283,
     "metadata": {},
     "output_type": "execute_result"
    }
   ],
   "source": [
    "df"
   ],
   "metadata": {
    "collapsed": false,
    "pycharm": {
     "name": "#%%\n"
    }
   }
  },
  {
   "cell_type": "code",
   "execution_count": 296,
   "outputs": [
    {
     "ename": "KeyError",
     "evalue": "\"['cv_gender', 'cv_birthday_1960', 'cv_birthday_1970', 'cv_birthday_1980', 'cv_birthday_1990', 'cv_birthday_2000', 'men', 'women', 'oced'] not found in axis\"",
     "output_type": "error",
     "traceback": [
      "\u001B[1;31m---------------------------------------------------------------------------\u001B[0m",
      "\u001B[1;31mKeyError\u001B[0m                                  Traceback (most recent call last)",
      "Input \u001B[1;32mIn [296]\u001B[0m, in \u001B[0;36m<cell line: 1>\u001B[1;34m()\u001B[0m\n\u001B[1;32m----> 1\u001B[0m df \u001B[38;5;241m=\u001B[39m df\u001B[38;5;241m.\u001B[39mdrop([\u001B[38;5;124m\"\u001B[39m\u001B[38;5;124mcv_gender\u001B[39m\u001B[38;5;124m\"\u001B[39m, \u001B[38;5;124m\"\u001B[39m\u001B[38;5;124mcv_birthday_1960\u001B[39m\u001B[38;5;124m\"\u001B[39m, \u001B[38;5;124m\"\u001B[39m\u001B[38;5;124mcv_birthday_1970\u001B[39m\u001B[38;5;124m\"\u001B[39m,\n\u001B[0;32m      2\u001B[0m          \u001B[38;5;124m\"\u001B[39m\u001B[38;5;124mcv_birthday_1980\u001B[39m\u001B[38;5;124m\"\u001B[39m, \u001B[38;5;124m\"\u001B[39m\u001B[38;5;124mcv_birthday_1990\u001B[39m\u001B[38;5;124m\"\u001B[39m, \u001B[38;5;124m\"\u001B[39m\u001B[38;5;124mcv_birthday_2000\u001B[39m\u001B[38;5;124m\"\u001B[39m, \u001B[38;5;124m\"\u001B[39m\u001B[38;5;124mmen\u001B[39m\u001B[38;5;124m\"\u001B[39m,\n\u001B[0;32m      3\u001B[0m          \u001B[38;5;124m\"\u001B[39m\u001B[38;5;124mwomen\u001B[39m\u001B[38;5;124m\"\u001B[39m, \u001B[38;5;124m\"\u001B[39m\u001B[38;5;124moced\u001B[39m\u001B[38;5;124m\"\u001B[39m], axis\u001B[38;5;241m=\u001B[39m\u001B[38;5;241m1\u001B[39m)\n",
      "File \u001B[1;32mc:\\users\\iltya\\appdata\\local\\programs\\python\\python39\\lib\\site-packages\\pandas\\util\\_decorators.py:311\u001B[0m, in \u001B[0;36mdeprecate_nonkeyword_arguments.<locals>.decorate.<locals>.wrapper\u001B[1;34m(*args, **kwargs)\u001B[0m\n\u001B[0;32m    305\u001B[0m \u001B[38;5;28;01mif\u001B[39;00m \u001B[38;5;28mlen\u001B[39m(args) \u001B[38;5;241m>\u001B[39m num_allow_args:\n\u001B[0;32m    306\u001B[0m     warnings\u001B[38;5;241m.\u001B[39mwarn(\n\u001B[0;32m    307\u001B[0m         msg\u001B[38;5;241m.\u001B[39mformat(arguments\u001B[38;5;241m=\u001B[39marguments),\n\u001B[0;32m    308\u001B[0m         \u001B[38;5;167;01mFutureWarning\u001B[39;00m,\n\u001B[0;32m    309\u001B[0m         stacklevel\u001B[38;5;241m=\u001B[39mstacklevel,\n\u001B[0;32m    310\u001B[0m     )\n\u001B[1;32m--> 311\u001B[0m \u001B[38;5;28;01mreturn\u001B[39;00m func(\u001B[38;5;241m*\u001B[39margs, \u001B[38;5;241m*\u001B[39m\u001B[38;5;241m*\u001B[39mkwargs)\n",
      "File \u001B[1;32mc:\\users\\iltya\\appdata\\local\\programs\\python\\python39\\lib\\site-packages\\pandas\\core\\frame.py:4948\u001B[0m, in \u001B[0;36mDataFrame.drop\u001B[1;34m(self, labels, axis, index, columns, level, inplace, errors)\u001B[0m\n\u001B[0;32m   4800\u001B[0m \u001B[38;5;129m@deprecate_nonkeyword_arguments\u001B[39m(version\u001B[38;5;241m=\u001B[39m\u001B[38;5;28;01mNone\u001B[39;00m, allowed_args\u001B[38;5;241m=\u001B[39m[\u001B[38;5;124m\"\u001B[39m\u001B[38;5;124mself\u001B[39m\u001B[38;5;124m\"\u001B[39m, \u001B[38;5;124m\"\u001B[39m\u001B[38;5;124mlabels\u001B[39m\u001B[38;5;124m\"\u001B[39m])\n\u001B[0;32m   4801\u001B[0m \u001B[38;5;28;01mdef\u001B[39;00m \u001B[38;5;21mdrop\u001B[39m(\n\u001B[0;32m   4802\u001B[0m     \u001B[38;5;28mself\u001B[39m,\n\u001B[1;32m   (...)\u001B[0m\n\u001B[0;32m   4809\u001B[0m     errors: \u001B[38;5;28mstr\u001B[39m \u001B[38;5;241m=\u001B[39m \u001B[38;5;124m\"\u001B[39m\u001B[38;5;124mraise\u001B[39m\u001B[38;5;124m\"\u001B[39m,\n\u001B[0;32m   4810\u001B[0m ):\n\u001B[0;32m   4811\u001B[0m \u001B[38;5;250m    \u001B[39m\u001B[38;5;124;03m\"\"\"\u001B[39;00m\n\u001B[0;32m   4812\u001B[0m \u001B[38;5;124;03m    Drop specified labels from rows or columns.\u001B[39;00m\n\u001B[0;32m   4813\u001B[0m \n\u001B[1;32m   (...)\u001B[0m\n\u001B[0;32m   4946\u001B[0m \u001B[38;5;124;03m            weight  1.0     0.8\u001B[39;00m\n\u001B[0;32m   4947\u001B[0m \u001B[38;5;124;03m    \"\"\"\u001B[39;00m\n\u001B[1;32m-> 4948\u001B[0m     \u001B[38;5;28;01mreturn\u001B[39;00m \u001B[38;5;28;43msuper\u001B[39;49m\u001B[43m(\u001B[49m\u001B[43m)\u001B[49m\u001B[38;5;241;43m.\u001B[39;49m\u001B[43mdrop\u001B[49m\u001B[43m(\u001B[49m\n\u001B[0;32m   4949\u001B[0m \u001B[43m        \u001B[49m\u001B[43mlabels\u001B[49m\u001B[38;5;241;43m=\u001B[39;49m\u001B[43mlabels\u001B[49m\u001B[43m,\u001B[49m\n\u001B[0;32m   4950\u001B[0m \u001B[43m        \u001B[49m\u001B[43maxis\u001B[49m\u001B[38;5;241;43m=\u001B[39;49m\u001B[43maxis\u001B[49m\u001B[43m,\u001B[49m\n\u001B[0;32m   4951\u001B[0m \u001B[43m        \u001B[49m\u001B[43mindex\u001B[49m\u001B[38;5;241;43m=\u001B[39;49m\u001B[43mindex\u001B[49m\u001B[43m,\u001B[49m\n\u001B[0;32m   4952\u001B[0m \u001B[43m        \u001B[49m\u001B[43mcolumns\u001B[49m\u001B[38;5;241;43m=\u001B[39;49m\u001B[43mcolumns\u001B[49m\u001B[43m,\u001B[49m\n\u001B[0;32m   4953\u001B[0m \u001B[43m        \u001B[49m\u001B[43mlevel\u001B[49m\u001B[38;5;241;43m=\u001B[39;49m\u001B[43mlevel\u001B[49m\u001B[43m,\u001B[49m\n\u001B[0;32m   4954\u001B[0m \u001B[43m        \u001B[49m\u001B[43minplace\u001B[49m\u001B[38;5;241;43m=\u001B[39;49m\u001B[43minplace\u001B[49m\u001B[43m,\u001B[49m\n\u001B[0;32m   4955\u001B[0m \u001B[43m        \u001B[49m\u001B[43merrors\u001B[49m\u001B[38;5;241;43m=\u001B[39;49m\u001B[43merrors\u001B[49m\u001B[43m,\u001B[49m\n\u001B[0;32m   4956\u001B[0m \u001B[43m    \u001B[49m\u001B[43m)\u001B[49m\n",
      "File \u001B[1;32mc:\\users\\iltya\\appdata\\local\\programs\\python\\python39\\lib\\site-packages\\pandas\\core\\generic.py:4279\u001B[0m, in \u001B[0;36mNDFrame.drop\u001B[1;34m(self, labels, axis, index, columns, level, inplace, errors)\u001B[0m\n\u001B[0;32m   4277\u001B[0m \u001B[38;5;28;01mfor\u001B[39;00m axis, labels \u001B[38;5;129;01min\u001B[39;00m axes\u001B[38;5;241m.\u001B[39mitems():\n\u001B[0;32m   4278\u001B[0m     \u001B[38;5;28;01mif\u001B[39;00m labels \u001B[38;5;129;01mis\u001B[39;00m \u001B[38;5;129;01mnot\u001B[39;00m \u001B[38;5;28;01mNone\u001B[39;00m:\n\u001B[1;32m-> 4279\u001B[0m         obj \u001B[38;5;241m=\u001B[39m \u001B[43mobj\u001B[49m\u001B[38;5;241;43m.\u001B[39;49m\u001B[43m_drop_axis\u001B[49m\u001B[43m(\u001B[49m\u001B[43mlabels\u001B[49m\u001B[43m,\u001B[49m\u001B[43m \u001B[49m\u001B[43maxis\u001B[49m\u001B[43m,\u001B[49m\u001B[43m \u001B[49m\u001B[43mlevel\u001B[49m\u001B[38;5;241;43m=\u001B[39;49m\u001B[43mlevel\u001B[49m\u001B[43m,\u001B[49m\u001B[43m \u001B[49m\u001B[43merrors\u001B[49m\u001B[38;5;241;43m=\u001B[39;49m\u001B[43merrors\u001B[49m\u001B[43m)\u001B[49m\n\u001B[0;32m   4281\u001B[0m \u001B[38;5;28;01mif\u001B[39;00m inplace:\n\u001B[0;32m   4282\u001B[0m     \u001B[38;5;28mself\u001B[39m\u001B[38;5;241m.\u001B[39m_update_inplace(obj)\n",
      "File \u001B[1;32mc:\\users\\iltya\\appdata\\local\\programs\\python\\python39\\lib\\site-packages\\pandas\\core\\generic.py:4323\u001B[0m, in \u001B[0;36mNDFrame._drop_axis\u001B[1;34m(self, labels, axis, level, errors, consolidate, only_slice)\u001B[0m\n\u001B[0;32m   4321\u001B[0m         new_axis \u001B[38;5;241m=\u001B[39m axis\u001B[38;5;241m.\u001B[39mdrop(labels, level\u001B[38;5;241m=\u001B[39mlevel, errors\u001B[38;5;241m=\u001B[39merrors)\n\u001B[0;32m   4322\u001B[0m     \u001B[38;5;28;01melse\u001B[39;00m:\n\u001B[1;32m-> 4323\u001B[0m         new_axis \u001B[38;5;241m=\u001B[39m \u001B[43maxis\u001B[49m\u001B[38;5;241;43m.\u001B[39;49m\u001B[43mdrop\u001B[49m\u001B[43m(\u001B[49m\u001B[43mlabels\u001B[49m\u001B[43m,\u001B[49m\u001B[43m \u001B[49m\u001B[43merrors\u001B[49m\u001B[38;5;241;43m=\u001B[39;49m\u001B[43merrors\u001B[49m\u001B[43m)\u001B[49m\n\u001B[0;32m   4324\u001B[0m     indexer \u001B[38;5;241m=\u001B[39m axis\u001B[38;5;241m.\u001B[39mget_indexer(new_axis)\n\u001B[0;32m   4326\u001B[0m \u001B[38;5;66;03m# Case for non-unique axis\u001B[39;00m\n\u001B[0;32m   4327\u001B[0m \u001B[38;5;28;01melse\u001B[39;00m:\n",
      "File \u001B[1;32mc:\\users\\iltya\\appdata\\local\\programs\\python\\python39\\lib\\site-packages\\pandas\\core\\indexes\\base.py:6644\u001B[0m, in \u001B[0;36mIndex.drop\u001B[1;34m(self, labels, errors)\u001B[0m\n\u001B[0;32m   6642\u001B[0m \u001B[38;5;28;01mif\u001B[39;00m mask\u001B[38;5;241m.\u001B[39many():\n\u001B[0;32m   6643\u001B[0m     \u001B[38;5;28;01mif\u001B[39;00m errors \u001B[38;5;241m!=\u001B[39m \u001B[38;5;124m\"\u001B[39m\u001B[38;5;124mignore\u001B[39m\u001B[38;5;124m\"\u001B[39m:\n\u001B[1;32m-> 6644\u001B[0m         \u001B[38;5;28;01mraise\u001B[39;00m \u001B[38;5;167;01mKeyError\u001B[39;00m(\u001B[38;5;124mf\u001B[39m\u001B[38;5;124m\"\u001B[39m\u001B[38;5;132;01m{\u001B[39;00m\u001B[38;5;28mlist\u001B[39m(labels[mask])\u001B[38;5;132;01m}\u001B[39;00m\u001B[38;5;124m not found in axis\u001B[39m\u001B[38;5;124m\"\u001B[39m)\n\u001B[0;32m   6645\u001B[0m     indexer \u001B[38;5;241m=\u001B[39m indexer[\u001B[38;5;241m~\u001B[39mmask]\n\u001B[0;32m   6646\u001B[0m \u001B[38;5;28;01mreturn\u001B[39;00m \u001B[38;5;28mself\u001B[39m\u001B[38;5;241m.\u001B[39mdelete(indexer)\n",
      "\u001B[1;31mKeyError\u001B[0m: \"['cv_gender', 'cv_birthday_1960', 'cv_birthday_1970', 'cv_birthday_1980', 'cv_birthday_1990', 'cv_birthday_2000', 'men', 'women', 'oced'] not found in axis\""
     ]
    }
   ],
   "source": [
    "df = df.drop([\"cv_gender\", \"cv_birthday_1960\", \"cv_birthday_1970\",\n",
    "         \"cv_birthday_1980\", \"cv_birthday_1990\", \"cv_birthday_2000\", \"men\",\n",
    "         \"women\", \"oced\"], axis=1)"
   ],
   "metadata": {
    "collapsed": false,
    "pycharm": {
     "name": "#%%\n"
    }
   }
  },
  {
   "cell_type": "code",
   "execution_count": 297,
   "outputs": [],
   "source": [
    "import random\n",
    "\n",
    "name_extra_features = df.columns.tolist()[3:]\n",
    "dict_extra_features = {i: (i, \"mean\") for i in name_extra_features}"
   ],
   "metadata": {
    "collapsed": false,
    "pycharm": {
     "name": "#%%\n"
    }
   }
  },
  {
   "cell_type": "code",
   "execution_count": 298,
   "outputs": [],
   "source": [
    "df_panel = df.copy()\n",
    "df_panel[\"week\"] = pd.to_datetime(df_panel[\"week\"])\n",
    "df_panel = df_panel.groupby([\"region\", \"week\"]).agg(\n",
    "    sum_unemployed=(\"unemployed\", \"sum\"),\n",
    "    **dict_extra_features\n",
    ")"
   ],
   "metadata": {
    "collapsed": false,
    "pycharm": {
     "name": "#%%\n"
    }
   }
  },
  {
   "cell_type": "code",
   "execution_count": 299,
   "outputs": [],
   "source": [
    "df_panel = df_panel.reset_index()"
   ],
   "metadata": {
    "collapsed": false,
    "pycharm": {
     "name": "#%%\n"
    }
   }
  },
  {
   "cell_type": "code",
   "execution_count": 301,
   "outputs": [
    {
     "data": {
      "text/plain": "1710.1654618473895"
     },
     "execution_count": 301,
     "metadata": {},
     "output_type": "execute_result"
    }
   ],
   "source": [
    "df_panel.sum_unemployed.mean()"
   ],
   "metadata": {
    "collapsed": false,
    "pycharm": {
     "name": "#%%\n"
    }
   }
  },
  {
   "cell_type": "code",
   "execution_count": 302,
   "outputs": [
    {
     "data": {
      "text/plain": "1091.5"
     },
     "execution_count": 302,
     "metadata": {},
     "output_type": "execute_result"
    }
   ],
   "source": [
    "df_panel.sum_unemployed.median()"
   ],
   "metadata": {
    "collapsed": false,
    "pycharm": {
     "name": "#%%\n"
    }
   }
  },
  {
   "cell_type": "code",
   "execution_count": 307,
   "outputs": [
    {
     "data": {
      "text/plain": "651.1827309236947"
     },
     "execution_count": 307,
     "metadata": {},
     "output_type": "execute_result"
    }
   ],
   "source": [
    "df_panel.infections.mean()"
   ],
   "metadata": {
    "collapsed": false,
    "pycharm": {
     "name": "#%%\n"
    }
   }
  },
  {
   "cell_type": "code",
   "execution_count": null,
   "outputs": [],
   "source": [],
   "metadata": {
    "collapsed": false,
    "pycharm": {
     "name": "#%%\n"
    }
   }
  },
  {
   "cell_type": "code",
   "execution_count": 288,
   "outputs": [],
   "source": [
    "df_panel[\"sum_unemployed\"] /= df_panel[\"population\"]\n",
    "df_panel[\"infections\"] /= df_panel[\"population\"]\n",
    "df_panel[\"deaths\"] /= df_panel[\"population\"]\n",
    "df_panel[\"healed\"] /= df_panel[\"population\"]"
   ],
   "metadata": {
    "collapsed": false,
    "pycharm": {
     "name": "#%%\n"
    }
   }
  },
  {
   "cell_type": "code",
   "execution_count": null,
   "outputs": [],
   "source": [],
   "metadata": {
    "collapsed": false,
    "pycharm": {
     "name": "#%%\n"
    }
   }
  },
  {
   "cell_type": "code",
   "execution_count": 293,
   "outputs": [
    {
     "data": {
      "text/plain": "<seaborn.axisgrid.FacetGrid at 0x283e0f16f70>"
     },
     "execution_count": 293,
     "metadata": {},
     "output_type": "execute_result"
    },
    {
     "data": {
      "text/plain": "<Figure size 360x360 with 1 Axes>",
      "image/png": "[encoded data removed]"
     },
     "metadata": {},
     "output_type": "display_data"
    }
   ],
   "source": [
    "sns.displot(df_panel.sum_unemployed * df_panel.population)"
   ],
   "metadata": {
    "collapsed": false,
    "pycharm": {
     "name": "#%%\n"
    }
   }
  },
  {
   "cell_type": "code",
   "execution_count": null,
   "outputs": [],
   "source": [],
   "metadata": {
    "collapsed": false,
    "pycharm": {
     "name": "#%%\n"
    }
   }
  },
  {
   "cell_type": "code",
   "execution_count": 178,
   "outputs": [],
   "source": [
    "df_panel[\"infections\"] = df_panel[\"infections\"].shift(1)"
   ],
   "metadata": {
    "collapsed": false,
    "pycharm": {
     "name": "#%%\n"
    }
   }
  },
  {
   "cell_type": "code",
   "source": [
    "df_panel = df_panel.dropna()"
   ],
   "metadata": {
    "collapsed": false,
    "pycharm": {
     "name": "#%%\n"
    }
   },
   "execution_count": 179,
   "outputs": []
  },
  {
   "cell_type": "code",
   "execution_count": 180,
   "outputs": [
    {
     "data": {
      "text/plain": "           region       week  sum_unemployed  population  infections  \\\n1          Адыгея 2020-04-13        0.003347    463088.0    0.000091   \n2          Адыгея 2020-04-20        0.002663    463088.0    0.000600   \n3          Адыгея 2020-04-27        0.002144    463088.0    0.000173   \n4          Адыгея 2020-05-04        0.001106    463088.0    0.000091   \n5          Адыгея 2020-05-11        0.002138    463088.0    0.000045   \n...           ...        ...             ...         ...         ...   \n2485  Ярославская 2020-09-28        0.000630   1253389.0    0.000262   \n2486  Ярославская 2020-10-05        0.000586   1253389.0    0.000275   \n2487  Ярославская 2020-10-12        0.000540   1253389.0    0.000133   \n2488  Ярославская 2020-10-19        0.000551   1253389.0    0.000487   \n2489  Ярославская 2020-10-26        0.000338   1253389.0    0.000540   \n\n            deaths    healed        Rt  procent_unemployed  \\\n1     4.318834e-06  0.000503  1.166667            0.038649   \n2     4.318834e-06  0.000024  2.478261            0.038649   \n3     2.159417e-06  0.000035  1.217391            0.038649   \n4     0.000000e+00  0.000035  1.000000            0.038649   \n5     4.318834e-06  0.000402  0.967033            0.038649   \n...            ...       ...       ...                 ...   \n2485  7.978369e-07  0.000248  1.046632            0.031680   \n2486  0.000000e+00  0.000065  0.951220            0.031680   \n2487  0.000000e+00  0.000645  1.004000            0.031680   \n2488  1.595674e-06  0.000351  1.203488            0.031680   \n2489  4.787021e-06  0.000452  1.111111            0.031680   \n\n      procent_infections  ...  procent_deaths  fin_blago   depo_mean  \\\n1               0.012585  ...        0.000106  34.959291   54.132260   \n2               0.012585  ...        0.000106  34.959291   54.132260   \n3               0.012585  ...        0.000106  34.959291   54.132260   \n4               0.012585  ...        0.000106  34.959291   54.132260   \n5               0.012585  ...        0.000106  34.959291   54.132260   \n...                  ...  ...             ...        ...         ...   \n2485            0.009193  ...        0.000053  51.636007  175.948568   \n2486            0.009193  ...        0.000053  51.636007  175.948568   \n2487            0.009193  ...        0.000053  51.636007  175.948568   \n2488            0.009193  ...        0.000053  51.636007  175.948568   \n2489            0.009193  ...        0.000053  51.636007  175.948568   \n\n      depo_salary  income_fix  poverty_proc  ex_poverty_proc  social_exp  \\\n1        1.836252    1.541341          12.5              1.9       46.72   \n2        1.836252    1.541341          12.5              1.9       46.72   \n3        1.836252    1.541341          12.5              1.9       46.72   \n4        1.836252    1.541341          12.5              1.9       46.72   \n5        1.836252    1.541341          12.5              1.9       46.72   \n...           ...         ...           ...              ...         ...   \n2485     6.201432    1.505752          10.3              1.0       50.31   \n2486     6.201432    1.505752          10.3              1.0       50.31   \n2487     6.201432    1.505752          10.3              1.0       50.31   \n2488     6.201432    1.505752          10.3              1.0       50.31   \n2489     6.201432    1.505752          10.3              1.0       50.31   \n\n      growth_social_exp  soc_in_total_exp  \n1                  16.3              62.6  \n2                  16.3              62.6  \n3                  16.3              62.6  \n4                  16.3              62.6  \n5                  16.3              62.6  \n...                 ...               ...  \n2485                4.5              67.6  \n2486                4.5              67.6  \n2487                4.5              67.6  \n2488                4.5              67.6  \n2489                4.5              67.6  \n\n[2489 rows x 21 columns]",
      "text/html": "<div>\n<style scoped>\n    .dataframe tbody tr th:only-of-type {\n        vertical-align: middle;\n    }\n\n    .dataframe tbody tr th {\n        vertical-align: top;\n    }\n\n    .dataframe thead th {\n        text-align: right;\n    }\n</style>\n<table border=\"1\" class=\"dataframe\">\n  <thead>\n    <tr style=\"text-align: right;\">\n      <th></th>\n      <th>region</th>\n      <th>week</th>\n      <th>sum_unemployed</th>\n      <th>population</th>\n      <th>infections</th>\n      <th>deaths</th>\n      <th>healed</th>\n      <th>Rt</th>\n      <th>procent_unemployed</th>\n      <th>procent_infections</th>\n      <th>...</th>\n      <th>procent_deaths</th>\n      <th>fin_blago</th>\n      <th>depo_mean</th>\n      <th>depo_salary</th>\n      <th>income_fix</th>\n      <th>poverty_proc</th>\n      <th>ex_poverty_proc</th>\n      <th>social_exp</th>\n      <th>growth_social_exp</th>\n      <th>soc_in_total_exp</th>\n    </tr>\n  </thead>\n  <tbody>\n    <tr>\n      <th>1</th>\n      <td>Адыгея</td>\n      <td>2020-04-13</td>\n      <td>0.003347</td>\n      <td>463088.0</td>\n      <td>0.000091</td>\n      <td>4.318834e-06</td>\n      <td>0.000503</td>\n      <td>1.166667</td>\n      <td>0.038649</td>\n      <td>0.012585</td>\n      <td>...</td>\n      <td>0.000106</td>\n      <td>34.959291</td>\n      <td>54.132260</td>\n      <td>1.836252</td>\n      <td>1.541341</td>\n      <td>12.5</td>\n      <td>1.9</td>\n      <td>46.72</td>\n      <td>16.3</td>\n      <td>62.6</td>\n    </tr>\n    <tr>\n      <th>2</th>\n      <td>Адыгея</td>\n      <td>2020-04-20</td>\n      <td>0.002663</td>\n      <td>463088.0</td>\n      <td>0.000600</td>\n      <td>4.318834e-06</td>\n      <td>0.000024</td>\n      <td>2.478261</td>\n      <td>0.038649</td>\n      <td>0.012585</td>\n      <td>...</td>\n      <td>0.000106</td>\n      <td>34.959291</td>\n      <td>54.132260</td>\n      <td>1.836252</td>\n      <td>1.541341</td>\n      <td>12.5</td>\n      <td>1.9</td>\n      <td>46.72</td>\n      <td>16.3</td>\n      <td>62.6</td>\n    </tr>\n    <tr>\n      <th>3</th>\n      <td>Адыгея</td>\n      <td>2020-04-27</td>\n      <td>0.002144</td>\n      <td>463088.0</td>\n      <td>0.000173</td>\n      <td>2.159417e-06</td>\n      <td>0.000035</td>\n      <td>1.217391</td>\n      <td>0.038649</td>\n      <td>0.012585</td>\n      <td>...</td>\n      <td>0.000106</td>\n      <td>34.959291</td>\n      <td>54.132260</td>\n      <td>1.836252</td>\n      <td>1.541341</td>\n      <td>12.5</td>\n      <td>1.9</td>\n      <td>46.72</td>\n      <td>16.3</td>\n      <td>62.6</td>\n    </tr>\n    <tr>\n      <th>4</th>\n      <td>Адыгея</td>\n      <td>2020-05-04</td>\n      <td>0.001106</td>\n      <td>463088.0</td>\n      <td>0.000091</td>\n      <td>0.000000e+00</td>\n      <td>0.000035</td>\n      <td>1.000000</td>\n      <td>0.038649</td>\n      <td>0.012585</td>\n      <td>...</td>\n      <td>0.000106</td>\n      <td>34.959291</td>\n      <td>54.132260</td>\n      <td>1.836252</td>\n      <td>1.541341</td>\n      <td>12.5</td>\n      <td>1.9</td>\n      <td>46.72</td>\n      <td>16.3</td>\n      <td>62.6</td>\n    </tr>\n    <tr>\n      <th>5</th>\n      <td>Адыгея</td>\n      <td>2020-05-11</td>\n      <td>0.002138</td>\n      <td>463088.0</td>\n      <td>0.000045</td>\n      <td>4.318834e-06</td>\n      <td>0.000402</td>\n      <td>0.967033</td>\n      <td>0.038649</td>\n      <td>0.012585</td>\n      <td>...</td>\n      <td>0.000106</td>\n      <td>34.959291</td>\n      <td>54.132260</td>\n      <td>1.836252</td>\n      <td>1.541341</td>\n      <td>12.5</td>\n      <td>1.9</td>\n      <td>46.72</td>\n      <td>16.3</td>\n      <td>62.6</td>\n    </tr>\n    <tr>\n      <th>...</th>\n      <td>...</td>\n      <td>...</td>\n      <td>...</td>\n      <td>...</td>\n      <td>...</td>\n      <td>...</td>\n      <td>...</td>\n      <td>...</td>\n      <td>...</td>\n      <td>...</td>\n      <td>...</td>\n      <td>...</td>\n      <td>...</td>\n      <td>...</td>\n      <td>...</td>\n      <td>...</td>\n      <td>...</td>\n      <td>...</td>\n      <td>...</td>\n      <td>...</td>\n      <td>...</td>\n    </tr>\n    <tr>\n      <th>2485</th>\n      <td>Ярославская</td>\n      <td>2020-09-28</td>\n      <td>0.000630</td>\n      <td>1253389.0</td>\n      <td>0.000262</td>\n      <td>7.978369e-07</td>\n      <td>0.000248</td>\n      <td>1.046632</td>\n      <td>0.031680</td>\n      <td>0.009193</td>\n      <td>...</td>\n      <td>0.000053</td>\n      <td>51.636007</td>\n      <td>175.948568</td>\n      <td>6.201432</td>\n      <td>1.505752</td>\n      <td>10.3</td>\n      <td>1.0</td>\n      <td>50.31</td>\n      <td>4.5</td>\n      <td>67.6</td>\n    </tr>\n    <tr>\n      <th>2486</th>\n      <td>Ярославская</td>\n      <td>2020-10-05</td>\n      <td>0.000586</td>\n      <td>1253389.0</td>\n      <td>0.000275</td>\n      <td>0.000000e+00</td>\n      <td>0.000065</td>\n      <td>0.951220</td>\n      <td>0.031680</td>\n      <td>0.009193</td>\n      <td>...</td>\n      <td>0.000053</td>\n      <td>51.636007</td>\n      <td>175.948568</td>\n      <td>6.201432</td>\n      <td>1.505752</td>\n      <td>10.3</td>\n      <td>1.0</td>\n      <td>50.31</td>\n      <td>4.5</td>\n      <td>67.6</td>\n    </tr>\n    <tr>\n      <th>2487</th>\n      <td>Ярославская</td>\n      <td>2020-10-12</td>\n      <td>0.000540</td>\n      <td>1253389.0</td>\n      <td>0.000133</td>\n      <td>0.000000e+00</td>\n      <td>0.000645</td>\n      <td>1.004000</td>\n      <td>0.031680</td>\n      <td>0.009193</td>\n      <td>...</td>\n      <td>0.000053</td>\n      <td>51.636007</td>\n      <td>175.948568</td>\n      <td>6.201432</td>\n      <td>1.505752</td>\n      <td>10.3</td>\n      <td>1.0</td>\n      <td>50.31</td>\n      <td>4.5</td>\n      <td>67.6</td>\n    </tr>\n    <tr>\n      <th>2488</th>\n      <td>Ярославская</td>\n      <td>2020-10-19</td>\n      <td>0.000551</td>\n      <td>1253389.0</td>\n      <td>0.000487</td>\n      <td>1.595674e-06</td>\n      <td>0.000351</td>\n      <td>1.203488</td>\n      <td>0.031680</td>\n      <td>0.009193</td>\n      <td>...</td>\n      <td>0.000053</td>\n      <td>51.636007</td>\n      <td>175.948568</td>\n      <td>6.201432</td>\n      <td>1.505752</td>\n      <td>10.3</td>\n      <td>1.0</td>\n      <td>50.31</td>\n      <td>4.5</td>\n      <td>67.6</td>\n    </tr>\n    <tr>\n      <th>2489</th>\n      <td>Ярославская</td>\n      <td>2020-10-26</td>\n      <td>0.000338</td>\n      <td>1253389.0</td>\n      <td>0.000540</td>\n      <td>4.787021e-06</td>\n      <td>0.000452</td>\n      <td>1.111111</td>\n      <td>0.031680</td>\n      <td>0.009193</td>\n      <td>...</td>\n      <td>0.000053</td>\n      <td>51.636007</td>\n      <td>175.948568</td>\n      <td>6.201432</td>\n      <td>1.505752</td>\n      <td>10.3</td>\n      <td>1.0</td>\n      <td>50.31</td>\n      <td>4.5</td>\n      <td>67.6</td>\n    </tr>\n  </tbody>\n</table>\n<p>2489 rows × 21 columns</p>\n</div>"
     },
     "execution_count": 180,
     "metadata": {},
     "output_type": "execute_result"
    }
   ],
   "source": [
    "df_panel"
   ],
   "metadata": {
    "collapsed": false,
    "pycharm": {
     "name": "#%%\n"
    }
   }
  },
  {
   "cell_type": "code",
   "execution_count": 181,
   "outputs": [],
   "source": [
    "df_panel.to_csv(\"data/dataset_agregared.csv\")"
   ],
   "metadata": {
    "collapsed": false,
    "pycharm": {
     "name": "#%%\n"
    }
   }
  },
  {
   "cell_type": "code",
   "execution_count": 182,
   "outputs": [
    {
     "data": {
      "text/plain": "           region       week  sum_unemployed  population  infections  \\\n1          Адыгея 2020-04-13        0.003347    463088.0    0.000091   \n2          Адыгея 2020-04-20        0.002663    463088.0    0.000600   \n3          Адыгея 2020-04-27        0.002144    463088.0    0.000173   \n4          Адыгея 2020-05-04        0.001106    463088.0    0.000091   \n5          Адыгея 2020-05-11        0.002138    463088.0    0.000045   \n...           ...        ...             ...         ...         ...   \n2485  Ярославская 2020-09-28        0.000630   1253389.0    0.000262   \n2486  Ярославская 2020-10-05        0.000586   1253389.0    0.000275   \n2487  Ярославская 2020-10-12        0.000540   1253389.0    0.000133   \n2488  Ярославская 2020-10-19        0.000551   1253389.0    0.000487   \n2489  Ярославская 2020-10-26        0.000338   1253389.0    0.000540   \n\n            deaths    healed        Rt  procent_unemployed  \\\n1     4.318834e-06  0.000503  1.166667            0.038649   \n2     4.318834e-06  0.000024  2.478261            0.038649   \n3     2.159417e-06  0.000035  1.217391            0.038649   \n4     0.000000e+00  0.000035  1.000000            0.038649   \n5     4.318834e-06  0.000402  0.967033            0.038649   \n...            ...       ...       ...                 ...   \n2485  7.978369e-07  0.000248  1.046632            0.031680   \n2486  0.000000e+00  0.000065  0.951220            0.031680   \n2487  0.000000e+00  0.000645  1.004000            0.031680   \n2488  1.595674e-06  0.000351  1.203488            0.031680   \n2489  4.787021e-06  0.000452  1.111111            0.031680   \n\n      procent_infections  ...  procent_deaths  fin_blago   depo_mean  \\\n1               0.012585  ...        0.000106  34.959291   54.132260   \n2               0.012585  ...        0.000106  34.959291   54.132260   \n3               0.012585  ...        0.000106  34.959291   54.132260   \n4               0.012585  ...        0.000106  34.959291   54.132260   \n5               0.012585  ...        0.000106  34.959291   54.132260   \n...                  ...  ...             ...        ...         ...   \n2485            0.009193  ...        0.000053  51.636007  175.948568   \n2486            0.009193  ...        0.000053  51.636007  175.948568   \n2487            0.009193  ...        0.000053  51.636007  175.948568   \n2488            0.009193  ...        0.000053  51.636007  175.948568   \n2489            0.009193  ...        0.000053  51.636007  175.948568   \n\n      depo_salary  income_fix  poverty_proc  ex_poverty_proc  social_exp  \\\n1        1.836252    1.541341          12.5              1.9       46.72   \n2        1.836252    1.541341          12.5              1.9       46.72   \n3        1.836252    1.541341          12.5              1.9       46.72   \n4        1.836252    1.541341          12.5              1.9       46.72   \n5        1.836252    1.541341          12.5              1.9       46.72   \n...           ...         ...           ...              ...         ...   \n2485     6.201432    1.505752          10.3              1.0       50.31   \n2486     6.201432    1.505752          10.3              1.0       50.31   \n2487     6.201432    1.505752          10.3              1.0       50.31   \n2488     6.201432    1.505752          10.3              1.0       50.31   \n2489     6.201432    1.505752          10.3              1.0       50.31   \n\n      growth_social_exp  soc_in_total_exp  \n1                  16.3              62.6  \n2                  16.3              62.6  \n3                  16.3              62.6  \n4                  16.3              62.6  \n5                  16.3              62.6  \n...                 ...               ...  \n2485                4.5              67.6  \n2486                4.5              67.6  \n2487                4.5              67.6  \n2488                4.5              67.6  \n2489                4.5              67.6  \n\n[2489 rows x 21 columns]",
      "text/html": "<div>\n<style scoped>\n    .dataframe tbody tr th:only-of-type {\n        vertical-align: middle;\n    }\n\n    .dataframe tbody tr th {\n        vertical-align: top;\n    }\n\n    .dataframe thead th {\n        text-align: right;\n    }\n</style>\n<table border=\"1\" class=\"dataframe\">\n  <thead>\n    <tr style=\"text-align: right;\">\n      <th></th>\n      <th>region</th>\n      <th>week</th>\n      <th>sum_unemployed</th>\n      <th>population</th>\n      <th>infections</th>\n      <th>deaths</th>\n      <th>healed</th>\n      <th>Rt</th>\n      <th>procent_unemployed</th>\n      <th>procent_infections</th>\n      <th>...</th>\n      <th>procent_deaths</th>\n      <th>fin_blago</th>\n      <th>depo_mean</th>\n      <th>depo_salary</th>\n      <th>income_fix</th>\n      <th>poverty_proc</th>\n      <th>ex_poverty_proc</th>\n      <th>social_exp</th>\n      <th>growth_social_exp</th>\n      <th>soc_in_total_exp</th>\n    </tr>\n  </thead>\n  <tbody>\n    <tr>\n      <th>1</th>\n      <td>Адыгея</td>\n      <td>2020-04-13</td>\n      <td>0.003347</td>\n      <td>463088.0</td>\n      <td>0.000091</td>\n      <td>4.318834e-06</td>\n      <td>0.000503</td>\n      <td>1.166667</td>\n      <td>0.038649</td>\n      <td>0.012585</td>\n      <td>...</td>\n      <td>0.000106</td>\n      <td>34.959291</td>\n      <td>54.132260</td>\n      <td>1.836252</td>\n      <td>1.541341</td>\n      <td>12.5</td>\n      <td>1.9</td>\n      <td>46.72</td>\n      <td>16.3</td>\n      <td>62.6</td>\n    </tr>\n    <tr>\n      <th>2</th>\n      <td>Адыгея</td>\n      <td>2020-04-20</td>\n      <td>0.002663</td>\n      <td>463088.0</td>\n      <td>0.000600</td>\n      <td>4.318834e-06</td>\n      <td>0.000024</td>\n      <td>2.478261</td>\n      <td>0.038649</td>\n      <td>0.012585</td>\n      <td>...</td>\n      <td>0.000106</td>\n      <td>34.959291</td>\n      <td>54.132260</td>\n      <td>1.836252</td>\n      <td>1.541341</td>\n      <td>12.5</td>\n      <td>1.9</td>\n      <td>46.72</td>\n      <td>16.3</td>\n      <td>62.6</td>\n    </tr>\n    <tr>\n      <th>3</th>\n      <td>Адыгея</td>\n      <td>2020-04-27</td>\n      <td>0.002144</td>\n      <td>463088.0</td>\n      <td>0.000173</td>\n      <td>2.159417e-06</td>\n      <td>0.000035</td>\n      <td>1.217391</td>\n      <td>0.038649</td>\n      <td>0.012585</td>\n      <td>...</td>\n      <td>0.000106</td>\n      <td>34.959291</td>\n      <td>54.132260</td>\n      <td>1.836252</td>\n      <td>1.541341</td>\n      <td>12.5</td>\n      <td>1.9</td>\n      <td>46.72</td>\n      <td>16.3</td>\n      <td>62.6</td>\n    </tr>\n    <tr>\n      <th>4</th>\n      <td>Адыгея</td>\n      <td>2020-05-04</td>\n      <td>0.001106</td>\n      <td>463088.0</td>\n      <td>0.000091</td>\n      <td>0.000000e+00</td>\n      <td>0.000035</td>\n      <td>1.000000</td>\n      <td>0.038649</td>\n      <td>0.012585</td>\n      <td>...</td>\n      <td>0.000106</td>\n      <td>34.959291</td>\n      <td>54.132260</td>\n      <td>1.836252</td>\n      <td>1.541341</td>\n      <td>12.5</td>\n      <td>1.9</td>\n      <td>46.72</td>\n      <td>16.3</td>\n      <td>62.6</td>\n    </tr>\n    <tr>\n      <th>5</th>\n      <td>Адыгея</td>\n      <td>2020-05-11</td>\n      <td>0.002138</td>\n      <td>463088.0</td>\n      <td>0.000045</td>\n      <td>4.318834e-06</td>\n      <td>0.000402</td>\n      <td>0.967033</td>\n      <td>0.038649</td>\n      <td>0.012585</td>\n      <td>...</td>\n      <td>0.000106</td>\n      <td>34.959291</td>\n      <td>54.132260</td>\n      <td>1.836252</td>\n      <td>1.541341</td>\n      <td>12.5</td>\n      <td>1.9</td>\n      <td>46.72</td>\n      <td>16.3</td>\n      <td>62.6</td>\n    </tr>\n    <tr>\n      <th>...</th>\n      <td>...</td>\n      <td>...</td>\n      <td>...</td>\n      <td>...</td>\n      <td>...</td>\n      <td>...</td>\n      <td>...</td>\n      <td>...</td>\n      <td>...</td>\n      <td>...</td>\n      <td>...</td>\n      <td>...</td>\n      <td>...</td>\n      <td>...</td>\n      <td>...</td>\n      <td>...</td>\n      <td>...</td>\n      <td>...</td>\n      <td>...</td>\n      <td>...</td>\n      <td>...</td>\n    </tr>\n    <tr>\n      <th>2485</th>\n      <td>Ярославская</td>\n      <td>2020-09-28</td>\n      <td>0.000630</td>\n      <td>1253389.0</td>\n      <td>0.000262</td>\n      <td>7.978369e-07</td>\n      <td>0.000248</td>\n      <td>1.046632</td>\n      <td>0.031680</td>\n      <td>0.009193</td>\n      <td>...</td>\n      <td>0.000053</td>\n      <td>51.636007</td>\n      <td>175.948568</td>\n      <td>6.201432</td>\n      <td>1.505752</td>\n      <td>10.3</td>\n      <td>1.0</td>\n      <td>50.31</td>\n      <td>4.5</td>\n      <td>67.6</td>\n    </tr>\n    <tr>\n      <th>2486</th>\n      <td>Ярославская</td>\n      <td>2020-10-05</td>\n      <td>0.000586</td>\n      <td>1253389.0</td>\n      <td>0.000275</td>\n      <td>0.000000e+00</td>\n      <td>0.000065</td>\n      <td>0.951220</td>\n      <td>0.031680</td>\n      <td>0.009193</td>\n      <td>...</td>\n      <td>0.000053</td>\n      <td>51.636007</td>\n      <td>175.948568</td>\n      <td>6.201432</td>\n      <td>1.505752</td>\n      <td>10.3</td>\n      <td>1.0</td>\n      <td>50.31</td>\n      <td>4.5</td>\n      <td>67.6</td>\n    </tr>\n    <tr>\n      <th>2487</th>\n      <td>Ярославская</td>\n      <td>2020-10-12</td>\n      <td>0.000540</td>\n      <td>1253389.0</td>\n      <td>0.000133</td>\n      <td>0.000000e+00</td>\n      <td>0.000645</td>\n      <td>1.004000</td>\n      <td>0.031680</td>\n      <td>0.009193</td>\n      <td>...</td>\n      <td>0.000053</td>\n      <td>51.636007</td>\n      <td>175.948568</td>\n      <td>6.201432</td>\n      <td>1.505752</td>\n      <td>10.3</td>\n      <td>1.0</td>\n      <td>50.31</td>\n      <td>4.5</td>\n      <td>67.6</td>\n    </tr>\n    <tr>\n      <th>2488</th>\n      <td>Ярославская</td>\n      <td>2020-10-19</td>\n      <td>0.000551</td>\n      <td>1253389.0</td>\n      <td>0.000487</td>\n      <td>1.595674e-06</td>\n      <td>0.000351</td>\n      <td>1.203488</td>\n      <td>0.031680</td>\n      <td>0.009193</td>\n      <td>...</td>\n      <td>0.000053</td>\n      <td>51.636007</td>\n      <td>175.948568</td>\n      <td>6.201432</td>\n      <td>1.505752</td>\n      <td>10.3</td>\n      <td>1.0</td>\n      <td>50.31</td>\n      <td>4.5</td>\n      <td>67.6</td>\n    </tr>\n    <tr>\n      <th>2489</th>\n      <td>Ярославская</td>\n      <td>2020-10-26</td>\n      <td>0.000338</td>\n      <td>1253389.0</td>\n      <td>0.000540</td>\n      <td>4.787021e-06</td>\n      <td>0.000452</td>\n      <td>1.111111</td>\n      <td>0.031680</td>\n      <td>0.009193</td>\n      <td>...</td>\n      <td>0.000053</td>\n      <td>51.636007</td>\n      <td>175.948568</td>\n      <td>6.201432</td>\n      <td>1.505752</td>\n      <td>10.3</td>\n      <td>1.0</td>\n      <td>50.31</td>\n      <td>4.5</td>\n      <td>67.6</td>\n    </tr>\n  </tbody>\n</table>\n<p>2489 rows × 21 columns</p>\n</div>"
     },
     "execution_count": 182,
     "metadata": {},
     "output_type": "execute_result"
    }
   ],
   "source": [
    "df_panel"
   ],
   "metadata": {
    "collapsed": false,
    "pycharm": {
     "name": "#%%\n"
    }
   }
  },
  {
   "cell_type": "code",
   "execution_count": 182,
   "outputs": [],
   "source": [],
   "metadata": {
    "collapsed": false,
    "pycharm": {
     "name": "#%%\n"
    }
   }
  },
  {
   "cell_type": "code",
   "execution_count": 182,
   "outputs": [],
   "source": [],
   "metadata": {
    "collapsed": false,
    "pycharm": {
     "name": "#%%\n"
    }
   }
  },
  {
   "cell_type": "markdown",
   "source": [
    "### проверим коллениарность данных"
   ],
   "metadata": {
    "collapsed": false,
    "pycharm": {
     "name": "#%% md\n"
    }
   }
  },
  {
   "cell_type": "code",
   "execution_count": 183,
   "outputs": [],
   "source": [
    "columns_for_x = ['infections', \"Rt\", 'population',\n",
    " 'deaths', 'healed', 'procent_infections','procent_deaths',\n",
    " 'depo_mean','depo_salary','income_fix','poverty_proc',\n",
    " 'social_exp','growth_social_exp']\n",
    "columns_for_x = ['infections', \"Rt\",\n",
    " 'deaths', 'healed',]\n",
    "\n",
    "name_y = \"sum_unemployed\""
   ],
   "metadata": {
    "collapsed": false,
    "pycharm": {
     "name": "#%%\n"
    }
   }
  },
  {
   "cell_type": "markdown",
   "source": [
    "### проверить Коэффициенты Вариации (VIF)"
   ],
   "metadata": {
    "collapsed": false,
    "pycharm": {
     "name": "#%% md\n"
    }
   }
  },
  {
   "cell_type": "code",
   "execution_count": 184,
   "outputs": [],
   "source": [
    "from statsmodels.stats.outliers_influence import variance_inflation_factor\n",
    "\n",
    "tmp = df_panel[columns_for_x] # .drop([\"week\", \"region\"], axis=1)\n",
    "\n",
    "# X - матрица признаков\n",
    "vif_data = pd.DataFrame()\n",
    "vif_data[\"Variable\"] = tmp.columns\n",
    "vif_data[\"VIF\"] = [variance_inflation_factor(tmp.values, i) for i in range(tmp.shape[1])]"
   ],
   "metadata": {
    "collapsed": false,
    "pycharm": {
     "name": "#%%\n"
    }
   }
  },
  {
   "cell_type": "code",
   "execution_count": 185,
   "outputs": [
    {
     "data": {
      "text/plain": "     Variable       VIF\n0  infections  2.000567\n1          Rt  1.447009\n2      deaths  1.971058\n3      healed  2.501864",
      "text/html": "<div>\n<style scoped>\n    .dataframe tbody tr th:only-of-type {\n        vertical-align: middle;\n    }\n\n    .dataframe tbody tr th {\n        vertical-align: top;\n    }\n\n    .dataframe thead th {\n        text-align: right;\n    }\n</style>\n<table border=\"1\" class=\"dataframe\">\n  <thead>\n    <tr style=\"text-align: right;\">\n      <th></th>\n      <th>Variable</th>\n      <th>VIF</th>\n    </tr>\n  </thead>\n  <tbody>\n    <tr>\n      <th>0</th>\n      <td>infections</td>\n      <td>2.000567</td>\n    </tr>\n    <tr>\n      <th>1</th>\n      <td>Rt</td>\n      <td>1.447009</td>\n    </tr>\n    <tr>\n      <th>2</th>\n      <td>deaths</td>\n      <td>1.971058</td>\n    </tr>\n    <tr>\n      <th>3</th>\n      <td>healed</td>\n      <td>2.501864</td>\n    </tr>\n  </tbody>\n</table>\n</div>"
     },
     "execution_count": 185,
     "metadata": {},
     "output_type": "execute_result"
    }
   ],
   "source": [
    "vif_data"
   ],
   "metadata": {
    "collapsed": false,
    "pycharm": {
     "name": "#%%\n"
    }
   }
  },
  {
   "cell_type": "code",
   "execution_count": 186,
   "outputs": [
    {
     "data": {
      "text/plain": "<AxesSubplot:>"
     },
     "execution_count": 186,
     "metadata": {},
     "output_type": "execute_result"
    },
    {
     "data": {
      "text/plain": "<Figure size 1440x1440 with 2 Axes>",
      "image/png": "[encoded data removed]"
     },
     "metadata": {},
     "output_type": "display_data"
    }
   ],
   "source": [
    "plt.figure(figsize=(20, 20))\n",
    "corr =df_panel[columns_for_x].corr()\n",
    "sns.heatmap(corr, annot=True, cmap='coolwarm', fmt='.2f', linewidths=.5)"
   ],
   "metadata": {
    "collapsed": false,
    "pycharm": {
     "name": "#%%\n"
    }
   }
  },
  {
   "cell_type": "code",
   "execution_count": 186,
   "outputs": [],
   "source": [],
   "metadata": {
    "collapsed": false,
    "pycharm": {
     "name": "#%%\n"
    }
   }
  },
  {
   "cell_type": "code",
   "execution_count": 187,
   "outputs": [
    {
     "ename": "KeyError",
     "evalue": "\"[('infections', 'Rt', 'deaths', 'healed')] not found in axis\"",
     "output_type": "error",
     "traceback": [
      "\u001B[1;31m---------------------------------------------------------------------------\u001B[0m",
      "\u001B[1;31mKeyError\u001B[0m                                  Traceback (most recent call last)",
      "Input \u001B[1;32mIn [187]\u001B[0m, in \u001B[0;36m<cell line: 4>\u001B[1;34m()\u001B[0m\n\u001B[0;32m      1\u001B[0m \u001B[38;5;28;01mfrom\u001B[39;00m \u001B[38;5;21;01mstatsmodels\u001B[39;00m\u001B[38;5;21;01m.\u001B[39;00m\u001B[38;5;21;01mstats\u001B[39;00m\u001B[38;5;21;01m.\u001B[39;00m\u001B[38;5;21;01moutliers_influence\u001B[39;00m \u001B[38;5;28;01mimport\u001B[39;00m variance_inflation_factor\n\u001B[0;32m      3\u001B[0m \u001B[38;5;66;03m# X - матрица признаков\u001B[39;00m\n\u001B[1;32m----> 4\u001B[0m X \u001B[38;5;241m=\u001B[39m df_panel\u001B[38;5;241m.\u001B[39mdrop([columns_for_x], axis\u001B[38;5;241m=\u001B[39m\u001B[38;5;241m1\u001B[39m)\n\u001B[0;32m      5\u001B[0m vif_data \u001B[38;5;241m=\u001B[39m pd\u001B[38;5;241m.\u001B[39mDataFrame()\n\u001B[0;32m      6\u001B[0m vif_data[\u001B[38;5;124m\"\u001B[39m\u001B[38;5;124mVariable\u001B[39m\u001B[38;5;124m\"\u001B[39m] \u001B[38;5;241m=\u001B[39m X\u001B[38;5;241m.\u001B[39mcolumns\n",
      "File \u001B[1;32mc:\\users\\iltya\\appdata\\local\\programs\\python\\python39\\lib\\site-packages\\pandas\\util\\_decorators.py:311\u001B[0m, in \u001B[0;36mdeprecate_nonkeyword_arguments.<locals>.decorate.<locals>.wrapper\u001B[1;34m(*args, **kwargs)\u001B[0m\n\u001B[0;32m    305\u001B[0m \u001B[38;5;28;01mif\u001B[39;00m \u001B[38;5;28mlen\u001B[39m(args) \u001B[38;5;241m>\u001B[39m num_allow_args:\n\u001B[0;32m    306\u001B[0m     warnings\u001B[38;5;241m.\u001B[39mwarn(\n\u001B[0;32m    307\u001B[0m         msg\u001B[38;5;241m.\u001B[39mformat(arguments\u001B[38;5;241m=\u001B[39marguments),\n\u001B[0;32m    308\u001B[0m         \u001B[38;5;167;01mFutureWarning\u001B[39;00m,\n\u001B[0;32m    309\u001B[0m         stacklevel\u001B[38;5;241m=\u001B[39mstacklevel,\n\u001B[0;32m    310\u001B[0m     )\n\u001B[1;32m--> 311\u001B[0m \u001B[38;5;28;01mreturn\u001B[39;00m func(\u001B[38;5;241m*\u001B[39margs, \u001B[38;5;241m*\u001B[39m\u001B[38;5;241m*\u001B[39mkwargs)\n",
      "File \u001B[1;32mc:\\users\\iltya\\appdata\\local\\programs\\python\\python39\\lib\\site-packages\\pandas\\core\\frame.py:4948\u001B[0m, in \u001B[0;36mDataFrame.drop\u001B[1;34m(self, labels, axis, index, columns, level, inplace, errors)\u001B[0m\n\u001B[0;32m   4800\u001B[0m \u001B[38;5;129m@deprecate_nonkeyword_arguments\u001B[39m(version\u001B[38;5;241m=\u001B[39m\u001B[38;5;28;01mNone\u001B[39;00m, allowed_args\u001B[38;5;241m=\u001B[39m[\u001B[38;5;124m\"\u001B[39m\u001B[38;5;124mself\u001B[39m\u001B[38;5;124m\"\u001B[39m, \u001B[38;5;124m\"\u001B[39m\u001B[38;5;124mlabels\u001B[39m\u001B[38;5;124m\"\u001B[39m])\n\u001B[0;32m   4801\u001B[0m \u001B[38;5;28;01mdef\u001B[39;00m \u001B[38;5;21mdrop\u001B[39m(\n\u001B[0;32m   4802\u001B[0m     \u001B[38;5;28mself\u001B[39m,\n\u001B[1;32m   (...)\u001B[0m\n\u001B[0;32m   4809\u001B[0m     errors: \u001B[38;5;28mstr\u001B[39m \u001B[38;5;241m=\u001B[39m \u001B[38;5;124m\"\u001B[39m\u001B[38;5;124mraise\u001B[39m\u001B[38;5;124m\"\u001B[39m,\n\u001B[0;32m   4810\u001B[0m ):\n\u001B[0;32m   4811\u001B[0m \u001B[38;5;250m    \u001B[39m\u001B[38;5;124;03m\"\"\"\u001B[39;00m\n\u001B[0;32m   4812\u001B[0m \u001B[38;5;124;03m    Drop specified labels from rows or columns.\u001B[39;00m\n\u001B[0;32m   4813\u001B[0m \n\u001B[1;32m   (...)\u001B[0m\n\u001B[0;32m   4946\u001B[0m \u001B[38;5;124;03m            weight  1.0     0.8\u001B[39;00m\n\u001B[0;32m   4947\u001B[0m \u001B[38;5;124;03m    \"\"\"\u001B[39;00m\n\u001B[1;32m-> 4948\u001B[0m     \u001B[38;5;28;01mreturn\u001B[39;00m \u001B[38;5;28;43msuper\u001B[39;49m\u001B[43m(\u001B[49m\u001B[43m)\u001B[49m\u001B[38;5;241;43m.\u001B[39;49m\u001B[43mdrop\u001B[49m\u001B[43m(\u001B[49m\n\u001B[0;32m   4949\u001B[0m \u001B[43m        \u001B[49m\u001B[43mlabels\u001B[49m\u001B[38;5;241;43m=\u001B[39;49m\u001B[43mlabels\u001B[49m\u001B[43m,\u001B[49m\n\u001B[0;32m   4950\u001B[0m \u001B[43m        \u001B[49m\u001B[43maxis\u001B[49m\u001B[38;5;241;43m=\u001B[39;49m\u001B[43maxis\u001B[49m\u001B[43m,\u001B[49m\n\u001B[0;32m   4951\u001B[0m \u001B[43m        \u001B[49m\u001B[43mindex\u001B[49m\u001B[38;5;241;43m=\u001B[39;49m\u001B[43mindex\u001B[49m\u001B[43m,\u001B[49m\n\u001B[0;32m   4952\u001B[0m \u001B[43m        \u001B[49m\u001B[43mcolumns\u001B[49m\u001B[38;5;241;43m=\u001B[39;49m\u001B[43mcolumns\u001B[49m\u001B[43m,\u001B[49m\n\u001B[0;32m   4953\u001B[0m \u001B[43m        \u001B[49m\u001B[43mlevel\u001B[49m\u001B[38;5;241;43m=\u001B[39;49m\u001B[43mlevel\u001B[49m\u001B[43m,\u001B[49m\n\u001B[0;32m   4954\u001B[0m \u001B[43m        \u001B[49m\u001B[43minplace\u001B[49m\u001B[38;5;241;43m=\u001B[39;49m\u001B[43minplace\u001B[49m\u001B[43m,\u001B[49m\n\u001B[0;32m   4955\u001B[0m \u001B[43m        \u001B[49m\u001B[43merrors\u001B[49m\u001B[38;5;241;43m=\u001B[39;49m\u001B[43merrors\u001B[49m\u001B[43m,\u001B[49m\n\u001B[0;32m   4956\u001B[0m \u001B[43m    \u001B[49m\u001B[43m)\u001B[49m\n",
      "File \u001B[1;32mc:\\users\\iltya\\appdata\\local\\programs\\python\\python39\\lib\\site-packages\\pandas\\core\\generic.py:4279\u001B[0m, in \u001B[0;36mNDFrame.drop\u001B[1;34m(self, labels, axis, index, columns, level, inplace, errors)\u001B[0m\n\u001B[0;32m   4277\u001B[0m \u001B[38;5;28;01mfor\u001B[39;00m axis, labels \u001B[38;5;129;01min\u001B[39;00m axes\u001B[38;5;241m.\u001B[39mitems():\n\u001B[0;32m   4278\u001B[0m     \u001B[38;5;28;01mif\u001B[39;00m labels \u001B[38;5;129;01mis\u001B[39;00m \u001B[38;5;129;01mnot\u001B[39;00m \u001B[38;5;28;01mNone\u001B[39;00m:\n\u001B[1;32m-> 4279\u001B[0m         obj \u001B[38;5;241m=\u001B[39m \u001B[43mobj\u001B[49m\u001B[38;5;241;43m.\u001B[39;49m\u001B[43m_drop_axis\u001B[49m\u001B[43m(\u001B[49m\u001B[43mlabels\u001B[49m\u001B[43m,\u001B[49m\u001B[43m \u001B[49m\u001B[43maxis\u001B[49m\u001B[43m,\u001B[49m\u001B[43m \u001B[49m\u001B[43mlevel\u001B[49m\u001B[38;5;241;43m=\u001B[39;49m\u001B[43mlevel\u001B[49m\u001B[43m,\u001B[49m\u001B[43m \u001B[49m\u001B[43merrors\u001B[49m\u001B[38;5;241;43m=\u001B[39;49m\u001B[43merrors\u001B[49m\u001B[43m)\u001B[49m\n\u001B[0;32m   4281\u001B[0m \u001B[38;5;28;01mif\u001B[39;00m inplace:\n\u001B[0;32m   4282\u001B[0m     \u001B[38;5;28mself\u001B[39m\u001B[38;5;241m.\u001B[39m_update_inplace(obj)\n",
      "File \u001B[1;32mc:\\users\\iltya\\appdata\\local\\programs\\python\\python39\\lib\\site-packages\\pandas\\core\\generic.py:4323\u001B[0m, in \u001B[0;36mNDFrame._drop_axis\u001B[1;34m(self, labels, axis, level, errors, consolidate, only_slice)\u001B[0m\n\u001B[0;32m   4321\u001B[0m         new_axis \u001B[38;5;241m=\u001B[39m axis\u001B[38;5;241m.\u001B[39mdrop(labels, level\u001B[38;5;241m=\u001B[39mlevel, errors\u001B[38;5;241m=\u001B[39merrors)\n\u001B[0;32m   4322\u001B[0m     \u001B[38;5;28;01melse\u001B[39;00m:\n\u001B[1;32m-> 4323\u001B[0m         new_axis \u001B[38;5;241m=\u001B[39m \u001B[43maxis\u001B[49m\u001B[38;5;241;43m.\u001B[39;49m\u001B[43mdrop\u001B[49m\u001B[43m(\u001B[49m\u001B[43mlabels\u001B[49m\u001B[43m,\u001B[49m\u001B[43m \u001B[49m\u001B[43merrors\u001B[49m\u001B[38;5;241;43m=\u001B[39;49m\u001B[43merrors\u001B[49m\u001B[43m)\u001B[49m\n\u001B[0;32m   4324\u001B[0m     indexer \u001B[38;5;241m=\u001B[39m axis\u001B[38;5;241m.\u001B[39mget_indexer(new_axis)\n\u001B[0;32m   4326\u001B[0m \u001B[38;5;66;03m# Case for non-unique axis\u001B[39;00m\n\u001B[0;32m   4327\u001B[0m \u001B[38;5;28;01melse\u001B[39;00m:\n",
      "File \u001B[1;32mc:\\users\\iltya\\appdata\\local\\programs\\python\\python39\\lib\\site-packages\\pandas\\core\\indexes\\base.py:6644\u001B[0m, in \u001B[0;36mIndex.drop\u001B[1;34m(self, labels, errors)\u001B[0m\n\u001B[0;32m   6642\u001B[0m \u001B[38;5;28;01mif\u001B[39;00m mask\u001B[38;5;241m.\u001B[39many():\n\u001B[0;32m   6643\u001B[0m     \u001B[38;5;28;01mif\u001B[39;00m errors \u001B[38;5;241m!=\u001B[39m \u001B[38;5;124m\"\u001B[39m\u001B[38;5;124mignore\u001B[39m\u001B[38;5;124m\"\u001B[39m:\n\u001B[1;32m-> 6644\u001B[0m         \u001B[38;5;28;01mraise\u001B[39;00m \u001B[38;5;167;01mKeyError\u001B[39;00m(\u001B[38;5;124mf\u001B[39m\u001B[38;5;124m\"\u001B[39m\u001B[38;5;132;01m{\u001B[39;00m\u001B[38;5;28mlist\u001B[39m(labels[mask])\u001B[38;5;132;01m}\u001B[39;00m\u001B[38;5;124m not found in axis\u001B[39m\u001B[38;5;124m\"\u001B[39m)\n\u001B[0;32m   6645\u001B[0m     indexer \u001B[38;5;241m=\u001B[39m indexer[\u001B[38;5;241m~\u001B[39mmask]\n\u001B[0;32m   6646\u001B[0m \u001B[38;5;28;01mreturn\u001B[39;00m \u001B[38;5;28mself\u001B[39m\u001B[38;5;241m.\u001B[39mdelete(indexer)\n",
      "\u001B[1;31mKeyError\u001B[0m: \"[('infections', 'Rt', 'deaths', 'healed')] not found in axis\""
     ]
    }
   ],
   "source": [
    "from statsmodels.stats.outliers_influence import variance_inflation_factor\n",
    "\n",
    "# X - матрица признаков\n",
    "X = df_panel.drop([columns_for_x], axis=1)\n",
    "vif_data = pd.DataFrame()\n",
    "vif_data[\"Variable\"] = X.columns\n",
    "vif_data[\"VIF\"] = [variance_inflation_factor(X.values, i) for i in range(X.shape[1])]\n",
    "vif_data"
   ],
   "metadata": {
    "collapsed": false,
    "pycharm": {
     "name": "#%%\n"
    }
   }
  },
  {
   "cell_type": "code",
   "execution_count": 187,
   "outputs": [],
   "source": [],
   "metadata": {
    "collapsed": false,
    "pycharm": {
     "name": "#%%\n"
    }
   }
  },
  {
   "cell_type": "code",
   "execution_count": 188,
   "outputs": [],
   "source": [
    "tmp = df_panel.reset_index()\n",
    "tmp['week'] = pd.Categorical(tmp['week'])\n",
    "tmp['region'] = pd.Categorical(tmp['region'])"
   ],
   "metadata": {
    "collapsed": false,
    "pycharm": {
     "name": "#%%\n"
    }
   }
  },
  {
   "cell_type": "code",
   "execution_count": 189,
   "outputs": [
    {
     "data": {
      "text/plain": "   index  region       week  sum_unemployed  population  infections    deaths  \\\n0      1  Адыгея 2020-04-13        0.003347    463088.0    0.000091  0.000004   \n1      2  Адыгея 2020-04-20        0.002663    463088.0    0.000600  0.000004   \n2      3  Адыгея 2020-04-27        0.002144    463088.0    0.000173  0.000002   \n3      4  Адыгея 2020-05-04        0.001106    463088.0    0.000091  0.000000   \n4      5  Адыгея 2020-05-11        0.002138    463088.0    0.000045  0.000004   \n\n     healed        Rt  procent_unemployed  ...  procent_deaths  fin_blago  \\\n0  0.000503  1.166667            0.038649  ...        0.000106  34.959291   \n1  0.000024  2.478261            0.038649  ...        0.000106  34.959291   \n2  0.000035  1.217391            0.038649  ...        0.000106  34.959291   \n3  0.000035  1.000000            0.038649  ...        0.000106  34.959291   \n4  0.000402  0.967033            0.038649  ...        0.000106  34.959291   \n\n   depo_mean  depo_salary  income_fix  poverty_proc  ex_poverty_proc  \\\n0   54.13226     1.836252    1.541341          12.5              1.9   \n1   54.13226     1.836252    1.541341          12.5              1.9   \n2   54.13226     1.836252    1.541341          12.5              1.9   \n3   54.13226     1.836252    1.541341          12.5              1.9   \n4   54.13226     1.836252    1.541341          12.5              1.9   \n\n   social_exp  growth_social_exp  soc_in_total_exp  \n0       46.72               16.3              62.6  \n1       46.72               16.3              62.6  \n2       46.72               16.3              62.6  \n3       46.72               16.3              62.6  \n4       46.72               16.3              62.6  \n\n[5 rows x 22 columns]",
      "text/html": "<div>\n<style scoped>\n    .dataframe tbody tr th:only-of-type {\n        vertical-align: middle;\n    }\n\n    .dataframe tbody tr th {\n        vertical-align: top;\n    }\n\n    .dataframe thead th {\n        text-align: right;\n    }\n</style>\n<table border=\"1\" class=\"dataframe\">\n  <thead>\n    <tr style=\"text-align: right;\">\n      <th></th>\n      <th>index</th>\n      <th>region</th>\n      <th>week</th>\n      <th>sum_unemployed</th>\n      <th>population</th>\n      <th>infections</th>\n      <th>deaths</th>\n      <th>healed</th>\n      <th>Rt</th>\n      <th>procent_unemployed</th>\n      <th>...</th>\n      <th>procent_deaths</th>\n      <th>fin_blago</th>\n      <th>depo_mean</th>\n      <th>depo_salary</th>\n      <th>income_fix</th>\n      <th>poverty_proc</th>\n      <th>ex_poverty_proc</th>\n      <th>social_exp</th>\n      <th>growth_social_exp</th>\n      <th>soc_in_total_exp</th>\n    </tr>\n  </thead>\n  <tbody>\n    <tr>\n      <th>0</th>\n      <td>1</td>\n      <td>Адыгея</td>\n      <td>2020-04-13</td>\n      <td>0.003347</td>\n      <td>463088.0</td>\n      <td>0.000091</td>\n      <td>0.000004</td>\n      <td>0.000503</td>\n      <td>1.166667</td>\n      <td>0.038649</td>\n      <td>...</td>\n      <td>0.000106</td>\n      <td>34.959291</td>\n      <td>54.13226</td>\n      <td>1.836252</td>\n      <td>1.541341</td>\n      <td>12.5</td>\n      <td>1.9</td>\n      <td>46.72</td>\n      <td>16.3</td>\n      <td>62.6</td>\n    </tr>\n    <tr>\n      <th>1</th>\n      <td>2</td>\n      <td>Адыгея</td>\n      <td>2020-04-20</td>\n      <td>0.002663</td>\n      <td>463088.0</td>\n      <td>0.000600</td>\n      <td>0.000004</td>\n      <td>0.000024</td>\n      <td>2.478261</td>\n      <td>0.038649</td>\n      <td>...</td>\n      <td>0.000106</td>\n      <td>34.959291</td>\n      <td>54.13226</td>\n      <td>1.836252</td>\n      <td>1.541341</td>\n      <td>12.5</td>\n      <td>1.9</td>\n      <td>46.72</td>\n      <td>16.3</td>\n      <td>62.6</td>\n    </tr>\n    <tr>\n      <th>2</th>\n      <td>3</td>\n      <td>Адыгея</td>\n      <td>2020-04-27</td>\n      <td>0.002144</td>\n      <td>463088.0</td>\n      <td>0.000173</td>\n      <td>0.000002</td>\n      <td>0.000035</td>\n      <td>1.217391</td>\n      <td>0.038649</td>\n      <td>...</td>\n      <td>0.000106</td>\n      <td>34.959291</td>\n      <td>54.13226</td>\n      <td>1.836252</td>\n      <td>1.541341</td>\n      <td>12.5</td>\n      <td>1.9</td>\n      <td>46.72</td>\n      <td>16.3</td>\n      <td>62.6</td>\n    </tr>\n    <tr>\n      <th>3</th>\n      <td>4</td>\n      <td>Адыгея</td>\n      <td>2020-05-04</td>\n      <td>0.001106</td>\n      <td>463088.0</td>\n      <td>0.000091</td>\n      <td>0.000000</td>\n      <td>0.000035</td>\n      <td>1.000000</td>\n      <td>0.038649</td>\n      <td>...</td>\n      <td>0.000106</td>\n      <td>34.959291</td>\n      <td>54.13226</td>\n      <td>1.836252</td>\n      <td>1.541341</td>\n      <td>12.5</td>\n      <td>1.9</td>\n      <td>46.72</td>\n      <td>16.3</td>\n      <td>62.6</td>\n    </tr>\n    <tr>\n      <th>4</th>\n      <td>5</td>\n      <td>Адыгея</td>\n      <td>2020-05-11</td>\n      <td>0.002138</td>\n      <td>463088.0</td>\n      <td>0.000045</td>\n      <td>0.000004</td>\n      <td>0.000402</td>\n      <td>0.967033</td>\n      <td>0.038649</td>\n      <td>...</td>\n      <td>0.000106</td>\n      <td>34.959291</td>\n      <td>54.13226</td>\n      <td>1.836252</td>\n      <td>1.541341</td>\n      <td>12.5</td>\n      <td>1.9</td>\n      <td>46.72</td>\n      <td>16.3</td>\n      <td>62.6</td>\n    </tr>\n  </tbody>\n</table>\n<p>5 rows × 22 columns</p>\n</div>"
     },
     "execution_count": 189,
     "metadata": {},
     "output_type": "execute_result"
    }
   ],
   "source": [
    "tmp.head()"
   ],
   "metadata": {
    "collapsed": false,
    "pycharm": {
     "name": "#%%\n"
    }
   }
  },
  {
   "cell_type": "code",
   "execution_count": null,
   "outputs": [],
   "source": [],
   "metadata": {
    "collapsed": false,
    "pycharm": {
     "name": "#%%\n"
    }
   }
  },
  {
   "cell_type": "code",
   "execution_count": 190,
   "outputs": [],
   "source": [
    "formula = f'{name_y} ~ ' + ' + '.join(columns_for_x) + ' + C(region) + C(week)'\n",
    "# formula = f'{name_y} ~ ' + ' + '.join(columns_for_x) + ' + C(region)'\n",
    "import statsmodels.api as sm\n",
    "\n",
    "model = sm.OLS.from_formula(formula, data=tmp)\n",
    "results = model.fit(cov_type='HAC', cov_kwds={'maxlags': 5})"
   ],
   "metadata": {
    "collapsed": false,
    "pycharm": {
     "name": "#%%\n"
    }
   }
  },
  {
   "cell_type": "code",
   "execution_count": 191,
   "outputs": [
    {
     "name": "stdout",
     "output_type": "stream",
     "text": [
      "                            OLS Regression Results                            \n",
      "==============================================================================\n",
      "Dep. Variable:         sum_unemployed   R-squared:                       0.566\n",
      "Model:                            OLS   Adj. R-squared:                  0.545\n",
      "Method:                 Least Squares   F-statistic:                     20.39\n",
      "Date:                Tue, 19 Dec 2023   Prob (F-statistic):          1.99e-273\n",
      "Time:                        15:34:36   Log-Likelihood:                 14860.\n",
      "No. Observations:                2489   AIC:                        -2.949e+04\n",
      "Df Residuals:                    2373   BIC:                        -2.881e+04\n",
      "Df Model:                         115                                         \n",
      "Covariance Type:                  HAC                                         \n",
      "===============================================================================================================\n",
      "                                                  coef    std err          z      P>|z|      [0.025      0.975]\n",
      "---------------------------------------------------------------------------------------------------------------\n",
      "Intercept                                       0.0007      0.000      5.026      0.000       0.000       0.001\n",
      "C(region)[T.Алтай]                              0.0009      0.000      6.425      0.000       0.001       0.001\n",
      "C(region)[T.Алтайский край]                    -0.0006      0.000     -4.028      0.000      -0.001      -0.000\n",
      "C(region)[T.Амурская]                          -0.0002      0.000     -1.634      0.102      -0.000    3.46e-05\n",
      "C(region)[T.Архангельская]                     -0.0006      0.000     -5.344      0.000      -0.001      -0.000\n",
      "C(region)[T.Астраханская]                       0.0004      0.000      3.583      0.000       0.000       0.001\n",
      "C(region)[T.Башкортостан]                      -0.0003      0.000     -2.796      0.005      -0.001   -9.35e-05\n",
      "C(region)[T.Белгородская]                      -0.0007      0.000     -6.401      0.000      -0.001      -0.001\n",
      "C(region)[T.Брянская]                          -0.0002      0.000     -1.729      0.084      -0.001    3.18e-05\n",
      "C(region)[T.Бурятия]                            0.0002      0.000      0.821      0.411      -0.000       0.001\n",
      "C(region)[T.Владимирская]                      -0.0003      0.000     -1.904      0.057      -0.001    7.33e-06\n",
      "C(region)[T.Волгоградская]                     -0.0004      0.000     -3.572      0.000      -0.001      -0.000\n",
      "C(region)[T.Вологодская]                       -0.0003      0.000     -2.687      0.007      -0.001   -8.45e-05\n",
      "C(region)[T.Воронежская]                       -0.0004      0.000     -3.668      0.000      -0.001      -0.000\n",
      "C(region)[T.Дагестан]                           0.0012      0.001      2.156      0.031       0.000       0.002\n",
      "C(region)[T.Еврейская АО]                      -0.0002      0.000     -1.577      0.115      -0.000    4.61e-05\n",
      "C(region)[T.Забайкальский край]                5.5e-05      0.000      0.451      0.652      -0.000       0.000\n",
      "C(region)[T.Ивановская]                     -9.202e-05      0.000     -0.580      0.562      -0.000       0.000\n",
      "C(region)[T.Ингушетия]                          0.0028      0.001      1.879      0.060      -0.000       0.006\n",
      "C(region)[T.Иркутская]                         -0.0004      0.000     -2.697      0.007      -0.001   -9.58e-05\n",
      "C(region)[T.Кабардино-Балкария]                 0.0016      0.000      3.293      0.001       0.001       0.003\n",
      "C(region)[T.Калининградская]                    0.0002      0.000      1.239      0.215      -0.000       0.001\n",
      "C(region)[T.Калмыкия]                          -0.0002      0.000     -1.568      0.117      -0.000    4.52e-05\n",
      "C(region)[T.Калужская]                         -0.0006      0.000     -5.324      0.000      -0.001      -0.000\n",
      "C(region)[T.Камчатский край]                   -0.0008      0.000     -4.926      0.000      -0.001      -0.000\n",
      "C(region)[T.Карачаево-Черкессия]                0.0008      0.001      1.157      0.247      -0.001       0.002\n",
      "C(region)[T.Карелия]                        -8.113e-05      0.000     -0.553      0.580      -0.000       0.000\n",
      "C(region)[T.Кемеровская]                    -8.805e-05      0.000     -0.691      0.489      -0.000       0.000\n",
      "C(region)[T.Кировская]                         -0.0004      0.000     -3.614      0.000      -0.001      -0.000\n",
      "C(region)[T.Коми]                              -0.0002      0.000     -1.092      0.275      -0.000       0.000\n",
      "C(region)[T.Костромская]                    -9.267e-05      0.000     -0.552      0.581      -0.000       0.000\n",
      "C(region)[T.Краснодарский край]              9.232e-05      0.000      0.418      0.676      -0.000       0.001\n",
      "C(region)[T.Красноярский край]                 -0.0003      0.000     -2.939      0.003      -0.001      -0.000\n",
      "C(region)[T.Крым]                           -7.805e-05      0.000     -0.602      0.547      -0.000       0.000\n",
      "C(region)[T.Курганская]                     -1.449e-05      0.000     -0.115      0.909      -0.000       0.000\n",
      "C(region)[T.Курская]                           -0.0005      0.000     -4.363      0.000      -0.001      -0.000\n",
      "C(region)[T.Ленинградская]                     -0.0005      0.000     -4.295      0.000      -0.001      -0.000\n",
      "C(region)[T.Липецкая]                          -0.0009      0.000     -7.391      0.000      -0.001      -0.001\n",
      "C(region)[T.Магаданская]                       -0.0010      0.000     -6.867      0.000      -0.001      -0.001\n",
      "C(region)[T.Марий Эл]                          -0.0006      0.000     -4.985      0.000      -0.001      -0.000\n",
      "C(region)[T.Мордовия]                          -0.0005      0.000     -4.667      0.000      -0.001      -0.000\n",
      "C(region)[T.Москва]                            -0.0010      0.000     -6.587      0.000      -0.001      -0.001\n",
      "C(region)[T.Московская]                        -0.0004      0.000     -2.535      0.011      -0.001    -9.8e-05\n",
      "C(region)[T.Мурманская]                        -0.0008      0.000     -4.988      0.000      -0.001      -0.000\n",
      "C(region)[T.Ненецкий АО]                       -0.0007      0.000     -4.635      0.000      -0.001      -0.000\n",
      "C(region)[T.Нижегородская]                     -0.0006      0.000     -5.048      0.000      -0.001      -0.000\n",
      "C(region)[T.Новгородская]                      -0.0005      0.000     -3.757      0.000      -0.001      -0.000\n",
      "C(region)[T.Новосибирская]                  -2.859e-05      0.000     -0.247      0.805      -0.000       0.000\n",
      "C(region)[T.Омская]                            -0.0001      0.000     -1.093      0.274      -0.000       0.000\n",
      "C(region)[T.Оренбургская]                    6.252e-05      0.000      0.439      0.661      -0.000       0.000\n",
      "C(region)[T.Орловская]                         -0.0005      0.000     -3.783      0.000      -0.001      -0.000\n",
      "C(region)[T.Пензенская]                        -0.0003      0.000     -2.871      0.004      -0.001   -9.98e-05\n",
      "C(region)[T.Пермский край]                   2.136e-05      0.000      0.159      0.873      -0.000       0.000\n",
      "C(region)[T.Приморский край]                   -0.0004      0.000     -3.893      0.000      -0.001      -0.000\n",
      "C(region)[T.Псковская]                         -0.0006      0.000     -5.099      0.000      -0.001      -0.000\n",
      "C(region)[T.Ростовская]                     -4.227e-05      0.000     -0.396      0.692      -0.000       0.000\n",
      "C(region)[T.Рязанская]                         -0.0006      0.000     -5.389      0.000      -0.001      -0.000\n",
      "C(region)[T.Самарская]                         -0.0005      0.000     -4.667      0.000      -0.001      -0.000\n",
      "C(region)[T.Санкт-Петербург]                   -0.0004      0.000     -2.525      0.012      -0.001   -8.76e-05\n",
      "C(region)[T.Саратовская]                       -0.0002      0.000     -2.079      0.038      -0.000   -1.27e-05\n",
      "C(region)[T.Саха]                            4.802e-05      0.000      0.388      0.698      -0.000       0.000\n",
      "C(region)[T.Сахалинская]                       -0.0010      0.000     -6.210      0.000      -0.001      -0.001\n",
      "C(region)[T.Свердловская]                      -0.0001      0.000     -1.024      0.306      -0.000       0.000\n",
      "C(region)[T.Севастополь]                       -0.0006      0.000     -3.192      0.001      -0.001      -0.000\n",
      "C(region)[T.Северная Осетия]                    0.0002      0.000      0.964      0.335      -0.000       0.001\n",
      "C(region)[T.Смоленская]                        -0.0005      0.000     -4.491      0.000      -0.001      -0.000\n",
      "C(region)[T.Ставропольский край]               -0.0001      0.000     -1.064      0.287      -0.000    9.78e-05\n",
      "C(region)[T.Тамбовская]                        -0.0008      0.000     -6.769      0.000      -0.001      -0.001\n",
      "C(region)[T.Татарстан]                         -0.0002      0.000     -1.346      0.178      -0.001       0.000\n",
      "C(region)[T.Тверская]                          -0.0006      0.000     -4.773      0.000      -0.001      -0.000\n",
      "C(region)[T.Томская]                           -0.0002      0.000     -1.206      0.228      -0.000    9.48e-05\n",
      "C(region)[T.Тульская]                          -0.0005      0.000     -3.928      0.000      -0.001      -0.000\n",
      "C(region)[T.Тыва]                               0.0010      0.000      2.615      0.009       0.000       0.002\n",
      "C(region)[T.Тюменская]                       3.981e-05      0.000      0.237      0.812      -0.000       0.000\n",
      "C(region)[T.Удмуртия]                          -0.0006      0.000     -4.630      0.000      -0.001      -0.000\n",
      "C(region)[T.Ульяновская]                    -8.116e-05      0.000     -0.731      0.465      -0.000       0.000\n",
      "C(region)[T.ХМАО]                              -0.0003      0.000     -3.123      0.002      -0.001      -0.000\n",
      "C(region)[T.Хабаровский край]                  -0.0004      0.000     -3.571      0.000      -0.001      -0.000\n",
      "C(region)[T.Хакасия]                           -0.0002      0.000     -1.481      0.139      -0.001    7.21e-05\n",
      "C(region)[T.Челябинская]                       -0.0002      0.000     -2.020      0.043      -0.000   -6.68e-06\n",
      "C(region)[T.Чувашия]                         -9.46e-05      0.000     -0.623      0.533      -0.000       0.000\n",
      "C(region)[T.Ямало-Ненецкий АО]                 -0.0009      0.000     -5.750      0.000      -0.001      -0.001\n",
      "C(region)[T.Ярославская]                       -0.0002      0.000     -1.586      0.113      -0.001    5.29e-05\n",
      "C(week)[T.Timestamp('2020-04-13 00:00:00')]     0.0015      0.000     11.376      0.000       0.001       0.002\n",
      "C(week)[T.Timestamp('2020-04-20 00:00:00')]     0.0013      0.000     13.003      0.000       0.001       0.002\n",
      "C(week)[T.Timestamp('2020-04-27 00:00:00')]     0.0010      0.000      8.627      0.000       0.001       0.001\n",
      "C(week)[T.Timestamp('2020-05-04 00:00:00')]     0.0003   9.59e-05      3.420      0.001       0.000       0.001\n",
      "C(week)[T.Timestamp('2020-05-11 00:00:00')]     0.0010      0.000      9.543      0.000       0.001       0.001\n",
      "C(week)[T.Timestamp('2020-05-18 00:00:00')]     0.0009   9.76e-05      8.756      0.000       0.001       0.001\n",
      "C(week)[T.Timestamp('2020-05-25 00:00:00')]     0.0008      9e-05      9.042      0.000       0.001       0.001\n",
      "C(week)[T.Timestamp('2020-06-01 00:00:00')]     0.0010   9.65e-05     10.728      0.000       0.001       0.001\n",
      "C(week)[T.Timestamp('2020-06-08 00:00:00')]     0.0006    9.8e-05      5.734      0.000       0.000       0.001\n",
      "C(week)[T.Timestamp('2020-06-15 00:00:00')]     0.0010      0.000      6.058      0.000       0.001       0.001\n",
      "C(week)[T.Timestamp('2020-06-22 00:00:00')]     0.0008      0.000      5.138      0.000       0.001       0.001\n",
      "C(week)[T.Timestamp('2020-06-29 00:00:00')]     0.0007      0.000      5.517      0.000       0.000       0.001\n",
      "C(week)[T.Timestamp('2020-07-06 00:00:00')]     0.0007      0.000      5.581      0.000       0.000       0.001\n",
      "C(week)[T.Timestamp('2020-07-13 00:00:00')]     0.0006      0.000      4.797      0.000       0.000       0.001\n",
      "C(week)[T.Timestamp('2020-07-20 00:00:00')]     0.0005      0.000      4.913      0.000       0.000       0.001\n",
      "C(week)[T.Timestamp('2020-07-27 00:00:00')]     0.0006   9.69e-05      6.043      0.000       0.000       0.001\n",
      "C(week)[T.Timestamp('2020-08-03 00:00:00')]     0.0005    8.8e-05      5.390      0.000       0.000       0.001\n",
      "C(week)[T.Timestamp('2020-08-10 00:00:00')]     0.0004   9.23e-05      4.350      0.000       0.000       0.001\n",
      "C(week)[T.Timestamp('2020-08-17 00:00:00')]     0.0003    9.2e-05      2.970      0.003     9.3e-05       0.000\n",
      "C(week)[T.Timestamp('2020-08-24 00:00:00')]     0.0002   8.38e-05      1.884      0.060   -6.41e-06       0.000\n",
      "C(week)[T.Timestamp('2020-08-31 00:00:00')]     0.0001   9.75e-05      1.248      0.212   -6.95e-05       0.000\n",
      "C(week)[T.Timestamp('2020-09-07 00:00:00')]     0.0002    9.3e-05      2.401      0.016     4.1e-05       0.000\n",
      "C(week)[T.Timestamp('2020-09-14 00:00:00')]     0.0002      0.000      1.549      0.121   -4.26e-05       0.000\n",
      "C(week)[T.Timestamp('2020-09-21 00:00:00')]  7.041e-05   8.94e-05      0.787      0.431      -0.000       0.000\n",
      "C(week)[T.Timestamp('2020-09-28 00:00:00')]     0.0001   9.89e-05      1.138      0.255   -8.13e-05       0.000\n",
      "C(week)[T.Timestamp('2020-10-05 00:00:00')]  6.665e-05   9.66e-05      0.690      0.490      -0.000       0.000\n",
      "C(week)[T.Timestamp('2020-10-12 00:00:00')]  4.595e-05      0.000      0.397      0.692      -0.000       0.000\n",
      "C(week)[T.Timestamp('2020-10-19 00:00:00')]  1.395e-05      0.000      0.139      0.890      -0.000       0.000\n",
      "C(week)[T.Timestamp('2020-10-26 00:00:00')]    -0.0002      0.000     -1.989      0.047      -0.000   -3.06e-06\n",
      "infections                                      0.1101      0.070      1.581      0.114      -0.026       0.247\n",
      "Rt                                          -1.179e-06   9.78e-06     -0.121      0.904   -2.03e-05     1.8e-05\n",
      "deaths                                         -4.7178      3.517     -1.341      0.180     -11.611       2.176\n",
      "healed                                          0.1110      0.076      1.454      0.146      -0.039       0.261\n",
      "==============================================================================\n",
      "Omnibus:                     2575.401   Durbin-Watson:                   0.437\n",
      "Prob(Omnibus):                  0.000   Jarque-Bera (JB):           426827.932\n",
      "Skew:                           4.677   Prob(JB):                         0.00\n",
      "Kurtosis:                      66.468   Cond. No.                     3.81e+05\n",
      "==============================================================================\n",
      "\n",
      "Notes:\n",
      "[1] Standard Errors are heteroscedasticity and autocorrelation robust (HAC) using 5 lags and without small sample correction\n",
      "[2] The condition number is large, 3.81e+05. This might indicate that there are\n",
      "strong multicollinearity or other numerical problems.\n"
     ]
    }
   ],
   "source": [
    "print(results.summary())"
   ],
   "metadata": {
    "collapsed": false,
    "pycharm": {
     "name": "#%%\n"
    }
   }
  },
  {
   "cell_type": "markdown",
   "source": [
    "## тест  Бройша-Пагана"
   ],
   "metadata": {
    "collapsed": false,
    "pycharm": {
     "name": "#%% md\n"
    }
   }
  },
  {
   "cell_type": "code",
   "execution_count": 192,
   "outputs": [],
   "source": [
    "from statsmodels.stats.diagnostic import het_breuschpagan"
   ],
   "metadata": {
    "collapsed": false,
    "pycharm": {
     "name": "#%%\n"
    }
   }
  },
  {
   "cell_type": "code",
   "execution_count": 193,
   "outputs": [
    {
     "name": "stdout",
     "output_type": "stream",
     "text": [
      "P-value: 7.704547240710844e-106\n"
     ]
    }
   ],
   "source": [
    "_, p_value, _, _ = het_breuschpagan(results.resid, results.model.exog)\n",
    "print('P-value:', p_value)\n",
    "\n",
    "# нулева ягипотеза отвергается -> в данных гетероскедастичность"
   ],
   "metadata": {
    "collapsed": false,
    "pycharm": {
     "name": "#%%\n"
    }
   }
  },
  {
   "cell_type": "code",
   "execution_count": null,
   "outputs": [],
   "source": [
    "# F-тест для модели с фиксированными эффектами (что модель адекватна)"
   ],
   "metadata": {
    "collapsed": false,
    "pycharm": {
     "name": "#%%\n"
    }
   }
  },
  {
   "cell_type": "code",
   "execution_count": null,
   "outputs": [],
   "source": [],
   "metadata": {
    "collapsed": false,
    "pycharm": {
     "name": "#%%\n"
    }
   }
  },
  {
   "cell_type": "markdown",
   "source": [
    "## тест хаусмана"
   ],
   "metadata": {
    "collapsed": false,
    "pycharm": {
     "name": "#%% md\n"
    }
   }
  },
  {
   "cell_type": "code",
   "execution_count": 194,
   "outputs": [],
   "source": [
    "from linearmodels.panel import PanelOLS\n",
    "from linearmodels.panel import RandomEffects\n",
    "from linearmodels.panel import PanelOLS\n"
   ],
   "metadata": {
    "collapsed": false,
    "pycharm": {
     "name": "#%%\n"
    }
   }
  },
  {
   "cell_type": "code",
   "execution_count": 195,
   "outputs": [],
   "source": [
    "data_for_hausman = tmp[columns_for_x + [\"region\", \"week\", \"procent_unemployed\"]]"
   ],
   "metadata": {
    "collapsed": false,
    "pycharm": {
     "name": "#%%\n"
    }
   }
  },
  {
   "cell_type": "code",
   "execution_count": null,
   "outputs": [],
   "source": [
    "dependent_variable = \"procent_unemployed\""
   ],
   "metadata": {
    "collapsed": false,
    "pycharm": {
     "name": "#%%\n"
    }
   }
  },
  {
   "cell_type": "code",
   "execution_count": 239,
   "outputs": [],
   "source": [
    "\n",
    "tmp = tmp.reset_index()"
   ],
   "metadata": {
    "collapsed": false,
    "pycharm": {
     "name": "#%%\n"
    }
   }
  },
  {
   "cell_type": "code",
   "execution_count": 250,
   "outputs": [
    {
     "ename": "NotImplementedError",
     "evalue": "int64",
     "output_type": "error",
     "traceback": [
      "\u001B[1;31m---------------------------------------------------------------------------\u001B[0m",
      "\u001B[1;31mNotImplementedError\u001B[0m                       Traceback (most recent call last)",
      "Input \u001B[1;32mIn [250]\u001B[0m, in \u001B[0;36m<cell line: 1>\u001B[1;34m()\u001B[0m\n\u001B[1;32m----> 1\u001B[0m tmp[\u001B[38;5;124m\"\u001B[39m\u001B[38;5;124mweek\u001B[39m\u001B[38;5;124m\"\u001B[39m] \u001B[38;5;241m=\u001B[39m pd\u001B[38;5;241m.\u001B[39mto_datetime(tmp[\u001B[38;5;124m\"\u001B[39m\u001B[38;5;124mweek\u001B[39m\u001B[38;5;124m\"\u001B[39m])\u001B[38;5;241m.\u001B[39mview(\u001B[38;5;124m'\u001B[39m\u001B[38;5;124mint64\u001B[39m\u001B[38;5;124m'\u001B[39m)\n",
      "File \u001B[1;32mc:\\users\\iltya\\appdata\\local\\programs\\python\\python39\\lib\\site-packages\\pandas\\core\\series.py:817\u001B[0m, in \u001B[0;36mSeries.view\u001B[1;34m(self, dtype)\u001B[0m\n\u001B[0;32m    750\u001B[0m \u001B[38;5;250m\u001B[39m\u001B[38;5;124;03m\"\"\"\u001B[39;00m\n\u001B[0;32m    751\u001B[0m \u001B[38;5;124;03mCreate a new view of the Series.\u001B[39;00m\n\u001B[0;32m    752\u001B[0m \n\u001B[1;32m   (...)\u001B[0m\n\u001B[0;32m    813\u001B[0m \u001B[38;5;124;03mdtype: int8\u001B[39;00m\n\u001B[0;32m    814\u001B[0m \u001B[38;5;124;03m\"\"\"\u001B[39;00m\n\u001B[0;32m    815\u001B[0m \u001B[38;5;66;03m# self.array instead of self._values so we piggyback on PandasArray\u001B[39;00m\n\u001B[0;32m    816\u001B[0m \u001B[38;5;66;03m#  implementation\u001B[39;00m\n\u001B[1;32m--> 817\u001B[0m res_values \u001B[38;5;241m=\u001B[39m \u001B[38;5;28;43mself\u001B[39;49m\u001B[38;5;241;43m.\u001B[39;49m\u001B[43marray\u001B[49m\u001B[38;5;241;43m.\u001B[39;49m\u001B[43mview\u001B[49m\u001B[43m(\u001B[49m\u001B[43mdtype\u001B[49m\u001B[43m)\u001B[49m\n\u001B[0;32m    818\u001B[0m res_ser \u001B[38;5;241m=\u001B[39m \u001B[38;5;28mself\u001B[39m\u001B[38;5;241m.\u001B[39m_constructor(res_values, index\u001B[38;5;241m=\u001B[39m\u001B[38;5;28mself\u001B[39m\u001B[38;5;241m.\u001B[39mindex)\n\u001B[0;32m    819\u001B[0m \u001B[38;5;28;01mreturn\u001B[39;00m res_ser\u001B[38;5;241m.\u001B[39m__finalize__(\u001B[38;5;28mself\u001B[39m, method\u001B[38;5;241m=\u001B[39m\u001B[38;5;124m\"\u001B[39m\u001B[38;5;124mview\u001B[39m\u001B[38;5;124m\"\u001B[39m)\n",
      "File \u001B[1;32mc:\\users\\iltya\\appdata\\local\\programs\\python\\python39\\lib\\site-packages\\pandas\\core\\arrays\\categorical.py:1910\u001B[0m, in \u001B[0;36mCategorical.view\u001B[1;34m(self, dtype)\u001B[0m\n\u001B[0;32m   1908\u001B[0m \u001B[38;5;28;01mdef\u001B[39;00m \u001B[38;5;21mview\u001B[39m(\u001B[38;5;28mself\u001B[39m, dtype\u001B[38;5;241m=\u001B[39m\u001B[38;5;28;01mNone\u001B[39;00m):\n\u001B[0;32m   1909\u001B[0m     \u001B[38;5;28;01mif\u001B[39;00m dtype \u001B[38;5;129;01mis\u001B[39;00m \u001B[38;5;129;01mnot\u001B[39;00m \u001B[38;5;28;01mNone\u001B[39;00m:\n\u001B[1;32m-> 1910\u001B[0m         \u001B[38;5;28;01mraise\u001B[39;00m \u001B[38;5;167;01mNotImplementedError\u001B[39;00m(dtype)\n\u001B[0;32m   1911\u001B[0m     \u001B[38;5;28;01mreturn\u001B[39;00m \u001B[38;5;28mself\u001B[39m\u001B[38;5;241m.\u001B[39m_from_backing_data(\u001B[38;5;28mself\u001B[39m\u001B[38;5;241m.\u001B[39m_ndarray)\n",
      "\u001B[1;31mNotImplementedError\u001B[0m: int64"
     ]
    }
   ],
   "source": [
    "tmp[\"week\"] = pd.to_datetime(tmp[\"week\"]).view('int64')"
   ],
   "metadata": {
    "collapsed": false,
    "pycharm": {
     "name": "#%%\n"
    }
   }
  },
  {
   "cell_type": "code",
   "execution_count": 260,
   "outputs": [
    {
     "ename": "ValueError",
     "evalue": "Series can only be used with a 2-level MultiIndex",
     "output_type": "error",
     "traceback": [
      "\u001B[1;31m---------------------------------------------------------------------------\u001B[0m",
      "\u001B[1;31mValueError\u001B[0m                                Traceback (most recent call last)",
      "Input \u001B[1;32mIn [260]\u001B[0m, in \u001B[0;36m<cell line: 1>\u001B[1;34m()\u001B[0m\n\u001B[1;32m----> 1\u001B[0m fe_model \u001B[38;5;241m=\u001B[39m PanelOLS(tmp\u001B[38;5;241m.\u001B[39mprocent_unemployed, tmp[columns_for_x], entity_effects\u001B[38;5;241m=\u001B[39m\u001B[38;5;28;01mTrue\u001B[39;00m)\n",
      "File \u001B[1;32mc:\\users\\iltya\\appdata\\local\\programs\\python\\python39\\lib\\site-packages\\linearmodels\\panel\\model.py:1214\u001B[0m, in \u001B[0;36mPanelOLS.__init__\u001B[1;34m(self, dependent, exog, weights, entity_effects, time_effects, other_effects, singletons, drop_absorbed, check_rank)\u001B[0m\n\u001B[0;32m   1201\u001B[0m \u001B[38;5;28;01mdef\u001B[39;00m \u001B[38;5;21m__init__\u001B[39m(\n\u001B[0;32m   1202\u001B[0m     \u001B[38;5;28mself\u001B[39m,\n\u001B[0;32m   1203\u001B[0m     dependent: PanelDataLike,\n\u001B[1;32m   (...)\u001B[0m\n\u001B[0;32m   1212\u001B[0m     check_rank: \u001B[38;5;28mbool\u001B[39m \u001B[38;5;241m=\u001B[39m \u001B[38;5;28;01mTrue\u001B[39;00m,\n\u001B[0;32m   1213\u001B[0m ) \u001B[38;5;241m-\u001B[39m\u001B[38;5;241m>\u001B[39m \u001B[38;5;28;01mNone\u001B[39;00m:\n\u001B[1;32m-> 1214\u001B[0m     \u001B[38;5;28;43msuper\u001B[39;49m\u001B[43m(\u001B[49m\u001B[43m)\u001B[49m\u001B[38;5;241;43m.\u001B[39;49m\u001B[38;5;21;43m__init__\u001B[39;49m\u001B[43m(\u001B[49m\u001B[43mdependent\u001B[49m\u001B[43m,\u001B[49m\u001B[43m \u001B[49m\u001B[43mexog\u001B[49m\u001B[43m,\u001B[49m\u001B[43m \u001B[49m\u001B[43mweights\u001B[49m\u001B[38;5;241;43m=\u001B[39;49m\u001B[43mweights\u001B[49m\u001B[43m,\u001B[49m\u001B[43m \u001B[49m\u001B[43mcheck_rank\u001B[49m\u001B[38;5;241;43m=\u001B[39;49m\u001B[43mcheck_rank\u001B[49m\u001B[43m)\u001B[49m\n\u001B[0;32m   1216\u001B[0m     \u001B[38;5;28mself\u001B[39m\u001B[38;5;241m.\u001B[39m_entity_effects \u001B[38;5;241m=\u001B[39m entity_effects\n\u001B[0;32m   1217\u001B[0m     \u001B[38;5;28mself\u001B[39m\u001B[38;5;241m.\u001B[39m_time_effects \u001B[38;5;241m=\u001B[39m time_effects\n",
      "File \u001B[1;32mc:\\users\\iltya\\appdata\\local\\programs\\python\\python39\\lib\\site-packages\\linearmodels\\panel\\model.py:308\u001B[0m, in \u001B[0;36m_PanelModelBase.__init__\u001B[1;34m(self, dependent, exog, weights, check_rank)\u001B[0m\n\u001B[0;32m    300\u001B[0m \u001B[38;5;28;01mdef\u001B[39;00m \u001B[38;5;21m__init__\u001B[39m(\n\u001B[0;32m    301\u001B[0m     \u001B[38;5;28mself\u001B[39m,\n\u001B[0;32m    302\u001B[0m     dependent: PanelDataLike,\n\u001B[1;32m   (...)\u001B[0m\n\u001B[0;32m    306\u001B[0m     check_rank: \u001B[38;5;28mbool\u001B[39m \u001B[38;5;241m=\u001B[39m \u001B[38;5;28;01mTrue\u001B[39;00m,\n\u001B[0;32m    307\u001B[0m ) \u001B[38;5;241m-\u001B[39m\u001B[38;5;241m>\u001B[39m \u001B[38;5;28;01mNone\u001B[39;00m:\n\u001B[1;32m--> 308\u001B[0m     \u001B[38;5;28mself\u001B[39m\u001B[38;5;241m.\u001B[39mdependent \u001B[38;5;241m=\u001B[39m \u001B[43mPanelData\u001B[49m\u001B[43m(\u001B[49m\u001B[43mdependent\u001B[49m\u001B[43m,\u001B[49m\u001B[43m \u001B[49m\u001B[38;5;124;43m\"\u001B[39;49m\u001B[38;5;124;43mDep\u001B[39;49m\u001B[38;5;124;43m\"\u001B[39;49m\u001B[43m)\u001B[49m\n\u001B[0;32m    309\u001B[0m     \u001B[38;5;28mself\u001B[39m\u001B[38;5;241m.\u001B[39mexog \u001B[38;5;241m=\u001B[39m PanelData(exog, \u001B[38;5;124m\"\u001B[39m\u001B[38;5;124mExog\u001B[39m\u001B[38;5;124m\"\u001B[39m)\n\u001B[0;32m    310\u001B[0m     \u001B[38;5;28mself\u001B[39m\u001B[38;5;241m.\u001B[39m_original_shape \u001B[38;5;241m=\u001B[39m \u001B[38;5;28mself\u001B[39m\u001B[38;5;241m.\u001B[39mdependent\u001B[38;5;241m.\u001B[39mshape\n",
      "File \u001B[1;32mc:\\users\\iltya\\appdata\\local\\programs\\python\\python39\\lib\\site-packages\\linearmodels\\panel\\data.py:215\u001B[0m, in \u001B[0;36mPanelData.__init__\u001B[1;34m(self, x, var_name, convert_dummies, drop_first, copy)\u001B[0m\n\u001B[0;32m    213\u001B[0m     x \u001B[38;5;241m=\u001B[39m DataFrame(x)\n\u001B[0;32m    214\u001B[0m \u001B[38;5;28;01melif\u001B[39;00m \u001B[38;5;28misinstance\u001B[39m(x, Series):\n\u001B[1;32m--> 215\u001B[0m     \u001B[38;5;28;01mraise\u001B[39;00m \u001B[38;5;167;01mValueError\u001B[39;00m(\u001B[38;5;124m\"\u001B[39m\u001B[38;5;124mSeries can only be used with a 2-level MultiIndex\u001B[39m\u001B[38;5;124m\"\u001B[39m)\n\u001B[0;32m    217\u001B[0m \u001B[38;5;28;01mif\u001B[39;00m \u001B[38;5;28misinstance\u001B[39m(x, DataFrame):\n\u001B[0;32m    218\u001B[0m     \u001B[38;5;28;01mif\u001B[39;00m \u001B[38;5;28misinstance\u001B[39m(x\u001B[38;5;241m.\u001B[39mindex, MultiIndex):\n",
      "\u001B[1;31mValueError\u001B[0m: Series can only be used with a 2-level MultiIndex"
     ]
    }
   ],
   "source": [
    "fe_model = PanelOLS(tmp.procent_unemployed, tmp[columns_for_x], entity_effects=True)"
   ],
   "metadata": {
    "collapsed": false,
    "pycharm": {
     "name": "#%%\n"
    }
   }
  },
  {
   "cell_type": "code",
   "execution_count": null,
   "outputs": [],
   "source": [],
   "metadata": {
    "collapsed": false,
    "pycharm": {
     "name": "#%%\n"
    }
   }
  },
  {
   "cell_type": "code",
   "execution_count": 230,
   "outputs": [],
   "source": [
    "tmp = tmp.set_index([\"region\", \"week\"])\n",
    "# tmp = tmp.set_index('week')"
   ],
   "metadata": {
    "collapsed": false,
    "pycharm": {
     "name": "#%%\n"
    }
   }
  },
  {
   "cell_type": "code",
   "execution_count": 231,
   "outputs": [
    {
     "ename": "ValueError",
     "evalue": "The index on the time dimension must be either numeric or date-like",
     "output_type": "error",
     "traceback": [
      "\u001B[1;31m---------------------------------------------------------------------------\u001B[0m",
      "\u001B[1;31mValueError\u001B[0m                                Traceback (most recent call last)",
      "Input \u001B[1;32mIn [231]\u001B[0m, in \u001B[0;36m<cell line: 1>\u001B[1;34m()\u001B[0m\n\u001B[1;32m----> 1\u001B[0m mod \u001B[38;5;241m=\u001B[39m PanelOLS(tmp\u001B[38;5;241m.\u001B[39mprocent_unemployed, tmp[columns_for_x], time_effects\u001B[38;5;241m=\u001B[39m\u001B[38;5;28;01mTrue\u001B[39;00m, entity_effects\u001B[38;5;241m=\u001B[39m\u001B[38;5;28;01mTrue\u001B[39;00m)\n",
      "File \u001B[1;32mc:\\users\\iltya\\appdata\\local\\programs\\python\\python39\\lib\\site-packages\\linearmodels\\panel\\model.py:1214\u001B[0m, in \u001B[0;36mPanelOLS.__init__\u001B[1;34m(self, dependent, exog, weights, entity_effects, time_effects, other_effects, singletons, drop_absorbed, check_rank)\u001B[0m\n\u001B[0;32m   1201\u001B[0m \u001B[38;5;28;01mdef\u001B[39;00m \u001B[38;5;21m__init__\u001B[39m(\n\u001B[0;32m   1202\u001B[0m     \u001B[38;5;28mself\u001B[39m,\n\u001B[0;32m   1203\u001B[0m     dependent: PanelDataLike,\n\u001B[1;32m   (...)\u001B[0m\n\u001B[0;32m   1212\u001B[0m     check_rank: \u001B[38;5;28mbool\u001B[39m \u001B[38;5;241m=\u001B[39m \u001B[38;5;28;01mTrue\u001B[39;00m,\n\u001B[0;32m   1213\u001B[0m ) \u001B[38;5;241m-\u001B[39m\u001B[38;5;241m>\u001B[39m \u001B[38;5;28;01mNone\u001B[39;00m:\n\u001B[1;32m-> 1214\u001B[0m     \u001B[38;5;28;43msuper\u001B[39;49m\u001B[43m(\u001B[49m\u001B[43m)\u001B[49m\u001B[38;5;241;43m.\u001B[39;49m\u001B[38;5;21;43m__init__\u001B[39;49m\u001B[43m(\u001B[49m\u001B[43mdependent\u001B[49m\u001B[43m,\u001B[49m\u001B[43m \u001B[49m\u001B[43mexog\u001B[49m\u001B[43m,\u001B[49m\u001B[43m \u001B[49m\u001B[43mweights\u001B[49m\u001B[38;5;241;43m=\u001B[39;49m\u001B[43mweights\u001B[49m\u001B[43m,\u001B[49m\u001B[43m \u001B[49m\u001B[43mcheck_rank\u001B[49m\u001B[38;5;241;43m=\u001B[39;49m\u001B[43mcheck_rank\u001B[49m\u001B[43m)\u001B[49m\n\u001B[0;32m   1216\u001B[0m     \u001B[38;5;28mself\u001B[39m\u001B[38;5;241m.\u001B[39m_entity_effects \u001B[38;5;241m=\u001B[39m entity_effects\n\u001B[0;32m   1217\u001B[0m     \u001B[38;5;28mself\u001B[39m\u001B[38;5;241m.\u001B[39m_time_effects \u001B[38;5;241m=\u001B[39m time_effects\n",
      "File \u001B[1;32mc:\\users\\iltya\\appdata\\local\\programs\\python\\python39\\lib\\site-packages\\linearmodels\\panel\\model.py:308\u001B[0m, in \u001B[0;36m_PanelModelBase.__init__\u001B[1;34m(self, dependent, exog, weights, check_rank)\u001B[0m\n\u001B[0;32m    300\u001B[0m \u001B[38;5;28;01mdef\u001B[39;00m \u001B[38;5;21m__init__\u001B[39m(\n\u001B[0;32m    301\u001B[0m     \u001B[38;5;28mself\u001B[39m,\n\u001B[0;32m    302\u001B[0m     dependent: PanelDataLike,\n\u001B[1;32m   (...)\u001B[0m\n\u001B[0;32m    306\u001B[0m     check_rank: \u001B[38;5;28mbool\u001B[39m \u001B[38;5;241m=\u001B[39m \u001B[38;5;28;01mTrue\u001B[39;00m,\n\u001B[0;32m    307\u001B[0m ) \u001B[38;5;241m-\u001B[39m\u001B[38;5;241m>\u001B[39m \u001B[38;5;28;01mNone\u001B[39;00m:\n\u001B[1;32m--> 308\u001B[0m     \u001B[38;5;28mself\u001B[39m\u001B[38;5;241m.\u001B[39mdependent \u001B[38;5;241m=\u001B[39m \u001B[43mPanelData\u001B[49m\u001B[43m(\u001B[49m\u001B[43mdependent\u001B[49m\u001B[43m,\u001B[49m\u001B[43m \u001B[49m\u001B[38;5;124;43m\"\u001B[39;49m\u001B[38;5;124;43mDep\u001B[39;49m\u001B[38;5;124;43m\"\u001B[39;49m\u001B[43m)\u001B[49m\n\u001B[0;32m    309\u001B[0m     \u001B[38;5;28mself\u001B[39m\u001B[38;5;241m.\u001B[39mexog \u001B[38;5;241m=\u001B[39m PanelData(exog, \u001B[38;5;124m\"\u001B[39m\u001B[38;5;124mExog\u001B[39m\u001B[38;5;124m\"\u001B[39m)\n\u001B[0;32m    310\u001B[0m     \u001B[38;5;28mself\u001B[39m\u001B[38;5;241m.\u001B[39m_original_shape \u001B[38;5;241m=\u001B[39m \u001B[38;5;28mself\u001B[39m\u001B[38;5;241m.\u001B[39mdependent\u001B[38;5;241m.\u001B[39mshape\n",
      "File \u001B[1;32mc:\\users\\iltya\\appdata\\local\\programs\\python\\python39\\lib\\site-packages\\linearmodels\\panel\\data.py:261\u001B[0m, in \u001B[0;36mPanelData.__init__\u001B[1;34m(self, x, var_name, convert_dummies, drop_first, copy)\u001B[0m\n\u001B[0;32m    256\u001B[0m time_index \u001B[38;5;241m=\u001B[39m Series(\u001B[38;5;28mself\u001B[39m\u001B[38;5;241m.\u001B[39mindex\u001B[38;5;241m.\u001B[39mlevels[\u001B[38;5;241m1\u001B[39m])\n\u001B[0;32m    257\u001B[0m \u001B[38;5;28;01mif\u001B[39;00m \u001B[38;5;129;01mnot\u001B[39;00m (\n\u001B[0;32m    258\u001B[0m     is_numeric_dtype(time_index\u001B[38;5;241m.\u001B[39mdtype)\n\u001B[0;32m    259\u001B[0m     \u001B[38;5;129;01mor\u001B[39;00m is_datetime64_any_dtype(time_index\u001B[38;5;241m.\u001B[39mdtype)\n\u001B[0;32m    260\u001B[0m ):\n\u001B[1;32m--> 261\u001B[0m     \u001B[38;5;28;01mraise\u001B[39;00m \u001B[38;5;167;01mValueError\u001B[39;00m(\n\u001B[0;32m    262\u001B[0m         \u001B[38;5;124m\"\u001B[39m\u001B[38;5;124mThe index on the time dimension must be either \u001B[39m\u001B[38;5;124m\"\u001B[39m \u001B[38;5;124m\"\u001B[39m\u001B[38;5;124mnumeric or date-like\u001B[39m\u001B[38;5;124m\"\u001B[39m\n\u001B[0;32m    263\u001B[0m     )\n\u001B[0;32m    264\u001B[0m \u001B[38;5;66;03m# self._k, self._t, self._n = self.panel.shape\u001B[39;00m\n\u001B[0;32m    265\u001B[0m \u001B[38;5;28mself\u001B[39m\u001B[38;5;241m.\u001B[39m_k, \u001B[38;5;28mself\u001B[39m\u001B[38;5;241m.\u001B[39m_t, \u001B[38;5;28mself\u001B[39m\u001B[38;5;241m.\u001B[39m_n \u001B[38;5;241m=\u001B[39m \u001B[38;5;28mself\u001B[39m\u001B[38;5;241m.\u001B[39mshape\n",
      "\u001B[1;31mValueError\u001B[0m: The index on the time dimension must be either numeric or date-like"
     ]
    }
   ],
   "source": [
    "mod = PanelOLS(tmp.procent_unemployed, tmp[columns_for_x], time_effects=True, entity_effects=True)"
   ],
   "metadata": {
    "collapsed": false,
    "pycharm": {
     "name": "#%%\n"
    }
   }
  },
  {
   "cell_type": "code",
   "execution_count": null,
   "outputs": [],
   "source": [],
   "metadata": {
    "collapsed": false,
    "pycharm": {
     "name": "#%%\n"
    }
   }
  },
  {
   "cell_type": "code",
   "execution_count": 211,
   "outputs": [
    {
     "ename": "ValueError",
     "evalue": "The index on the time dimension must be either numeric or date-like",
     "output_type": "error",
     "traceback": [
      "\u001B[1;31m---------------------------------------------------------------------------\u001B[0m",
      "\u001B[1;31mValueError\u001B[0m                                Traceback (most recent call last)",
      "Input \u001B[1;32mIn [211]\u001B[0m, in \u001B[0;36m<cell line: 1>\u001B[1;34m()\u001B[0m\n\u001B[1;32m----> 1\u001B[0m model \u001B[38;5;241m=\u001B[39m PanelOLS\u001B[38;5;241m.\u001B[39mfrom_formula(\u001B[38;5;124m'\u001B[39m\u001B[38;5;124mprocent_unemployed ~ 1 + infections + Rt + deaths + healed + TimeEffects\u001B[39m\u001B[38;5;124m'\u001B[39m, data\u001B[38;5;241m=\u001B[39mtmp)\u001B[38;5;241m.\u001B[39mfit()\n",
      "File \u001B[1;32mc:\\users\\iltya\\appdata\\local\\programs\\python\\python39\\lib\\site-packages\\linearmodels\\panel\\model.py:1414\u001B[0m, in \u001B[0;36mPanelOLS.from_formula\u001B[1;34m(cls, formula, data, weights, other_effects, singletons, drop_absorbed, check_rank)\u001B[0m\n\u001B[0;32m   1356\u001B[0m \u001B[38;5;129m@classmethod\u001B[39m\n\u001B[0;32m   1357\u001B[0m \u001B[38;5;28;01mdef\u001B[39;00m \u001B[38;5;21mfrom_formula\u001B[39m(\n\u001B[0;32m   1358\u001B[0m     \u001B[38;5;28mcls\u001B[39m,\n\u001B[1;32m   (...)\u001B[0m\n\u001B[0;32m   1366\u001B[0m     check_rank: \u001B[38;5;28mbool\u001B[39m \u001B[38;5;241m=\u001B[39m \u001B[38;5;28;01mTrue\u001B[39;00m,\n\u001B[0;32m   1367\u001B[0m ) \u001B[38;5;241m-\u001B[39m\u001B[38;5;241m>\u001B[39m PanelOLS:\n\u001B[0;32m   1368\u001B[0m \u001B[38;5;250m    \u001B[39m\u001B[38;5;124;03m\"\"\"\u001B[39;00m\n\u001B[0;32m   1369\u001B[0m \u001B[38;5;124;03m    Create a model from a formula\u001B[39;00m\n\u001B[0;32m   1370\u001B[0m \n\u001B[1;32m   (...)\u001B[0m\n\u001B[0;32m   1412\u001B[0m \u001B[38;5;124;03m    >>> res = mod.fit(cov_type=\"clustered\", cluster_entity=True)\u001B[39;00m\n\u001B[0;32m   1413\u001B[0m \u001B[38;5;124;03m    \"\"\"\u001B[39;00m\n\u001B[1;32m-> 1414\u001B[0m     parser \u001B[38;5;241m=\u001B[39m \u001B[43mPanelFormulaParser\u001B[49m\u001B[43m(\u001B[49m\u001B[43mformula\u001B[49m\u001B[43m,\u001B[49m\u001B[43m \u001B[49m\u001B[43mdata\u001B[49m\u001B[43m,\u001B[49m\u001B[43m \u001B[49m\u001B[43mcontext\u001B[49m\u001B[38;5;241;43m=\u001B[39;49m\u001B[43mcapture_context\u001B[49m\u001B[43m(\u001B[49m\u001B[38;5;241;43m1\u001B[39;49m\u001B[43m)\u001B[49m\u001B[43m)\u001B[49m\n\u001B[0;32m   1415\u001B[0m     entity_effect \u001B[38;5;241m=\u001B[39m parser\u001B[38;5;241m.\u001B[39mentity_effect\n\u001B[0;32m   1416\u001B[0m     time_effect \u001B[38;5;241m=\u001B[39m parser\u001B[38;5;241m.\u001B[39mtime_effect\n",
      "File \u001B[1;32mc:\\users\\iltya\\appdata\\local\\programs\\python\\python39\\lib\\site-packages\\linearmodels\\panel\\model.py:155\u001B[0m, in \u001B[0;36mPanelFormulaParser.__init__\u001B[1;34m(self, formula, data, eval_env, context)\u001B[0m\n\u001B[0;32m    147\u001B[0m \u001B[38;5;28;01mdef\u001B[39;00m \u001B[38;5;21m__init__\u001B[39m(\n\u001B[0;32m    148\u001B[0m     \u001B[38;5;28mself\u001B[39m,\n\u001B[0;32m    149\u001B[0m     formula: \u001B[38;5;28mstr\u001B[39m,\n\u001B[1;32m   (...)\u001B[0m\n\u001B[0;32m    152\u001B[0m     context: Mapping[\u001B[38;5;28mstr\u001B[39m, Any] \u001B[38;5;241m|\u001B[39m \u001B[38;5;28;01mNone\u001B[39;00m \u001B[38;5;241m=\u001B[39m \u001B[38;5;28;01mNone\u001B[39;00m,\n\u001B[0;32m    153\u001B[0m ) \u001B[38;5;241m-\u001B[39m\u001B[38;5;241m>\u001B[39m \u001B[38;5;28;01mNone\u001B[39;00m:\n\u001B[0;32m    154\u001B[0m     \u001B[38;5;28mself\u001B[39m\u001B[38;5;241m.\u001B[39m_formula \u001B[38;5;241m=\u001B[39m formula\n\u001B[1;32m--> 155\u001B[0m     \u001B[38;5;28mself\u001B[39m\u001B[38;5;241m.\u001B[39m_data \u001B[38;5;241m=\u001B[39m \u001B[43mPanelData\u001B[49m\u001B[43m(\u001B[49m\u001B[43mdata\u001B[49m\u001B[43m,\u001B[49m\u001B[43m \u001B[49m\u001B[43mconvert_dummies\u001B[49m\u001B[38;5;241;43m=\u001B[39;49m\u001B[38;5;28;43;01mFalse\u001B[39;49;00m\u001B[43m,\u001B[49m\u001B[43m \u001B[49m\u001B[43mcopy\u001B[49m\u001B[38;5;241;43m=\u001B[39;49m\u001B[38;5;28;43;01mFalse\u001B[39;49;00m\u001B[43m)\u001B[49m\n\u001B[0;32m    156\u001B[0m     \u001B[38;5;28mself\u001B[39m\u001B[38;5;241m.\u001B[39m_na_action \u001B[38;5;241m=\u001B[39m NAAction(\u001B[38;5;124m\"\u001B[39m\u001B[38;5;124mignore\u001B[39m\u001B[38;5;124m\"\u001B[39m)\n\u001B[0;32m    157\u001B[0m     \u001B[38;5;28mself\u001B[39m\u001B[38;5;241m.\u001B[39m_eval_env \u001B[38;5;241m=\u001B[39m eval_env\n",
      "File \u001B[1;32mc:\\users\\iltya\\appdata\\local\\programs\\python\\python39\\lib\\site-packages\\linearmodels\\panel\\data.py:261\u001B[0m, in \u001B[0;36mPanelData.__init__\u001B[1;34m(self, x, var_name, convert_dummies, drop_first, copy)\u001B[0m\n\u001B[0;32m    256\u001B[0m time_index \u001B[38;5;241m=\u001B[39m Series(\u001B[38;5;28mself\u001B[39m\u001B[38;5;241m.\u001B[39mindex\u001B[38;5;241m.\u001B[39mlevels[\u001B[38;5;241m1\u001B[39m])\n\u001B[0;32m    257\u001B[0m \u001B[38;5;28;01mif\u001B[39;00m \u001B[38;5;129;01mnot\u001B[39;00m (\n\u001B[0;32m    258\u001B[0m     is_numeric_dtype(time_index\u001B[38;5;241m.\u001B[39mdtype)\n\u001B[0;32m    259\u001B[0m     \u001B[38;5;129;01mor\u001B[39;00m is_datetime64_any_dtype(time_index\u001B[38;5;241m.\u001B[39mdtype)\n\u001B[0;32m    260\u001B[0m ):\n\u001B[1;32m--> 261\u001B[0m     \u001B[38;5;28;01mraise\u001B[39;00m \u001B[38;5;167;01mValueError\u001B[39;00m(\n\u001B[0;32m    262\u001B[0m         \u001B[38;5;124m\"\u001B[39m\u001B[38;5;124mThe index on the time dimension must be either \u001B[39m\u001B[38;5;124m\"\u001B[39m \u001B[38;5;124m\"\u001B[39m\u001B[38;5;124mnumeric or date-like\u001B[39m\u001B[38;5;124m\"\u001B[39m\n\u001B[0;32m    263\u001B[0m     )\n\u001B[0;32m    264\u001B[0m \u001B[38;5;66;03m# self._k, self._t, self._n = self.panel.shape\u001B[39;00m\n\u001B[0;32m    265\u001B[0m \u001B[38;5;28mself\u001B[39m\u001B[38;5;241m.\u001B[39m_k, \u001B[38;5;28mself\u001B[39m\u001B[38;5;241m.\u001B[39m_t, \u001B[38;5;28mself\u001B[39m\u001B[38;5;241m.\u001B[39m_n \u001B[38;5;241m=\u001B[39m \u001B[38;5;28mself\u001B[39m\u001B[38;5;241m.\u001B[39mshape\n",
      "\u001B[1;31mValueError\u001B[0m: The index on the time dimension must be either numeric or date-like"
     ]
    }
   ],
   "source": [
    "model = PanelOLS.from_formula('procent_unemployed ~ 1 + infections + Rt + deaths + healed + TimeEffects', data=tmp).fit()"
   ],
   "metadata": {
    "collapsed": false,
    "pycharm": {
     "name": "#%%\n"
    }
   }
  },
  {
   "cell_type": "code",
   "execution_count": null,
   "outputs": [],
   "source": [],
   "metadata": {
    "collapsed": false,
    "pycharm": {
     "name": "#%%\n"
    }
   }
  },
  {
   "cell_type": "code",
   "execution_count": null,
   "outputs": [],
   "source": [
    "from linearmodels.panel import PooledOLS\n",
    "\n",
    "model = PooledOLS(tmp.procent_unemployed, exog)"
   ],
   "metadata": {
    "collapsed": false,
    "pycharm": {
     "name": "#%%\n"
    }
   }
  },
  {
   "cell_type": "code",
   "execution_count": null,
   "outputs": [],
   "source": [],
   "metadata": {
    "collapsed": false,
    "pycharm": {
     "name": "#%%\n"
    }
   }
  },
  {
   "cell_type": "code",
   "execution_count": null,
   "outputs": [],
   "source": [],
   "metadata": {
    "collapsed": false,
    "pycharm": {
     "name": "#%%\n"
    }
   }
  },
  {
   "cell_type": "code",
   "execution_count": null,
   "outputs": [],
   "source": [
    "tmp.set_index(['region', 'week'])"
   ],
   "metadata": {
    "collapsed": false,
    "pycharm": {
     "name": "#%%\n"
    }
   }
  },
  {
   "cell_type": "code",
   "execution_count": null,
   "outputs": [],
   "source": [],
   "metadata": {
    "collapsed": false,
    "pycharm": {
     "name": "#%%\n"
    }
   }
  },
  {
   "cell_type": "code",
   "execution_count": null,
   "outputs": [],
   "source": [
    "\n",
    "\n",
    "# Предполагается, что вы уже оценили модели FE и RE\n",
    "fe_model = PanelOLS(dependent_variable, exog_vars, entity_effects=True)\n",
    "re_model = RandomEffects(dependent_variable, exog_vars)\n",
    "\n",
    "# Производим тест Хаусмана\n",
    "hausman_test = fe_model.hausman_test(re_model)\n",
    "print(hausman_test)"
   ],
   "metadata": {
    "collapsed": false,
    "pycharm": {
     "name": "#%%\n"
    }
   }
  },
  {
   "cell_type": "code",
   "execution_count": null,
   "outputs": [],
   "source": [],
   "metadata": {
    "collapsed": false,
    "pycharm": {
     "name": "#%%\n"
    }
   }
  },
  {
   "cell_type": "code",
   "execution_count": null,
   "outputs": [],
   "source": [],
   "metadata": {
    "collapsed": false,
    "pycharm": {
     "name": "#%%\n"
    }
   }
  },
  {
   "cell_type": "markdown",
   "source": [
    "## проверить на адекватность фиксированных эффектов"
   ],
   "metadata": {
    "collapsed": false,
    "pycharm": {
     "name": "#%% md\n"
    }
   }
  },
  {
   "cell_type": "code",
   "execution_count": null,
   "outputs": [],
   "source": [
    "formula"
   ],
   "metadata": {
    "collapsed": false,
    "pycharm": {
     "name": "#%%\n"
    }
   }
  },
  {
   "cell_type": "code",
   "execution_count": null,
   "outputs": [],
   "source": [
    "import statsmodels.api as sm\n",
    "\n",
    "\n",
    "model_with_fe = sm.OLS.from_formula(formula, data=tmp)\n",
    "results_with_fe = model_with_fe.fit(cov_type='HAC', cov_kwds={'maxlags': 5})"
   ],
   "metadata": {
    "collapsed": false,
    "pycharm": {
     "name": "#%%\n"
    }
   }
  },
  {
   "cell_type": "code",
   "execution_count": null,
   "outputs": [],
   "source": [
    "print(results_with_fe.summary())"
   ],
   "metadata": {
    "collapsed": false,
    "pycharm": {
     "name": "#%%\n"
    }
   }
  },
  {
   "cell_type": "code",
   "execution_count": null,
   "outputs": [],
   "source": [],
   "metadata": {
    "collapsed": false,
    "pycharm": {
     "name": "#%%\n"
    }
   }
  },
  {
   "cell_type": "markdown",
   "source": [
    "## отбросим часть данных"
   ],
   "metadata": {
    "collapsed": false,
    "pycharm": {
     "name": "#%% md\n"
    }
   }
  },
  {
   "cell_type": "code",
   "execution_count": null,
   "outputs": [],
   "source": [
    "tmp = df_panel.copy()"
   ],
   "metadata": {
    "collapsed": false,
    "pycharm": {
     "name": "#%%\n"
    }
   }
  },
  {
   "cell_type": "code",
   "execution_count": null,
   "outputs": [],
   "source": [
    "tmp = tmp.sort_values(by=\"week\")"
   ],
   "metadata": {
    "collapsed": false,
    "pycharm": {
     "name": "#%%\n"
    }
   }
  },
  {
   "cell_type": "code",
   "execution_count": null,
   "outputs": [],
   "source": [
    "tmp.groupby(\"week\").agg({\"sum_unemployed\": \"sum\"}).plot()"
   ],
   "metadata": {
    "collapsed": false,
    "pycharm": {
     "name": "#%%\n"
    }
   }
  },
  {
   "cell_type": "code",
   "execution_count": null,
   "outputs": [],
   "source": [
    "tmp2 = tmp[tmp.week > pd.to_datetime(\"05.01.2020\")]"
   ],
   "metadata": {
    "collapsed": false,
    "pycharm": {
     "name": "#%%\n"
    }
   }
  },
  {
   "cell_type": "code",
   "execution_count": null,
   "outputs": [],
   "source": [
    "tmp2.groupby(\"week\").agg({\"sum_unemployed\": \"sum\"}).plot()"
   ],
   "metadata": {
    "collapsed": false,
    "pycharm": {
     "name": "#%%\n"
    }
   }
  },
  {
   "cell_type": "code",
   "execution_count": null,
   "outputs": [],
   "source": [
    "import statsmodels.api as sm\n",
    "\n",
    "model_with_fe = sm.OLS.from_formula(formula, data=tmp2)\n",
    "results_with_fe = model_with_fe.fit(cov_type='HAC', cov_kwds={'maxlags': 5})"
   ],
   "metadata": {
    "collapsed": false,
    "pycharm": {
     "name": "#%%\n"
    }
   }
  },
  {
   "cell_type": "code",
   "execution_count": null,
   "outputs": [],
   "source": [
    "print(results_with_fe.summary())"
   ],
   "metadata": {
    "collapsed": false,
    "pycharm": {
     "name": "#%%\n"
    }
   }
  },
  {
   "cell_type": "code",
   "execution_count": null,
   "outputs": [],
   "source": [
    "df.depo_mean"
   ],
   "metadata": {
    "collapsed": false,
    "pycharm": {
     "name": "#%%\n"
    }
   }
  },
  {
   "cell_type": "code",
   "execution_count": null,
   "outputs": [],
   "source": [],
   "metadata": {
    "collapsed": false,
    "pycharm": {
     "name": "#%%\n"
    }
   }
  },
  {
   "cell_type": "markdown",
   "source": [
    "## таблица с коэффициентами"
   ],
   "metadata": {
    "collapsed": false,
    "pycharm": {
     "name": "#%% md\n"
    }
   }
  },
  {
   "cell_type": "code",
   "execution_count": null,
   "outputs": [],
   "source": [
    "columns_for_x"
   ],
   "metadata": {
    "collapsed": false,
    "pycharm": {
     "name": "#%%\n"
    }
   }
  },
  {
   "cell_type": "code",
   "execution_count": null,
   "outputs": [],
   "source": [
    "all_results = []\n",
    "\n",
    "for i in range(len(columns_for_x)):\n",
    "    print(\".\", columns_for_x[:i+1], end=\"\")\n",
    "    formula = f'{name_y} ~ ' + ' + '.join(columns_for_x[:i+1]) + ' + C(region) + C(week)'\n",
    "    # formula = f'{name_y} ~ ' + ' + '.join(columns_for_x) + ' + C(region)'\n",
    "\n",
    "    model = sm.OLS.from_formula(formula, data=tmp)\n",
    "    results = model.fit(cov_type='HAC', cov_kwds={'maxlags': 5})\n",
    "\n",
    "    all_results.append(results)"
   ],
   "metadata": {
    "collapsed": false,
    "pycharm": {
     "name": "#%%\n"
    }
   }
  },
  {
   "cell_type": "code",
   "execution_count": null,
   "outputs": [],
   "source": [
    "from statsmodels.iolib.summary2 import summary_col\n",
    "\n",
    "results_table = summary_col(all_results, model_names=[f'Model {i}' for i in range(len(all_results))], stars=True)"
   ],
   "metadata": {
    "collapsed": false,
    "pycharm": {
     "name": "#%%\n"
    }
   }
  },
  {
   "cell_type": "code",
   "execution_count": null,
   "outputs": [],
   "source": [
    "print(results_table)"
   ],
   "metadata": {
    "collapsed": false,
    "pycharm": {
     "name": "#%%\n"
    }
   }
  },
  {
   "cell_type": "code",
   "execution_count": null,
   "outputs": [],
   "source": [
    "print(results_table)"
   ],
   "metadata": {
    "collapsed": false,
    "pycharm": {
     "name": "#%%\n"
    }
   }
  },
  {
   "cell_type": "code",
   "execution_count": null,
   "outputs": [],
   "source": [
    "table_coefs = results_table.tables[0].iloc[221:]"
   ],
   "metadata": {
    "collapsed": false,
    "pycharm": {
     "name": "#%%\n"
    }
   }
  },
  {
   "cell_type": "code",
   "execution_count": null,
   "outputs": [],
   "source": [
    "table_coefs"
   ],
   "metadata": {
    "collapsed": false,
    "pycharm": {
     "name": "#%%\n"
    }
   }
  },
  {
   "cell_type": "code",
   "execution_count": null,
   "outputs": [],
   "source": [
    "indexes = [\"R-squared\", \"R-squared Adj.\"] + columns_for_x\n",
    "table_coefs = table_coefs.loc[indexes]"
   ],
   "metadata": {
    "collapsed": false,
    "pycharm": {
     "name": "#%%\n"
    }
   }
  },
  {
   "cell_type": "code",
   "execution_count": null,
   "outputs": [],
   "source": [
    "table_coefs"
   ],
   "metadata": {
    "collapsed": false,
    "pycharm": {
     "name": "#%%\n"
    }
   }
  },
  {
   "cell_type": "code",
   "execution_count": null,
   "outputs": [],
   "source": [],
   "metadata": {
    "collapsed": false,
    "pycharm": {
     "name": "#%%\n"
    }
   }
  },
  {
   "cell_type": "code",
   "execution_count": null,
   "outputs": [],
   "source": [
    "table_coefs.to_csv(\"data/table_coefs_model_1.csv\")"
   ],
   "metadata": {
    "collapsed": false,
    "pycharm": {
     "name": "#%%\n"
    }
   }
  },
  {
   "cell_type": "code",
   "execution_count": null,
   "outputs": [],
   "source": [],
   "metadata": {
    "collapsed": false,
    "pycharm": {
     "name": "#%%\n"
    }
   }
  },
  {
   "cell_type": "code",
   "execution_count": null,
   "outputs": [],
   "source": [
    "model_without_fe = sm.OLS.from_formula(f'{name_y} ~ ' + ' + '.join(columns_for_x), data=tmp)\n",
    "results_without_fe = model_without_fe.fit(cov_type='HAC', cov_kwds={'maxlags': 5})"
   ],
   "metadata": {
    "collapsed": false,
    "pycharm": {
     "name": "#%%\n"
    }
   }
  },
  {
   "cell_type": "code",
   "execution_count": null,
   "outputs": [],
   "source": [
    "print(results_without_fe.summary())"
   ],
   "metadata": {
    "collapsed": false,
    "pycharm": {
     "name": "#%%\n"
    }
   }
  },
  {
   "cell_type": "code",
   "execution_count": null,
   "outputs": [],
   "source": [],
   "metadata": {
    "collapsed": false,
    "pycharm": {
     "name": "#%%\n"
    }
   }
  },
  {
   "cell_type": "code",
   "execution_count": null,
   "outputs": [],
   "source": [],
   "metadata": {
    "collapsed": false,
    "pycharm": {
     "name": "#%%\n"
    }
   }
  },
  {
   "cell_type": "code",
   "execution_count": null,
   "outputs": [],
   "source": [],
   "metadata": {
    "collapsed": false,
    "pycharm": {
     "name": "#%%\n"
    }
   }
  },
  {
   "cell_type": "markdown",
   "source": [
    "## дальше мрак"
   ],
   "metadata": {
    "collapsed": false,
    "pycharm": {
     "name": "#%% md\n"
    }
   }
  },
  {
   "cell_type": "code",
   "execution_count": null,
   "outputs": [],
   "source": [
    "# panel_data['id'] = pd.Categorical(panel_data['id'])\n",
    "# panel_data['time'] = pd.Categorical(panel_data['time'])\n",
    "#\n",
    "# # Оценка модели с фиксированными эффектами\n",
    "# model = sm.PanelOLS.from_formula('y ~ x1 + x2 + EntityEffects + TimeEffects', data=panel_data)\n",
    "# results = model.fit()"
   ],
   "metadata": {
    "collapsed": false,
    "pycharm": {
     "name": "#%%\n"
    }
   }
  },
  {
   "cell_type": "code",
   "execution_count": null,
   "outputs": [],
   "source": [
    "\n",
    "dependent_variable = 'sum_unemployed'\n",
    "\n",
    "\n",
    "explanatory_variables = ['sum_infections', \"yandex_metric\", \"rt_coef\"] + ['depo_mean_19',\n",
    " 'depo_salary_19',\n",
    " 'growth_depo_19',\n",
    " 'curr_depo_perc_19',\n",
    " 'fin_wealth_19',\n",
    " 'soceco_wealth_19',\n",
    " 'depo_mean_20',\n",
    " 'depo_salary_20',\n",
    " 'depo_mean_21',\n",
    " 'depo_salary_21']\n",
    "\n",
    "individual_variable = 'region'\n",
    "time_variable = 'week'\n",
    "\n",
    "# Модель с фиксированными эффектами\n",
    "model_fe = PanelOLS.from_formula(f'{dependent_variable} ~ {\"+\".join(explanatory_variables)} + EntityEffects', df_panel)\n",
    "\n",
    "\n",
    "# Оцените обе модели\n",
    "results_fe = model_fe.fit(cov_type='kernel', kernel='bartlett', check_rank=False)\n",
    "\n",
    "# Модель со случайными эффектами\n",
    "# model_re = RandomEffects.from_formula(f'{dependent_variable} ~ {\"+\".join(explanatory_variables)}', df_panel)\n",
    "# results_re = model_re.fit()\n",
    "\n"
   ],
   "metadata": {
    "collapsed": false,
    "pycharm": {
     "name": "#%%\n"
    }
   }
  },
  {
   "cell_type": "code",
   "execution_count": null,
   "outputs": [],
   "source": [
    "print(results_fe)"
   ],
   "metadata": {
    "collapsed": false,
    "pycharm": {
     "name": "#%%\n"
    }
   }
  },
  {
   "cell_type": "code",
   "execution_count": null,
   "outputs": [],
   "source": [],
   "metadata": {
    "collapsed": false,
    "pycharm": {
     "name": "#%%\n"
    }
   }
  },
  {
   "cell_type": "code",
   "execution_count": null,
   "outputs": [],
   "source": [
    "from statsmodels.datasets import grunfeld\n",
    "\n",
    "data = grunfeld.load_pandas().data\n",
    "data = data.set_index([\"firm\", \"year\"])\n",
    "data.head()"
   ],
   "metadata": {
    "collapsed": false,
    "pycharm": {
     "name": "#%%\n"
    }
   }
  },
  {
   "cell_type": "code",
   "execution_count": null,
   "outputs": [],
   "source": [
    "from linearmodels import PanelOLS\n",
    "\n",
    "mod = PanelOLS.from_formula(\"invest ~ value + capital + EntityEffects\", data=data)\n",
    "print(mod.fit())"
   ],
   "metadata": {
    "collapsed": false,
    "pycharm": {
     "name": "#%%\n"
    }
   }
  },
  {
   "cell_type": "code",
   "execution_count": null,
   "outputs": [],
   "source": [],
   "metadata": {
    "collapsed": false,
    "pycharm": {
     "name": "#%%\n"
    }
   }
  },
  {
   "cell_type": "code",
   "execution_count": null,
   "outputs": [],
   "source": [],
   "metadata": {
    "collapsed": false,
    "pycharm": {
     "name": "#%%\n"
    }
   }
  },
  {
   "cell_type": "code",
   "execution_count": null,
   "outputs": [],
   "source": [
    "f'{dependent_variable} ~ {\"+\".join(explanatory_variables)} + EntityEffects'"
   ],
   "metadata": {
    "collapsed": false,
    "pycharm": {
     "name": "#%%\n"
    }
   }
  },
  {
   "cell_type": "code",
   "execution_count": null,
   "outputs": [],
   "source": [],
   "metadata": {
    "collapsed": false,
    "pycharm": {
     "name": "#%%\n"
    }
   }
  }
 ],
 "metadata": {
  "kernelspec": {
   "display_name": "Python 3",
   "language": "python",
   "name": "python3"
  },
  "language_info": {
   "codemirror_mode": {
    "name": "ipython",
    "version": 2
   },
   "file_extension": ".py",
   "mimetype": "text/x-python",
   "name": "python",
   "nbconvert_exporter": "python",
   "pygments_lexer": "ipython2",
   "version": "2.7.6"
  }
 },
 "nbformat": 4,
 "nbformat_minor": 0
}