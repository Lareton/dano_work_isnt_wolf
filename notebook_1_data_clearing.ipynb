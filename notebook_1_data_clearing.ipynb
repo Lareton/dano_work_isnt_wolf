{
 "cells": [
  {
   "cell_type": "code",
   "execution_count": 1,
   "metadata": {
    "collapsed": true
   },
   "outputs": [
    {
     "name": "stderr",
     "output_type": "stream",
     "text": [
      "C:\\Users\\iltya\\AppData\\Roaming\\Python\\Python39\\site-packages\\scipy\\__init__.py:155: UserWarning: A NumPy version >=1.18.5 and <1.25.0 is required for this version of SciPy (detected version 1.26.1\n",
      "  warnings.warn(f\"A NumPy version >={np_minversion} and <{np_maxversion}\"\n"
     ]
    }
   ],
   "source": [
    "import pandas as pd\n",
    "import numpy as np\n",
    "import matplotlib.pyplot as plt\n",
    "import seaborn as sns"
   ]
  },
  {
   "cell_type": "code",
   "execution_count": 2,
   "outputs": [],
   "source": [
    "df =pd.read_excel(\"data/covid_UPD.xlsx\")"
   ],
   "metadata": {
    "collapsed": false,
    "pycharm": {
     "name": "#%%\n"
    }
   }
  },
  {
   "cell_type": "code",
   "execution_count": 3,
   "outputs": [
    {
     "data": {
      "text/plain": "23884"
     },
     "execution_count": 3,
     "metadata": {},
     "output_type": "execute_result"
    }
   ],
   "source": [
    "df.level.isna().sum()"
   ],
   "metadata": {
    "collapsed": false,
    "pycharm": {
     "name": "#%%\n"
    }
   }
  },
  {
   "cell_type": "code",
   "execution_count": 4,
   "outputs": [
    {
     "data": {
      "text/plain": "(76219, 22)"
     },
     "execution_count": 4,
     "metadata": {},
     "output_type": "execute_result"
    }
   ],
   "source": [
    "df.shape"
   ],
   "metadata": {
    "collapsed": false,
    "pycharm": {
     "name": "#%%\n"
    }
   }
  },
  {
   "cell_type": "markdown",
   "source": [
    "проверим на пропущенные значения"
   ],
   "metadata": {
    "collapsed": false,
    "pycharm": {
     "name": "#%% md\n"
    }
   }
  },
  {
   "cell_type": "code",
   "execution_count": 5,
   "outputs": [
    {
     "name": "stdout",
     "output_type": "stream",
     "text": [
      "<class 'pandas.core.frame.DataFrame'>\n",
      "RangeIndex: 76219 entries, 0 to 76218\n",
      "Data columns (total 22 columns):\n",
      " #   Column             Non-Null Count  Dtype         \n",
      "---  ------             --------------  -----         \n",
      " 0   week               76219 non-null  datetime64[ns]\n",
      " 1   region             76219 non-null  object        \n",
      " 2   oced               76219 non-null  object        \n",
      " 3   unemployed         76219 non-null  int64         \n",
      " 4   cv_gender          76219 non-null  int64         \n",
      " 5   cv_birthday_2000   76219 non-null  int64         \n",
      " 6   cv_birthday_1990   76219 non-null  int64         \n",
      " 7   cv_birthday_1980   76219 non-null  int64         \n",
      " 8   cv_birthday_1970   76219 non-null  int64         \n",
      " 9   cv_birthday_1960   76219 non-null  int64         \n",
      " 10  population         76163 non-null  float64       \n",
      " 11  men                76163 non-null  float64       \n",
      " 12  women              76163 non-null  float64       \n",
      " 13  infections         76163 non-null  float64       \n",
      " 14  deaths             76163 non-null  float64       \n",
      " 15  healed             76163 non-null  float64       \n",
      " 16  tests              17724 non-null  float64       \n",
      " 17  Rt                 76091 non-null  float64       \n",
      " 18  level              52335 non-null  float64       \n",
      " 19  yandex_continuous  47737 non-null  float64       \n",
      " 20  yandex_level       47737 non-null  float64       \n",
      " 21  pass               46496 non-null  float64       \n",
      "dtypes: datetime64[ns](1), float64(12), int64(7), object(2)\n",
      "memory usage: 12.8+ MB\n"
     ]
    }
   ],
   "source": [
    "df.info()"
   ],
   "metadata": {
    "collapsed": false,
    "pycharm": {
     "name": "#%%\n"
    }
   }
  },
  {
   "cell_type": "code",
   "execution_count": 5,
   "outputs": [],
   "source": [],
   "metadata": {
    "collapsed": false,
    "pycharm": {
     "name": "#%%\n"
    }
   }
  },
  {
   "cell_type": "code",
   "execution_count": 6,
   "outputs": [
    {
     "data": {
      "text/plain": "                    unemployed\nregion                        \nБайконур                    63\nЧукотский АО               144\nНенецкий АО                820\nМагаданская               1369\nСахалинская               4892\n...                        ...\nРостовская              149789\nМосковская              191943\nКраснодарский край      224576\nДагестан                225636\nЧечня                   226264\n\n[86 rows x 1 columns]",
      "text/html": "<div>\n<style scoped>\n    .dataframe tbody tr th:only-of-type {\n        vertical-align: middle;\n    }\n\n    .dataframe tbody tr th {\n        vertical-align: top;\n    }\n\n    .dataframe thead th {\n        text-align: right;\n    }\n</style>\n<table border=\"1\" class=\"dataframe\">\n  <thead>\n    <tr style=\"text-align: right;\">\n      <th></th>\n      <th>unemployed</th>\n    </tr>\n    <tr>\n      <th>region</th>\n      <th></th>\n    </tr>\n  </thead>\n  <tbody>\n    <tr>\n      <th>Байконур</th>\n      <td>63</td>\n    </tr>\n    <tr>\n      <th>Чукотский АО</th>\n      <td>144</td>\n    </tr>\n    <tr>\n      <th>Ненецкий АО</th>\n      <td>820</td>\n    </tr>\n    <tr>\n      <th>Магаданская</th>\n      <td>1369</td>\n    </tr>\n    <tr>\n      <th>Сахалинская</th>\n      <td>4892</td>\n    </tr>\n    <tr>\n      <th>...</th>\n      <td>...</td>\n    </tr>\n    <tr>\n      <th>Ростовская</th>\n      <td>149789</td>\n    </tr>\n    <tr>\n      <th>Московская</th>\n      <td>191943</td>\n    </tr>\n    <tr>\n      <th>Краснодарский край</th>\n      <td>224576</td>\n    </tr>\n    <tr>\n      <th>Дагестан</th>\n      <td>225636</td>\n    </tr>\n    <tr>\n      <th>Чечня</th>\n      <td>226264</td>\n    </tr>\n  </tbody>\n</table>\n<p>86 rows × 1 columns</p>\n</div>"
     },
     "execution_count": 6,
     "metadata": {},
     "output_type": "execute_result"
    }
   ],
   "source": [
    "count_sum_unemployed_by_regions = df.groupby(\"region\").agg(unemployed=(\"unemployed\", \"sum\")).sort_values(by=\"unemployed\")\n",
    "count_sum_unemployed_by_regions"
   ],
   "metadata": {
    "collapsed": false,
    "pycharm": {
     "name": "#%%\n"
    }
   }
  },
  {
   "cell_type": "code",
   "execution_count": 7,
   "outputs": [
    {
     "data": {
      "text/plain": "(76219, 22)"
     },
     "execution_count": 7,
     "metadata": {},
     "output_type": "execute_result"
    }
   ],
   "source": [
    "df.shape"
   ],
   "metadata": {
    "collapsed": false,
    "pycharm": {
     "name": "#%%\n"
    }
   }
  },
  {
   "cell_type": "code",
   "execution_count": 8,
   "outputs": [],
   "source": [
    "regions_to_del = [\"Байконур\", \"Чечня\", \"Чукотский АО\"]\n",
    "df = df.drop(df[df.region.isin(regions_to_del)].index, axis=0)"
   ],
   "metadata": {
    "collapsed": false,
    "pycharm": {
     "name": "#%%\n"
    }
   }
  },
  {
   "cell_type": "code",
   "execution_count": 9,
   "outputs": [
    {
     "data": {
      "text/plain": "(75094, 22)"
     },
     "execution_count": 9,
     "metadata": {},
     "output_type": "execute_result"
    }
   ],
   "source": [
    "df.shape"
   ],
   "metadata": {
    "collapsed": false,
    "pycharm": {
     "name": "#%%\n"
    }
   }
  },
  {
   "cell_type": "markdown",
   "source": [
    "### также посмотрим на колво заражений, смертей и выздоравлений в разных регионах"
   ],
   "metadata": {
    "collapsed": false,
    "pycharm": {
     "name": "#%% md\n"
    }
   }
  },
  {
   "cell_type": "code",
   "execution_count": 66,
   "outputs": [],
   "source": [
    "df_agg = df.groupby([\"region\", \"week\"]).agg(population=(\"population\", \"mean\"),\n",
    "                                            unemployed=(\"unemployed\", \"sum\"),\n",
    "                                            infections=(\"infections\", \"mean\"),\n",
    "                                            healed=(\"healed\", \"mean\"),\n",
    "                                            deaths=(\"deaths\", \"mean\")).reset_index()"
   ],
   "metadata": {
    "collapsed": false,
    "pycharm": {
     "name": "#%%\n"
    }
   }
  },
  {
   "cell_type": "code",
   "execution_count": 67,
   "outputs": [],
   "source": [
    "df_agg = df_agg.groupby(\"region\").agg(unemployed=(\"unemployed\", \"sum\"),\n",
    "                             infections=(\"infections\", \"sum\"),\n",
    "                             deaths=(\"deaths\", \"sum\"),\n",
    "                             healed=(\"healed\", \"sum\"),\n",
    "                             population=(\"population\", \"mean\"))"
   ],
   "metadata": {
    "collapsed": false,
    "pycharm": {
     "name": "#%%\n"
    }
   }
  },
  {
   "cell_type": "code",
   "execution_count": 68,
   "outputs": [],
   "source": [
    "df_agg[\"procent_unemployed\"] = df_agg.unemployed / df_agg.population\n",
    "df_agg[\"procent_infections\"] = df_agg.infections / df_agg.population\n",
    "df_agg[\"procent_healed\"] = df_agg.healed / df_agg.population\n",
    "df_agg[\"procent_deaths\"] = df_agg.deaths / df_agg.population"
   ],
   "metadata": {
    "collapsed": false,
    "pycharm": {
     "name": "#%%\n"
    }
   }
  },
  {
   "cell_type": "code",
   "execution_count": 73,
   "outputs": [],
   "source": [
    "df_agg = df_agg.reset_index()"
   ],
   "metadata": {
    "collapsed": false,
    "pycharm": {
     "name": "#%%\n"
    }
   }
  },
  {
   "cell_type": "code",
   "execution_count": 23,
   "outputs": [],
   "source": [],
   "metadata": {
    "collapsed": false,
    "pycharm": {
     "name": "#%%\n"
    }
   }
  },
  {
   "cell_type": "code",
   "execution_count": 49,
   "outputs": [],
   "source": [
    "# covid_df = df.groupby([\"region\", \"week\"]).agg(sum_infections = (\"infections\", \"mean\"), population=(\"population\", \"mean\"), sum_healed=(\"healed\", \"mean\"), sum_deathed=(\"deaths\", \"mean\"))\n",
    "# covid_df[\"procent_healed\"] = covid_df.sum_healed / covid_df.sum_infections\n",
    "# covid_df[\"procent_infected\"] = covid_df.sum_infections / covid_df.population\n",
    "# covid_df[\"procent_death\"] = covid_df.sum_deathed / covid_df.population"
   ],
   "metadata": {
    "collapsed": false,
    "pycharm": {
     "name": "#%%\n"
    }
   }
  },
  {
   "cell_type": "code",
   "execution_count": 70,
   "outputs": [],
   "source": [
    "df.to_csv(\"data/dataset_1.csv\", index=None)"
   ],
   "metadata": {
    "collapsed": false,
    "pycharm": {
     "name": "#%%\n"
    }
   }
  },
  {
   "cell_type": "code",
   "execution_count": 74,
   "outputs": [],
   "source": [
    "df_agg.to_csv(\"data/dataset_1_percents.csv\", index=None)"
   ],
   "metadata": {
    "collapsed": false,
    "pycharm": {
     "name": "#%%\n"
    }
   }
  },
  {
   "cell_type": "code",
   "execution_count": null,
   "outputs": [],
   "source": [],
   "metadata": {
    "collapsed": false,
    "pycharm": {
     "name": "#%%\n"
    }
   }
  }
 ],
 "metadata": {
  "kernelspec": {
   "display_name": "Python 3",
   "language": "python",
   "name": "python3"
  },
  "language_info": {
   "codemirror_mode": {
    "name": "ipython",
    "version": 2
   },
   "file_extension": ".py",
   "mimetype": "text/x-python",
   "name": "python",
   "nbconvert_exporter": "python",
   "pygments_lexer": "ipython2",
   "version": "2.7.6"
  }
 },
 "nbformat": 4,
 "nbformat_minor": 0
}