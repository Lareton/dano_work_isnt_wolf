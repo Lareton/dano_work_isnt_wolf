{
 "cells": [
  {
   "cell_type": "code",
   "execution_count": 67,
   "metadata": {
    "collapsed": true
   },
   "outputs": [],
   "source": [
    "import pandas as pd\n",
    "import numpy as np\n",
    "import matplotlib.pyplot as plt\n",
    "import seaborn as sns"
   ]
  },
  {
   "cell_type": "code",
   "execution_count": 68,
   "outputs": [],
   "source": [
    "df = pd.read_excel(\"covid_UPD.xlsx\")"
   ],
   "metadata": {
    "collapsed": false,
    "pycharm": {
     "name": "#%%\n"
    }
   }
  },
  {
   "cell_type": "code",
   "execution_count": 69,
   "outputs": [
    {
     "data": {
      "text/plain": "(76219, 22)"
     },
     "execution_count": 69,
     "metadata": {},
     "output_type": "execute_result"
    }
   ],
   "source": [
    "df.shape"
   ],
   "metadata": {
    "collapsed": false,
    "pycharm": {
     "name": "#%%\n"
    }
   }
  },
  {
   "cell_type": "markdown",
   "source": [
    "проверим на пропущенные значения"
   ],
   "metadata": {
    "collapsed": false,
    "pycharm": {
     "name": "#%% md\n"
    }
   }
  },
  {
   "cell_type": "code",
   "execution_count": 70,
   "outputs": [
    {
     "data": {
      "text/plain": "        week  region                                               oced  \\\n0 2020-04-06  Адыгея  Строительство, ремонт, стройматериалы, недвижи...   \n1 2020-04-06  Адыгея                                     Машиностроение   \n2 2020-04-06  Адыгея                                      Юриспруденция   \n3 2020-04-06  Адыгея                             Пищевая промышленность   \n4 2020-04-06  Адыгея  Государственная служба, некоммерческие организ...   \n\n   unemployed  cv_gender  cv_birthday_2000  cv_birthday_1990  \\\n0          19         18                 0                 3   \n1           2          1                 0                 0   \n2          13          6                 0                 2   \n3           9          2                 1                 2   \n4          17          8                 0                 3   \n\n   cv_birthday_1980  cv_birthday_1970  cv_birthday_1960  ...     women  \\\n0                12                19                19  ...  245928.0   \n1                 1                 1                 2  ...  245928.0   \n2                11                13                13  ...  245928.0   \n3                 6                 9                 9  ...  245928.0   \n4                14                17                17  ...  245928.0   \n\n   infections  deaths  healed  tests        Rt  level  yandex_continuous  \\\n0        42.0     0.0    44.0    NaN  0.873684    NaN           3.314286   \n1        42.0     0.0    44.0    NaN  0.873684    NaN           3.314286   \n2        42.0     0.0    44.0    NaN  0.873684    NaN           3.314286   \n3        42.0     0.0    44.0    NaN  0.873684    NaN           3.314286   \n4        42.0     0.0    44.0    NaN  0.873684    NaN           3.314286   \n\n   yandex_level  pass  \n0           2.0   0.0  \n1           2.0   0.0  \n2           2.0   0.0  \n3           2.0   0.0  \n4           2.0   0.0  \n\n[5 rows x 22 columns]",
      "text/html": "<div>\n<style scoped>\n    .dataframe tbody tr th:only-of-type {\n        vertical-align: middle;\n    }\n\n    .dataframe tbody tr th {\n        vertical-align: top;\n    }\n\n    .dataframe thead th {\n        text-align: right;\n    }\n</style>\n<table border=\"1\" class=\"dataframe\">\n  <thead>\n    <tr style=\"text-align: right;\">\n      <th></th>\n      <th>week</th>\n      <th>region</th>\n      <th>oced</th>\n      <th>unemployed</th>\n      <th>cv_gender</th>\n      <th>cv_birthday_2000</th>\n      <th>cv_birthday_1990</th>\n      <th>cv_birthday_1980</th>\n      <th>cv_birthday_1970</th>\n      <th>cv_birthday_1960</th>\n      <th>...</th>\n      <th>women</th>\n      <th>infections</th>\n      <th>deaths</th>\n      <th>healed</th>\n      <th>tests</th>\n      <th>Rt</th>\n      <th>level</th>\n      <th>yandex_continuous</th>\n      <th>yandex_level</th>\n      <th>pass</th>\n    </tr>\n  </thead>\n  <tbody>\n    <tr>\n      <th>0</th>\n      <td>2020-04-06</td>\n      <td>Адыгея</td>\n      <td>Строительство, ремонт, стройматериалы, недвижи...</td>\n      <td>19</td>\n      <td>18</td>\n      <td>0</td>\n      <td>3</td>\n      <td>12</td>\n      <td>19</td>\n      <td>19</td>\n      <td>...</td>\n      <td>245928.0</td>\n      <td>42.0</td>\n      <td>0.0</td>\n      <td>44.0</td>\n      <td>NaN</td>\n      <td>0.873684</td>\n      <td>NaN</td>\n      <td>3.314286</td>\n      <td>2.0</td>\n      <td>0.0</td>\n    </tr>\n    <tr>\n      <th>1</th>\n      <td>2020-04-06</td>\n      <td>Адыгея</td>\n      <td>Машиностроение</td>\n      <td>2</td>\n      <td>1</td>\n      <td>0</td>\n      <td>0</td>\n      <td>1</td>\n      <td>1</td>\n      <td>2</td>\n      <td>...</td>\n      <td>245928.0</td>\n      <td>42.0</td>\n      <td>0.0</td>\n      <td>44.0</td>\n      <td>NaN</td>\n      <td>0.873684</td>\n      <td>NaN</td>\n      <td>3.314286</td>\n      <td>2.0</td>\n      <td>0.0</td>\n    </tr>\n    <tr>\n      <th>2</th>\n      <td>2020-04-06</td>\n      <td>Адыгея</td>\n      <td>Юриспруденция</td>\n      <td>13</td>\n      <td>6</td>\n      <td>0</td>\n      <td>2</td>\n      <td>11</td>\n      <td>13</td>\n      <td>13</td>\n      <td>...</td>\n      <td>245928.0</td>\n      <td>42.0</td>\n      <td>0.0</td>\n      <td>44.0</td>\n      <td>NaN</td>\n      <td>0.873684</td>\n      <td>NaN</td>\n      <td>3.314286</td>\n      <td>2.0</td>\n      <td>0.0</td>\n    </tr>\n    <tr>\n      <th>3</th>\n      <td>2020-04-06</td>\n      <td>Адыгея</td>\n      <td>Пищевая промышленность</td>\n      <td>9</td>\n      <td>2</td>\n      <td>1</td>\n      <td>2</td>\n      <td>6</td>\n      <td>9</td>\n      <td>9</td>\n      <td>...</td>\n      <td>245928.0</td>\n      <td>42.0</td>\n      <td>0.0</td>\n      <td>44.0</td>\n      <td>NaN</td>\n      <td>0.873684</td>\n      <td>NaN</td>\n      <td>3.314286</td>\n      <td>2.0</td>\n      <td>0.0</td>\n    </tr>\n    <tr>\n      <th>4</th>\n      <td>2020-04-06</td>\n      <td>Адыгея</td>\n      <td>Государственная служба, некоммерческие организ...</td>\n      <td>17</td>\n      <td>8</td>\n      <td>0</td>\n      <td>3</td>\n      <td>14</td>\n      <td>17</td>\n      <td>17</td>\n      <td>...</td>\n      <td>245928.0</td>\n      <td>42.0</td>\n      <td>0.0</td>\n      <td>44.0</td>\n      <td>NaN</td>\n      <td>0.873684</td>\n      <td>NaN</td>\n      <td>3.314286</td>\n      <td>2.0</td>\n      <td>0.0</td>\n    </tr>\n  </tbody>\n</table>\n<p>5 rows × 22 columns</p>\n</div>"
     },
     "execution_count": 70,
     "metadata": {},
     "output_type": "execute_result"
    }
   ],
   "source": [
    "df.head()"
   ],
   "metadata": {
    "collapsed": false,
    "pycharm": {
     "name": "#%%\n"
    }
   }
  },
  {
   "cell_type": "code",
   "execution_count": 70,
   "outputs": [],
   "source": [],
   "metadata": {
    "collapsed": false,
    "pycharm": {
     "name": "#%%\n"
    }
   }
  },
  {
   "cell_type": "markdown",
   "source": [
    "### из-за низкой репрезентативности удалим регионы с суммарным кол-вом поданных заявок меньше 1000"
   ],
   "metadata": {
    "collapsed": false,
    "pycharm": {
     "name": "#%% md\n"
    }
   }
  },
  {
   "cell_type": "code",
   "execution_count": 71,
   "outputs": [
    {
     "data": {
      "text/plain": "                    sum_uneployed\nregion                           \nБайконур                       63\nЧукотский АО                  144\nНенецкий АО                   820\nМагаданская                  1369\nСахалинская                  4892\n...                           ...\nРостовская                 149789\nМосковская                 191943\nКраснодарский край         224576\nДагестан                   225636\nЧечня                      226264\n\n[86 rows x 1 columns]",
      "text/html": "<div>\n<style scoped>\n    .dataframe tbody tr th:only-of-type {\n        vertical-align: middle;\n    }\n\n    .dataframe tbody tr th {\n        vertical-align: top;\n    }\n\n    .dataframe thead th {\n        text-align: right;\n    }\n</style>\n<table border=\"1\" class=\"dataframe\">\n  <thead>\n    <tr style=\"text-align: right;\">\n      <th></th>\n      <th>sum_uneployed</th>\n    </tr>\n    <tr>\n      <th>region</th>\n      <th></th>\n    </tr>\n  </thead>\n  <tbody>\n    <tr>\n      <th>Байконур</th>\n      <td>63</td>\n    </tr>\n    <tr>\n      <th>Чукотский АО</th>\n      <td>144</td>\n    </tr>\n    <tr>\n      <th>Ненецкий АО</th>\n      <td>820</td>\n    </tr>\n    <tr>\n      <th>Магаданская</th>\n      <td>1369</td>\n    </tr>\n    <tr>\n      <th>Сахалинская</th>\n      <td>4892</td>\n    </tr>\n    <tr>\n      <th>...</th>\n      <td>...</td>\n    </tr>\n    <tr>\n      <th>Ростовская</th>\n      <td>149789</td>\n    </tr>\n    <tr>\n      <th>Московская</th>\n      <td>191943</td>\n    </tr>\n    <tr>\n      <th>Краснодарский край</th>\n      <td>224576</td>\n    </tr>\n    <tr>\n      <th>Дагестан</th>\n      <td>225636</td>\n    </tr>\n    <tr>\n      <th>Чечня</th>\n      <td>226264</td>\n    </tr>\n  </tbody>\n</table>\n<p>86 rows × 1 columns</p>\n</div>"
     },
     "execution_count": 71,
     "metadata": {},
     "output_type": "execute_result"
    }
   ],
   "source": [
    "count_sum_unemployed_by_regions = df.groupby(\"region\").agg(sum_uneployed=(\"unemployed\", \"sum\")).sort_values(by=\"sum_uneployed\")\n",
    "count_sum_unemployed_by_regions"
   ],
   "metadata": {
    "collapsed": false,
    "pycharm": {
     "name": "#%%\n"
    }
   }
  },
  {
   "cell_type": "code",
   "execution_count": 72,
   "outputs": [
    {
     "data": {
      "text/plain": "(75827, 22)"
     },
     "execution_count": 72,
     "metadata": {},
     "output_type": "execute_result"
    }
   ],
   "source": [
    "regions_to_del = count_sum_unemployed_by_regions[count_sum_unemployed_by_regions.sum_uneployed < 1000].index\n",
    "df = df.drop(df[df.region.isin(regions_to_del)].index, axis=0)\n",
    "df.shape"
   ],
   "metadata": {
    "collapsed": false,
    "pycharm": {
     "name": "#%%\n"
    }
   }
  },
  {
   "cell_type": "code",
   "execution_count": 72,
   "outputs": [],
   "source": [],
   "metadata": {
    "collapsed": false,
    "pycharm": {
     "name": "#%%\n"
    }
   }
  },
  {
   "cell_type": "markdown",
   "source": [
    "### также удалим сильно ывделяющиеся сферы трудовой деятельности с низким кол-вом сэмплов"
   ],
   "metadata": {
    "collapsed": false,
    "pycharm": {
     "name": "#%% md\n"
    }
   }
  },
  {
   "cell_type": "code",
   "execution_count": 73,
   "outputs": [
    {
     "data": {
      "text/plain": "                                                    oced_count\noced                                                          \nЛогистика                                                   56\nНачало трудовой деятельности                               167\nКонсалтинг, стратегическое развитие, управление           1443\nХимическая, нефтехимическая, топливная промышле...        1785\nЛесная, деревообрабатывающая, целлюлозно-бумажн...        1935\nМеталлургия, металлообработка                             1954\nДобывающая промышленность                                 2089\nДомашний персонал                                         2115\nЭлектроэнергетика                                         2168\nМашиностроение                                            2182\nЛегкая промышленность                                     2213\nМаркетинг, реклама, PR                                    2221\nВысший менеджмент                                         2289\nСельское хозяйство, экология, ветеринария                 2312\nТуризм, гостиницы, рестораны                              2323\nУслуги населению, сервисное обслуживание                  2336\nИскусство, культура и развлечения                         2342\nКадровая служба, управление персоналом                    2358\nЖКХ, эксплуатация                                         2372\nЮриспруденция                                             2397\nПроизводство                                              2406\nИнформационные технологии, телекоммуникации, связь        2414\nПищевая промышленность                                    2425\nБезопасность, службы охраны                               2431\nОбразование, наука                                        2441\nЗдравоохранение, спорт, красота, социальное обе...        2447\nСтроительство, ремонт, стройматериалы, недвижим...        2450\nРабочие специальности                                     2453\nФинансы, кредит, страхование, пенсионное обеспе...        2458\nТранспорт, автобизнес, логистика, склад, ВЭД              2462\nГосударственная служба, некоммерческие организации        2470\nАдминистративная работа, секретариат, АХО                 2470\nРаботы, не требующие квалификации                         2475\nПродажи, закупки, снабжение, торговля                     2478\nNone                                                      2490",
      "text/html": "<div>\n<style scoped>\n    .dataframe tbody tr th:only-of-type {\n        vertical-align: middle;\n    }\n\n    .dataframe tbody tr th {\n        vertical-align: top;\n    }\n\n    .dataframe thead th {\n        text-align: right;\n    }\n</style>\n<table border=\"1\" class=\"dataframe\">\n  <thead>\n    <tr style=\"text-align: right;\">\n      <th></th>\n      <th>oced_count</th>\n    </tr>\n    <tr>\n      <th>oced</th>\n      <th></th>\n    </tr>\n  </thead>\n  <tbody>\n    <tr>\n      <th>Логистика</th>\n      <td>56</td>\n    </tr>\n    <tr>\n      <th>Начало трудовой деятельности</th>\n      <td>167</td>\n    </tr>\n    <tr>\n      <th>Консалтинг, стратегическое развитие, управление</th>\n      <td>1443</td>\n    </tr>\n    <tr>\n      <th>Химическая, нефтехимическая, топливная промышленность</th>\n      <td>1785</td>\n    </tr>\n    <tr>\n      <th>Лесная, деревообрабатывающая, целлюлозно-бумажная промышленность</th>\n      <td>1935</td>\n    </tr>\n    <tr>\n      <th>Металлургия, металлообработка</th>\n      <td>1954</td>\n    </tr>\n    <tr>\n      <th>Добывающая промышленность</th>\n      <td>2089</td>\n    </tr>\n    <tr>\n      <th>Домашний персонал</th>\n      <td>2115</td>\n    </tr>\n    <tr>\n      <th>Электроэнергетика</th>\n      <td>2168</td>\n    </tr>\n    <tr>\n      <th>Машиностроение</th>\n      <td>2182</td>\n    </tr>\n    <tr>\n      <th>Легкая промышленность</th>\n      <td>2213</td>\n    </tr>\n    <tr>\n      <th>Маркетинг, реклама, PR</th>\n      <td>2221</td>\n    </tr>\n    <tr>\n      <th>Высший менеджмент</th>\n      <td>2289</td>\n    </tr>\n    <tr>\n      <th>Сельское хозяйство, экология, ветеринария</th>\n      <td>2312</td>\n    </tr>\n    <tr>\n      <th>Туризм, гостиницы, рестораны</th>\n      <td>2323</td>\n    </tr>\n    <tr>\n      <th>Услуги населению, сервисное обслуживание</th>\n      <td>2336</td>\n    </tr>\n    <tr>\n      <th>Искусство, культура и развлечения</th>\n      <td>2342</td>\n    </tr>\n    <tr>\n      <th>Кадровая служба, управление персоналом</th>\n      <td>2358</td>\n    </tr>\n    <tr>\n      <th>ЖКХ, эксплуатация</th>\n      <td>2372</td>\n    </tr>\n    <tr>\n      <th>Юриспруденция</th>\n      <td>2397</td>\n    </tr>\n    <tr>\n      <th>Производство</th>\n      <td>2406</td>\n    </tr>\n    <tr>\n      <th>Информационные технологии, телекоммуникации, связь</th>\n      <td>2414</td>\n    </tr>\n    <tr>\n      <th>Пищевая промышленность</th>\n      <td>2425</td>\n    </tr>\n    <tr>\n      <th>Безопасность, службы охраны</th>\n      <td>2431</td>\n    </tr>\n    <tr>\n      <th>Образование, наука</th>\n      <td>2441</td>\n    </tr>\n    <tr>\n      <th>Здравоохранение, спорт, красота, социальное обеспечение</th>\n      <td>2447</td>\n    </tr>\n    <tr>\n      <th>Строительство, ремонт, стройматериалы, недвижимость</th>\n      <td>2450</td>\n    </tr>\n    <tr>\n      <th>Рабочие специальности</th>\n      <td>2453</td>\n    </tr>\n    <tr>\n      <th>Финансы, кредит, страхование, пенсионное обеспечение</th>\n      <td>2458</td>\n    </tr>\n    <tr>\n      <th>Транспорт, автобизнес, логистика, склад, ВЭД</th>\n      <td>2462</td>\n    </tr>\n    <tr>\n      <th>Государственная служба, некоммерческие организации</th>\n      <td>2470</td>\n    </tr>\n    <tr>\n      <th>Административная работа, секретариат, АХО</th>\n      <td>2470</td>\n    </tr>\n    <tr>\n      <th>Работы, не требующие квалификации</th>\n      <td>2475</td>\n    </tr>\n    <tr>\n      <th>Продажи, закупки, снабжение, торговля</th>\n      <td>2478</td>\n    </tr>\n    <tr>\n      <th>None</th>\n      <td>2490</td>\n    </tr>\n  </tbody>\n</table>\n</div>"
     },
     "execution_count": 73,
     "metadata": {},
     "output_type": "execute_result"
    }
   ],
   "source": [
    "count_sum_unemployed_by_prof = df.groupby(\"oced\").agg(oced_count = (\"oced\", \"count\")).sort_values(by=\"oced_count\")\n",
    "count_sum_unemployed_by_prof"
   ],
   "metadata": {
    "collapsed": false,
    "pycharm": {
     "name": "#%%\n"
    }
   }
  },
  {
   "cell_type": "code",
   "execution_count": 74,
   "outputs": [
    {
     "data": {
      "text/plain": "(75604, 22)"
     },
     "execution_count": 74,
     "metadata": {},
     "output_type": "execute_result"
    }
   ],
   "source": [
    "prof_to_del = count_sum_unemployed_by_prof[count_sum_unemployed_by_prof.oced_count < 1000].index\n",
    "df = df.drop(df[df.oced.isin(prof_to_del)].index, axis=0)\n",
    "df.shape"
   ],
   "metadata": {
    "collapsed": false,
    "pycharm": {
     "name": "#%%\n"
    }
   }
  },
  {
   "cell_type": "code",
   "execution_count": 74,
   "outputs": [],
   "source": [],
   "metadata": {
    "collapsed": false,
    "pycharm": {
     "name": "#%%\n"
    }
   }
  },
  {
   "cell_type": "markdown",
   "source": [
    "### также посмотрим на колво заражений, смертей и выздоравлений в разных регионах"
   ],
   "metadata": {
    "collapsed": false,
    "pycharm": {
     "name": "#%% md\n"
    }
   }
  },
  {
   "cell_type": "code",
   "execution_count": 104,
   "outputs": [],
   "source": [
    "covid_df = df.groupby(\"region\").agg(sum_infections = (\"infections\", \"sum\"), population=(\"population\", \"mean\"), sum_healed=(\"healed\", \"sum\"), sum_deathed=(\"deaths\", \"sum\"))"
   ],
   "metadata": {
    "collapsed": false,
    "pycharm": {
     "name": "#%%\n"
    }
   }
  },
  {
   "cell_type": "code",
   "execution_count": 106,
   "outputs": [],
   "source": [
    "covid_df[\"procent_healed\"] = covid_df.sum_healed / covid_df.sum_infections\n",
    "covid_df[\"procent_infected\"] = covid_df.sum_infections / covid_df.population\n",
    "covid_df[\"procent_death\"] = covid_df.sum_deathed / covid_df.population"
   ],
   "metadata": {
    "collapsed": false,
    "pycharm": {
     "name": "#%%\n"
    }
   }
  },
  {
   "cell_type": "code",
   "execution_count": 109,
   "outputs": [
    {
     "data": {
      "text/plain": "                   sum_infections  population  sum_healed  sum_deathed  \\\nregion                                                                   \nАдыгея                   168068.0    463088.0    131060.0       1367.0   \nАлтай                    199512.0    220181.0    172650.0        689.0   \nАлтайский край           608828.0   2317153.0    567713.0      12523.0   \nАмурская                 221459.0    790044.0    208040.0       1997.0   \nАрхангельская            642644.0   1092424.0    426098.0       7967.0   \n...                           ...         ...         ...          ...   \nЧелябинская              617718.0   3466369.0    464942.0       6081.0   \nЧечня                    111140.0   1478726.0     62946.0       1495.0   \nЧувашия                  299533.0   1217818.0    239282.0       5971.0   \nЯмало-Ненецкий АО        548776.0    544444.0    420805.0       3678.0   \nЯрославская              362546.0   1253389.0    320840.0       2081.0   \n\n                   procent_healed  procent_infected  procent_death  \nregion                                                              \nАдыгея                   0.779803          0.362929       0.002952  \nАлтай                    0.865361          0.906127       0.003129  \nАлтайский край           0.932469          0.262748       0.005404  \nАмурская                 0.939406          0.280312       0.002528  \nАрхангельская            0.663039          0.588273       0.007293  \n...                           ...               ...            ...  \nЧелябинская              0.752677          0.178203       0.001754  \nЧечня                    0.566367          0.075159       0.001011  \nЧувашия                  0.798850          0.245959       0.004903  \nЯмало-Ненецкий АО        0.766806          1.007957       0.006756  \nЯрославская              0.884964          0.289253       0.001660  \n\n[83 rows x 7 columns]",
      "text/html": "<div>\n<style scoped>\n    .dataframe tbody tr th:only-of-type {\n        vertical-align: middle;\n    }\n\n    .dataframe tbody tr th {\n        vertical-align: top;\n    }\n\n    .dataframe thead th {\n        text-align: right;\n    }\n</style>\n<table border=\"1\" class=\"dataframe\">\n  <thead>\n    <tr style=\"text-align: right;\">\n      <th></th>\n      <th>sum_infections</th>\n      <th>population</th>\n      <th>sum_healed</th>\n      <th>sum_deathed</th>\n      <th>procent_healed</th>\n      <th>procent_infected</th>\n      <th>procent_death</th>\n    </tr>\n    <tr>\n      <th>region</th>\n      <th></th>\n      <th></th>\n      <th></th>\n      <th></th>\n      <th></th>\n      <th></th>\n      <th></th>\n    </tr>\n  </thead>\n  <tbody>\n    <tr>\n      <th>Адыгея</th>\n      <td>168068.0</td>\n      <td>463088.0</td>\n      <td>131060.0</td>\n      <td>1367.0</td>\n      <td>0.779803</td>\n      <td>0.362929</td>\n      <td>0.002952</td>\n    </tr>\n    <tr>\n      <th>Алтай</th>\n      <td>199512.0</td>\n      <td>220181.0</td>\n      <td>172650.0</td>\n      <td>689.0</td>\n      <td>0.865361</td>\n      <td>0.906127</td>\n      <td>0.003129</td>\n    </tr>\n    <tr>\n      <th>Алтайский край</th>\n      <td>608828.0</td>\n      <td>2317153.0</td>\n      <td>567713.0</td>\n      <td>12523.0</td>\n      <td>0.932469</td>\n      <td>0.262748</td>\n      <td>0.005404</td>\n    </tr>\n    <tr>\n      <th>Амурская</th>\n      <td>221459.0</td>\n      <td>790044.0</td>\n      <td>208040.0</td>\n      <td>1997.0</td>\n      <td>0.939406</td>\n      <td>0.280312</td>\n      <td>0.002528</td>\n    </tr>\n    <tr>\n      <th>Архангельская</th>\n      <td>642644.0</td>\n      <td>1092424.0</td>\n      <td>426098.0</td>\n      <td>7967.0</td>\n      <td>0.663039</td>\n      <td>0.588273</td>\n      <td>0.007293</td>\n    </tr>\n    <tr>\n      <th>...</th>\n      <td>...</td>\n      <td>...</td>\n      <td>...</td>\n      <td>...</td>\n      <td>...</td>\n      <td>...</td>\n      <td>...</td>\n    </tr>\n    <tr>\n      <th>Челябинская</th>\n      <td>617718.0</td>\n      <td>3466369.0</td>\n      <td>464942.0</td>\n      <td>6081.0</td>\n      <td>0.752677</td>\n      <td>0.178203</td>\n      <td>0.001754</td>\n    </tr>\n    <tr>\n      <th>Чечня</th>\n      <td>111140.0</td>\n      <td>1478726.0</td>\n      <td>62946.0</td>\n      <td>1495.0</td>\n      <td>0.566367</td>\n      <td>0.075159</td>\n      <td>0.001011</td>\n    </tr>\n    <tr>\n      <th>Чувашия</th>\n      <td>299533.0</td>\n      <td>1217818.0</td>\n      <td>239282.0</td>\n      <td>5971.0</td>\n      <td>0.798850</td>\n      <td>0.245959</td>\n      <td>0.004903</td>\n    </tr>\n    <tr>\n      <th>Ямало-Ненецкий АО</th>\n      <td>548776.0</td>\n      <td>544444.0</td>\n      <td>420805.0</td>\n      <td>3678.0</td>\n      <td>0.766806</td>\n      <td>1.007957</td>\n      <td>0.006756</td>\n    </tr>\n    <tr>\n      <th>Ярославская</th>\n      <td>362546.0</td>\n      <td>1253389.0</td>\n      <td>320840.0</td>\n      <td>2081.0</td>\n      <td>0.884964</td>\n      <td>0.289253</td>\n      <td>0.001660</td>\n    </tr>\n  </tbody>\n</table>\n<p>83 rows × 7 columns</p>\n</div>"
     },
     "execution_count": 109,
     "metadata": {},
     "output_type": "execute_result"
    }
   ],
   "source": [
    "covid_df"
   ],
   "metadata": {
    "collapsed": false,
    "pycharm": {
     "name": "#%%\n"
    }
   }
  },
  {
   "cell_type": "markdown",
   "source": [
    "В Москве суммарно число выявленных случаев заболевших больше чем численность населения на начало 2020 года - это может быть связано с повторным заражением инфекцией"
   ],
   "metadata": {
    "collapsed": false,
    "pycharm": {
     "name": "#%% md\n"
    }
   }
  },
  {
   "cell_type": "code",
   "execution_count": null,
   "outputs": [],
   "source": [],
   "metadata": {
    "collapsed": false,
    "pycharm": {
     "name": "#%%\n"
    }
   }
  },
  {
   "cell_type": "code",
   "execution_count": 118,
   "outputs": [
    {
     "data": {
      "text/plain": "(75604, 22)"
     },
     "execution_count": 118,
     "metadata": {},
     "output_type": "execute_result"
    }
   ],
   "source": [
    "df.shape"
   ],
   "metadata": {
    "collapsed": false,
    "pycharm": {
     "name": "#%%\n"
    }
   }
  },
  {
   "cell_type": "code",
   "execution_count": 119,
   "outputs": [],
   "source": [
    "df.to_csv(\"dataset_1.csv\", index=None)"
   ],
   "metadata": {
    "collapsed": false,
    "pycharm": {
     "name": "#%%\n"
    }
   }
  },
  {
   "cell_type": "code",
   "execution_count": null,
   "outputs": [],
   "source": [],
   "metadata": {
    "collapsed": false,
    "pycharm": {
     "name": "#%%\n"
    }
   }
  }
 ],
 "metadata": {
  "kernelspec": {
   "display_name": "Python 3",
   "language": "python",
   "name": "python3"
  },
  "language_info": {
   "codemirror_mode": {
    "name": "ipython",
    "version": 2
   },
   "file_extension": ".py",
   "mimetype": "text/x-python",
   "name": "python",
   "nbconvert_exporter": "python",
   "pygments_lexer": "ipython2",
   "version": "2.7.6"
  }
 },
 "nbformat": 4,
 "nbformat_minor": 0
}