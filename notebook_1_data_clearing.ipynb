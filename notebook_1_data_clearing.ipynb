{
 "cells": [
  {
   "cell_type": "code",
   "execution_count": 1,
   "metadata": {
    "collapsed": true
   },
   "outputs": [
    {
     "name": "stderr",
     "output_type": "stream",
     "text": [
      "C:\\Users\\iltya\\AppData\\Roaming\\Python\\Python39\\site-packages\\scipy\\__init__.py:155: UserWarning: A NumPy version >=1.18.5 and <1.25.0 is required for this version of SciPy (detected version 1.26.1\n",
      "  warnings.warn(f\"A NumPy version >={np_minversion} and <{np_maxversion}\"\n"
     ]
    }
   ],
   "source": [
    "import pandas as pd\n",
    "import numpy as np\n",
    "import matplotlib.pyplot as plt\n",
    "import seaborn as sns"
   ]
  },
  {
   "cell_type": "code",
   "execution_count": 2,
   "outputs": [],
   "source": [
    "df = pd.read_excel(\"data/covid_UPD.xlsx\")"
   ],
   "metadata": {
    "collapsed": false,
    "pycharm": {
     "name": "#%%\n"
    }
   }
  },
  {
   "cell_type": "code",
   "execution_count": 3,
   "outputs": [
    {
     "data": {
      "text/plain": "(76219, 22)"
     },
     "execution_count": 3,
     "metadata": {},
     "output_type": "execute_result"
    }
   ],
   "source": [
    "df.shape"
   ],
   "metadata": {
    "collapsed": false,
    "pycharm": {
     "name": "#%%\n"
    }
   }
  },
  {
   "cell_type": "markdown",
   "source": [
    "проверим на пропущенные значения"
   ],
   "metadata": {
    "collapsed": false,
    "pycharm": {
     "name": "#%% md\n"
    }
   }
  },
  {
   "cell_type": "code",
   "execution_count": 4,
   "outputs": [
    {
     "data": {
      "text/plain": "        week  region                                               oced  \\\n0 2020-04-06  Адыгея  Строительство, ремонт, стройматериалы, недвижи...   \n1 2020-04-06  Адыгея                                     Машиностроение   \n2 2020-04-06  Адыгея                                      Юриспруденция   \n3 2020-04-06  Адыгея                             Пищевая промышленность   \n4 2020-04-06  Адыгея  Государственная служба, некоммерческие организ...   \n\n   unemployed  cv_gender  cv_birthday_2000  cv_birthday_1990  \\\n0          19         18                 0                 3   \n1           2          1                 0                 0   \n2          13          6                 0                 2   \n3           9          2                 1                 2   \n4          17          8                 0                 3   \n\n   cv_birthday_1980  cv_birthday_1970  cv_birthday_1960  ...     women  \\\n0                12                19                19  ...  245928.0   \n1                 1                 1                 2  ...  245928.0   \n2                11                13                13  ...  245928.0   \n3                 6                 9                 9  ...  245928.0   \n4                14                17                17  ...  245928.0   \n\n   infections  deaths  healed  tests        Rt  level  yandex_continuous  \\\n0        42.0     0.0    44.0    NaN  0.873684    NaN           3.314286   \n1        42.0     0.0    44.0    NaN  0.873684    NaN           3.314286   \n2        42.0     0.0    44.0    NaN  0.873684    NaN           3.314286   \n3        42.0     0.0    44.0    NaN  0.873684    NaN           3.314286   \n4        42.0     0.0    44.0    NaN  0.873684    NaN           3.314286   \n\n   yandex_level  pass  \n0           2.0   0.0  \n1           2.0   0.0  \n2           2.0   0.0  \n3           2.0   0.0  \n4           2.0   0.0  \n\n[5 rows x 22 columns]",
      "text/html": "<div>\n<style scoped>\n    .dataframe tbody tr th:only-of-type {\n        vertical-align: middle;\n    }\n\n    .dataframe tbody tr th {\n        vertical-align: top;\n    }\n\n    .dataframe thead th {\n        text-align: right;\n    }\n</style>\n<table border=\"1\" class=\"dataframe\">\n  <thead>\n    <tr style=\"text-align: right;\">\n      <th></th>\n      <th>week</th>\n      <th>region</th>\n      <th>oced</th>\n      <th>unemployed</th>\n      <th>cv_gender</th>\n      <th>cv_birthday_2000</th>\n      <th>cv_birthday_1990</th>\n      <th>cv_birthday_1980</th>\n      <th>cv_birthday_1970</th>\n      <th>cv_birthday_1960</th>\n      <th>...</th>\n      <th>women</th>\n      <th>infections</th>\n      <th>deaths</th>\n      <th>healed</th>\n      <th>tests</th>\n      <th>Rt</th>\n      <th>level</th>\n      <th>yandex_continuous</th>\n      <th>yandex_level</th>\n      <th>pass</th>\n    </tr>\n  </thead>\n  <tbody>\n    <tr>\n      <th>0</th>\n      <td>2020-04-06</td>\n      <td>Адыгея</td>\n      <td>Строительство, ремонт, стройматериалы, недвижи...</td>\n      <td>19</td>\n      <td>18</td>\n      <td>0</td>\n      <td>3</td>\n      <td>12</td>\n      <td>19</td>\n      <td>19</td>\n      <td>...</td>\n      <td>245928.0</td>\n      <td>42.0</td>\n      <td>0.0</td>\n      <td>44.0</td>\n      <td>NaN</td>\n      <td>0.873684</td>\n      <td>NaN</td>\n      <td>3.314286</td>\n      <td>2.0</td>\n      <td>0.0</td>\n    </tr>\n    <tr>\n      <th>1</th>\n      <td>2020-04-06</td>\n      <td>Адыгея</td>\n      <td>Машиностроение</td>\n      <td>2</td>\n      <td>1</td>\n      <td>0</td>\n      <td>0</td>\n      <td>1</td>\n      <td>1</td>\n      <td>2</td>\n      <td>...</td>\n      <td>245928.0</td>\n      <td>42.0</td>\n      <td>0.0</td>\n      <td>44.0</td>\n      <td>NaN</td>\n      <td>0.873684</td>\n      <td>NaN</td>\n      <td>3.314286</td>\n      <td>2.0</td>\n      <td>0.0</td>\n    </tr>\n    <tr>\n      <th>2</th>\n      <td>2020-04-06</td>\n      <td>Адыгея</td>\n      <td>Юриспруденция</td>\n      <td>13</td>\n      <td>6</td>\n      <td>0</td>\n      <td>2</td>\n      <td>11</td>\n      <td>13</td>\n      <td>13</td>\n      <td>...</td>\n      <td>245928.0</td>\n      <td>42.0</td>\n      <td>0.0</td>\n      <td>44.0</td>\n      <td>NaN</td>\n      <td>0.873684</td>\n      <td>NaN</td>\n      <td>3.314286</td>\n      <td>2.0</td>\n      <td>0.0</td>\n    </tr>\n    <tr>\n      <th>3</th>\n      <td>2020-04-06</td>\n      <td>Адыгея</td>\n      <td>Пищевая промышленность</td>\n      <td>9</td>\n      <td>2</td>\n      <td>1</td>\n      <td>2</td>\n      <td>6</td>\n      <td>9</td>\n      <td>9</td>\n      <td>...</td>\n      <td>245928.0</td>\n      <td>42.0</td>\n      <td>0.0</td>\n      <td>44.0</td>\n      <td>NaN</td>\n      <td>0.873684</td>\n      <td>NaN</td>\n      <td>3.314286</td>\n      <td>2.0</td>\n      <td>0.0</td>\n    </tr>\n    <tr>\n      <th>4</th>\n      <td>2020-04-06</td>\n      <td>Адыгея</td>\n      <td>Государственная служба, некоммерческие организ...</td>\n      <td>17</td>\n      <td>8</td>\n      <td>0</td>\n      <td>3</td>\n      <td>14</td>\n      <td>17</td>\n      <td>17</td>\n      <td>...</td>\n      <td>245928.0</td>\n      <td>42.0</td>\n      <td>0.0</td>\n      <td>44.0</td>\n      <td>NaN</td>\n      <td>0.873684</td>\n      <td>NaN</td>\n      <td>3.314286</td>\n      <td>2.0</td>\n      <td>0.0</td>\n    </tr>\n  </tbody>\n</table>\n<p>5 rows × 22 columns</p>\n</div>"
     },
     "execution_count": 4,
     "metadata": {},
     "output_type": "execute_result"
    }
   ],
   "source": [
    "df.head()"
   ],
   "metadata": {
    "collapsed": false,
    "pycharm": {
     "name": "#%%\n"
    }
   }
  },
  {
   "cell_type": "code",
   "execution_count": 4,
   "outputs": [],
   "source": [],
   "metadata": {
    "collapsed": false,
    "pycharm": {
     "name": "#%%\n"
    }
   }
  },
  {
   "cell_type": "markdown",
   "source": [
    "### из-за низкой репрезентативности удалим регионы с суммарным кол-вом поданных заявок меньше 1000"
   ],
   "metadata": {
    "collapsed": false,
    "pycharm": {
     "name": "#%% md\n"
    }
   }
  },
  {
   "cell_type": "code",
   "execution_count": 5,
   "outputs": [
    {
     "data": {
      "text/plain": "                    sum_uneployed\nregion                           \nБайконур                       63\nЧукотский АО                  144\nНенецкий АО                   820\nМагаданская                  1369\nСахалинская                  4892\n...                           ...\nРостовская                 149789\nМосковская                 191943\nКраснодарский край         224576\nДагестан                   225636\nЧечня                      226264\n\n[86 rows x 1 columns]",
      "text/html": "<div>\n<style scoped>\n    .dataframe tbody tr th:only-of-type {\n        vertical-align: middle;\n    }\n\n    .dataframe tbody tr th {\n        vertical-align: top;\n    }\n\n    .dataframe thead th {\n        text-align: right;\n    }\n</style>\n<table border=\"1\" class=\"dataframe\">\n  <thead>\n    <tr style=\"text-align: right;\">\n      <th></th>\n      <th>sum_uneployed</th>\n    </tr>\n    <tr>\n      <th>region</th>\n      <th></th>\n    </tr>\n  </thead>\n  <tbody>\n    <tr>\n      <th>Байконур</th>\n      <td>63</td>\n    </tr>\n    <tr>\n      <th>Чукотский АО</th>\n      <td>144</td>\n    </tr>\n    <tr>\n      <th>Ненецкий АО</th>\n      <td>820</td>\n    </tr>\n    <tr>\n      <th>Магаданская</th>\n      <td>1369</td>\n    </tr>\n    <tr>\n      <th>Сахалинская</th>\n      <td>4892</td>\n    </tr>\n    <tr>\n      <th>...</th>\n      <td>...</td>\n    </tr>\n    <tr>\n      <th>Ростовская</th>\n      <td>149789</td>\n    </tr>\n    <tr>\n      <th>Московская</th>\n      <td>191943</td>\n    </tr>\n    <tr>\n      <th>Краснодарский край</th>\n      <td>224576</td>\n    </tr>\n    <tr>\n      <th>Дагестан</th>\n      <td>225636</td>\n    </tr>\n    <tr>\n      <th>Чечня</th>\n      <td>226264</td>\n    </tr>\n  </tbody>\n</table>\n<p>86 rows × 1 columns</p>\n</div>"
     },
     "execution_count": 5,
     "metadata": {},
     "output_type": "execute_result"
    }
   ],
   "source": [
    "count_sum_unemployed_by_regions = df.groupby(\"region\").agg(sum_uneployed=(\"unemployed\", \"sum\")).sort_values(by=\"sum_uneployed\")\n",
    "count_sum_unemployed_by_regions"
   ],
   "metadata": {
    "collapsed": false,
    "pycharm": {
     "name": "#%%\n"
    }
   }
  },
  {
   "cell_type": "code",
   "execution_count": 16,
   "outputs": [],
   "source": [
    "df_unemployed_by_regions = df.groupby(\"region\").agg(sum_uneployed=(\"unemployed\", \"sum\"),\n",
    "                                                           population=(\"population\", \"mean\")).dropna()"
   ],
   "metadata": {
    "collapsed": false,
    "pycharm": {
     "name": "#%%\n"
    }
   }
  },
  {
   "cell_type": "code",
   "execution_count": 17,
   "outputs": [],
   "source": [
    "df_unemployed_by_regions[\"procent_unamployed\"] = df_unemployed_by_regions.sum_uneployed / df_unemployed_by_regions.population"
   ],
   "metadata": {
    "collapsed": false,
    "pycharm": {
     "name": "#%%\n"
    }
   }
  },
  {
   "cell_type": "code",
   "execution_count": 19,
   "outputs": [
    {
     "data": {
      "text/plain": "                   sum_uneployed  population  procent_unamployed\nregion                                                          \nАдыгея                     17898    463088.0            0.038649\nАлтай                      15186    220181.0            0.068971\nАлтайский край             47654   2317153.0            0.020566\nАмурская                   25986    790044.0            0.032892\nАрхангельская              22140   1092424.0            0.020267\n...                          ...         ...                 ...\nЧечня                     226264   1478726.0            0.153013\nЧувашия                    42008   1217818.0            0.034494\nЧукотский АО                 144     50288.0            0.002864\nЯмало-Ненецкий АО           8938    544444.0            0.016417\nЯрославская                39707   1253389.0            0.031680\n\n[85 rows x 3 columns]",
      "text/html": "<div>\n<style scoped>\n    .dataframe tbody tr th:only-of-type {\n        vertical-align: middle;\n    }\n\n    .dataframe tbody tr th {\n        vertical-align: top;\n    }\n\n    .dataframe thead th {\n        text-align: right;\n    }\n</style>\n<table border=\"1\" class=\"dataframe\">\n  <thead>\n    <tr style=\"text-align: right;\">\n      <th></th>\n      <th>sum_uneployed</th>\n      <th>population</th>\n      <th>procent_unamployed</th>\n    </tr>\n    <tr>\n      <th>region</th>\n      <th></th>\n      <th></th>\n      <th></th>\n    </tr>\n  </thead>\n  <tbody>\n    <tr>\n      <th>Адыгея</th>\n      <td>17898</td>\n      <td>463088.0</td>\n      <td>0.038649</td>\n    </tr>\n    <tr>\n      <th>Алтай</th>\n      <td>15186</td>\n      <td>220181.0</td>\n      <td>0.068971</td>\n    </tr>\n    <tr>\n      <th>Алтайский край</th>\n      <td>47654</td>\n      <td>2317153.0</td>\n      <td>0.020566</td>\n    </tr>\n    <tr>\n      <th>Амурская</th>\n      <td>25986</td>\n      <td>790044.0</td>\n      <td>0.032892</td>\n    </tr>\n    <tr>\n      <th>Архангельская</th>\n      <td>22140</td>\n      <td>1092424.0</td>\n      <td>0.020267</td>\n    </tr>\n    <tr>\n      <th>...</th>\n      <td>...</td>\n      <td>...</td>\n      <td>...</td>\n    </tr>\n    <tr>\n      <th>Чечня</th>\n      <td>226264</td>\n      <td>1478726.0</td>\n      <td>0.153013</td>\n    </tr>\n    <tr>\n      <th>Чувашия</th>\n      <td>42008</td>\n      <td>1217818.0</td>\n      <td>0.034494</td>\n    </tr>\n    <tr>\n      <th>Чукотский АО</th>\n      <td>144</td>\n      <td>50288.0</td>\n      <td>0.002864</td>\n    </tr>\n    <tr>\n      <th>Ямало-Ненецкий АО</th>\n      <td>8938</td>\n      <td>544444.0</td>\n      <td>0.016417</td>\n    </tr>\n    <tr>\n      <th>Ярославская</th>\n      <td>39707</td>\n      <td>1253389.0</td>\n      <td>0.031680</td>\n    </tr>\n  </tbody>\n</table>\n<p>85 rows × 3 columns</p>\n</div>"
     },
     "execution_count": 19,
     "metadata": {},
     "output_type": "execute_result"
    }
   ],
   "source": [
    "df_unemployed_by_regions"
   ],
   "metadata": {
    "collapsed": false,
    "pycharm": {
     "name": "#%%\n"
    }
   }
  },
  {
   "cell_type": "code",
   "execution_count": 5,
   "outputs": [],
   "source": [
    "# regions_to_del = count_sum_unemployed_by_regions[count_sum_unemployed_by_regions.sum_uneployed < 1000].index\n",
    "# df = df.drop(df[df.region.isin(regions_to_del)].index, axis=0)\n",
    "# df.shape"
   ],
   "metadata": {
    "collapsed": false,
    "pycharm": {
     "name": "#%%\n"
    }
   }
  },
  {
   "cell_type": "code",
   "execution_count": 21,
   "outputs": [],
   "source": [
    "regions_to_del = [\"Байконур\", \"Чечня\", \"Чукотский АО\"]\n",
    "df = df.drop(df[df.region.isin(regions_to_del)].index, axis=0)"
   ],
   "metadata": {
    "collapsed": false,
    "pycharm": {
     "name": "#%%\n"
    }
   }
  },
  {
   "cell_type": "code",
   "execution_count": 8,
   "outputs": [],
   "source": [],
   "metadata": {
    "collapsed": false,
    "pycharm": {
     "name": "#%%\n"
    }
   }
  },
  {
   "cell_type": "markdown",
   "source": [
    "### также посмотрим на колво заражений, смертей и выздоравлений в разных регионах"
   ],
   "metadata": {
    "collapsed": false,
    "pycharm": {
     "name": "#%% md\n"
    }
   }
  },
  {
   "cell_type": "code",
   "execution_count": 23,
   "outputs": [],
   "source": [
    "covid_df = df.groupby([\"region\", \"week\"]).agg(sum_infections = (\"infections\", \"mean\"), population=(\"population\", \"mean\"), sum_healed=(\"healed\", \"mean\"), sum_deathed=(\"deaths\", \"mean\"))"
   ],
   "metadata": {
    "collapsed": false,
    "pycharm": {
     "name": "#%%\n"
    }
   }
  },
  {
   "cell_type": "code",
   "execution_count": 24,
   "outputs": [],
   "source": [
    "covid_df[\"procent_healed\"] = covid_df.sum_healed / covid_df.sum_infections\n",
    "covid_df[\"procent_infected\"] = covid_df.sum_infections / covid_df.population\n",
    "covid_df[\"procent_death\"] = covid_df.sum_deathed / covid_df.population"
   ],
   "metadata": {
    "collapsed": false,
    "pycharm": {
     "name": "#%%\n"
    }
   }
  },
  {
   "cell_type": "code",
   "execution_count": 25,
   "outputs": [
    {
     "data": {
      "text/plain": "                        sum_infections  population  sum_healed  sum_deathed  \\\nregion      week                                                              \nАдыгея      2020-04-06            42.0    463088.0        44.0          0.0   \n            2020-04-13           278.0    463088.0       233.0          2.0   \n            2020-04-20            80.0    463088.0        11.0          2.0   \n            2020-04-27            42.0    463088.0        16.0          1.0   \n            2020-05-04            21.0    463088.0        16.0          0.0   \n...                                ...         ...         ...          ...   \nЯрославская 2020-09-28           345.0   1253389.0       311.0          1.0   \n            2020-10-05           167.0   1253389.0        81.0          0.0   \n            2020-10-12           611.0   1253389.0       809.0          0.0   \n            2020-10-19           677.0   1253389.0       440.0          2.0   \n            2020-10-26           770.0   1253389.0       566.0          6.0   \n\n                        procent_healed  procent_infected  procent_death  \nregion      week                                                         \nАдыгея      2020-04-06        1.047619          0.000091   0.000000e+00  \n            2020-04-13        0.838129          0.000600   4.318834e-06  \n            2020-04-20        0.137500          0.000173   4.318834e-06  \n            2020-04-27        0.380952          0.000091   2.159417e-06  \n            2020-05-04        0.761905          0.000045   0.000000e+00  \n...                                ...               ...            ...  \nЯрославская 2020-09-28        0.901449          0.000275   7.978369e-07  \n            2020-10-05        0.485030          0.000133   0.000000e+00  \n            2020-10-12        1.324059          0.000487   0.000000e+00  \n            2020-10-19        0.649926          0.000540   1.595674e-06  \n            2020-10-26        0.735065          0.000614   4.787021e-06  \n\n[2490 rows x 7 columns]",
      "text/html": "<div>\n<style scoped>\n    .dataframe tbody tr th:only-of-type {\n        vertical-align: middle;\n    }\n\n    .dataframe tbody tr th {\n        vertical-align: top;\n    }\n\n    .dataframe thead th {\n        text-align: right;\n    }\n</style>\n<table border=\"1\" class=\"dataframe\">\n  <thead>\n    <tr style=\"text-align: right;\">\n      <th></th>\n      <th></th>\n      <th>sum_infections</th>\n      <th>population</th>\n      <th>sum_healed</th>\n      <th>sum_deathed</th>\n      <th>procent_healed</th>\n      <th>procent_infected</th>\n      <th>procent_death</th>\n    </tr>\n    <tr>\n      <th>region</th>\n      <th>week</th>\n      <th></th>\n      <th></th>\n      <th></th>\n      <th></th>\n      <th></th>\n      <th></th>\n      <th></th>\n    </tr>\n  </thead>\n  <tbody>\n    <tr>\n      <th rowspan=\"5\" valign=\"top\">Адыгея</th>\n      <th>2020-04-06</th>\n      <td>42.0</td>\n      <td>463088.0</td>\n      <td>44.0</td>\n      <td>0.0</td>\n      <td>1.047619</td>\n      <td>0.000091</td>\n      <td>0.000000e+00</td>\n    </tr>\n    <tr>\n      <th>2020-04-13</th>\n      <td>278.0</td>\n      <td>463088.0</td>\n      <td>233.0</td>\n      <td>2.0</td>\n      <td>0.838129</td>\n      <td>0.000600</td>\n      <td>4.318834e-06</td>\n    </tr>\n    <tr>\n      <th>2020-04-20</th>\n      <td>80.0</td>\n      <td>463088.0</td>\n      <td>11.0</td>\n      <td>2.0</td>\n      <td>0.137500</td>\n      <td>0.000173</td>\n      <td>4.318834e-06</td>\n    </tr>\n    <tr>\n      <th>2020-04-27</th>\n      <td>42.0</td>\n      <td>463088.0</td>\n      <td>16.0</td>\n      <td>1.0</td>\n      <td>0.380952</td>\n      <td>0.000091</td>\n      <td>2.159417e-06</td>\n    </tr>\n    <tr>\n      <th>2020-05-04</th>\n      <td>21.0</td>\n      <td>463088.0</td>\n      <td>16.0</td>\n      <td>0.0</td>\n      <td>0.761905</td>\n      <td>0.000045</td>\n      <td>0.000000e+00</td>\n    </tr>\n    <tr>\n      <th>...</th>\n      <th>...</th>\n      <td>...</td>\n      <td>...</td>\n      <td>...</td>\n      <td>...</td>\n      <td>...</td>\n      <td>...</td>\n      <td>...</td>\n    </tr>\n    <tr>\n      <th rowspan=\"5\" valign=\"top\">Ярославская</th>\n      <th>2020-09-28</th>\n      <td>345.0</td>\n      <td>1253389.0</td>\n      <td>311.0</td>\n      <td>1.0</td>\n      <td>0.901449</td>\n      <td>0.000275</td>\n      <td>7.978369e-07</td>\n    </tr>\n    <tr>\n      <th>2020-10-05</th>\n      <td>167.0</td>\n      <td>1253389.0</td>\n      <td>81.0</td>\n      <td>0.0</td>\n      <td>0.485030</td>\n      <td>0.000133</td>\n      <td>0.000000e+00</td>\n    </tr>\n    <tr>\n      <th>2020-10-12</th>\n      <td>611.0</td>\n      <td>1253389.0</td>\n      <td>809.0</td>\n      <td>0.0</td>\n      <td>1.324059</td>\n      <td>0.000487</td>\n      <td>0.000000e+00</td>\n    </tr>\n    <tr>\n      <th>2020-10-19</th>\n      <td>677.0</td>\n      <td>1253389.0</td>\n      <td>440.0</td>\n      <td>2.0</td>\n      <td>0.649926</td>\n      <td>0.000540</td>\n      <td>1.595674e-06</td>\n    </tr>\n    <tr>\n      <th>2020-10-26</th>\n      <td>770.0</td>\n      <td>1253389.0</td>\n      <td>566.0</td>\n      <td>6.0</td>\n      <td>0.735065</td>\n      <td>0.000614</td>\n      <td>4.787021e-06</td>\n    </tr>\n  </tbody>\n</table>\n<p>2490 rows × 7 columns</p>\n</div>"
     },
     "execution_count": 25,
     "metadata": {},
     "output_type": "execute_result"
    }
   ],
   "source": [
    "covid_df"
   ],
   "metadata": {
    "collapsed": false,
    "pycharm": {
     "name": "#%%\n"
    }
   }
  },
  {
   "cell_type": "markdown",
   "source": [
    "В Москве суммарно число выявленных случаев заболевших больше чем численность населения на начало 2020 года - это может быть связано с повторным заражением инфекцией"
   ],
   "metadata": {
    "collapsed": false,
    "pycharm": {
     "name": "#%% md\n"
    }
   }
  },
  {
   "cell_type": "code",
   "execution_count": 40,
   "outputs": [],
   "source": [],
   "metadata": {
    "collapsed": false,
    "pycharm": {
     "name": "#%%\n"
    }
   }
  },
  {
   "cell_type": "code",
   "execution_count": 30,
   "outputs": [
    {
     "data": {
      "text/plain": "(75094, 22)"
     },
     "execution_count": 30,
     "metadata": {},
     "output_type": "execute_result"
    }
   ],
   "source": [
    "df.shape"
   ],
   "metadata": {
    "collapsed": false,
    "pycharm": {
     "name": "#%%\n"
    }
   }
  },
  {
   "cell_type": "code",
   "execution_count": 32,
   "outputs": [],
   "source": [
    "df.to_csv(\"data/dataset_1.csv\", index=None)"
   ],
   "metadata": {
    "collapsed": false,
    "pycharm": {
     "name": "#%%\n"
    }
   }
  }
 ],
 "metadata": {
  "kernelspec": {
   "display_name": "Python 3",
   "language": "python",
   "name": "python3"
  },
  "language_info": {
   "codemirror_mode": {
    "name": "ipython",
    "version": 2
   },
   "file_extension": ".py",
   "mimetype": "text/x-python",
   "name": "python",
   "nbconvert_exporter": "python",
   "pygments_lexer": "ipython2",
   "version": "2.7.6"
  }
 },
 "nbformat": 4,
 "nbformat_minor": 0
}