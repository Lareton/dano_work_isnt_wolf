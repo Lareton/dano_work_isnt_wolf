{
 "cells": [
  {
   "cell_type": "code",
   "execution_count": 164,
   "metadata": {
    "collapsed": true
   },
   "outputs": [],
   "source": [
    "import pandas as pd\n",
    "import numpy as np"
   ]
  },
  {
   "cell_type": "code",
   "execution_count": 270,
   "outputs": [],
   "source": [
    "df = pd.read_csv(\"data/dataset_1.csv\")"
   ],
   "metadata": {
    "collapsed": false,
    "pycharm": {
     "name": "#%%\n"
    }
   }
  },
  {
   "cell_type": "code",
   "execution_count": 249,
   "outputs": [],
   "source": [
    "df[\"week\"] = pd.to_datetime(df[\"week\"])"
   ],
   "metadata": {
    "collapsed": false,
    "pycharm": {
     "name": "#%%\n"
    }
   }
  },
  {
   "cell_type": "code",
   "execution_count": 228,
   "outputs": [
    {
     "data": {
      "text/plain": "9994"
     },
     "execution_count": 228,
     "metadata": {},
     "output_type": "execute_result"
    }
   ],
   "source": [
    "df[df[\"week\"] >= pd.to_datetime(\"09.28.2020\")].yandex_continuous.isna().sum()"
   ],
   "metadata": {
    "collapsed": false,
    "pycharm": {
     "name": "#%%\n"
    }
   }
  },
  {
   "cell_type": "code",
   "execution_count": 271,
   "outputs": [
    {
     "data": {
      "text/plain": "63"
     },
     "execution_count": 271,
     "metadata": {},
     "output_type": "execute_result"
    }
   ],
   "source": [
    "df.Rt.isna().sum()"
   ],
   "metadata": {
    "collapsed": false,
    "pycharm": {
     "name": "#%%\n"
    }
   }
  },
  {
   "cell_type": "code",
   "execution_count": 250,
   "outputs": [],
   "source": [
    "df_before = df[df[\"week\"] <= pd.to_datetime(\"09.28.2020\")]"
   ],
   "metadata": {
    "collapsed": false,
    "pycharm": {
     "name": "#%%\n"
    }
   }
  },
  {
   "cell_type": "code",
   "execution_count": 255,
   "outputs": [
    {
     "data": {
      "text/plain": "            week       region  \\\n0     2020-04-06       Адыгея   \n1     2020-04-06       Адыгея   \n2     2020-04-06       Адыгея   \n3     2020-04-06       Адыгея   \n4     2020-04-06       Адыгея   \n...          ...          ...   \n65757 2020-09-28  Ярославская   \n65758 2020-09-28  Ярославская   \n65759 2020-09-28  Ярославская   \n65760 2020-09-28  Ярославская   \n65761 2020-09-28  Ярославская   \n\n                                                    oced  unemployed  \\\n0      Строительство, ремонт, стройматериалы, недвижи...          19   \n1                                         Машиностроение           2   \n2                                          Юриспруденция          13   \n3                                 Пищевая промышленность           9   \n4      Государственная служба, некоммерческие организ...          17   \n...                                                  ...         ...   \n65757                                      Юриспруденция           5   \n65758             Кадровая служба, управление персоналом           5   \n65759                                               None         443   \n65760  Государственная служба, некоммерческие организ...          10   \n65761                              Легкая промышленность           1   \n\n       cv_gender  cv_birthday_2000  cv_birthday_1990  cv_birthday_1980  \\\n0             18                 0                 3                12   \n1              1                 0                 0                 1   \n2              6                 0                 2                11   \n3              2                 1                 2                 6   \n4              8                 0                 3                14   \n...          ...               ...               ...               ...   \n65757          1                 0                 0                 4   \n65758          0                 0                 1                 5   \n65759          0                 0                 0                 0   \n65760          2                 0                 3                 7   \n65761          0                 0                 0                 1   \n\n       cv_birthday_1970  cv_birthday_1960  ...     women  infections  deaths  \\\n0                    19                19  ...  245928.0        42.0     0.0   \n1                     1                 2  ...  245928.0        42.0     0.0   \n2                    13                13  ...  245928.0        42.0     0.0   \n3                     9                 9  ...  245928.0        42.0     0.0   \n4                    17                17  ...  245928.0        42.0     0.0   \n...                 ...               ...  ...       ...         ...     ...   \n65757                 5                 5  ...  689885.0       345.0     1.0   \n65758                 5                 5  ...  689885.0       345.0     1.0   \n65759                 0                 0  ...  689885.0       345.0     1.0   \n65760                 8                10  ...  689885.0       345.0     1.0   \n65761                 1                 1  ...  689885.0       345.0     1.0   \n\n       healed  tests        Rt  level  yandex_continuous  yandex_level  pass  \n0        44.0    NaN  0.873684    NaN           3.314286           2.0   0.0  \n1        44.0    NaN  0.873684    NaN           3.314286           2.0   0.0  \n2        44.0    NaN  0.873684    NaN           3.314286           2.0   0.0  \n3        44.0    NaN  0.873684    NaN           3.314286           2.0   0.0  \n4        44.0    NaN  0.873684    NaN           3.314286           2.0   0.0  \n...       ...    ...       ...    ...                ...           ...   ...  \n65757   311.0    NaN  1.046632    3.0           1.000000           0.0   1.0  \n65758   311.0    NaN  1.046632    3.0           1.000000           0.0   1.0  \n65759   311.0    NaN  1.046632    3.0           1.000000           0.0   1.0  \n65760   311.0    NaN  1.046632    3.0           1.000000           0.0   1.0  \n65761   311.0    NaN  1.046632    3.0           1.000000           0.0   1.0  \n\n[65762 rows x 22 columns]",
      "text/html": "<div>\n<style scoped>\n    .dataframe tbody tr th:only-of-type {\n        vertical-align: middle;\n    }\n\n    .dataframe tbody tr th {\n        vertical-align: top;\n    }\n\n    .dataframe thead th {\n        text-align: right;\n    }\n</style>\n<table border=\"1\" class=\"dataframe\">\n  <thead>\n    <tr style=\"text-align: right;\">\n      <th></th>\n      <th>week</th>\n      <th>region</th>\n      <th>oced</th>\n      <th>unemployed</th>\n      <th>cv_gender</th>\n      <th>cv_birthday_2000</th>\n      <th>cv_birthday_1990</th>\n      <th>cv_birthday_1980</th>\n      <th>cv_birthday_1970</th>\n      <th>cv_birthday_1960</th>\n      <th>...</th>\n      <th>women</th>\n      <th>infections</th>\n      <th>deaths</th>\n      <th>healed</th>\n      <th>tests</th>\n      <th>Rt</th>\n      <th>level</th>\n      <th>yandex_continuous</th>\n      <th>yandex_level</th>\n      <th>pass</th>\n    </tr>\n  </thead>\n  <tbody>\n    <tr>\n      <th>0</th>\n      <td>2020-04-06</td>\n      <td>Адыгея</td>\n      <td>Строительство, ремонт, стройматериалы, недвижи...</td>\n      <td>19</td>\n      <td>18</td>\n      <td>0</td>\n      <td>3</td>\n      <td>12</td>\n      <td>19</td>\n      <td>19</td>\n      <td>...</td>\n      <td>245928.0</td>\n      <td>42.0</td>\n      <td>0.0</td>\n      <td>44.0</td>\n      <td>NaN</td>\n      <td>0.873684</td>\n      <td>NaN</td>\n      <td>3.314286</td>\n      <td>2.0</td>\n      <td>0.0</td>\n    </tr>\n    <tr>\n      <th>1</th>\n      <td>2020-04-06</td>\n      <td>Адыгея</td>\n      <td>Машиностроение</td>\n      <td>2</td>\n      <td>1</td>\n      <td>0</td>\n      <td>0</td>\n      <td>1</td>\n      <td>1</td>\n      <td>2</td>\n      <td>...</td>\n      <td>245928.0</td>\n      <td>42.0</td>\n      <td>0.0</td>\n      <td>44.0</td>\n      <td>NaN</td>\n      <td>0.873684</td>\n      <td>NaN</td>\n      <td>3.314286</td>\n      <td>2.0</td>\n      <td>0.0</td>\n    </tr>\n    <tr>\n      <th>2</th>\n      <td>2020-04-06</td>\n      <td>Адыгея</td>\n      <td>Юриспруденция</td>\n      <td>13</td>\n      <td>6</td>\n      <td>0</td>\n      <td>2</td>\n      <td>11</td>\n      <td>13</td>\n      <td>13</td>\n      <td>...</td>\n      <td>245928.0</td>\n      <td>42.0</td>\n      <td>0.0</td>\n      <td>44.0</td>\n      <td>NaN</td>\n      <td>0.873684</td>\n      <td>NaN</td>\n      <td>3.314286</td>\n      <td>2.0</td>\n      <td>0.0</td>\n    </tr>\n    <tr>\n      <th>3</th>\n      <td>2020-04-06</td>\n      <td>Адыгея</td>\n      <td>Пищевая промышленность</td>\n      <td>9</td>\n      <td>2</td>\n      <td>1</td>\n      <td>2</td>\n      <td>6</td>\n      <td>9</td>\n      <td>9</td>\n      <td>...</td>\n      <td>245928.0</td>\n      <td>42.0</td>\n      <td>0.0</td>\n      <td>44.0</td>\n      <td>NaN</td>\n      <td>0.873684</td>\n      <td>NaN</td>\n      <td>3.314286</td>\n      <td>2.0</td>\n      <td>0.0</td>\n    </tr>\n    <tr>\n      <th>4</th>\n      <td>2020-04-06</td>\n      <td>Адыгея</td>\n      <td>Государственная служба, некоммерческие организ...</td>\n      <td>17</td>\n      <td>8</td>\n      <td>0</td>\n      <td>3</td>\n      <td>14</td>\n      <td>17</td>\n      <td>17</td>\n      <td>...</td>\n      <td>245928.0</td>\n      <td>42.0</td>\n      <td>0.0</td>\n      <td>44.0</td>\n      <td>NaN</td>\n      <td>0.873684</td>\n      <td>NaN</td>\n      <td>3.314286</td>\n      <td>2.0</td>\n      <td>0.0</td>\n    </tr>\n    <tr>\n      <th>...</th>\n      <td>...</td>\n      <td>...</td>\n      <td>...</td>\n      <td>...</td>\n      <td>...</td>\n      <td>...</td>\n      <td>...</td>\n      <td>...</td>\n      <td>...</td>\n      <td>...</td>\n      <td>...</td>\n      <td>...</td>\n      <td>...</td>\n      <td>...</td>\n      <td>...</td>\n      <td>...</td>\n      <td>...</td>\n      <td>...</td>\n      <td>...</td>\n      <td>...</td>\n      <td>...</td>\n    </tr>\n    <tr>\n      <th>65757</th>\n      <td>2020-09-28</td>\n      <td>Ярославская</td>\n      <td>Юриспруденция</td>\n      <td>5</td>\n      <td>1</td>\n      <td>0</td>\n      <td>0</td>\n      <td>4</td>\n      <td>5</td>\n      <td>5</td>\n      <td>...</td>\n      <td>689885.0</td>\n      <td>345.0</td>\n      <td>1.0</td>\n      <td>311.0</td>\n      <td>NaN</td>\n      <td>1.046632</td>\n      <td>3.0</td>\n      <td>1.000000</td>\n      <td>0.0</td>\n      <td>1.0</td>\n    </tr>\n    <tr>\n      <th>65758</th>\n      <td>2020-09-28</td>\n      <td>Ярославская</td>\n      <td>Кадровая служба, управление персоналом</td>\n      <td>5</td>\n      <td>0</td>\n      <td>0</td>\n      <td>1</td>\n      <td>5</td>\n      <td>5</td>\n      <td>5</td>\n      <td>...</td>\n      <td>689885.0</td>\n      <td>345.0</td>\n      <td>1.0</td>\n      <td>311.0</td>\n      <td>NaN</td>\n      <td>1.046632</td>\n      <td>3.0</td>\n      <td>1.000000</td>\n      <td>0.0</td>\n      <td>1.0</td>\n    </tr>\n    <tr>\n      <th>65759</th>\n      <td>2020-09-28</td>\n      <td>Ярославская</td>\n      <td>None</td>\n      <td>443</td>\n      <td>0</td>\n      <td>0</td>\n      <td>0</td>\n      <td>0</td>\n      <td>0</td>\n      <td>0</td>\n      <td>...</td>\n      <td>689885.0</td>\n      <td>345.0</td>\n      <td>1.0</td>\n      <td>311.0</td>\n      <td>NaN</td>\n      <td>1.046632</td>\n      <td>3.0</td>\n      <td>1.000000</td>\n      <td>0.0</td>\n      <td>1.0</td>\n    </tr>\n    <tr>\n      <th>65760</th>\n      <td>2020-09-28</td>\n      <td>Ярославская</td>\n      <td>Государственная служба, некоммерческие организ...</td>\n      <td>10</td>\n      <td>2</td>\n      <td>0</td>\n      <td>3</td>\n      <td>7</td>\n      <td>8</td>\n      <td>10</td>\n      <td>...</td>\n      <td>689885.0</td>\n      <td>345.0</td>\n      <td>1.0</td>\n      <td>311.0</td>\n      <td>NaN</td>\n      <td>1.046632</td>\n      <td>3.0</td>\n      <td>1.000000</td>\n      <td>0.0</td>\n      <td>1.0</td>\n    </tr>\n    <tr>\n      <th>65761</th>\n      <td>2020-09-28</td>\n      <td>Ярославская</td>\n      <td>Легкая промышленность</td>\n      <td>1</td>\n      <td>0</td>\n      <td>0</td>\n      <td>0</td>\n      <td>1</td>\n      <td>1</td>\n      <td>1</td>\n      <td>...</td>\n      <td>689885.0</td>\n      <td>345.0</td>\n      <td>1.0</td>\n      <td>311.0</td>\n      <td>NaN</td>\n      <td>1.046632</td>\n      <td>3.0</td>\n      <td>1.000000</td>\n      <td>0.0</td>\n      <td>1.0</td>\n    </tr>\n  </tbody>\n</table>\n<p>65762 rows × 22 columns</p>\n</div>"
     },
     "execution_count": 255,
     "metadata": {},
     "output_type": "execute_result"
    }
   ],
   "source": [
    "df_before"
   ],
   "metadata": {
    "collapsed": false,
    "pycharm": {
     "name": "#%%\n"
    }
   }
  },
  {
   "cell_type": "code",
   "execution_count": 259,
   "outputs": [],
   "source": [
    "tmp = df_before.groupby([\"region\", \"week\"]).agg({\"yandex_continuous\": lambda x: x.iloc[0]}).isna().reset_index()"
   ],
   "metadata": {
    "collapsed": false,
    "pycharm": {
     "name": "#%%\n"
    }
   }
  },
  {
   "cell_type": "code",
   "execution_count": 265,
   "outputs": [
    {
     "data": {
      "text/plain": "            week  region                                               oced  \\\n1242  2020-04-06  Москва                                               None   \n1243  2020-04-06  Москва          Административная работа, секретариат, АХО   \n1244  2020-04-06  Москва                        Безопасность, службы охраны   \n1245  2020-04-06  Москва                                  Высший менеджмент   \n1246  2020-04-06  Москва  Государственная служба, некоммерческие организ...   \n...          ...     ...                                                ...   \n73967 2020-10-26  Москва  Лесная, деревообрабатывающая, целлюлозно-бумаж...   \n73968 2020-10-26  Москва                      Металлургия, металлообработка   \n73969 2020-10-26  Москва                                 Образование, наука   \n73970 2020-10-26  Москва                             Пищевая промышленность   \n73971 2020-10-26  Москва  Строительство, ремонт, стройматериалы, недвижи...   \n\n       unemployed  cv_gender  cv_birthday_2000  cv_birthday_1990  \\\n1242         1889          0                 0                 0   \n1243          426         93                 1               119   \n1244           47         45                 0                 8   \n1245          111         75                 0                12   \n1246          169         82                 1                41   \n...           ...        ...               ...               ...   \n73967           1          1                 0                 0   \n73968           1          1                 0                 0   \n73969          16          3                 0                 7   \n73970           3          0                 0                 2   \n73971          10          3                 0                 3   \n\n       cv_birthday_1980  cv_birthday_1970  cv_birthday_1960  ...      women  \\\n1242                  0                 0                 0  ...  6820155.0   \n1243                287               378               424  ...  6820155.0   \n1244                 16                32                47  ...  6820155.0   \n1245                 43                83               109  ...  6820155.0   \n1246                107               153               168  ...  6820155.0   \n...                 ...               ...               ...  ...        ...   \n73967                 0                 1                 1  ...  6820155.0   \n73968                 0                 1                 1  ...  6820155.0   \n73969                11                14                16  ...  6820155.0   \n73970                 2                 3                 3  ...  6820155.0   \n73971                 6                 8                10  ...  6820155.0   \n\n       infections  deaths   healed    tests        Rt  level  \\\n1242       8614.0   111.0   3673.0      NaN  0.901048    NaN   \n1243       8614.0   111.0   3673.0      NaN  0.901048    NaN   \n1244       8614.0   111.0   3673.0      NaN  0.901048    NaN   \n1245       8614.0   111.0   3673.0      NaN  0.901048    NaN   \n1246       8614.0   111.0   3673.0      NaN  0.901048    NaN   \n...           ...     ...      ...      ...       ...    ...   \n73967     33411.0   433.0  17557.0  4310.72  1.022579    3.0   \n73968     33411.0   433.0  17557.0  4310.72  1.022579    3.0   \n73969     33411.0   433.0  17557.0  4310.72  1.022579    3.0   \n73970     33411.0   433.0  17557.0  4310.72  1.022579    3.0   \n73971     33411.0   433.0  17557.0  4310.72  1.022579    3.0   \n\n       yandex_continuous  yandex_level  pass  \n1242                 NaN           NaN   NaN  \n1243                 NaN           NaN   NaN  \n1244                 NaN           NaN   NaN  \n1245                 NaN           NaN   NaN  \n1246                 NaN           NaN   NaN  \n...                  ...           ...   ...  \n73967                NaN           NaN   NaN  \n73968                NaN           NaN   NaN  \n73969                NaN           NaN   NaN  \n73970                NaN           NaN   NaN  \n73971                NaN           NaN   NaN  \n\n[985 rows x 22 columns]",
      "text/html": "<div>\n<style scoped>\n    .dataframe tbody tr th:only-of-type {\n        vertical-align: middle;\n    }\n\n    .dataframe tbody tr th {\n        vertical-align: top;\n    }\n\n    .dataframe thead th {\n        text-align: right;\n    }\n</style>\n<table border=\"1\" class=\"dataframe\">\n  <thead>\n    <tr style=\"text-align: right;\">\n      <th></th>\n      <th>week</th>\n      <th>region</th>\n      <th>oced</th>\n      <th>unemployed</th>\n      <th>cv_gender</th>\n      <th>cv_birthday_2000</th>\n      <th>cv_birthday_1990</th>\n      <th>cv_birthday_1980</th>\n      <th>cv_birthday_1970</th>\n      <th>cv_birthday_1960</th>\n      <th>...</th>\n      <th>women</th>\n      <th>infections</th>\n      <th>deaths</th>\n      <th>healed</th>\n      <th>tests</th>\n      <th>Rt</th>\n      <th>level</th>\n      <th>yandex_continuous</th>\n      <th>yandex_level</th>\n      <th>pass</th>\n    </tr>\n  </thead>\n  <tbody>\n    <tr>\n      <th>1242</th>\n      <td>2020-04-06</td>\n      <td>Москва</td>\n      <td>None</td>\n      <td>1889</td>\n      <td>0</td>\n      <td>0</td>\n      <td>0</td>\n      <td>0</td>\n      <td>0</td>\n      <td>0</td>\n      <td>...</td>\n      <td>6820155.0</td>\n      <td>8614.0</td>\n      <td>111.0</td>\n      <td>3673.0</td>\n      <td>NaN</td>\n      <td>0.901048</td>\n      <td>NaN</td>\n      <td>NaN</td>\n      <td>NaN</td>\n      <td>NaN</td>\n    </tr>\n    <tr>\n      <th>1243</th>\n      <td>2020-04-06</td>\n      <td>Москва</td>\n      <td>Административная работа, секретариат, АХО</td>\n      <td>426</td>\n      <td>93</td>\n      <td>1</td>\n      <td>119</td>\n      <td>287</td>\n      <td>378</td>\n      <td>424</td>\n      <td>...</td>\n      <td>6820155.0</td>\n      <td>8614.0</td>\n      <td>111.0</td>\n      <td>3673.0</td>\n      <td>NaN</td>\n      <td>0.901048</td>\n      <td>NaN</td>\n      <td>NaN</td>\n      <td>NaN</td>\n      <td>NaN</td>\n    </tr>\n    <tr>\n      <th>1244</th>\n      <td>2020-04-06</td>\n      <td>Москва</td>\n      <td>Безопасность, службы охраны</td>\n      <td>47</td>\n      <td>45</td>\n      <td>0</td>\n      <td>8</td>\n      <td>16</td>\n      <td>32</td>\n      <td>47</td>\n      <td>...</td>\n      <td>6820155.0</td>\n      <td>8614.0</td>\n      <td>111.0</td>\n      <td>3673.0</td>\n      <td>NaN</td>\n      <td>0.901048</td>\n      <td>NaN</td>\n      <td>NaN</td>\n      <td>NaN</td>\n      <td>NaN</td>\n    </tr>\n    <tr>\n      <th>1245</th>\n      <td>2020-04-06</td>\n      <td>Москва</td>\n      <td>Высший менеджмент</td>\n      <td>111</td>\n      <td>75</td>\n      <td>0</td>\n      <td>12</td>\n      <td>43</td>\n      <td>83</td>\n      <td>109</td>\n      <td>...</td>\n      <td>6820155.0</td>\n      <td>8614.0</td>\n      <td>111.0</td>\n      <td>3673.0</td>\n      <td>NaN</td>\n      <td>0.901048</td>\n      <td>NaN</td>\n      <td>NaN</td>\n      <td>NaN</td>\n      <td>NaN</td>\n    </tr>\n    <tr>\n      <th>1246</th>\n      <td>2020-04-06</td>\n      <td>Москва</td>\n      <td>Государственная служба, некоммерческие организ...</td>\n      <td>169</td>\n      <td>82</td>\n      <td>1</td>\n      <td>41</td>\n      <td>107</td>\n      <td>153</td>\n      <td>168</td>\n      <td>...</td>\n      <td>6820155.0</td>\n      <td>8614.0</td>\n      <td>111.0</td>\n      <td>3673.0</td>\n      <td>NaN</td>\n      <td>0.901048</td>\n      <td>NaN</td>\n      <td>NaN</td>\n      <td>NaN</td>\n      <td>NaN</td>\n    </tr>\n    <tr>\n      <th>...</th>\n      <td>...</td>\n      <td>...</td>\n      <td>...</td>\n      <td>...</td>\n      <td>...</td>\n      <td>...</td>\n      <td>...</td>\n      <td>...</td>\n      <td>...</td>\n      <td>...</td>\n      <td>...</td>\n      <td>...</td>\n      <td>...</td>\n      <td>...</td>\n      <td>...</td>\n      <td>...</td>\n      <td>...</td>\n      <td>...</td>\n      <td>...</td>\n      <td>...</td>\n      <td>...</td>\n    </tr>\n    <tr>\n      <th>73967</th>\n      <td>2020-10-26</td>\n      <td>Москва</td>\n      <td>Лесная, деревообрабатывающая, целлюлозно-бумаж...</td>\n      <td>1</td>\n      <td>1</td>\n      <td>0</td>\n      <td>0</td>\n      <td>0</td>\n      <td>1</td>\n      <td>1</td>\n      <td>...</td>\n      <td>6820155.0</td>\n      <td>33411.0</td>\n      <td>433.0</td>\n      <td>17557.0</td>\n      <td>4310.72</td>\n      <td>1.022579</td>\n      <td>3.0</td>\n      <td>NaN</td>\n      <td>NaN</td>\n      <td>NaN</td>\n    </tr>\n    <tr>\n      <th>73968</th>\n      <td>2020-10-26</td>\n      <td>Москва</td>\n      <td>Металлургия, металлообработка</td>\n      <td>1</td>\n      <td>1</td>\n      <td>0</td>\n      <td>0</td>\n      <td>0</td>\n      <td>1</td>\n      <td>1</td>\n      <td>...</td>\n      <td>6820155.0</td>\n      <td>33411.0</td>\n      <td>433.0</td>\n      <td>17557.0</td>\n      <td>4310.72</td>\n      <td>1.022579</td>\n      <td>3.0</td>\n      <td>NaN</td>\n      <td>NaN</td>\n      <td>NaN</td>\n    </tr>\n    <tr>\n      <th>73969</th>\n      <td>2020-10-26</td>\n      <td>Москва</td>\n      <td>Образование, наука</td>\n      <td>16</td>\n      <td>3</td>\n      <td>0</td>\n      <td>7</td>\n      <td>11</td>\n      <td>14</td>\n      <td>16</td>\n      <td>...</td>\n      <td>6820155.0</td>\n      <td>33411.0</td>\n      <td>433.0</td>\n      <td>17557.0</td>\n      <td>4310.72</td>\n      <td>1.022579</td>\n      <td>3.0</td>\n      <td>NaN</td>\n      <td>NaN</td>\n      <td>NaN</td>\n    </tr>\n    <tr>\n      <th>73970</th>\n      <td>2020-10-26</td>\n      <td>Москва</td>\n      <td>Пищевая промышленность</td>\n      <td>3</td>\n      <td>0</td>\n      <td>0</td>\n      <td>2</td>\n      <td>2</td>\n      <td>3</td>\n      <td>3</td>\n      <td>...</td>\n      <td>6820155.0</td>\n      <td>33411.0</td>\n      <td>433.0</td>\n      <td>17557.0</td>\n      <td>4310.72</td>\n      <td>1.022579</td>\n      <td>3.0</td>\n      <td>NaN</td>\n      <td>NaN</td>\n      <td>NaN</td>\n    </tr>\n    <tr>\n      <th>73971</th>\n      <td>2020-10-26</td>\n      <td>Москва</td>\n      <td>Строительство, ремонт, стройматериалы, недвижи...</td>\n      <td>10</td>\n      <td>3</td>\n      <td>0</td>\n      <td>3</td>\n      <td>6</td>\n      <td>8</td>\n      <td>10</td>\n      <td>...</td>\n      <td>6820155.0</td>\n      <td>33411.0</td>\n      <td>433.0</td>\n      <td>17557.0</td>\n      <td>4310.72</td>\n      <td>1.022579</td>\n      <td>3.0</td>\n      <td>NaN</td>\n      <td>NaN</td>\n      <td>NaN</td>\n    </tr>\n  </tbody>\n</table>\n<p>985 rows × 22 columns</p>\n</div>"
     },
     "execution_count": 265,
     "metadata": {},
     "output_type": "execute_result"
    }
   ],
   "source": [
    "df[df.region == \"Москва\"]"
   ],
   "metadata": {
    "collapsed": false,
    "pycharm": {
     "name": "#%%\n"
    }
   }
  },
  {
   "cell_type": "code",
   "execution_count": 268,
   "outputs": [
    {
     "name": "stdout",
     "output_type": "stream",
     "text": [
      "<class 'pandas.core.frame.DataFrame'>\n",
      "RangeIndex: 75094 entries, 0 to 75093\n",
      "Data columns (total 22 columns):\n",
      " #   Column             Non-Null Count  Dtype         \n",
      "---  ------             --------------  -----         \n",
      " 0   week               75094 non-null  datetime64[ns]\n",
      " 1   region             75094 non-null  object        \n",
      " 2   oced               75094 non-null  object        \n",
      " 3   unemployed         75094 non-null  int64         \n",
      " 4   cv_gender          75094 non-null  int64         \n",
      " 5   cv_birthday_2000   75094 non-null  int64         \n",
      " 6   cv_birthday_1990   75094 non-null  int64         \n",
      " 7   cv_birthday_1980   75094 non-null  int64         \n",
      " 8   cv_birthday_1970   75094 non-null  int64         \n",
      " 9   cv_birthday_1960   75094 non-null  int64         \n",
      " 10  population         75094 non-null  float64       \n",
      " 11  men                75094 non-null  float64       \n",
      " 12  women              75094 non-null  float64       \n",
      " 13  infections         75094 non-null  float64       \n",
      " 14  deaths             75094 non-null  float64       \n",
      " 15  healed             75094 non-null  float64       \n",
      " 16  tests              17724 non-null  float64       \n",
      " 17  Rt                 75031 non-null  float64       \n",
      " 18  level              51598 non-null  float64       \n",
      " 19  yandex_continuous  47737 non-null  float64       \n",
      " 20  yandex_level       47737 non-null  float64       \n",
      " 21  pass               46496 non-null  float64       \n",
      "dtypes: datetime64[ns](1), float64(12), int64(7), object(2)\n",
      "memory usage: 12.6+ MB\n"
     ]
    }
   ],
   "source": [
    "df.info()"
   ],
   "metadata": {
    "collapsed": false,
    "pycharm": {
     "name": "#%%\n"
    }
   }
  },
  {
   "cell_type": "code",
   "execution_count": null,
   "outputs": [],
   "source": [],
   "metadata": {
    "collapsed": false,
    "pycharm": {
     "name": "#%%\n"
    }
   }
  },
  {
   "cell_type": "code",
   "execution_count": 264,
   "outputs": [
    {
     "data": {
      "text/plain": "                   yandex_continuous\nregion                              \nАдыгея                           0.0\nАлтай                            0.0\nАлтайский край                   1.0\nАмурская                         0.0\nАрхангельская                    0.0\n...                              ...\nХакасия                          0.0\nЧелябинская                      0.0\nЧувашия                          1.0\nЯмало-Ненецкий АО                1.0\nЯрославская                      0.0\n\n[83 rows x 1 columns]",
      "text/html": "<div>\n<style scoped>\n    .dataframe tbody tr th:only-of-type {\n        vertical-align: middle;\n    }\n\n    .dataframe tbody tr th {\n        vertical-align: top;\n    }\n\n    .dataframe thead th {\n        text-align: right;\n    }\n</style>\n<table border=\"1\" class=\"dataframe\">\n  <thead>\n    <tr style=\"text-align: right;\">\n      <th></th>\n      <th>yandex_continuous</th>\n    </tr>\n    <tr>\n      <th>region</th>\n      <th></th>\n    </tr>\n  </thead>\n  <tbody>\n    <tr>\n      <th>Адыгея</th>\n      <td>0.0</td>\n    </tr>\n    <tr>\n      <th>Алтай</th>\n      <td>0.0</td>\n    </tr>\n    <tr>\n      <th>Алтайский край</th>\n      <td>1.0</td>\n    </tr>\n    <tr>\n      <th>Амурская</th>\n      <td>0.0</td>\n    </tr>\n    <tr>\n      <th>Архангельская</th>\n      <td>0.0</td>\n    </tr>\n    <tr>\n      <th>...</th>\n      <td>...</td>\n    </tr>\n    <tr>\n      <th>Хакасия</th>\n      <td>0.0</td>\n    </tr>\n    <tr>\n      <th>Челябинская</th>\n      <td>0.0</td>\n    </tr>\n    <tr>\n      <th>Чувашия</th>\n      <td>1.0</td>\n    </tr>\n    <tr>\n      <th>Ямало-Ненецкий АО</th>\n      <td>1.0</td>\n    </tr>\n    <tr>\n      <th>Ярославская</th>\n      <td>0.0</td>\n    </tr>\n  </tbody>\n</table>\n<p>83 rows × 1 columns</p>\n</div>"
     },
     "execution_count": 264,
     "metadata": {},
     "output_type": "execute_result"
    }
   ],
   "source": [
    "tmp.groupby(\"region\").mean()"
   ],
   "metadata": {
    "collapsed": false,
    "pycharm": {
     "name": "#%%\n"
    }
   }
  },
  {
   "cell_type": "code",
   "execution_count": 263,
   "outputs": [
    {
     "data": {
      "text/plain": "            week             region  \\\n57    2020-04-06     Алтайский край   \n58    2020-04-06     Алтайский край   \n59    2020-04-06     Алтайский край   \n60    2020-04-06     Алтайский край   \n61    2020-04-06     Алтайский край   \n...          ...                ...   \n65725 2020-09-28  Ямало-Ненецкий АО   \n65726 2020-09-28  Ямало-Ненецкий АО   \n65727 2020-09-28  Ямало-Ненецкий АО   \n65728 2020-09-28  Ямало-Ненецкий АО   \n65729 2020-09-28  Ямало-Ненецкий АО   \n\n                                                    oced  unemployed  \\\n57                                                  None         144   \n58             Административная работа, секретариат, АХО          28   \n59                           Безопасность, службы охраны           6   \n60                                     Высший менеджмент          11   \n61     Государственная служба, некоммерческие организ...          19   \n...                                                  ...         ...   \n65725                                               None          82   \n65726  Здравоохранение, спорт, красота, социальное об...           9   \n65727                                  Домашний персонал           2   \n65728  Информационные технологии, телекоммуникации, с...          10   \n65729                                  ЖКХ, эксплуатация           3   \n\n       cv_gender  cv_birthday_2000  cv_birthday_1990  cv_birthday_1980  \\\n57             0                 0                 0                 0   \n58             4                 0                 7                20   \n59             5                 0                 0                 2   \n60             6                 0                 3                 9   \n61             6                 0                 7                13   \n...          ...               ...               ...               ...   \n65725          0                 0                 0                 0   \n65726          1                 0                 4                 7   \n65727          0                 0                 1                 2   \n65728          8                 0                 4                 7   \n65729          2                 0                 0                 1   \n\n       cv_birthday_1970  cv_birthday_1960  ...      women  infections  deaths  \\\n57                    0                 0  ...  1247188.0       109.0     1.0   \n58                   28                28  ...  1247188.0       109.0     1.0   \n59                    5                 6  ...  1247188.0       109.0     1.0   \n60                   10                11  ...  1247188.0       109.0     1.0   \n61                   17                19  ...  1247188.0       109.0     1.0   \n...                 ...               ...  ...        ...         ...     ...   \n65725                 0                 0  ...   274314.0       616.0     0.0   \n65726                 9                 9  ...   274314.0       616.0     0.0   \n65727                 2                 2  ...   274314.0       616.0     0.0   \n65728                10                10  ...   274314.0       616.0     0.0   \n65729                 3                 3  ...   274314.0       616.0     0.0   \n\n       healed    tests        Rt  level  yandex_continuous  yandex_level  pass  \n57       39.0      NaN  0.976190    NaN                NaN           NaN   NaN  \n58       39.0      NaN  0.976190    NaN                NaN           NaN   NaN  \n59       39.0      NaN  0.976190    NaN                NaN           NaN   NaN  \n60       39.0      NaN  0.976190    NaN                NaN           NaN   NaN  \n61       39.0      NaN  0.976190    NaN                NaN           NaN   NaN  \n...       ...      ...       ...    ...                ...           ...   ...  \n65725   129.0  6736.89  1.356401    3.0                NaN           NaN   NaN  \n65726   129.0  6736.89  1.356401    3.0                NaN           NaN   NaN  \n65727   129.0  6736.89  1.356401    3.0                NaN           NaN   NaN  \n65728   129.0  6736.89  1.356401    3.0                NaN           NaN   NaN  \n65729   129.0  6736.89  1.356401    3.0                NaN           NaN   NaN  \n\n[18025 rows x 22 columns]",
      "text/html": "<div>\n<style scoped>\n    .dataframe tbody tr th:only-of-type {\n        vertical-align: middle;\n    }\n\n    .dataframe tbody tr th {\n        vertical-align: top;\n    }\n\n    .dataframe thead th {\n        text-align: right;\n    }\n</style>\n<table border=\"1\" class=\"dataframe\">\n  <thead>\n    <tr style=\"text-align: right;\">\n      <th></th>\n      <th>week</th>\n      <th>region</th>\n      <th>oced</th>\n      <th>unemployed</th>\n      <th>cv_gender</th>\n      <th>cv_birthday_2000</th>\n      <th>cv_birthday_1990</th>\n      <th>cv_birthday_1980</th>\n      <th>cv_birthday_1970</th>\n      <th>cv_birthday_1960</th>\n      <th>...</th>\n      <th>women</th>\n      <th>infections</th>\n      <th>deaths</th>\n      <th>healed</th>\n      <th>tests</th>\n      <th>Rt</th>\n      <th>level</th>\n      <th>yandex_continuous</th>\n      <th>yandex_level</th>\n      <th>pass</th>\n    </tr>\n  </thead>\n  <tbody>\n    <tr>\n      <th>57</th>\n      <td>2020-04-06</td>\n      <td>Алтайский край</td>\n      <td>None</td>\n      <td>144</td>\n      <td>0</td>\n      <td>0</td>\n      <td>0</td>\n      <td>0</td>\n      <td>0</td>\n      <td>0</td>\n      <td>...</td>\n      <td>1247188.0</td>\n      <td>109.0</td>\n      <td>1.0</td>\n      <td>39.0</td>\n      <td>NaN</td>\n      <td>0.976190</td>\n      <td>NaN</td>\n      <td>NaN</td>\n      <td>NaN</td>\n      <td>NaN</td>\n    </tr>\n    <tr>\n      <th>58</th>\n      <td>2020-04-06</td>\n      <td>Алтайский край</td>\n      <td>Административная работа, секретариат, АХО</td>\n      <td>28</td>\n      <td>4</td>\n      <td>0</td>\n      <td>7</td>\n      <td>20</td>\n      <td>28</td>\n      <td>28</td>\n      <td>...</td>\n      <td>1247188.0</td>\n      <td>109.0</td>\n      <td>1.0</td>\n      <td>39.0</td>\n      <td>NaN</td>\n      <td>0.976190</td>\n      <td>NaN</td>\n      <td>NaN</td>\n      <td>NaN</td>\n      <td>NaN</td>\n    </tr>\n    <tr>\n      <th>59</th>\n      <td>2020-04-06</td>\n      <td>Алтайский край</td>\n      <td>Безопасность, службы охраны</td>\n      <td>6</td>\n      <td>5</td>\n      <td>0</td>\n      <td>0</td>\n      <td>2</td>\n      <td>5</td>\n      <td>6</td>\n      <td>...</td>\n      <td>1247188.0</td>\n      <td>109.0</td>\n      <td>1.0</td>\n      <td>39.0</td>\n      <td>NaN</td>\n      <td>0.976190</td>\n      <td>NaN</td>\n      <td>NaN</td>\n      <td>NaN</td>\n      <td>NaN</td>\n    </tr>\n    <tr>\n      <th>60</th>\n      <td>2020-04-06</td>\n      <td>Алтайский край</td>\n      <td>Высший менеджмент</td>\n      <td>11</td>\n      <td>6</td>\n      <td>0</td>\n      <td>3</td>\n      <td>9</td>\n      <td>10</td>\n      <td>11</td>\n      <td>...</td>\n      <td>1247188.0</td>\n      <td>109.0</td>\n      <td>1.0</td>\n      <td>39.0</td>\n      <td>NaN</td>\n      <td>0.976190</td>\n      <td>NaN</td>\n      <td>NaN</td>\n      <td>NaN</td>\n      <td>NaN</td>\n    </tr>\n    <tr>\n      <th>61</th>\n      <td>2020-04-06</td>\n      <td>Алтайский край</td>\n      <td>Государственная служба, некоммерческие организ...</td>\n      <td>19</td>\n      <td>6</td>\n      <td>0</td>\n      <td>7</td>\n      <td>13</td>\n      <td>17</td>\n      <td>19</td>\n      <td>...</td>\n      <td>1247188.0</td>\n      <td>109.0</td>\n      <td>1.0</td>\n      <td>39.0</td>\n      <td>NaN</td>\n      <td>0.976190</td>\n      <td>NaN</td>\n      <td>NaN</td>\n      <td>NaN</td>\n      <td>NaN</td>\n    </tr>\n    <tr>\n      <th>...</th>\n      <td>...</td>\n      <td>...</td>\n      <td>...</td>\n      <td>...</td>\n      <td>...</td>\n      <td>...</td>\n      <td>...</td>\n      <td>...</td>\n      <td>...</td>\n      <td>...</td>\n      <td>...</td>\n      <td>...</td>\n      <td>...</td>\n      <td>...</td>\n      <td>...</td>\n      <td>...</td>\n      <td>...</td>\n      <td>...</td>\n      <td>...</td>\n      <td>...</td>\n      <td>...</td>\n    </tr>\n    <tr>\n      <th>65725</th>\n      <td>2020-09-28</td>\n      <td>Ямало-Ненецкий АО</td>\n      <td>None</td>\n      <td>82</td>\n      <td>0</td>\n      <td>0</td>\n      <td>0</td>\n      <td>0</td>\n      <td>0</td>\n      <td>0</td>\n      <td>...</td>\n      <td>274314.0</td>\n      <td>616.0</td>\n      <td>0.0</td>\n      <td>129.0</td>\n      <td>6736.89</td>\n      <td>1.356401</td>\n      <td>3.0</td>\n      <td>NaN</td>\n      <td>NaN</td>\n      <td>NaN</td>\n    </tr>\n    <tr>\n      <th>65726</th>\n      <td>2020-09-28</td>\n      <td>Ямало-Ненецкий АО</td>\n      <td>Здравоохранение, спорт, красота, социальное об...</td>\n      <td>9</td>\n      <td>1</td>\n      <td>0</td>\n      <td>4</td>\n      <td>7</td>\n      <td>9</td>\n      <td>9</td>\n      <td>...</td>\n      <td>274314.0</td>\n      <td>616.0</td>\n      <td>0.0</td>\n      <td>129.0</td>\n      <td>6736.89</td>\n      <td>1.356401</td>\n      <td>3.0</td>\n      <td>NaN</td>\n      <td>NaN</td>\n      <td>NaN</td>\n    </tr>\n    <tr>\n      <th>65727</th>\n      <td>2020-09-28</td>\n      <td>Ямало-Ненецкий АО</td>\n      <td>Домашний персонал</td>\n      <td>2</td>\n      <td>0</td>\n      <td>0</td>\n      <td>1</td>\n      <td>2</td>\n      <td>2</td>\n      <td>2</td>\n      <td>...</td>\n      <td>274314.0</td>\n      <td>616.0</td>\n      <td>0.0</td>\n      <td>129.0</td>\n      <td>6736.89</td>\n      <td>1.356401</td>\n      <td>3.0</td>\n      <td>NaN</td>\n      <td>NaN</td>\n      <td>NaN</td>\n    </tr>\n    <tr>\n      <th>65728</th>\n      <td>2020-09-28</td>\n      <td>Ямало-Ненецкий АО</td>\n      <td>Информационные технологии, телекоммуникации, с...</td>\n      <td>10</td>\n      <td>8</td>\n      <td>0</td>\n      <td>4</td>\n      <td>7</td>\n      <td>10</td>\n      <td>10</td>\n      <td>...</td>\n      <td>274314.0</td>\n      <td>616.0</td>\n      <td>0.0</td>\n      <td>129.0</td>\n      <td>6736.89</td>\n      <td>1.356401</td>\n      <td>3.0</td>\n      <td>NaN</td>\n      <td>NaN</td>\n      <td>NaN</td>\n    </tr>\n    <tr>\n      <th>65729</th>\n      <td>2020-09-28</td>\n      <td>Ямало-Ненецкий АО</td>\n      <td>ЖКХ, эксплуатация</td>\n      <td>3</td>\n      <td>2</td>\n      <td>0</td>\n      <td>0</td>\n      <td>1</td>\n      <td>3</td>\n      <td>3</td>\n      <td>...</td>\n      <td>274314.0</td>\n      <td>616.0</td>\n      <td>0.0</td>\n      <td>129.0</td>\n      <td>6736.89</td>\n      <td>1.356401</td>\n      <td>3.0</td>\n      <td>NaN</td>\n      <td>NaN</td>\n      <td>NaN</td>\n    </tr>\n  </tbody>\n</table>\n<p>18025 rows × 22 columns</p>\n</div>"
     },
     "execution_count": 263,
     "metadata": {},
     "output_type": "execute_result"
    }
   ],
   "source": [
    "df_before[df_before.yandex_continuous.isna()]"
   ],
   "metadata": {
    "collapsed": false,
    "pycharm": {
     "name": "#%%\n"
    }
   }
  },
  {
   "cell_type": "code",
   "execution_count": null,
   "outputs": [],
   "source": [],
   "metadata": {
    "collapsed": false,
    "pycharm": {
     "name": "#%%\n"
    }
   }
  },
  {
   "cell_type": "code",
   "execution_count": 231,
   "outputs": [
    {
     "data": {
      "text/plain": "0.27409446184726743"
     },
     "execution_count": 231,
     "metadata": {},
     "output_type": "execute_result"
    }
   ],
   "source": [
    "df_before.yandex_continuous.isna().mean()"
   ],
   "metadata": {
    "collapsed": false,
    "pycharm": {
     "name": "#%%\n"
    }
   }
  },
  {
   "cell_type": "code",
   "execution_count": 231,
   "outputs": [],
   "source": [],
   "metadata": {
    "collapsed": false,
    "pycharm": {
     "name": "#%%\n"
    }
   }
  },
  {
   "cell_type": "code",
   "execution_count": 232,
   "outputs": [],
   "source": [
    "columns_to_imputation = ['unemployed', 'cv_gender', 'cv_birthday_2000', 'cv_birthday_1990',\n",
    "       'cv_birthday_1980', 'cv_birthday_1970', 'cv_birthday_1960',\n",
    "       'population', 'men', 'women', 'infections', 'deaths', 'healed',\n",
    "       'yandex_continuous']\n",
    "# TODO добавить соц экономические данные для импутации"
   ],
   "metadata": {
    "collapsed": false,
    "pycharm": {
     "name": "#%%\n"
    }
   }
  },
  {
   "cell_type": "code",
   "execution_count": 233,
   "outputs": [],
   "source": [
    "from sklearn.impute import KNNImputer\n",
    "from sklearn.neighbors import KNeighborsRegressor\n",
    "\n",
    "knn_imputer = KNNImputer(n_neighbors=2)\n",
    "df_input = df_before[columns_to_imputation]"
   ],
   "metadata": {
    "collapsed": false,
    "pycharm": {
     "name": "#%%\n"
    }
   }
  },
  {
   "cell_type": "code",
   "execution_count": 234,
   "outputs": [],
   "source": [
    "df_input = df_input.dropna(subset=[\"yandex_continuous\"],)"
   ],
   "metadata": {
    "collapsed": false,
    "pycharm": {
     "name": "#%%\n"
    }
   }
  },
  {
   "cell_type": "code",
   "execution_count": 235,
   "outputs": [],
   "source": [
    "import random\n",
    "new_index = df_input.index.tolist()\n",
    "# random.shuffle(new_index)\n",
    "df_input = df_input.loc[new_index]"
   ],
   "metadata": {
    "collapsed": false,
    "pycharm": {
     "name": "#%%\n"
    }
   }
  },
  {
   "cell_type": "code",
   "execution_count": 236,
   "outputs": [],
   "source": [
    "tmp = df_input[\"yandex_continuous\"].values.tolist()"
   ],
   "metadata": {
    "collapsed": false,
    "pycharm": {
     "name": "#%%\n"
    }
   }
  },
  {
   "cell_type": "code",
   "execution_count": 237,
   "outputs": [],
   "source": [
    "answers = []\n",
    "for i in range(int(len(df_input) * 0.3)):\n",
    "       answers.append(tmp[i])\n",
    "       tmp[i] = None"
   ],
   "metadata": {
    "collapsed": false,
    "pycharm": {
     "name": "#%%\n"
    }
   }
  },
  {
   "cell_type": "code",
   "execution_count": 238,
   "outputs": [],
   "source": [
    "df_input[\"yandex_continuous\"] = tmp"
   ],
   "metadata": {
    "collapsed": false,
    "pycharm": {
     "name": "#%%\n"
    }
   }
  },
  {
   "cell_type": "code",
   "execution_count": 239,
   "outputs": [
    {
     "name": "stdout",
     "output_type": "stream",
     "text": [
      "<class 'pandas.core.frame.DataFrame'>\n",
      "Int64Index: 47737 entries, 0 to 65761\n",
      "Data columns (total 14 columns):\n",
      " #   Column             Non-Null Count  Dtype  \n",
      "---  ------             --------------  -----  \n",
      " 0   unemployed         47737 non-null  int64  \n",
      " 1   cv_gender          47737 non-null  int64  \n",
      " 2   cv_birthday_2000   47737 non-null  int64  \n",
      " 3   cv_birthday_1990   47737 non-null  int64  \n",
      " 4   cv_birthday_1980   47737 non-null  int64  \n",
      " 5   cv_birthday_1970   47737 non-null  int64  \n",
      " 6   cv_birthday_1960   47737 non-null  int64  \n",
      " 7   population         47737 non-null  float64\n",
      " 8   men                47737 non-null  float64\n",
      " 9   women              47737 non-null  float64\n",
      " 10  infections         47737 non-null  float64\n",
      " 11  deaths             47737 non-null  float64\n",
      " 12  healed             47737 non-null  float64\n",
      " 13  yandex_continuous  33416 non-null  float64\n",
      "dtypes: float64(7), int64(7)\n",
      "memory usage: 5.5 MB\n"
     ]
    }
   ],
   "source": [
    "df_input.info()"
   ],
   "metadata": {
    "collapsed": false,
    "pycharm": {
     "name": "#%%\n"
    }
   }
  },
  {
   "cell_type": "code",
   "execution_count": 240,
   "outputs": [],
   "source": [
    "df_imputed = knn_imputer.fit_transform(df_input)"
   ],
   "metadata": {
    "collapsed": false,
    "pycharm": {
     "name": "#%%\n"
    }
   }
  },
  {
   "cell_type": "code",
   "execution_count": 241,
   "outputs": [],
   "source": [
    "X, y = df_input.drop(\"yandex_continuous\", axis=1).iloc[len(answers):],\\\n",
    "       df_input.yandex_continuous.iloc[len(answers):]"
   ],
   "metadata": {
    "collapsed": false,
    "pycharm": {
     "name": "#%%\n"
    }
   }
  },
  {
   "cell_type": "code",
   "execution_count": 242,
   "outputs": [],
   "source": [
    "X_test, y_test = df_input.drop(\"yandex_continuous\", axis=1).iloc[:len(answers)], answers"
   ],
   "metadata": {
    "collapsed": false,
    "pycharm": {
     "name": "#%%\n"
    }
   }
  },
  {
   "cell_type": "code",
   "execution_count": 243,
   "outputs": [
    {
     "data": {
      "text/plain": "KNeighborsRegressor()",
      "text/html": "<style>#sk-container-id-2 {color: black;}#sk-container-id-2 pre{padding: 0;}#sk-container-id-2 div.sk-toggleable {background-color: white;}#sk-container-id-2 label.sk-toggleable__label {cursor: pointer;display: block;width: 100%;margin-bottom: 0;padding: 0.3em;box-sizing: border-box;text-align: center;}#sk-container-id-2 label.sk-toggleable__label-arrow:before {content: \"▸\";float: left;margin-right: 0.25em;color: #696969;}#sk-container-id-2 label.sk-toggleable__label-arrow:hover:before {color: black;}#sk-container-id-2 div.sk-estimator:hover label.sk-toggleable__label-arrow:before {color: black;}#sk-container-id-2 div.sk-toggleable__content {max-height: 0;max-width: 0;overflow: hidden;text-align: left;background-color: #f0f8ff;}#sk-container-id-2 div.sk-toggleable__content pre {margin: 0.2em;color: black;border-radius: 0.25em;background-color: #f0f8ff;}#sk-container-id-2 input.sk-toggleable__control:checked~div.sk-toggleable__content {max-height: 200px;max-width: 100%;overflow: auto;}#sk-container-id-2 input.sk-toggleable__control:checked~label.sk-toggleable__label-arrow:before {content: \"▾\";}#sk-container-id-2 div.sk-estimator input.sk-toggleable__control:checked~label.sk-toggleable__label {background-color: #d4ebff;}#sk-container-id-2 div.sk-label input.sk-toggleable__control:checked~label.sk-toggleable__label {background-color: #d4ebff;}#sk-container-id-2 input.sk-hidden--visually {border: 0;clip: rect(1px 1px 1px 1px);clip: rect(1px, 1px, 1px, 1px);height: 1px;margin: -1px;overflow: hidden;padding: 0;position: absolute;width: 1px;}#sk-container-id-2 div.sk-estimator {font-family: monospace;background-color: #f0f8ff;border: 1px dotted black;border-radius: 0.25em;box-sizing: border-box;margin-bottom: 0.5em;}#sk-container-id-2 div.sk-estimator:hover {background-color: #d4ebff;}#sk-container-id-2 div.sk-parallel-item::after {content: \"\";width: 100%;border-bottom: 1px solid gray;flex-grow: 1;}#sk-container-id-2 div.sk-label:hover label.sk-toggleable__label {background-color: #d4ebff;}#sk-container-id-2 div.sk-serial::before {content: \"\";position: absolute;border-left: 1px solid gray;box-sizing: border-box;top: 0;bottom: 0;left: 50%;z-index: 0;}#sk-container-id-2 div.sk-serial {display: flex;flex-direction: column;align-items: center;background-color: white;padding-right: 0.2em;padding-left: 0.2em;position: relative;}#sk-container-id-2 div.sk-item {position: relative;z-index: 1;}#sk-container-id-2 div.sk-parallel {display: flex;align-items: stretch;justify-content: center;background-color: white;position: relative;}#sk-container-id-2 div.sk-item::before, #sk-container-id-2 div.sk-parallel-item::before {content: \"\";position: absolute;border-left: 1px solid gray;box-sizing: border-box;top: 0;bottom: 0;left: 50%;z-index: -1;}#sk-container-id-2 div.sk-parallel-item {display: flex;flex-direction: column;z-index: 1;position: relative;background-color: white;}#sk-container-id-2 div.sk-parallel-item:first-child::after {align-self: flex-end;width: 50%;}#sk-container-id-2 div.sk-parallel-item:last-child::after {align-self: flex-start;width: 50%;}#sk-container-id-2 div.sk-parallel-item:only-child::after {width: 0;}#sk-container-id-2 div.sk-dashed-wrapped {border: 1px dashed gray;margin: 0 0.4em 0.5em 0.4em;box-sizing: border-box;padding-bottom: 0.4em;background-color: white;}#sk-container-id-2 div.sk-label label {font-family: monospace;font-weight: bold;display: inline-block;line-height: 1.2em;}#sk-container-id-2 div.sk-label-container {text-align: center;}#sk-container-id-2 div.sk-container {/* jupyter's `normalize.less` sets `[hidden] { display: none; }` but bootstrap.min.css set `[hidden] { display: none !important; }` so we also need the `!important` here to be able to override the default hidden behavior on the sphinx rendered scikit-learn.org. See: https://github.com/scikit-learn/scikit-learn/issues/21755 */display: inline-block !important;position: relative;}#sk-container-id-2 div.sk-text-repr-fallback {display: none;}</style><div id=\"sk-container-id-2\" class=\"sk-top-container\"><div class=\"sk-text-repr-fallback\"><pre>KNeighborsRegressor()</pre><b>In a Jupyter environment, please rerun this cell to show the HTML representation or trust the notebook. <br />On GitHub, the HTML representation is unable to render, please try loading this page with nbviewer.org.</b></div><div class=\"sk-container\" hidden><div class=\"sk-item\"><div class=\"sk-estimator sk-toggleable\"><input class=\"sk-toggleable__control sk-hidden--visually\" id=\"sk-estimator-id-2\" type=\"checkbox\" checked><label for=\"sk-estimator-id-2\" class=\"sk-toggleable__label sk-toggleable__label-arrow\">KNeighborsRegressor</label><div class=\"sk-toggleable__content\"><pre>KNeighborsRegressor()</pre></div></div></div></div></div>"
     },
     "execution_count": 243,
     "metadata": {},
     "output_type": "execute_result"
    }
   ],
   "source": [
    "from catboost import CatBoostRegressor\n",
    "from sklearn.neighbors import KNeighborsRegressor\n",
    "# reg = CatBoostRegressor()\n",
    "reg = KNeighborsRegressor()\n",
    "reg.fit(X, y)"
   ],
   "metadata": {
    "collapsed": false,
    "pycharm": {
     "name": "#%%\n"
    }
   }
  },
  {
   "cell_type": "code",
   "execution_count": 244,
   "outputs": [],
   "source": [
    "pred = reg.predict(X_test)\n",
    "true = y_test"
   ],
   "metadata": {
    "collapsed": false,
    "pycharm": {
     "name": "#%%\n"
    }
   }
  },
  {
   "cell_type": "code",
   "execution_count": 245,
   "outputs": [
    {
     "data": {
      "text/plain": "0.9940544151634894"
     },
     "execution_count": 245,
     "metadata": {},
     "output_type": "execute_result"
    }
   ],
   "source": [
    "np.abs(pred - true).mean()"
   ],
   "metadata": {
    "collapsed": false,
    "pycharm": {
     "name": "#%%\n"
    }
   }
  },
  {
   "cell_type": "code",
   "execution_count": 246,
   "outputs": [
    {
     "data": {
      "text/plain": "0.38518078501381786"
     },
     "execution_count": 246,
     "metadata": {},
     "output_type": "execute_result"
    }
   ],
   "source": [
    "np.abs(pred - true).mean() / np.mean(true)"
   ],
   "metadata": {
    "collapsed": false,
    "pycharm": {
     "name": "#%%\n"
    }
   }
  },
  {
   "cell_type": "code",
   "execution_count": 220,
   "outputs": [
    {
     "data": {
      "text/plain": "0.01390545970643338"
     },
     "execution_count": 220,
     "metadata": {},
     "output_type": "execute_result"
    }
   ],
   "source": [
    "np.abs(pred - true).mean() / np.mean(true)"
   ],
   "metadata": {
    "collapsed": false,
    "pycharm": {
     "name": "#%%\n"
    }
   }
  },
  {
   "cell_type": "code",
   "execution_count": 220,
   "outputs": [],
   "source": [],
   "metadata": {
    "collapsed": false,
    "pycharm": {
     "name": "#%%\n"
    }
   }
  },
  {
   "cell_type": "code",
   "execution_count": 221,
   "outputs": [],
   "source": [
    "predicted = df_imputed[:, 13][:len(answers)]\n",
    "true = np.array(answers)"
   ],
   "metadata": {
    "collapsed": false,
    "pycharm": {
     "name": "#%%\n"
    }
   }
  },
  {
   "cell_type": "code",
   "execution_count": 222,
   "outputs": [
    {
     "data": {
      "text/plain": "0.02152556710863426"
     },
     "execution_count": 222,
     "metadata": {},
     "output_type": "execute_result"
    }
   ],
   "source": [
    "np.abs(predicted - true).mean()"
   ],
   "metadata": {
    "collapsed": false,
    "pycharm": {
     "name": "#%%\n"
    }
   }
  },
  {
   "cell_type": "code",
   "execution_count": 223,
   "outputs": [
    {
     "data": {
      "text/plain": "0.02152556710863426"
     },
     "execution_count": 223,
     "metadata": {},
     "output_type": "execute_result"
    }
   ],
   "source": [
    "np.abs(predicted - true).mean()"
   ],
   "metadata": {
    "collapsed": false,
    "pycharm": {
     "name": "#%%\n"
    }
   }
  },
  {
   "cell_type": "code",
   "execution_count": 224,
   "outputs": [
    {
     "data": {
      "text/plain": "1.8856969458461577"
     },
     "execution_count": 224,
     "metadata": {},
     "output_type": "execute_result"
    }
   ],
   "source": [
    "np.mean(true)"
   ],
   "metadata": {
    "collapsed": false,
    "pycharm": {
     "name": "#%%\n"
    }
   }
  },
  {
   "cell_type": "code",
   "execution_count": 225,
   "outputs": [
    {
     "data": {
      "text/plain": "0.011415178433656114"
     },
     "execution_count": 225,
     "metadata": {},
     "output_type": "execute_result"
    }
   ],
   "source": [
    "np.abs(predicted - true).mean() / np.mean(true)"
   ],
   "metadata": {
    "collapsed": false,
    "pycharm": {
     "name": "#%%\n"
    }
   }
  },
  {
   "cell_type": "code",
   "execution_count": null,
   "outputs": [],
   "source": [],
   "metadata": {
    "collapsed": false,
    "pycharm": {
     "name": "#%%\n"
    }
   }
  },
  {
   "cell_type": "code",
   "execution_count": null,
   "outputs": [],
   "source": [],
   "metadata": {
    "collapsed": false,
    "pycharm": {
     "name": "#%%\n"
    }
   }
  },
  {
   "cell_type": "code",
   "execution_count": null,
   "outputs": [],
   "source": [],
   "metadata": {
    "collapsed": false,
    "pycharm": {
     "name": "#%%\n"
    }
   }
  }
 ],
 "metadata": {
  "kernelspec": {
   "display_name": "Python 3",
   "language": "python",
   "name": "python3"
  },
  "language_info": {
   "codemirror_mode": {
    "name": "ipython",
    "version": 2
   },
   "file_extension": ".py",
   "mimetype": "text/x-python",
   "name": "python",
   "nbconvert_exporter": "python",
   "pygments_lexer": "ipython2",
   "version": "2.7.6"
  }
 },
 "nbformat": 4,
 "nbformat_minor": 0
}